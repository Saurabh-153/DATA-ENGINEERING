{
 "cells": [
  {
   "cell_type": "markdown",
   "id": "ea85ddb0",
   "metadata": {
    "heading_collapsed": true
   },
   "source": [
    "# Chapter-1 - Basic Introduction to Numpy"
   ]
  },
  {
   "cell_type": "markdown",
   "id": "cf8e8183",
   "metadata": {
    "hidden": true
   },
   "source": [
    "## What is Numpy?"
   ]
  },
  {
   "cell_type": "markdown",
   "id": "e5417e2e",
   "metadata": {
    "hidden": true
   },
   "source": [
    "**Numpy** ==> Numerical Python Library <br> \n",
    "**Scipy** ==> Scientific Python Library "
   ]
  },
  {
   "cell_type": "markdown",
   "id": "10d8163d",
   "metadata": {
    "hidden": true
   },
   "source": [
    "## Why it is needed? "
   ]
  },
  {
   "cell_type": "markdown",
   "id": "da70602b",
   "metadata": {
    "hidden": true
   },
   "source": [
    "Python performs basic mathematical operations. <br>\n",
    "But in Data Science, Machine Learning, Deep Learning and Artificail Intelligence require complex mathematical operations like <br>\n",
    "1. Creation of arrays <br>\n",
    "2. Perform several operations on those arrays <br>\n",
    "3. Integral calculus operations <br>\n",
    "4. Differential equaltions <br>\n",
    "5. Statistics related operations <br>\n",
    "\n",
    "These type of opertions are not supported by normal Python. Numpy can perform all these operations. "
   ]
  },
  {
   "cell_type": "markdown",
   "id": "eed93db3",
   "metadata": {
    "hidden": true
   },
   "source": [
    "## Importance of Numpy "
   ]
  },
  {
   "cell_type": "markdown",
   "id": "3a68d930",
   "metadata": {
    "hidden": true
   },
   "source": [
    "• **ndarray** (n- dimensional array) is the basic data structure in numpy.<br>\n",
    "• Numpy is the backboone of remaining libraries like pandas, matplotlib,sklearn(scikit learn) etc.<br>\n",
    "• Numpy has Vectorization features "
   ]
  },
  {
   "cell_type": "markdown",
   "id": "16316eff",
   "metadata": {
    "hidden": true
   },
   "source": [
    "## History of Numpy "
   ]
  },
  {
   "cell_type": "markdown",
   "id": "606eec64",
   "metadata": {
    "hidden": true
   },
   "source": [
    "• Numpy stands for **Numerical Python**<br> \n",
    "• It is the fundamental python library to perfrom complex numerical operations<br> \n",
    "• Numpy is developed on top of Numeric library in 2005. <br>\n",
    "• Numeric library developed by **Jim Hugunin**. <br>\n",
    "• Numpy is developed by **Travis Oliphant** and mutiple contributors <br>\n",
    "• Numpy is freeware and open source library <br>\n",
    "• Numpy library is written in **C and Python** <br>\n",
    "• C language ==> performance is very high <br>\n",
    "• Most of Numpy is written in C, So performance-wise Numpy is the best <br>\n",
    "• Because of high speed, numpy is best choice for ML algorithms than traditionsl python's in-built data structures like List. "
   ]
  },
  {
   "cell_type": "markdown",
   "id": "5924e221",
   "metadata": {
    "hidden": true
   },
   "source": [
    "## ndarray in Numpy "
   ]
  },
  {
   "cell_type": "markdown",
   "id": "2307192e",
   "metadata": {
    "hidden": true
   },
   "source": [
    "• In numpy data is stored in the form of array. <br>\n",
    "• In numpy we can hold data by using Array Data Structure. <br>\n",
    "• The Arrays which are created by using numpy are called nd arrays <br>\n",
    "• nd array ==> N-Dimensional Array or Numpy Array <br>\n",
    "• This nd array is most commonly used in Data Science libraries like pandasm scikit learn etc."
   ]
  },
  {
   "cell_type": "markdown",
   "id": "1948a987",
   "metadata": {
    "hidden": true
   },
   "source": [
    "## What is an Array?"
   ]
  },
  {
   "cell_type": "markdown",
   "id": "d8865abf",
   "metadata": {
    "hidden": true
   },
   "source": [
    "• An indexed collection of homogenous data elements is nothing but array.<br> \n",
    "• It is the most commonly used concept in programming lanaguage like C/C++, java etc. <br>\n",
    "• By default arrays concept is not available in python, instead we can use List. (But make sure list and array both are not same) \n",
    "\n",
    "But in Python, we can create arrays in the following 2 ways:<br> \n",
    "• By using array module <br>\n",
    "• By using numpy module "
   ]
  },
  {
   "cell_type": "markdown",
   "id": "8730b5b2",
   "metadata": {
    "hidden": true
   },
   "source": [
    "## Installation"
   ]
  },
  {
   "cell_type": "code",
   "execution_count": 1,
   "id": "aa7dc1de",
   "metadata": {
    "hidden": true
   },
   "outputs": [],
   "source": [
    "#pip install numpy==1.24.4"
   ]
  },
  {
   "cell_type": "code",
   "execution_count": 2,
   "id": "0df55932",
   "metadata": {
    "hidden": true
   },
   "outputs": [
    {
     "name": "stdout",
     "output_type": "stream",
     "text": [
      "1.24.4\n"
     ]
    }
   ],
   "source": [
    "# Check the version of Numpy installed \n",
    "\n",
    "import numpy as np \n",
    "print(np.__version__) "
   ]
  },
  {
   "cell_type": "markdown",
   "id": "ddec39f3",
   "metadata": {
    "hidden": true
   },
   "source": [
    "## Python List Vs Numpy Array "
   ]
  },
  {
   "cell_type": "markdown",
   "id": "7e91c792",
   "metadata": {
    "hidden": true
   },
   "source": [
    "| Similarities                                                        | Differences                                                                                     |\n",
    "|---------------------------------------------------------------------|-------------------------------------------------------------------------------------------------|\n",
    "| Both can be used to store data                                      | List is Python's inbuilt type, whereas numpy must be installed and imported explicitly.         |\n",
    "| The order will be preserved in both, hence indexing and slicing are applicable. | List can contain heterogeneous elements, but arrays contain only homogeneous elements.          |\n",
    "| Both are mutable, i.e., we can change the content.                  | We cannot perform vector operations on a list, but on ndarray, we can perform vector operations.|\n",
    "| N/A                                                                 | Arrays consume less memory than lists.                                                          |\n",
    "| N/A                                                                 | Arrays are faster than lists.                                                                   |\n",
    "| N/A                                                                 | Numpy arrays are more convenient for performing complex mathematical operations.                |"
   ]
  },
  {
   "cell_type": "markdown",
   "id": "eaddc3fb",
   "metadata": {
    "hidden": true
   },
   "source": [
    "### Vector Operation "
   ]
  },
  {
   "cell_type": "code",
   "execution_count": 6,
   "id": "4c21f503",
   "metadata": {
    "hidden": true
   },
   "outputs": [
    {
     "ename": "TypeError",
     "evalue": "can only concatenate list (not \"int\") to list",
     "output_type": "error",
     "traceback": [
      "\u001b[1;31m---------------------------------------------------------------------------\u001b[0m",
      "\u001b[1;31mTypeError\u001b[0m                                 Traceback (most recent call last)",
      "\u001b[1;32m~\\AppData\\Local\\Temp\\ipykernel_23864\\3578173197.py\u001b[0m in \u001b[0;36m<module>\u001b[1;34m\u001b[0m\n\u001b[0;32m      4\u001b[0m \u001b[1;32mimport\u001b[0m \u001b[0mnumpy\u001b[0m \u001b[1;32mas\u001b[0m \u001b[0mnp\u001b[0m\u001b[1;33m\u001b[0m\u001b[1;33m\u001b[0m\u001b[0m\n\u001b[0;32m      5\u001b[0m \u001b[0ml\u001b[0m \u001b[1;33m=\u001b[0m \u001b[1;33m[\u001b[0m\u001b[1;36m10\u001b[0m\u001b[1;33m,\u001b[0m\u001b[1;36m20\u001b[0m\u001b[1;33m,\u001b[0m\u001b[1;36m30\u001b[0m\u001b[1;33m,\u001b[0m\u001b[1;36m40\u001b[0m\u001b[1;33m]\u001b[0m\u001b[1;33m\u001b[0m\u001b[1;33m\u001b[0m\u001b[0m\n\u001b[1;32m----> 6\u001b[1;33m \u001b[0mprint\u001b[0m\u001b[1;33m(\u001b[0m\u001b[0ml\u001b[0m\u001b[1;33m+\u001b[0m\u001b[1;36m2\u001b[0m\u001b[1;33m)\u001b[0m\u001b[1;33m\u001b[0m\u001b[1;33m\u001b[0m\u001b[0m\n\u001b[0m\u001b[0;32m      7\u001b[0m \u001b[1;33m\u001b[0m\u001b[0m\n\u001b[0;32m      8\u001b[0m \u001b[0ma\u001b[0m \u001b[1;33m=\u001b[0m \u001b[0mnp\u001b[0m\u001b[1;33m.\u001b[0m\u001b[0marray\u001b[0m\u001b[1;33m(\u001b[0m\u001b[1;33m[\u001b[0m\u001b[1;36m10\u001b[0m\u001b[1;33m,\u001b[0m\u001b[1;36m20\u001b[0m\u001b[1;33m,\u001b[0m\u001b[1;36m30\u001b[0m\u001b[1;33m,\u001b[0m\u001b[1;36m40\u001b[0m\u001b[1;33m]\u001b[0m\u001b[1;33m)\u001b[0m\u001b[1;33m\u001b[0m\u001b[1;33m\u001b[0m\u001b[0m\n",
      "\u001b[1;31mTypeError\u001b[0m: can only concatenate list (not \"int\") to list"
     ]
    }
   ],
   "source": [
    "# On list, we cannot perform vector operations.  \n",
    "\n",
    "l = [10,20,30,40] \n",
    "print(l+2)"
   ]
  },
  {
   "cell_type": "code",
   "execution_count": 7,
   "id": "1973f4c9",
   "metadata": {
    "hidden": true
   },
   "outputs": [
    {
     "name": "stdout",
     "output_type": "stream",
     "text": [
      "[12 22 32 42]\n"
     ]
    }
   ],
   "source": [
    "# On ndarrays we can perform vector operations \n",
    "\n",
    "import numpy as np\n",
    "a = np.array([10,20,30,40]) \n",
    "print(a+2) # not possible "
   ]
  },
  {
   "cell_type": "markdown",
   "id": "f95158da",
   "metadata": {
    "hidden": true
   },
   "source": [
    "### Memory Usage "
   ]
  },
  {
   "cell_type": "code",
   "execution_count": 8,
   "id": "d3d408bd",
   "metadata": {
    "hidden": true
   },
   "outputs": [
    {
     "name": "stdout",
     "output_type": "stream",
     "text": [
      "The Size of list l =>  216\n",
      "The Size of ndarray a =>  192\n"
     ]
    }
   ],
   "source": [
    "#Arrays consume less memory than list. \n",
    "import numpy as np \n",
    "import sys \n",
    "l = [10,20,30,40,50,60,70,80,90,100,10,20,30,40,50,60,70,80,90,100] \n",
    "a = np.array([10,20,30,40,50,60,70,80,90,100,10,20,30,40,50,60,70,80,90,100])\n",
    "\n",
    "print('The Size of list l => ',sys.getsizeof(l)) \n",
    "print('The Size of ndarray a => ',sys.getsizeof(a)) "
   ]
  },
  {
   "cell_type": "markdown",
   "id": "94187263",
   "metadata": {
    "hidden": true
   },
   "source": [
    "### Execution Time "
   ]
  },
  {
   "cell_type": "code",
   "execution_count": 13,
   "id": "2c078fc8",
   "metadata": {
    "hidden": true
   },
   "outputs": [
    {
     "name": "stdout",
     "output_type": "stream",
     "text": [
      "The Time taken by traditonal python: 0:00:00.417903\n",
      "The Time taken by Numpy Library: 0:00:01.116597\n"
     ]
    }
   ],
   "source": [
    "# Arrays are superfast when compared with list. \n",
    "\n",
    "import numpy as np \n",
    "from datetime import datetime  \n",
    "a = np.array([10,20,30]) \n",
    "b = np.array([1,2,3])  \n",
    "\n",
    "#dot product: A.B=10X1 + 20X2 +30X3=140  \n",
    "\n",
    "#traditional python code \n",
    "def dot_product(a,b):     \n",
    "    result = 0     \n",
    "    for i,j in zip(a,b):         \n",
    "        result = result + i*j     \n",
    "        return result  \n",
    "    \n",
    "before = datetime.now() \n",
    "\n",
    "for i in range(1000000):     \n",
    "    dot_product(a,b) \n",
    "    \n",
    "after = datetime.now()  \n",
    "print('The Time taken by traditonal python:',after-before) \n",
    "\n",
    "#numpy library code \n",
    "before = datetime.now() \n",
    "for i in range(1000000):     \n",
    "    np.dot(a,b) # this is from numpy \n",
    "\n",
    "after = datetime.now()  \n",
    "print('The Time taken by Numpy Library:',after-before) "
   ]
  },
  {
   "cell_type": "code",
   "execution_count": 15,
   "id": "361068d7",
   "metadata": {
    "hidden": true
   },
   "outputs": [
    {
     "name": "stdout",
     "output_type": "stream",
     "text": [
      "Python list took: 93.94621849060059 milliseconds\n",
      "Numpy array took: 8.379697799682617 milliseconds\n"
     ]
    }
   ],
   "source": [
    "import numpy as np\n",
    "import time\n",
    "import sys\n",
    "\n",
    "SIZE = 1000000\n",
    "\n",
    "# Python list\n",
    "l1 = range(SIZE)\n",
    "l2 = range(SIZE)\n",
    "\n",
    "# numpy array\n",
    "a1 = np.arange(SIZE)\n",
    "a2 = np.arange(SIZE)\n",
    "\n",
    "# Python list\n",
    "start = time.time()\n",
    "result = [(x+y) for x, y in zip(l1, l2)]\n",
    "print(\"Python list took:\", (time.time() - start)*1000, \"milliseconds\")\n",
    "\n",
    "# Numpy array\n",
    "start = time.time()\n",
    "result = a1 + a2\n",
    "print(\"Numpy array took:\", (time.time() - start)*1000, \"milliseconds\")"
   ]
  },
  {
   "cell_type": "markdown",
   "id": "18dbeb98",
   "metadata": {},
   "source": [
    "# Chapter-2 - Creation of Numy Arrays"
   ]
  },
  {
   "cell_type": "markdown",
   "id": "ebecd0ca",
   "metadata": {},
   "source": [
    "## Array (ndarray) creation using array module\n",
    "**array** module is not recommended to use because as library support is not available "
   ]
  },
  {
   "cell_type": "code",
   "execution_count": 17,
   "id": "b7880681",
   "metadata": {},
   "outputs": [
    {
     "name": "stdout",
     "output_type": "stream",
     "text": [
      "Type of a ==> <class 'array.array'>\n",
      "a value ==> array('i', [10, 20, 30])\n",
      "Elements one by one\n",
      "10\n",
      "20\n",
      "30\n"
     ]
    }
   ],
   "source": [
    "import array \n",
    "a = array.array('i',[10,20,30])  \n",
    "\n",
    "# i represents int type array  \n",
    "print(f\"Type of a ==> {type(a)}\")\n",
    "\n",
    "# array.array  \n",
    "print(f\"a value ==> {a}\") \n",
    "print(\"Elements one by one\") \n",
    "\n",
    "for x in range(len(a)):     \n",
    "    print(a[x]) "
   ]
  },
  {
   "cell_type": "markdown",
   "id": "08d2cfa0",
   "metadata": {},
   "source": [
    "## Array (ndarray) creation using Numpy  "
   ]
  },
  {
   "cell_type": "markdown",
   "id": "c97808d4",
   "metadata": {},
   "source": [
    "| Number | Function           | Description                                                                 | Usage Example                    | Return Type                                |\n",
    "|--------|--------------------|-----------------------------------------------------------------------------|----------------------------------|--------------------------------------------|\n",
    "| 1      | `array()`          | Creates an array from a regular Python list or tuple.                       | `np.array([1, 2, 3])`            | N-dimensional array                        |\n",
    "| 2      | `arange()`         | Returns evenly spaced values within a given interval.                       | `np.arange(3)`                   | Array of evenly spaced values              |\n",
    "| 3      | `linspace()`       | Returns evenly spaced numbers over a specified interval.                    | `np.linspace(0, 1, 5)`           | Array of linearly spaced numbers           |\n",
    "| 4      | `zeros()`          | Returns a new array of given shape and type, filled with zeros.             | `np.zeros((2, 2))`               | Array of zeros                             |\n",
    "| 5      | `ones()`           | Returns a new array of given shape and type, filled with ones.              | `np.ones((1, 2))`                | Array of ones                              |\n",
    "| 6      | `full()`           | Returns a new array of given shape and type, filled with a specified value. | `np.full((2, 2), 7)`             | Array filled with the specified value      |\n",
    "| 7      | `eye()`            | Creates a 2-D array with ones on the diagonal and zeros elsewhere.          | `np.eye(3)`                      | 2-D array with ones on the diagonal        |\n",
    "| 8      | `identity()`       | Returns the identity array.                                                 | `np.identity(3)`                 | Identity array                             |\n",
    "| 9      | `diag()`           | Extracts a diagonal or constructs a diagonal array.                         | `np.diag([1, 2, 3])`             | Diagonal array from a given array          |\n",
    "| 10     | `empty()`          | Returns a new array of given shape and type, without initializing entries.  | `np.empty((3, 2))`               | Array of uninitialized data                |\n",
    "| 11     | `np.random module` | Functions for generating random numbers.                                    | Various (see below)              | Various                                    |\n",
    "| 11.1   | - `randint()`      | Returns random integers from `low` (inclusive) to `high` (exclusive).       | `np.random.randint(1, 100, 10)`  | Array of random integers                   |\n",
    "| 11.2   | - `rand()`         | Returns random values in a given shape.                                     | `np.random.rand(3, 2)`           | Array of random values between 0 and 1     |\n",
    "| 11.3   | - `uniform()`      | Draws samples from a uniform distribution.                                  | `np.random.uniform(0,1,10)`      | Array of uniformly distributed samples     |\n",
    "| 11.4   | - `randn()`        | Returns a sample (or samples) from the \"standard normal\" distribution.      | `np.random.randn(5)`             | Array of normally distributed samples      |\n",
    "| 11.5   | - `normal()`       | Draws random samples from a normal (Gaussian) distribution.                 | `np.random.normal(0, 1, 10)`     | Array of normally distributed samples      |\n",
    "| 11.6   | - `shuffle()`      | Modifies a sequence in-place by shuffling its contents.                     | `np.random.shuffle(arr)`         | None (shuffles array in place)             |"
   ]
  },
  {
   "cell_type": "markdown",
   "id": "fb617f92",
   "metadata": {},
   "source": [
    "**Note:**<br>  • np.random module is developed based on array. <br>• So performance of this module is more when compared with normal python random module "
   ]
  },
  {
   "cell_type": "markdown",
   "id": "b51710f5",
   "metadata": {},
   "source": [
    "### array() "
   ]
  },
  {
   "cell_type": "code",
   "execution_count": 19,
   "id": "dc4153e4",
   "metadata": {
    "collapsed": true
   },
   "outputs": [
    {
     "name": "stdout",
     "output_type": "stream",
     "text": [
      "Help on built-in function array in module numpy:\n",
      "\n",
      "array(...)\n",
      "    array(object, dtype=None, *, copy=True, order='K', subok=False, ndmin=0,\n",
      "          like=None)\n",
      "    \n",
      "    Create an array.\n",
      "    \n",
      "    Parameters\n",
      "    ----------\n",
      "    object : array_like\n",
      "        An array, any object exposing the array interface, an object whose\n",
      "        __array__ method returns an array, or any (nested) sequence.\n",
      "        If object is a scalar, a 0-dimensional array containing object is\n",
      "        returned.\n",
      "    dtype : data-type, optional\n",
      "        The desired data-type for the array.  If not given, then the type will\n",
      "        be determined as the minimum type required to hold the objects in the\n",
      "        sequence.\n",
      "    copy : bool, optional\n",
      "        If true (default), then the object is copied.  Otherwise, a copy will\n",
      "        only be made if __array__ returns a copy, if obj is a nested sequence,\n",
      "        or if a copy is needed to satisfy any of the other requirements\n",
      "        (`dtype`, `order`, etc.).\n",
      "    order : {'K', 'A', 'C', 'F'}, optional\n",
      "        Specify the memory layout of the array. If object is not an array, the\n",
      "        newly created array will be in C order (row major) unless 'F' is\n",
      "        specified, in which case it will be in Fortran order (column major).\n",
      "        If object is an array the following holds.\n",
      "    \n",
      "        ===== ========= ===================================================\n",
      "        order  no copy                     copy=True\n",
      "        ===== ========= ===================================================\n",
      "        'K'   unchanged F & C order preserved, otherwise most similar order\n",
      "        'A'   unchanged F order if input is F and not C, otherwise C order\n",
      "        'C'   C order   C order\n",
      "        'F'   F order   F order\n",
      "        ===== ========= ===================================================\n",
      "    \n",
      "        When ``copy=False`` and a copy is made for other reasons, the result is\n",
      "        the same as if ``copy=True``, with some exceptions for 'A', see the\n",
      "        Notes section. The default order is 'K'.\n",
      "    subok : bool, optional\n",
      "        If True, then sub-classes will be passed-through, otherwise\n",
      "        the returned array will be forced to be a base-class array (default).\n",
      "    ndmin : int, optional\n",
      "        Specifies the minimum number of dimensions that the resulting\n",
      "        array should have.  Ones will be prepended to the shape as\n",
      "        needed to meet this requirement.\n",
      "    like : array_like, optional\n",
      "        Reference object to allow the creation of arrays which are not\n",
      "        NumPy arrays. If an array-like passed in as ``like`` supports\n",
      "        the ``__array_function__`` protocol, the result will be defined\n",
      "        by it. In this case, it ensures the creation of an array object\n",
      "        compatible with that passed in via this argument.\n",
      "    \n",
      "        .. versionadded:: 1.20.0\n",
      "    \n",
      "    Returns\n",
      "    -------\n",
      "    out : ndarray\n",
      "        An array object satisfying the specified requirements.\n",
      "    \n",
      "    See Also\n",
      "    --------\n",
      "    empty_like : Return an empty array with shape and type of input.\n",
      "    ones_like : Return an array of ones with shape and type of input.\n",
      "    zeros_like : Return an array of zeros with shape and type of input.\n",
      "    full_like : Return a new array with shape of input filled with value.\n",
      "    empty : Return a new uninitialized array.\n",
      "    ones : Return a new array setting values to one.\n",
      "    zeros : Return a new array setting values to zero.\n",
      "    full : Return a new array of given shape filled with value.\n",
      "    \n",
      "    \n",
      "    Notes\n",
      "    -----\n",
      "    When order is 'A' and `object` is an array in neither 'C' nor 'F' order,\n",
      "    and a copy is forced by a change in dtype, then the order of the result is\n",
      "    not necessarily 'C' as expected. This is likely a bug.\n",
      "    \n",
      "    Examples\n",
      "    --------\n",
      "    >>> np.array([1, 2, 3])\n",
      "    array([1, 2, 3])\n",
      "    \n",
      "    Upcasting:\n",
      "    \n",
      "    >>> np.array([1, 2, 3.0])\n",
      "    array([ 1.,  2.,  3.])\n",
      "    \n",
      "    More than one dimension:\n",
      "    \n",
      "    >>> np.array([[1, 2], [3, 4]])\n",
      "    array([[1, 2],\n",
      "           [3, 4]])\n",
      "    \n",
      "    Minimum dimensions 2:\n",
      "    \n",
      "    >>> np.array([1, 2, 3], ndmin=2)\n",
      "    array([[1, 2, 3]])\n",
      "    \n",
      "    Type provided:\n",
      "    \n",
      "    >>> np.array([1, 2, 3], dtype=complex)\n",
      "    array([ 1.+0.j,  2.+0.j,  3.+0.j])\n",
      "    \n",
      "    Data-type consisting of more than one element:\n",
      "    \n",
      "    >>> x = np.array([(1,2),(3,4)],dtype=[('a','<i4'),('b','<i4')])\n",
      "    >>> x['a']\n",
      "    array([1, 3])\n",
      "    \n",
      "    Creating an array from sub-classes:\n",
      "    \n",
      "    >>> np.array(np.mat('1 2; 3 4'))\n",
      "    array([[1, 2],\n",
      "           [3, 4]])\n",
      "    \n",
      "    >>> np.array(np.mat('1 2; 3 4'), subok=True)\n",
      "    matrix([[1, 2],\n",
      "            [3, 4]])\n",
      "\n"
     ]
    }
   ],
   "source": [
    "import numpy as np \n",
    "help(np.array) "
   ]
  },
  {
   "cell_type": "markdown",
   "id": "b324e4b6",
   "metadata": {},
   "source": [
    "<img src=\"https://nustat.github.io/DataScience_Intro_python/Datasets/numpy_image.png\" alt=\"Numpy Array\" title=\"Numpy Array\" width=\"800\"/>"
   ]
  },
  {
   "cell_type": "code",
   "execution_count": 29,
   "id": "b85869a9",
   "metadata": {},
   "outputs": [],
   "source": [
    "#from IPython.display import Image\n",
    "\n",
    "# Display an image by loading from a local file path\n",
    "#Image(filename=r'C:\\Users\\saurabhkumar9\\numpy_image\\numpy_image.png')\n",
    "#Image(url = 'https://nustat.github.io/DataScience_Intro_python/Datasets/numpy_image.png')"
   ]
  },
  {
   "cell_type": "markdown",
   "id": "e4e2da8a",
   "metadata": {},
   "source": [
    "#### 1-D array(Vector) creation using list or tuple  "
   ]
  },
  {
   "cell_type": "code",
   "execution_count": 37,
   "id": "1fc4ac38",
   "metadata": {},
   "outputs": [
    {
     "name": "stdout",
     "output_type": "stream",
     "text": [
      "Type of l ==> <class 'list'>\n",
      "Type of a ==> <class 'numpy.ndarray'>\n",
      "a ==>  [10 20 30] \n",
      "\n",
      "The dimensions of the array a ==> 1\n",
      "The data type of elements of array a ==> int32\n",
      "The size of the array a ==> 3\n",
      "The shape of the array a ==> (3,)\n"
     ]
    }
   ],
   "source": [
    "# 1-D array creation from list or tuple \n",
    "\n",
    "l = [10,20,30] \n",
    "print(f'Type of l ==> {type(l)}') \n",
    "\n",
    "a = np.array(l) \n",
    "print(f'Type of a ==> {type(a)}') \n",
    "print(f\"a ==>  {a}\", '\\n') \n",
    "\n",
    "# properties of ndarray \n",
    "print(f'The dimensions of the array a ==> {a.ndim}') \n",
    "print(f'The data type of elements of array a ==> {a.dtype}') \n",
    "print(f'The size of the array a ==> {a.size}') \n",
    "print(f'The shape of the array a ==> {a.shape}') "
   ]
  },
  {
   "cell_type": "markdown",
   "id": "cf5416f1",
   "metadata": {},
   "source": [
    "**To know properties of ndarray**<br> \n",
    "• np.ndim ==> to know the dimension of the ndarray <br>• np.dtype ==> to know the data type of the elements in the ndarray <br> • np.size ==> to know the total number of elements in the array. <br>• np.shape ==> returns the shape of an array in tuple form "
   ]
  },
  {
   "cell_type": "code",
   "execution_count": 41,
   "id": "44981432",
   "metadata": {},
   "outputs": [
    {
     "name": "stdout",
     "output_type": "stream",
     "text": [
      "Type of t ==> <class 'tuple'>\n",
      "Type of a ==> <class 'numpy.ndarray'> \n",
      "\n",
      "The data type of elements of array a ==> <U7\n",
      "The size of the array a ==> 3\n",
      "The shape of the array a ==> (3,) \n",
      "\n",
      "a ==> ['krishna' 'nandu' 'moneesh']\n"
     ]
    }
   ],
   "source": [
    "# 1-D array creating using tuples \n",
    "t = ('krishna','nandu','moneesh') \n",
    "print(f'Type of t ==> {type(t)}') \n",
    "\n",
    "a = np.array(t) \n",
    "print(f'Type of a ==> {type(a)}',  '\\n') \n",
    "\n",
    "print(f'The data type of elements of array a ==> {a.dtype}') \n",
    "print(f'The size of the array a ==> {a.size}') \n",
    "print(f'The shape of the array a ==> {a.shape}', '\\n') \n",
    "print(f\"a ==> {a}\") "
   ]
  },
  {
   "cell_type": "markdown",
   "id": "45dc4074",
   "metadata": {},
   "source": [
    "#### 2-D array(Matrix) creation using Nested Lists "
   ]
  },
  {
   "cell_type": "code",
   "execution_count": 43,
   "id": "dee5b934",
   "metadata": {},
   "outputs": [
    {
     "name": "stdout",
     "output_type": "stream",
     "text": [
      "Type of a ==> <class 'numpy.ndarray'>\n",
      "a ==> \n",
      " [[10 20 30]\n",
      " [40 50 60]\n",
      " [70 80 90]] \n",
      "\n",
      "The dimensions of the array a ==>  2\n",
      "The data type of elements of array a ==>  int32\n",
      "The size of the array a ==> 9\n",
      "The shape of the array a ==> (3, 3)\n"
     ]
    }
   ],
   "source": [
    "# [[10,20,30],[40,50,60],[70,80,90]] --->Nested List \n",
    "\n",
    "a = np.array([[10,20,30],[40,50,60],[70,80,90]]) \n",
    "print(f'Type of a ==> {type(a)}') \n",
    "print(f'a ==> \\n {a}','\\n') \n",
    "print(f'The dimensions of the array a ==>  {a.ndim}') \n",
    "print(f'The data type of elements of array a ==>  {a.dtype}') \n",
    "print(f'The size of the array a ==> {a.size}') \n",
    "print(f'The shape of the array a ==> {a.shape}') "
   ]
  },
  {
   "cell_type": "markdown",
   "id": "ff8cfd76",
   "metadata": {},
   "source": [
    "**Note:**  <br>\n",
    "• Array contains only homogenous elements <br>\n",
    "• If list contains ***heterogenous elements***, and while creating the array ***upcasting*** will be performed. "
   ]
  },
  {
   "cell_type": "code",
   "execution_count": 44,
   "id": "5a2fc443",
   "metadata": {},
   "outputs": [
    {
     "name": "stdout",
     "output_type": "stream",
     "text": [
      "a :: [10.  20.  30.5]\n",
      "data type of elements of a ==> float64\n"
     ]
    }
   ],
   "source": [
    "# list contains heterogenous elements \n",
    "\n",
    "l = [10,20,30.5] \n",
    "a = np.array(l) \n",
    "\n",
    "# upcasting to float  \n",
    "print(f'a :: {a}') \n",
    "print(f'data type of elements of a ==> {a.dtype}') "
   ]
  },
  {
   "cell_type": "markdown",
   "id": "634c7f90",
   "metadata": {},
   "source": [
    "##### Creating arrays with particular datatype  "
   ]
  },
  {
   "cell_type": "markdown",
   "id": "c7e5b827",
   "metadata": {},
   "source": [
    "we have to use **dtype** argument while creating the arrray "
   ]
  },
  {
   "cell_type": "code",
   "execution_count": 52,
   "id": "4d3c61ba",
   "metadata": {},
   "outputs": [
    {
     "name": "stdout",
     "output_type": "stream",
     "text": [
      "[10 20 30]\n",
      "[10.  20.  30.5]\n",
      "[ True  True  True]\n",
      "[10. +0.j 20. +0.j 30.5+0.j  0. +0.j]\n",
      "['10' '20' '30.5']\n"
     ]
    }
   ],
   "source": [
    "# int type \n",
    "a = np.array([10,20,30.5],dtype=int) \n",
    "print(a)\n",
    "\n",
    "# float type \n",
    "a = np.array([10,20,30.5],dtype=float) \n",
    "print(a) \n",
    "\n",
    "# bool type ==> any number is True and zero is False. Any string is True and empty string is False \n",
    "a = np.array([10,20,30.5],dtype=bool) \n",
    "print(a) \n",
    "\n",
    "# complex type \n",
    "a = np.array([10,20,30.5,0],dtype=complex) \n",
    "print(a) \n",
    "\n",
    "# str type \n",
    "a = np.array([10,20,30.5],dtype=str) \n",
    "print(a) "
   ]
  },
  {
   "cell_type": "markdown",
   "id": "84a34413",
   "metadata": {},
   "source": [
    "**Creating object type array** <br> • object is the parent of all int, float, bool, complex and str <br>• Here the elements are looks like heterogeneous. But the datatype of elements is 'object' "
   ]
  },
  {
   "cell_type": "code",
   "execution_count": 54,
   "id": "a45c48b8",
   "metadata": {},
   "outputs": [
    {
     "name": "stdout",
     "output_type": "stream",
     "text": [
      "[10 'krishna' 10.5 True (10+20j)]\n",
      "Data type of elements of array a ==> object\n"
     ]
    }
   ],
   "source": [
    "a = np.array([10,'krishna',10.5,True,10+20j],dtype=object) \n",
    "print(a)  \n",
    "\n",
    "print(f\"Data type of elements of array a ==> {a.dtype}\") # data type "
   ]
  },
  {
   "cell_type": "markdown",
   "id": "d5c82a8d",
   "metadata": {},
   "source": [
    "### arange()  \n",
    "we can create only **1-D arrays** with arange() function"
   ]
  },
  {
   "cell_type": "code",
   "execution_count": 55,
   "id": "8cd0f155",
   "metadata": {},
   "outputs": [
    {
     "name": "stdout",
     "output_type": "stream",
     "text": [
      "Help on built-in function arange in module numpy:\n",
      "\n",
      "arange(...)\n",
      "    arange([start,] stop[, step,], dtype=None, *, like=None)\n",
      "    \n",
      "    Return evenly spaced values within a given interval.\n",
      "    \n",
      "    ``arange`` can be called with a varying number of positional arguments:\n",
      "    \n",
      "    * ``arange(stop)``: Values are generated within the half-open interval\n",
      "      ``[0, stop)`` (in other words, the interval including `start` but\n",
      "      excluding `stop`).\n",
      "    * ``arange(start, stop)``: Values are generated within the half-open\n",
      "      interval ``[start, stop)``.\n",
      "    * ``arange(start, stop, step)`` Values are generated within the half-open\n",
      "      interval ``[start, stop)``, with spacing between values given by\n",
      "      ``step``.\n",
      "    \n",
      "    For integer arguments the function is roughly equivalent to the Python\n",
      "    built-in :py:class:`range`, but returns an ndarray rather than a ``range``\n",
      "    instance.\n",
      "    \n",
      "    When using a non-integer step, such as 0.1, it is often better to use\n",
      "    `numpy.linspace`.\n",
      "    \n",
      "    See the Warning sections below for more information.\n",
      "    \n",
      "    Parameters\n",
      "    ----------\n",
      "    start : integer or real, optional\n",
      "        Start of interval.  The interval includes this value.  The default\n",
      "        start value is 0.\n",
      "    stop : integer or real\n",
      "        End of interval.  The interval does not include this value, except\n",
      "        in some cases where `step` is not an integer and floating point\n",
      "        round-off affects the length of `out`.\n",
      "    step : integer or real, optional\n",
      "        Spacing between values.  For any output `out`, this is the distance\n",
      "        between two adjacent values, ``out[i+1] - out[i]``.  The default\n",
      "        step size is 1.  If `step` is specified as a position argument,\n",
      "        `start` must also be given.\n",
      "    dtype : dtype, optional\n",
      "        The type of the output array.  If `dtype` is not given, infer the data\n",
      "        type from the other input arguments.\n",
      "    like : array_like, optional\n",
      "        Reference object to allow the creation of arrays which are not\n",
      "        NumPy arrays. If an array-like passed in as ``like`` supports\n",
      "        the ``__array_function__`` protocol, the result will be defined\n",
      "        by it. In this case, it ensures the creation of an array object\n",
      "        compatible with that passed in via this argument.\n",
      "    \n",
      "        .. versionadded:: 1.20.0\n",
      "    \n",
      "    Returns\n",
      "    -------\n",
      "    arange : ndarray\n",
      "        Array of evenly spaced values.\n",
      "    \n",
      "        For floating point arguments, the length of the result is\n",
      "        ``ceil((stop - start)/step)``.  Because of floating point overflow,\n",
      "        this rule may result in the last element of `out` being greater\n",
      "        than `stop`.\n",
      "    \n",
      "    Warnings\n",
      "    --------\n",
      "    The length of the output might not be numerically stable.\n",
      "    \n",
      "    Another stability issue is due to the internal implementation of\n",
      "    `numpy.arange`.\n",
      "    The actual step value used to populate the array is\n",
      "    ``dtype(start + step) - dtype(start)`` and not `step`. Precision loss\n",
      "    can occur here, due to casting or due to using floating points when\n",
      "    `start` is much larger than `step`. This can lead to unexpected\n",
      "    behaviour. For example::\n",
      "    \n",
      "      >>> np.arange(0, 5, 0.5, dtype=int)\n",
      "      array([0, 0, 0, 0, 0, 0, 0, 0, 0, 0])\n",
      "      >>> np.arange(-3, 3, 0.5, dtype=int)\n",
      "      array([-3, -2, -1,  0,  1,  2,  3,  4,  5,  6,  7,  8])\n",
      "    \n",
      "    In such cases, the use of `numpy.linspace` should be preferred.\n",
      "    \n",
      "    The built-in :py:class:`range` generates :std:doc:`Python built-in integers\n",
      "    that have arbitrary size <python:c-api/long>`, while `numpy.arange`\n",
      "    produces `numpy.int32` or `numpy.int64` numbers. This may result in\n",
      "    incorrect results for large integer values::\n",
      "    \n",
      "      >>> power = 40\n",
      "      >>> modulo = 10000\n",
      "      >>> x1 = [(n ** power) % modulo for n in range(8)]\n",
      "      >>> x2 = [(n ** power) % modulo for n in np.arange(8)]\n",
      "      >>> print(x1)\n",
      "      [0, 1, 7776, 8801, 6176, 625, 6576, 4001]  # correct\n",
      "      >>> print(x2)\n",
      "      [0, 1, 7776, 7185, 0, 5969, 4816, 3361]  # incorrect\n",
      "    \n",
      "    See Also\n",
      "    --------\n",
      "    numpy.linspace : Evenly spaced numbers with careful handling of endpoints.\n",
      "    numpy.ogrid: Arrays of evenly spaced numbers in N-dimensions.\n",
      "    numpy.mgrid: Grid-shaped arrays of evenly spaced numbers in N-dimensions.\n",
      "    :ref:`how-to-partition`\n",
      "    \n",
      "    Examples\n",
      "    --------\n",
      "    >>> np.arange(3)\n",
      "    array([0, 1, 2])\n",
      "    >>> np.arange(3.0)\n",
      "    array([ 0.,  1.,  2.])\n",
      "    >>> np.arange(3,7)\n",
      "    array([3, 4, 5, 6])\n",
      "    >>> np.arange(3,7,2)\n",
      "    array([3, 5])\n",
      "\n"
     ]
    }
   ],
   "source": [
    "import numpy as np \n",
    "help(np.arange) "
   ]
  },
  {
   "cell_type": "markdown",
   "id": "95fb6d72",
   "metadata": {},
   "source": [
    "**Python Syntex**\n",
    "\n",
    "| Syntax                  | Description                                  | Examples                | Output                   |\n",
    "|-------------------------|----------------------------------------------|-------------------------|--------------------------|\n",
    "| `range(n)`              | Generates `n` values from 0 to `n-1`.        | `range(4)`              | `0, 1, 2, 3`             |\n",
    "| `range(m, n)`           | Generates values from `m` to `n-1`.          | `range(2, 7)`           | `2, 3, 4, 5, 6`          |\n",
    "| `range(begin, end, step)` | Generates values from `begin` to `end-1`, incrementing by `step`. | `range(1, 11, 1)`       | `1, 2, 3, 4, 5, 6, 7, 8, 9, 10` |\n",
    "|                         |                                              | `range(1, 11, 2)`       | `1, 3, 5, 7, 9`          |\n",
    "|                         |                                              | `range(1, 11, 3)`       | `1, 4, 7, 10`            |"
   ]
  },
  {
   "cell_type": "code",
   "execution_count": 61,
   "id": "4bf46f19",
   "metadata": {},
   "outputs": [
    {
     "name": "stdout",
     "output_type": "stream",
     "text": [
      "a ==> [0 1 2 3 4 5 6 7 8 9]\n",
      "The dimensions of the array a ==> 1\n",
      "The data type of elements of array a ==> int32\n",
      "The size of the array a ==> 10\n",
      "The shape of the array a ==> (10,) \n",
      "\n",
      "a ==> [ 1  2  3  4  5  6  7  8  9 10]\n",
      "The dimensions of the array a ==> 1\n",
      "The data type of elements of array a ==> int32\n",
      "The size of the array a ==> 10\n",
      "The shape of the array a ==> (10,) \n",
      "\n",
      "a ==> [1 3 5 7 9]\n",
      "The dimensions of the array a ==> 1\n",
      "The data type of elements of array a ==> int32\n",
      "The size of the array a ==> 5\n",
      "The shape of the array a ==> (5,) \n",
      "\n",
      "a ==> [ 1.  4.  7. 10.]\n",
      "The dimensions of the array a ==> 1\n",
      "The data type of elements of array a ==> float64\n",
      "The size of the array a ==> 4\n",
      "The shape of the array a ==> (4,)\n"
     ]
    }
   ],
   "source": [
    "# only stop value ==> 0 to stop-1 \n",
    "import numpy as np \n",
    "a = np.arange(10)    \n",
    "print(f'a ==> {a}') \n",
    "print(f'The dimensions of the array a ==> {a.ndim}') \n",
    "print(f'The data type of elements of array a ==> {a.dtype}')\n",
    "print(f'The size of the array a ==> {a.size}') \n",
    "print(f'The shape of the array a ==> {a.shape}', '\\n') \n",
    "\n",
    "# both start and stop values: start to stop-1 \n",
    "import numpy as np\n",
    "a = np.arange(1,11)   \n",
    "print(f'a ==> {a}') \n",
    "print(f'The dimensions of the array a ==> {a.ndim}') \n",
    "print(f'The data type of elements of array a ==> {a.dtype}')\n",
    "print(f'The size of the array a ==> {a.size}') \n",
    "print(f'The shape of the array a ==> {a.shape}', '\\n') \n",
    "\n",
    "# start, stop and step values : start to stop-1 with step \n",
    "import numpy as np \n",
    "a = np.arange(1,11,2)  \n",
    "print(f'a ==> {a}') \n",
    "print(f'The dimensions of the array a ==> {a.ndim}') \n",
    "print(f'The data type of elements of array a ==> {a.dtype}') \n",
    "print(f'The size of the array a ==> {a.size}') \n",
    "print(f'The shape of the array a ==> {a.shape}', '\\n') \n",
    "\n",
    "# with a particular datatype of the elements \n",
    "import numpy as np \n",
    "a = np.arange(1,11,3,dtype=float) \n",
    "print(f'a ==> {a}') \n",
    "print(f'The dimensions of the array a ==> {a.ndim}')\n",
    "print(f'The data type of elements of array a ==> {a.dtype}') \n",
    "print(f'The size of the array a ==> {a.size}') \n",
    "print(f'The shape of the array a ==> {a.shape}') "
   ]
  },
  {
   "cell_type": "markdown",
   "id": "b1d38603",
   "metadata": {},
   "source": [
    "### linspace() \n",
    "same as **arange()** only but in the specified interval, linearly spaced values "
   ]
  },
  {
   "cell_type": "code",
   "execution_count": 62,
   "id": "7b23e4cf",
   "metadata": {
    "scrolled": true
   },
   "outputs": [
    {
     "name": "stdout",
     "output_type": "stream",
     "text": [
      "Help on function linspace in module numpy:\n",
      "\n",
      "linspace(start, stop, num=50, endpoint=True, retstep=False, dtype=None, axis=0)\n",
      "    Return evenly spaced numbers over a specified interval.\n",
      "    \n",
      "    Returns `num` evenly spaced samples, calculated over the\n",
      "    interval [`start`, `stop`].\n",
      "    \n",
      "    The endpoint of the interval can optionally be excluded.\n",
      "    \n",
      "    .. versionchanged:: 1.16.0\n",
      "        Non-scalar `start` and `stop` are now supported.\n",
      "    \n",
      "    .. versionchanged:: 1.20.0\n",
      "        Values are rounded towards ``-inf`` instead of ``0`` when an\n",
      "        integer ``dtype`` is specified. The old behavior can\n",
      "        still be obtained with ``np.linspace(start, stop, num).astype(int)``\n",
      "    \n",
      "    Parameters\n",
      "    ----------\n",
      "    start : array_like\n",
      "        The starting value of the sequence.\n",
      "    stop : array_like\n",
      "        The end value of the sequence, unless `endpoint` is set to False.\n",
      "        In that case, the sequence consists of all but the last of ``num + 1``\n",
      "        evenly spaced samples, so that `stop` is excluded.  Note that the step\n",
      "        size changes when `endpoint` is False.\n",
      "    num : int, optional\n",
      "        Number of samples to generate. Default is 50. Must be non-negative.\n",
      "    endpoint : bool, optional\n",
      "        If True, `stop` is the last sample. Otherwise, it is not included.\n",
      "        Default is True.\n",
      "    retstep : bool, optional\n",
      "        If True, return (`samples`, `step`), where `step` is the spacing\n",
      "        between samples.\n",
      "    dtype : dtype, optional\n",
      "        The type of the output array.  If `dtype` is not given, the data type\n",
      "        is inferred from `start` and `stop`. The inferred dtype will never be\n",
      "        an integer; `float` is chosen even if the arguments would produce an\n",
      "        array of integers.\n",
      "    \n",
      "        .. versionadded:: 1.9.0\n",
      "    \n",
      "    axis : int, optional\n",
      "        The axis in the result to store the samples.  Relevant only if start\n",
      "        or stop are array-like.  By default (0), the samples will be along a\n",
      "        new axis inserted at the beginning. Use -1 to get an axis at the end.\n",
      "    \n",
      "        .. versionadded:: 1.16.0\n",
      "    \n",
      "    Returns\n",
      "    -------\n",
      "    samples : ndarray\n",
      "        There are `num` equally spaced samples in the closed interval\n",
      "        ``[start, stop]`` or the half-open interval ``[start, stop)``\n",
      "        (depending on whether `endpoint` is True or False).\n",
      "    step : float, optional\n",
      "        Only returned if `retstep` is True\n",
      "    \n",
      "        Size of spacing between samples.\n",
      "    \n",
      "    \n",
      "    See Also\n",
      "    --------\n",
      "    arange : Similar to `linspace`, but uses a step size (instead of the\n",
      "             number of samples).\n",
      "    geomspace : Similar to `linspace`, but with numbers spaced evenly on a log\n",
      "                scale (a geometric progression).\n",
      "    logspace : Similar to `geomspace`, but with the end points specified as\n",
      "               logarithms.\n",
      "    :ref:`how-to-partition`\n",
      "    \n",
      "    Examples\n",
      "    --------\n",
      "    >>> np.linspace(2.0, 3.0, num=5)\n",
      "    array([2.  , 2.25, 2.5 , 2.75, 3.  ])\n",
      "    >>> np.linspace(2.0, 3.0, num=5, endpoint=False)\n",
      "    array([2. ,  2.2,  2.4,  2.6,  2.8])\n",
      "    >>> np.linspace(2.0, 3.0, num=5, retstep=True)\n",
      "    (array([2.  ,  2.25,  2.5 ,  2.75,  3.  ]), 0.25)\n",
      "    \n",
      "    Graphical illustration:\n",
      "    \n",
      "    >>> import matplotlib.pyplot as plt\n",
      "    >>> N = 8\n",
      "    >>> y = np.zeros(N)\n",
      "    >>> x1 = np.linspace(0, 10, N, endpoint=True)\n",
      "    >>> x2 = np.linspace(0, 10, N, endpoint=False)\n",
      "    >>> plt.plot(x1, y, 'o')\n",
      "    [<matplotlib.lines.Line2D object at 0x...>]\n",
      "    >>> plt.plot(x2, y + 0.5, 'o')\n",
      "    [<matplotlib.lines.Line2D object at 0x...>]\n",
      "    >>> plt.ylim([-0.5, 1])\n",
      "    (-0.5, 1)\n",
      "    >>> plt.show()\n",
      "\n"
     ]
    }
   ],
   "source": [
    "import numpy as np \n",
    "help(np.linspace) "
   ]
  },
  {
   "cell_type": "markdown",
   "id": "8d3eda83",
   "metadata": {},
   "source": [
    " **linspace(start, stop, num=50, endpoint=True, retstep=False, dtype=None, axis=0)**<br> \n",
    " \n",
    " • Both ***start and stop are includded*** because ***endpoint=True*** <br>• If ***endpoint=False*** then ***stop is excluded***<br> • retstep denotes the spacing between the points.If ***True*** then the value is returned <br>• calculation of spacing ***(stop-start)/(num-1)*** if ***endpoint=True*** <br>• calculation of spacing ***(stop-start)/(num)*** if ***endpoint=False*** "
   ]
  },
  {
   "cell_type": "code",
   "execution_count": 69,
   "id": "90955841",
   "metadata": {},
   "outputs": [
    {
     "name": "stdout",
     "output_type": "stream",
     "text": [
      "[0.         0.02040816 0.04081633 0.06122449 0.08163265 0.10204082\n",
      " 0.12244898 0.14285714 0.16326531 0.18367347 0.20408163 0.2244898\n",
      " 0.24489796 0.26530612 0.28571429 0.30612245 0.32653061 0.34693878\n",
      " 0.36734694 0.3877551  0.40816327 0.42857143 0.44897959 0.46938776\n",
      " 0.48979592 0.51020408 0.53061224 0.55102041 0.57142857 0.59183673\n",
      " 0.6122449  0.63265306 0.65306122 0.67346939 0.69387755 0.71428571\n",
      " 0.73469388 0.75510204 0.7755102  0.79591837 0.81632653 0.83673469\n",
      " 0.85714286 0.87755102 0.89795918 0.91836735 0.93877551 0.95918367\n",
      " 0.97959184 1.        ] \n",
      "\n",
      "[0.         0.33333333 0.66666667 1.        ] \n",
      "\n",
      "[0.   0.25 0.5  0.75] \n",
      "\n",
      "(array([0.  , 0.25, 0.5 , 0.75]), 0.25) \n",
      "\n",
      "(array([  1,  12,  23,  34,  45,  56,  67,  78,  89, 100]), 11.0) \n",
      "\n"
     ]
    }
   ],
   "source": [
    "#50 evenly spaced values between 0 and 1 are returned including both 0 and 1 \n",
    "print(np.linspace(0,1), '\\n') \n",
    "\n",
    "# 4 evenly spaced valued between 0 and 1 including 0 and 1 \n",
    "print(np.linspace(0,1,4), '\\n') \n",
    "\n",
    "# 4 evenly spaced valued between 0 and 1 including 0 and excluding 1 \n",
    "print(np.linspace(0,1,4,endpoint=False), '\\n') \n",
    "\n",
    "# 4 evenly spaced valued between 0 and 1 including 0 and excluding 1 and return spacing \n",
    "print(np.linspace(0,1,4,endpoint=False,retstep=True), '\\n') \n",
    "\n",
    "# 10 values between 1 to 100 including 1 and 100 with equally spaced int values \n",
    "print(np.linspace(1,100,10,dtype=int,retstep=True), '\\n') "
   ]
  },
  {
   "cell_type": "markdown",
   "id": "e6d7728f",
   "metadata": {},
   "source": [
    "### arange() vs. linespace()\n",
    "\n",
    "• arange() ==> Elements will be considered in the given range based on step value. <br>• linspace() ==> The specified number of values will be considered in the given range. "
   ]
  },
  {
   "cell_type": "markdown",
   "id": "3a634171",
   "metadata": {},
   "source": [
    "### Zeros\n",
    "array is filled with 0s "
   ]
  },
  {
   "cell_type": "markdown",
   "id": "56cd4518",
   "metadata": {},
   "source": [
    "• 0-D array ==> ***Scalar*** :: single value <br>\n",
    "• 1-D array ==> ***Vector*** :: Collection of 0-D arrays <br>\n",
    "• 2-D array ==> ***Matrix*** :: Collection of 1-D arrays <br>\n",
    "• 3-D array ==> collcetion of 2-D arrays <br>\n",
    "• (10,) ==>1-D array contains 10 elements <br>\n",
    "• (5,2) ==>2-D array contains 5 rows and 2 columns <br>\n",
    "• (2,3,4) ==>3-D array <br>\n",
    "    &emsp;  2 ==> number of 2-D arrays <br>\n",
    "    &emsp;  3 ==> The number of rows in every 2-D array <br>\n",
    "    &emsp;  4 ==> The number of columns in every 2-D array <br>\n",
    "    &emsp;  size: 2* 3* 4 = 24 <br>"
   ]
  },
  {
   "cell_type": "code",
   "execution_count": 71,
   "id": "43d34f4a",
   "metadata": {},
   "outputs": [
    {
     "name": "stdout",
     "output_type": "stream",
     "text": [
      "Help on built-in function zeros in module numpy:\n",
      "\n",
      "zeros(...)\n",
      "    zeros(shape, dtype=float, order='C', *, like=None)\n",
      "    \n",
      "    Return a new array of given shape and type, filled with zeros.\n",
      "    \n",
      "    Parameters\n",
      "    ----------\n",
      "    shape : int or tuple of ints\n",
      "        Shape of the new array, e.g., ``(2, 3)`` or ``2``.\n",
      "    dtype : data-type, optional\n",
      "        The desired data-type for the array, e.g., `numpy.int8`.  Default is\n",
      "        `numpy.float64`.\n",
      "    order : {'C', 'F'}, optional, default: 'C'\n",
      "        Whether to store multi-dimensional data in row-major\n",
      "        (C-style) or column-major (Fortran-style) order in\n",
      "        memory.\n",
      "    like : array_like, optional\n",
      "        Reference object to allow the creation of arrays which are not\n",
      "        NumPy arrays. If an array-like passed in as ``like`` supports\n",
      "        the ``__array_function__`` protocol, the result will be defined\n",
      "        by it. In this case, it ensures the creation of an array object\n",
      "        compatible with that passed in via this argument.\n",
      "    \n",
      "        .. versionadded:: 1.20.0\n",
      "    \n",
      "    Returns\n",
      "    -------\n",
      "    out : ndarray\n",
      "        Array of zeros with the given shape, dtype, and order.\n",
      "    \n",
      "    See Also\n",
      "    --------\n",
      "    zeros_like : Return an array of zeros with shape and type of input.\n",
      "    empty : Return a new uninitialized array.\n",
      "    ones : Return a new array setting values to one.\n",
      "    full : Return a new array of given shape filled with value.\n",
      "    \n",
      "    Examples\n",
      "    --------\n",
      "    >>> np.zeros(5)\n",
      "    array([ 0.,  0.,  0.,  0.,  0.])\n",
      "    \n",
      "    >>> np.zeros((5,), dtype=int)\n",
      "    array([0, 0, 0, 0, 0])\n",
      "    \n",
      "    >>> np.zeros((2, 1))\n",
      "    array([[ 0.],\n",
      "           [ 0.]])\n",
      "    \n",
      "    >>> s = (2,2)\n",
      "    >>> np.zeros(s)\n",
      "    array([[ 0.,  0.],\n",
      "           [ 0.,  0.]])\n",
      "    \n",
      "    >>> np.zeros((2,), dtype=[('x', 'i4'), ('y', 'i4')]) # custom dtype\n",
      "    array([(0, 0), (0, 0)],\n",
      "          dtype=[('x', '<i4'), ('y', '<i4')])\n",
      "\n"
     ]
    }
   ],
   "source": [
    "import numpy as np \n",
    "help(np.zeros) "
   ]
  },
  {
   "cell_type": "code",
   "execution_count": 79,
   "id": "db3ea506",
   "metadata": {},
   "outputs": [
    {
     "name": "stdout",
     "output_type": "stream",
     "text": [
      "[0. 0. 0. 0.] \n",
      "\n",
      "[[0. 0. 0.]\n",
      " [0. 0. 0.]\n",
      " [0. 0. 0.]\n",
      " [0. 0. 0.]] \n",
      "\n",
      "[[[0. 0. 0. 0.]\n",
      "  [0. 0. 0. 0.]\n",
      "  [0. 0. 0. 0.]]\n",
      "\n",
      " [[0. 0. 0. 0.]\n",
      "  [0. 0. 0. 0.]\n",
      "  [0. 0. 0. 0.]]] \n",
      "\n"
     ]
    }
   ],
   "source": [
    "# zeros(shape, dtype=float, order='C', *, like=None) ==> shape always in tuple form # 1-D array with zeros \n",
    "print(np.zeros(4),'\\n')\n",
    "\n",
    "# 2-D arrays with zeros \n",
    "print(np.zeros((4,3)), '\\n') \n",
    "\n",
    "# 3-D array \n",
    "print(np.zeros((2,3,4)) , '\\n')"
   ]
  },
  {
   "cell_type": "markdown",
   "id": "a892f7d9",
   "metadata": {},
   "source": [
    "**Note:** observe the above output. <br>• outermost there are 3 square brackets are present means it is 3-D array <br>• exclude one outermost bracket then it is a 2-D array ==> total 2 2-D arrays present <br> • Each 2-D array contains 1-D arrays. Each 2-D contains 3-rows and 4-columns "
   ]
  },
  {
   "cell_type": "markdown",
   "id": "7d35a561",
   "metadata": {},
   "source": [
    "### ones()\n",
    "exactly same as zeros except array is filled with 1 "
   ]
  },
  {
   "cell_type": "code",
   "execution_count": 80,
   "id": "f5a27aea",
   "metadata": {},
   "outputs": [
    {
     "name": "stdout",
     "output_type": "stream",
     "text": [
      "Help on function ones in module numpy:\n",
      "\n",
      "ones(shape, dtype=None, order='C', *, like=None)\n",
      "    Return a new array of given shape and type, filled with ones.\n",
      "    \n",
      "    Parameters\n",
      "    ----------\n",
      "    shape : int or sequence of ints\n",
      "        Shape of the new array, e.g., ``(2, 3)`` or ``2``.\n",
      "    dtype : data-type, optional\n",
      "        The desired data-type for the array, e.g., `numpy.int8`.  Default is\n",
      "        `numpy.float64`.\n",
      "    order : {'C', 'F'}, optional, default: C\n",
      "        Whether to store multi-dimensional data in row-major\n",
      "        (C-style) or column-major (Fortran-style) order in\n",
      "        memory.\n",
      "    like : array_like, optional\n",
      "        Reference object to allow the creation of arrays which are not\n",
      "        NumPy arrays. If an array-like passed in as ``like`` supports\n",
      "        the ``__array_function__`` protocol, the result will be defined\n",
      "        by it. In this case, it ensures the creation of an array object\n",
      "        compatible with that passed in via this argument.\n",
      "    \n",
      "        .. versionadded:: 1.20.0\n",
      "    \n",
      "    Returns\n",
      "    -------\n",
      "    out : ndarray\n",
      "        Array of ones with the given shape, dtype, and order.\n",
      "    \n",
      "    See Also\n",
      "    --------\n",
      "    ones_like : Return an array of ones with shape and type of input.\n",
      "    empty : Return a new uninitialized array.\n",
      "    zeros : Return a new array setting values to zero.\n",
      "    full : Return a new array of given shape filled with value.\n",
      "    \n",
      "    \n",
      "    Examples\n",
      "    --------\n",
      "    >>> np.ones(5)\n",
      "    array([1., 1., 1., 1., 1.])\n",
      "    \n",
      "    >>> np.ones((5,), dtype=int)\n",
      "    array([1, 1, 1, 1, 1])\n",
      "    \n",
      "    >>> np.ones((2, 1))\n",
      "    array([[1.],\n",
      "           [1.]])\n",
      "    \n",
      "    >>> s = (2,2)\n",
      "    >>> np.ones(s)\n",
      "    array([[1.,  1.],\n",
      "           [1.,  1.]])\n",
      "\n"
     ]
    }
   ],
   "source": [
    "import numpy as np \n",
    "help(np.ones) "
   ]
  },
  {
   "cell_type": "code",
   "execution_count": 81,
   "id": "8e778c8f",
   "metadata": {},
   "outputs": [
    {
     "name": "stdout",
     "output_type": "stream",
     "text": [
      "1-D array of ones:\n",
      "[1. 1. 1. 1. 1. 1. 1. 1. 1. 1.]\n",
      "\n",
      "2-D array of ones:\n",
      "[[1 1]\n",
      " [1 1]\n",
      " [1 1]\n",
      " [1 1]\n",
      " [1 1]]\n",
      "\n",
      "3-D array of ones:\n",
      "[[[1 1 1 1]\n",
      "  [1 1 1 1]\n",
      "  [1 1 1 1]]\n",
      "\n",
      " [[1 1 1 1]\n",
      "  [1 1 1 1]\n",
      "  [1 1 1 1]]]\n"
     ]
    }
   ],
   "source": [
    "import numpy as np\n",
    "\n",
    "# Creating a 1-D array of ones\n",
    "one_d_array = np.ones(10)\n",
    "\n",
    "# Creating a 2-D array of ones with integer type\n",
    "two_d_array = np.ones((5, 2), dtype=int)\n",
    "\n",
    "# Creating a 3-D array of ones with integer type\n",
    "three_d_array = np.ones((2, 3, 4), dtype=int)\n",
    "\n",
    "# You can print these arrays to see the output\n",
    "print(\"1-D array of ones:\")\n",
    "print(one_d_array)\n",
    "print(\"\\n2-D array of ones:\")\n",
    "print(two_d_array)\n",
    "print(\"\\n3-D array of ones:\")\n",
    "print(three_d_array)"
   ]
  },
  {
   "cell_type": "markdown",
   "id": "89b399b2",
   "metadata": {},
   "source": [
    "### full\n",
    "Return a new array of given shape and type, filled with fill_value."
   ]
  },
  {
   "cell_type": "code",
   "execution_count": 82,
   "id": "6597d3f3",
   "metadata": {
    "collapsed": true
   },
   "outputs": [
    {
     "name": "stdout",
     "output_type": "stream",
     "text": [
      "Help on function full in module numpy:\n",
      "\n",
      "full(shape, fill_value, dtype=None, order='C', *, like=None)\n",
      "    Return a new array of given shape and type, filled with `fill_value`.\n",
      "    \n",
      "    Parameters\n",
      "    ----------\n",
      "    shape : int or sequence of ints\n",
      "        Shape of the new array, e.g., ``(2, 3)`` or ``2``.\n",
      "    fill_value : scalar or array_like\n",
      "        Fill value.\n",
      "    dtype : data-type, optional\n",
      "        The desired data-type for the array  The default, None, means\n",
      "         ``np.array(fill_value).dtype``.\n",
      "    order : {'C', 'F'}, optional\n",
      "        Whether to store multidimensional data in C- or Fortran-contiguous\n",
      "        (row- or column-wise) order in memory.\n",
      "    like : array_like, optional\n",
      "        Reference object to allow the creation of arrays which are not\n",
      "        NumPy arrays. If an array-like passed in as ``like`` supports\n",
      "        the ``__array_function__`` protocol, the result will be defined\n",
      "        by it. In this case, it ensures the creation of an array object\n",
      "        compatible with that passed in via this argument.\n",
      "    \n",
      "        .. versionadded:: 1.20.0\n",
      "    \n",
      "    Returns\n",
      "    -------\n",
      "    out : ndarray\n",
      "        Array of `fill_value` with the given shape, dtype, and order.\n",
      "    \n",
      "    See Also\n",
      "    --------\n",
      "    full_like : Return a new array with shape of input filled with value.\n",
      "    empty : Return a new uninitialized array.\n",
      "    ones : Return a new array setting values to one.\n",
      "    zeros : Return a new array setting values to zero.\n",
      "    \n",
      "    Examples\n",
      "    --------\n",
      "    >>> np.full((2, 2), np.inf)\n",
      "    array([[inf, inf],\n",
      "           [inf, inf]])\n",
      "    >>> np.full((2, 2), 10)\n",
      "    array([[10, 10],\n",
      "           [10, 10]])\n",
      "    \n",
      "    >>> np.full((2, 2), [1, 2])\n",
      "    array([[1, 2],\n",
      "           [1, 2]])\n",
      "\n"
     ]
    }
   ],
   "source": [
    "import numpy as np \n",
    "help(np.full) "
   ]
  },
  {
   "cell_type": "code",
   "execution_count": 83,
   "id": "74410ada",
   "metadata": {},
   "outputs": [
    {
     "name": "stdout",
     "output_type": "stream",
     "text": [
      "1-D array filled with 2s:\n",
      "[2 2 2 2 2 2 2 2 2 2]\n",
      "\n",
      "2-D array filled with 3s:\n",
      "[[3 3 3]\n",
      " [3 3 3]]\n",
      "\n",
      "3-D array filled with 8s:\n",
      "[[[8 8 8 8]\n",
      "  [8 8 8 8]\n",
      "  [8 8 8 8]]\n",
      "\n",
      " [[8 8 8 8]\n",
      "  [8 8 8 8]\n",
      "  [8 8 8 8]]]\n",
      "\n",
      "Alternative 3-D array (all should be the same):\n",
      "[[[8 8 8 8]\n",
      "  [8 8 8 8]\n",
      "  [8 8 8 8]]\n",
      "\n",
      " [[8 8 8 8]\n",
      "  [8 8 8 8]\n",
      "  [8 8 8 8]]]\n",
      "[[[8 8 8 8]\n",
      "  [8 8 8 8]\n",
      "  [8 8 8 8]]\n",
      "\n",
      " [[8 8 8 8]\n",
      "  [8 8 8 8]\n",
      "  [8 8 8 8]]]\n",
      "[[[8 8 8 8]\n",
      "  [8 8 8 8]\n",
      "  [8 8 8 8]]\n",
      "\n",
      " [[8 8 8 8]\n",
      "  [8 8 8 8]\n",
      "  [8 8 8 8]]]\n"
     ]
    }
   ],
   "source": [
    "import numpy as np\n",
    "\n",
    "# Creating a 1-D array filled with the value 2\n",
    "one_d_array = np.full(10, fill_value=2)\n",
    "\n",
    "# Creating a 2-D array filled with the value 3\n",
    "two_d_array = np.full((2, 3), fill_value=3)\n",
    "\n",
    "# Creating a 3-D array filled with the value 8\n",
    "three_d_array = np.full((2, 3, 4), fill_value=8)\n",
    "\n",
    "# Demonstrating alternative ways to create the same 3-D array filled with the value 8\n",
    "three_d_array_alternative_1 = np.full(shape=(2, 3, 4), fill_value=8)\n",
    "three_d_array_alternative_2 = np.full((2, 3, 4), fill_value=8)\n",
    "three_d_array_alternative_3 = np.full((2, 3, 4), 8)\n",
    "\n",
    "# Printing the arrays to verify their contents\n",
    "print(\"1-D array filled with 2s:\")\n",
    "print(one_d_array)\n",
    "print(\"\\n2-D array filled with 3s:\")\n",
    "print(two_d_array)\n",
    "print(\"\\n3-D array filled with 8s:\")\n",
    "print(three_d_array)\n",
    "print(\"\\nAlternative 3-D array (all should be the same):\")\n",
    "print(three_d_array_alternative_1)\n",
    "print(three_d_array_alternative_2)\n",
    "print(three_d_array_alternative_3)"
   ]
  },
  {
   "cell_type": "markdown",
   "id": "a6ccff16",
   "metadata": {},
   "source": [
    "### eye()\n",
    "• To generate **identity matrix** <br>• Return a **2-D array** with **ones on the diagonal and zeros elsewhere**. "
   ]
  },
  {
   "cell_type": "code",
   "execution_count": 84,
   "id": "bed59aaf",
   "metadata": {
    "collapsed": true
   },
   "outputs": [
    {
     "name": "stdout",
     "output_type": "stream",
     "text": [
      "Help on function eye in module numpy:\n",
      "\n",
      "eye(N, M=None, k=0, dtype=<class 'float'>, order='C', *, like=None)\n",
      "    Return a 2-D array with ones on the diagonal and zeros elsewhere.\n",
      "    \n",
      "    Parameters\n",
      "    ----------\n",
      "    N : int\n",
      "      Number of rows in the output.\n",
      "    M : int, optional\n",
      "      Number of columns in the output. If None, defaults to `N`.\n",
      "    k : int, optional\n",
      "      Index of the diagonal: 0 (the default) refers to the main diagonal,\n",
      "      a positive value refers to an upper diagonal, and a negative value\n",
      "      to a lower diagonal.\n",
      "    dtype : data-type, optional\n",
      "      Data-type of the returned array.\n",
      "    order : {'C', 'F'}, optional\n",
      "        Whether the output should be stored in row-major (C-style) or\n",
      "        column-major (Fortran-style) order in memory.\n",
      "    \n",
      "        .. versionadded:: 1.14.0\n",
      "    like : array_like, optional\n",
      "        Reference object to allow the creation of arrays which are not\n",
      "        NumPy arrays. If an array-like passed in as ``like`` supports\n",
      "        the ``__array_function__`` protocol, the result will be defined\n",
      "        by it. In this case, it ensures the creation of an array object\n",
      "        compatible with that passed in via this argument.\n",
      "    \n",
      "        .. versionadded:: 1.20.0\n",
      "    \n",
      "    Returns\n",
      "    -------\n",
      "    I : ndarray of shape (N,M)\n",
      "      An array where all elements are equal to zero, except for the `k`-th\n",
      "      diagonal, whose values are equal to one.\n",
      "    \n",
      "    See Also\n",
      "    --------\n",
      "    identity : (almost) equivalent function\n",
      "    diag : diagonal 2-D array from a 1-D array specified by the user.\n",
      "    \n",
      "    Examples\n",
      "    --------\n",
      "    >>> np.eye(2, dtype=int)\n",
      "    array([[1, 0],\n",
      "           [0, 1]])\n",
      "    >>> np.eye(3, k=1)\n",
      "    array([[0.,  1.,  0.],\n",
      "           [0.,  0.,  1.],\n",
      "           [0.,  0.,  0.]])\n",
      "\n"
     ]
    }
   ],
   "source": [
    "import numpy as np \n",
    "help(np.eye) "
   ]
  },
  {
   "cell_type": "markdown",
   "id": "e66aa0bb",
   "metadata": {},
   "source": [
    "#### Positional and keyword argument in a function"
   ]
  },
  {
   "cell_type": "markdown",
   "id": "b2f80e04",
   "metadata": {},
   "source": [
    "| Function Signature | Description | Example Call | Notes |\n",
    "|--------------------|-------------|--------------|-------|\n",
    "| `f(a, b)`          | Accepts both positional and keyword arguments. | `f(1, 2)` or `f(a=1, b=2)` | You can use either positional or keyword arguments for `a` and `b`. |\n",
    "| `f(a, /, b)`       | Positional arguments only before `/`; keyword or positional after `/`. | `f(1, b=2)` | Here, `a` must be passed as a positional argument, while `b` can be either positional or keyword. |\n",
    "| `f(a, *, b)`       | Positional or keyword arguments before `*`; keyword only after `*`. | `f(a=1, b=2)` | Here, `a` can be passed as either positional or keyword, but `b` must be specified as a keyword argument. |"
   ]
  },
  {
   "cell_type": "code",
   "execution_count": 85,
   "id": "b4fbba5c",
   "metadata": {},
   "outputs": [
    {
     "name": "stdout",
     "output_type": "stream",
     "text": [
      "The value of a :: 10\n",
      "The value of b :: 20\n",
      "The value of a :: 10\n",
      "The value of b :: 20\n",
      "Calling f1(10,20) ==> Valid\n",
      "The value of a :10\n",
      "The value of b :20\n",
      "Calling f1(a=10, b=20) ==> Invalid\n",
      "Calling f2(a=10, b=50) ==> Valid\n",
      "The value of a :: 10\n",
      "The value of b :: 50\n",
      "Calling f2(10, 20) ==> Invalid\n"
     ]
    }
   ],
   "source": [
    "# Function that accepts both positional and keyword arguments\n",
    "def f(a, b):\n",
    "    print(f'The value of a :: {a}')\n",
    "    print(f'The value of b :: {b}')\n",
    "\n",
    "# Calling function f with positional arguments\n",
    "f(10, 20)\n",
    "\n",
    "# Calling function f with keyword arguments\n",
    "f(a=10, b=20)\n",
    "\n",
    "# Function with positional arguments only before the '/'\n",
    "def f1(a, /, b):\n",
    "    print(f'The value of a :{a}')\n",
    "    print(f'The value of b :{b}')\n",
    "\n",
    "print(\"Calling f1(10,20) ==> Valid\")\n",
    "f1(10, 20)  # Valid\n",
    "\n",
    "print(\"Calling f1(a=10, b=20) ==> Invalid\")\n",
    "# This will raise an error because 'a' must be passed as a positional argument\n",
    "# f1(a=10, b=20)  # Uncomment to see the error\n",
    "\n",
    "# Function with keyword arguments only after the '*'\n",
    "def f2(a, *, b):\n",
    "    print(f'The value of a :: {a}')\n",
    "    print(f'The value of b :: {b}')\n",
    "\n",
    "print(\"Calling f2(a=10, b=50) ==> Valid\")\n",
    "f2(a=10, b=50)  # Valid\n",
    "\n",
    "print(\"Calling f2(10, 20) ==> Invalid\")\n",
    "# This will raise an error because 'b' must be passed as a keyword argument\n",
    "# f2(10, 20)  # Uncomment to see the error\n",
    "# f2(a=10, 50) # Uncomment to see the error"
   ]
  },
  {
   "cell_type": "markdown",
   "id": "f47c7d73",
   "metadata": {},
   "source": [
    "#### Eye Syntax:\n",
    "\n",
    "eye(N, M=None, k=0, dtype=<class 'float'>, order='C', *, like=None)\n",
    "<br>Return a 2-D array with ones on the diagonal and zeros elsewhere. "
   ]
  },
  {
   "cell_type": "code",
   "execution_count": 91,
   "id": "f5f12508",
   "metadata": {},
   "outputs": [
    {
     "data": {
      "image/jpeg": "[encoded data removed]",
      "text/plain": [
       "<IPython.core.display.Image object>"
      ]
     },
     "execution_count": 91,
     "metadata": {},
     "output_type": "execute_result"
    }
   ],
   "source": [
    "from IPython.display import Image\n",
    "\n",
    "Image(filename=r'C:\\Users\\saurabhkumar9\\numpy_image\\eye.jpg')\n",
    "#Image(url = 'https://nustat.github.io/DataScience_Intro_python/Datasets/numpy_image.png')"
   ]
  },
  {
   "cell_type": "code",
   "execution_count": 92,
   "id": "b3bb34de",
   "metadata": {},
   "outputs": [
    {
     "name": "stdout",
     "output_type": "stream",
     "text": [
      "[[1. 0. 0.]\n",
      " [0. 1. 0.]] \n",
      "\n",
      "[[0. 1. 0. 0. 0.]\n",
      " [0. 0. 1. 0. 0.]\n",
      " [0. 0. 0. 1. 0.]\n",
      " [0. 0. 0. 0. 1.]\n",
      " [0. 0. 0. 0. 0.]] \n",
      "\n",
      "[[0. 0. 0. 0. 0.]\n",
      " [1. 0. 0. 0. 0.]\n",
      " [0. 1. 0. 0. 0.]\n",
      " [0. 0. 1. 0. 0.]\n",
      " [0. 0. 0. 1. 0.]] \n",
      "\n"
     ]
    }
   ],
   "source": [
    "print(np.eye(2,3), '\\n') \n",
    "print(np.eye(5,k=1), '\\n')  \n",
    "print(np.eye(5,k=-1), '\\n')  "
   ]
  },
  {
   "cell_type": "code",
   "execution_count": null,
   "id": "82a34b46",
   "metadata": {},
   "outputs": [],
   "source": []
  },
  {
   "cell_type": "markdown",
   "id": "89102f3f",
   "metadata": {},
   "source": [
    "**eye() properties**<br> \n",
    "1. It will returns always **2-D arrays** <br>\n",
    "2. The number of rows and number of columns need not be same. <br>\n",
    "3. If we omit the 'M' value then the value will be same as 'N' <br>\n",
    "4. Bydefault main diagonal contains 1s. But we can customize the diagonal which has to contain 1s. "
   ]
  },
  {
   "cell_type": "markdown",
   "id": "6d4d0bee",
   "metadata": {},
   "source": [
    "### identity() \n",
    "exactly same as 'eye()' function except<br>\n",
    "1. It is always square matrix(The number of rows and number of columns always same)<br>\n",
    "2. only main diagonal contains 1s"
   ]
  },
  {
   "cell_type": "code",
   "execution_count": null,
   "id": "9d872a0b",
   "metadata": {},
   "outputs": [],
   "source": [
    "import numpy as np\n",
    "help(np.identity)"
   ]
  },
  {
   "cell_type": "code",
   "execution_count": 93,
   "id": "93ac7e01",
   "metadata": {},
   "outputs": [
    {
     "data": {
      "text/plain": [
       "array([[1, 0, 0],\n",
       "       [0, 1, 0],\n",
       "       [0, 0, 1]])"
      ]
     },
     "execution_count": 93,
     "metadata": {},
     "output_type": "execute_result"
    }
   ],
   "source": [
    "# identity(n, dtype=None, *, like=None)\n",
    "np.identity(3,dtype=int)"
   ]
  },
  {
   "cell_type": "markdown",
   "id": "30dee0fb",
   "metadata": {},
   "source": [
    "### diag()\n",
    "\n",
    "• diag(v, k=0) ==> Extract a diagonal or construct a diagonal array. <br>\n",
    "• If we provide 2-D array then it will extract the elements at k-th diagonal<br>\n",
    "• If we provide 1-D array the it will construct a diagonal array with the provided elements and remaining elements are filled with zeros"
   ]
  },
  {
   "cell_type": "code",
   "execution_count": null,
   "id": "bad8a941",
   "metadata": {},
   "outputs": [],
   "source": [
    "import numpy as np\n",
    "help(np.diag)"
   ]
  },
  {
   "cell_type": "code",
   "execution_count": 110,
   "id": "abd4cf77",
   "metadata": {},
   "outputs": [
    {
     "name": "stdout",
     "output_type": "stream",
     "text": [
      "Original 2-D array ==> \n",
      " [[1 2 3]\n",
      " [4 5 6]\n",
      " [7 8 9]]\n",
      "Elements prsent at 0-diagonal ==> [1 5 9]\n",
      "Elements prsent at 1-diagonal ==> [2 6]\n",
      "Elements prsent at 2-diagonal ==> [3]\n",
      "Elements prsent at -1-diagonal ==> [4 8]\n",
      "Elements prsent at -2-diagonal ==> [7]\n",
      "Elements prsent at 3-diagonal ==> []\n"
     ]
    }
   ],
   "source": [
    "# Extract 2-D diagonal elements\n",
    "a = np.arange(1,10).reshape(3,3)\n",
    "np.set_printoptions(precision=3, suppress=True)\n",
    "\n",
    "print(f\"Original 2-D array ==> \\n {a}\")\n",
    "print(f\"Elements prsent at 0-diagonal ==> {np.diag(a,k=0)}\")\n",
    "print(f\"Elements prsent at 1-diagonal ==> {np.diag(a,k=1)}\")\n",
    "print(f\"Elements prsent at 2-diagonal ==> {np.diag(a,k=2)}\")\n",
    "print(f\"Elements prsent at -1-diagonal ==> {np.diag(a,k=-1)}\")\n",
    "print(f\"Elements prsent at -2-diagonal ==> {np.diag(a,k=-2)}\")\n",
    "print(f\"Elements prsent at 3-diagonal ==> {np.diag(a,k=3)}\")"
   ]
  },
  {
   "cell_type": "code",
   "execution_count": 120,
   "id": "f02bd59c",
   "metadata": {},
   "outputs": [
    {
     "name": "stdout",
     "output_type": "stream",
     "text": [
      "[[10  0  0  0]\n",
      " [ 0 20  0  0]\n",
      " [ 0  0 30  0]\n",
      " [ 0  0  0 40]] \n",
      "\n",
      "[[ 0 10  0  0  0]\n",
      " [ 0  0 20  0  0]\n",
      " [ 0  0  0 30  0]\n",
      " [ 0  0  0  0 40]\n",
      " [ 0  0  0  0  0]] \n",
      "\n",
      "[[ 0  0  0  0  0]\n",
      " [10  0  0  0  0]\n",
      " [ 0 20  0  0  0]\n",
      " [ 0  0 30  0  0]\n",
      " [ 0  0  0 40  0]] \n",
      "\n"
     ]
    }
   ],
   "source": [
    "# 1-D construct 2-D array with the diagonal array with the provided elements\n",
    "# remaining elements are filled with zeros\n",
    "a = np.array([10,20,30,40])\n",
    "print(np.diag(a,k=0), '\\n')\n",
    "\n",
    "print(np.diag(a,k=1), '\\n')\n",
    "\n",
    "print(np.diag(a,k=-1), '\\n')"
   ]
  },
  {
   "cell_type": "markdown",
   "id": "bd901adc",
   "metadata": {},
   "source": [
    "### empty()\n",
    "Return a new array of given shape and type, without initializing entries."
   ]
  },
  {
   "cell_type": "markdown",
   "id": "1ebad210",
   "metadata": {},
   "source": [
    "**Note:**<br>\n",
    "• There is no default value in C language<br>\n",
    "• So if value is initialized then it will be assigned with some garbage values<br>\n",
    "• Generally 'empty()' function is ued to create dummy array.<br>\n",
    "• np.empty(10) returns uninitialized data ==> we can use this for future purpose<br>"
   ]
  },
  {
   "cell_type": "code",
   "execution_count": 123,
   "id": "89000b67",
   "metadata": {},
   "outputs": [
    {
     "name": "stdout",
     "output_type": "stream",
     "text": [
      "[[1.123 2.    3.   ]\n",
      " [4.    5.    6.988]\n",
      " [7.1   8.2   9.3  ]] \n",
      "\n"
     ]
    },
    {
     "data": {
      "text/plain": [
       "array([1., 1., 1., 1., 1., 1., 1., 1., 1., 1.])"
      ]
     },
     "execution_count": 123,
     "metadata": {},
     "output_type": "execute_result"
    }
   ],
   "source": [
    "print(np.empty((3,3)), '\\n')\n",
    "\n",
    "np.empty(10) "
   ]
  },
  {
   "cell_type": "markdown",
   "id": "18f2878f",
   "metadata": {},
   "source": [
    "### zeros() vs empty()\n",
    "\n",
    "1. If we required an array only with zeros then we should go for zeros().<br>\n",
    "2. If we never worry about data, just we required an empty array for future purpose,then we should go for empty().<br>\n",
    "3. The time required to create emtpy array is very very less when compared with zeros array. i.e performance wise empty() function is recommended than zeros() if we are not worry about data. <br>"
   ]
  },
  {
   "cell_type": "code",
   "execution_count": 124,
   "id": "5cb529f7",
   "metadata": {},
   "outputs": [
    {
     "name": "stdout",
     "output_type": "stream",
     "text": [
      "Time taken by zeros: 0:00:00\n",
      "Time taken by empty: 0:00:00\n"
     ]
    }
   ],
   "source": [
    "# performance comaparision of zeros() and empty()\n",
    "import numpy as np\n",
    "from datetime import datetime\n",
    "import sys\n",
    "begin = datetime.now()\n",
    "a = np.zeros((10000,300,400))\n",
    "after = datetime.now()\n",
    "print('Time taken by zeros:',after-begin)\n",
    "a= None\n",
    "begin = datetime.now()\n",
    "a = np.empty((10000,300,400))\n",
    "after = datetime.now()\n",
    "print('Time taken by empty:',after-begin)"
   ]
  },
  {
   "cell_type": "markdown",
   "id": "62ecc0a7",
   "metadata": {},
   "source": [
    "### np.random module\n",
    "\n",
    "This library contains several functions to create nd arrays with random data.<br>\n",
    "\n",
    "• randint() ==> To generate random int values in the given range.<br>\n",
    "• rand() ==> uniform distribution in the range [0,1)<br>\n",
    "• uniform() ==> uniform distribution in our provided range<br>\n",
    "• randn() ==> normal distribution values with mean 0 and variance is 1<br>\n",
    "• normal() ==> normal distribution values with our mean and variance.<br>\n",
    "• shuffle() ==> To shuffle order of elements in the given nd array."
   ]
  },
  {
   "cell_type": "markdown",
   "id": "187f0e7f",
   "metadata": {},
   "source": [
    "#### randint\n",
    "\n",
    "**randint(low, high=None, size=None, dtype=int)**<br>\n",
    "• Return random integers from low (inclusive) to high (exclusive).<br>\n",
    "• it is represented as [low, high) ==> [ means inclusive and ) means exclusive<br>\n",
    "• If high is None (the default), then results are from [0, low)<br>"
   ]
  },
  {
   "cell_type": "code",
   "execution_count": null,
   "id": "b01f4d51",
   "metadata": {},
   "outputs": [],
   "source": [
    "import numpy as np\n",
    "help(np.random.randint)"
   ]
  },
  {
   "cell_type": "code",
   "execution_count": 130,
   "id": "c7294e09",
   "metadata": {},
   "outputs": [
    {
     "name": "stdout",
     "output_type": "stream",
     "text": [
      "Data type of the elements : int32\n",
      "Before Conversion \n",
      "Data type of a ==> int32\n",
      "Ater calling astype() on the ndarray a \n",
      "Data type of b==> float64\n"
     ]
    }
   ],
   "source": [
    "# it will generate a single random int value in the range 10 to 19.\n",
    "np.random.randint(10,20)\n",
    "\n",
    "# To create 1-D ndarray of size 10 with random values from 1 to 8?\n",
    "np.random.randint(1,9,size=10)\n",
    "\n",
    "# To create 2D array with shape(3,5)\n",
    "np.random.randint(100,size=(3,5))\n",
    "\n",
    "# from 0 to 99 random values, 2-D array will be created. Here high is None\n",
    "np.random.randint(100,size=(3,5))\n",
    "\n",
    "# To create 3D array with shape(2,3,4)\n",
    "# 3D array contains 2 2-D arrays\n",
    "# Each 2-D array contains 3 rows and 4 columns\n",
    "# np.random.randint(100,size=(2,3,4))\n",
    "np.random.randint(100,size=(2,3,4))"
   ]
  },
  {
   "cell_type": "code",
   "execution_count": 132,
   "id": "9c872c84",
   "metadata": {},
   "outputs": [
    {
     "name": "stdout",
     "output_type": "stream",
     "text": [
      "Data type of the elements : int32 \n",
      "\n",
      "Before Conversion \n",
      "Data type of a ==> int32\n",
      "Ater calling astype() on the ndarray a \n",
      "Data type of b==> float64\n"
     ]
    }
   ],
   "source": [
    "# randint(low, high=None, size=None, dtype=int)\n",
    "# dtype must be int types\n",
    "# int types\n",
    "# int8\n",
    "# int16\n",
    "# int32 (default)\n",
    "# int64\n",
    "a = np.random.randint(1,11,size=(20,30))\n",
    "print(f\"Data type of the elements : {a.dtype}\", '\\n')\n",
    "\n",
    "# we can convert the datatype to another.\n",
    "# by default randint() will return int datatype.\n",
    "# by using \"astype()\" we can convert one datatype to another\n",
    "a = np.random.randint(1,11,size=(20,30))\n",
    "print(\"Before Conversion \")\n",
    "print(f\"Data type of a ==> {a.dtype}\")\n",
    "b = a.astype('float')\n",
    "print(\"Ater calling astype() on the ndarray a \")\n",
    "print(f\"Data type of b==> {b.dtype}\")"
   ]
  },
  {
   "cell_type": "markdown",
   "id": "250b4a42",
   "metadata": {},
   "source": [
    "#### rand()\n",
    "\n",
    "• It will generates random float values in the range [0,1) from uniform distribution samples.<br>\n",
    "• [0 ==> means 0 is incluede and 1) ==> means 1 is excluded"
   ]
  },
  {
   "cell_type": "code",
   "execution_count": null,
   "id": "d575d942",
   "metadata": {},
   "outputs": [],
   "source": [
    "import numpy as np\n",
    "help(np.random.rand)"
   ]
  },
  {
   "cell_type": "code",
   "execution_count": 136,
   "id": "4fea12c1",
   "metadata": {},
   "outputs": [
    {
     "data": {
      "text/plain": [
       "array([[[0.641, 0.845, 0.178, 0.264],\n",
       "        [0.862, 0.529, 0.864, 0.516],\n",
       "        [0.58 , 0.484, 0.846, 0.971]],\n",
       "\n",
       "       [[0.758, 0.339, 0.382, 0.147],\n",
       "        [0.06 , 0.964, 0.592, 0.017],\n",
       "        [0.563, 0.846, 0.983, 0.001]]])"
      ]
     },
     "execution_count": 136,
     "metadata": {},
     "output_type": "execute_result"
    }
   ],
   "source": [
    "# single random float value from 0 to 1\n",
    "np.random.rand()\n",
    "\n",
    "# 1-D array with float values from 0 to 1\n",
    "np.random.rand(10)\n",
    "\n",
    "# 2-D array with float values from 0 to 1\n",
    "np.random.rand(3,5)\n",
    "\n",
    "# 3-D array with float values from 0 to 1\n",
    "np.random.rand(2,3,4)"
   ]
  },
  {
   "cell_type": "markdown",
   "id": "a0f75fb5",
   "metadata": {},
   "source": [
    "#### uniform()\n",
    "\n",
    "• rand() ==> range is always [0,1)<br>\n",
    "• uniform() ==> customize range [low,high)"
   ]
  },
  {
   "cell_type": "code",
   "execution_count": null,
   "id": "2b0f6d85",
   "metadata": {},
   "outputs": [],
   "source": [
    "import numpy as np\n",
    "help(np.random.uniform)"
   ]
  },
  {
   "cell_type": "code",
   "execution_count": 144,
   "id": "294461c7",
   "metadata": {},
   "outputs": [
    {
     "data": {
      "text/plain": [
       "array([[[13.159, 19.618, 15.596, 16.473],\n",
       "        [14.142, 13.463, 10.349, 19.591],\n",
       "        [12.233, 10.61 , 11.041, 19.534]],\n",
       "\n",
       "       [[11.099, 11.461, 14.671, 10.193],\n",
       "        [18.304, 15.041, 10.602, 19.906],\n",
       "        [12.178, 11.584, 16.537, 15.835]]])"
      ]
     },
     "execution_count": 144,
     "metadata": {},
     "output_type": "execute_result"
    }
   ],
   "source": [
    "# uniform(low=0.0, high=1.0, size=None)\n",
    "np.random.uniform() # it will acts same as np.random.rand()\n",
    "\n",
    "# random float value in the given customized range\n",
    "np.random.uniform(10,20)\n",
    "\n",
    "# 1-D array with customized range of float values\n",
    "np.random.uniform(10,20,size=10)\n",
    "\n",
    "# 2-D array with customized range of float values\n",
    "np.random.uniform(10,20,size=(3,5))\n",
    "\n",
    "# 3-D array with customized range of float values\n",
    "np.random.uniform(10,20,size=(2,3,4))"
   ]
  },
  {
   "cell_type": "code",
   "execution_count": 145,
   "id": "f1d89a9b",
   "metadata": {},
   "outputs": [
    {
     "data": {
      "image/png": "[encoded data removed]",
      "text/plain": [
       "<Figure size 640x480 with 1 Axes>"
      ]
     },
     "metadata": {},
     "output_type": "display_data"
    }
   ],
   "source": [
    "# to demonstrate the Unifrom distribution in data visualization\n",
    "s = np.random.uniform(20,30,size=1000000)\n",
    "import matplotlib.pyplot as plt\n",
    "count, bins, ignored = plt.hist(s, 15, density=True)\n",
    "plt.plot(bins, np.ones_like(bins), linewidth=2, color='r')\n",
    "plt.show()"
   ]
  },
  {
   "cell_type": "markdown",
   "id": "2ccf7249",
   "metadata": {},
   "source": [
    "#### randn()\n",
    "values from normal distribution with mean 0 and varience(stadard deviation) is 1"
   ]
  },
  {
   "cell_type": "code",
   "execution_count": 148,
   "id": "2f825dd0",
   "metadata": {},
   "outputs": [
    {
     "name": "stdout",
     "output_type": "stream",
     "text": [
      "-1.0711652033999073 \n",
      "\n",
      "[ 0.717  0.088 -0.271 -0.307  0.287 -1.133  0.116  0.612  0.438  0.438]\n",
      "Mean ==> 0.09852174414794934\n",
      "Variance ==> 0.27295822277169407\n",
      "Standard deviation ==> 0.5224540389083944\n"
     ]
    }
   ],
   "source": [
    "# randn(d0, d1, ..., dn)\n",
    "# single float value including -ve value also\n",
    "a = np.random.randn()\n",
    "print(a, '\\n')\n",
    "\n",
    "# 1-D array with mean 0 and stand deviation 1\n",
    "a = np.random.randn(10)\n",
    "print(a)\n",
    "print(f\"Mean ==> {a.mean()}\")\n",
    "print(f\"Variance ==> {a.var()}\")\n",
    "print(f\"Standard deviation ==> {a.std()}\")"
   ]
  },
  {
   "cell_type": "code",
   "execution_count": 150,
   "id": "cbcd4c59",
   "metadata": {},
   "outputs": [
    {
     "data": {
      "text/plain": [
       "array([[[ 0.908,  0.114, -1.638,  0.265],\n",
       "        [ 0.072, -0.55 ,  1.537, -0.63 ],\n",
       "        [ 0.547,  0.65 , -3.174, -1.846]],\n",
       "\n",
       "       [[ 0.867,  1.044,  0.749, -1.209],\n",
       "        [ 1.35 , -0.199,  0.569,  0.38 ],\n",
       "        [-0.199,  0.528, -0.16 , -0.684]]])"
      ]
     },
     "execution_count": 150,
     "metadata": {},
     "output_type": "execute_result"
    }
   ],
   "source": [
    "# 2-D array with float values in normal distribution\n",
    "np.random.randn(2,3)\n",
    "\n",
    "# 3-D array with float values in normal distribution\n",
    "np.random.randn(2,3,4)"
   ]
  },
  {
   "cell_type": "markdown",
   "id": "42326490",
   "metadata": {},
   "source": [
    "#### normal()\n",
    "We can customize mean and variance"
   ]
  },
  {
   "cell_type": "markdown",
   "id": "0c1a13c5",
   "metadata": {},
   "source": [
    "**normal(loc=0.0, scale=1.0, size=None)**<br>\n",
    "• loc : float or array_like of floats<br>\n",
    "Mean (\"centre\") of the distribution.<br>\n",
    "• scale : float or array_like of floats<br>\n",
    "Standard deviation (spread or \"width\") of the distribution. Must be non-negative.<br>\n",
    "• size : int or tuple of ints, optional"
   ]
  },
  {
   "cell_type": "code",
   "execution_count": 154,
   "id": "732fb6a6",
   "metadata": {},
   "outputs": [
    {
     "name": "stdout",
     "output_type": "stream",
     "text": [
      " a ==> [ 9.902 11.22   8.068 12.184 12.812  7.684  9.249  8.593 12.116 16.241]\n",
      "Mean ==> 10.806879987883843\n",
      "Variance ==> 6.2729565276939665\n",
      "Standard deviation ==> 2.5045870972465636\n"
     ]
    },
    {
     "data": {
      "text/plain": [
       "array([[[ 7.085, 10.086, 13.056,  9.83 ],\n",
       "        [ 7.082, 15.557,  8.189, 12.097],\n",
       "        [18.626, 14.797, 12.859,  8.634]],\n",
       "\n",
       "       [[14.264,  8.007,  0.301,  8.522],\n",
       "        [ 6.311,  8.751, 19.52 , 11.199],\n",
       "        [15.339, 12.064, 13.015, 10.253]]])"
      ]
     },
     "execution_count": 154,
     "metadata": {},
     "output_type": "execute_result"
    }
   ],
   "source": [
    "# equivalent ot np.random.randn()\n",
    "np.random.normal()\n",
    "\n",
    "# 1-D array with float values in normal distribution\n",
    "a = np.random.normal(10,4,size=10)\n",
    "print(f\" a ==> {a}\")\n",
    "print(f\"Mean ==> {a.mean()}\")\n",
    "print(f\"Variance ==> {a.var()}\")\n",
    "print(f\"Standard deviation ==> {a.std()}\")\n",
    "\n",
    "# 2-D array with float values in normal distribution\n",
    "np.random.normal(10,4,size=(3,5))\n",
    "\n",
    "# 3-D array with float values in normal distribution\n",
    "np.random.normal(10,4,size=(2,3,4))"
   ]
  },
  {
   "cell_type": "code",
   "execution_count": 155,
   "id": "51d9e58b",
   "metadata": {},
   "outputs": [
    {
     "data": {
      "image/png": "[encoded data removed]",
      "text/plain": [
       "<Figure size 640x480 with 1 Axes>"
      ]
     },
     "metadata": {},
     "output_type": "display_data"
    }
   ],
   "source": [
    "# to demonstrate the Unifrom distribution in data visualization\n",
    "s = np.random.normal(10,4,1000000)\n",
    "import matplotlib.pyplot as plt\n",
    "count, bins, ignored = plt.hist(s, 15, density=True)\n",
    "plt.plot(bins, np.ones_like(bins), linewidth=2, color='r')\n",
    "plt.show()"
   ]
  },
  {
   "cell_type": "markdown",
   "id": "6f0f5a1c",
   "metadata": {},
   "source": [
    "#### shuffle()\n",
    "• Modify a sequence in-place by shuffling its contents.<br>\n",
    "• This function only shuffles the array along the first axis of a multi-dimensional array.(axis-0)<br>\n",
    "• The order of sub-arrays is changed but their contents remains the same."
   ]
  },
  {
   "cell_type": "code",
   "execution_count": null,
   "id": "80f69ac9",
   "metadata": {},
   "outputs": [],
   "source": [
    "import numpy as np\n",
    "help(np.random.shuffle)"
   ]
  },
  {
   "cell_type": "code",
   "execution_count": 156,
   "id": "753170d7",
   "metadata": {},
   "outputs": [
    {
     "name": "stdout",
     "output_type": "stream",
     "text": [
      "a before shuffling : [0 1 2 3 4 5 6 7 8]\n",
      "a after shuffling : [5 1 0 2 8 4 6 3 7]\n"
     ]
    }
   ],
   "source": [
    "# 1-D array\n",
    "a = np.arange(9)\n",
    "print(f'a before shuffling : {a}')\n",
    "np.random.shuffle(a) # inline shuffling happens\n",
    "print(f'a after shuffling : {a}')"
   ]
  },
  {
   "cell_type": "code",
   "execution_count": 159,
   "id": "d8b91630",
   "metadata": {},
   "outputs": [
    {
     "name": "stdout",
     "output_type": "stream",
     "text": [
      "a before shuffling ==> \n",
      " [[62  8 36 96 91]\n",
      " [93 83 44 95  5]\n",
      " [90 58 86 41 47]\n",
      " [54 18 59 76 32]\n",
      " [66 59 22 35 80]\n",
      " [43 61 70 96 88]]\n",
      "a after shuffling ==>\n",
      " [[62  8 36 96 91]\n",
      " [93 83 44 95  5]\n",
      " [43 61 70 96 88]\n",
      " [90 58 86 41 47]\n",
      " [54 18 59 76 32]\n",
      " [66 59 22 35 80]]\n"
     ]
    }
   ],
   "source": [
    "# 2-D array\n",
    "# (6,5)\n",
    "# axis-0 : number of rows(6)\n",
    "# axis-1 : number of columns(5)\n",
    "# This function only shuffles the array along the first axis of a multi-dimensional array(axis-0).\n",
    "# The order of sub-arrays is changed but their contents remains the same.\n",
    "a = np.random.randint(1,101,size=(6,5))\n",
    "print(f'a before shuffling ==> \\n {a}')\n",
    "np.random.shuffle(a) # inline shuffling happens\n",
    "print(f'a after shuffling ==>\\n {a}')"
   ]
  },
  {
   "cell_type": "markdown",
   "id": "4c87145b",
   "metadata": {},
   "source": [
    "**3-D array : (4,3,4)**<br>\n",
    "• 4 : number of 2-D arrays (axis-0) ==> Vertical<br>\n",
    "• 3 : rows in every 2-D array(axis-1) ==> Horizontal<br>\n",
    "• 4 : columns in every 2-D array(axis-1)<br>\n",
    "\n",
    "If we apply shuffle for 3-D array, then the order of 2-D arrays will be changed but not its internal content.<br>"
   ]
  },
  {
   "cell_type": "code",
   "execution_count": 160,
   "id": "a1fb9774",
   "metadata": {},
   "outputs": [
    {
     "name": "stdout",
     "output_type": "stream",
     "text": [
      "Before shuffling 3-D array \n",
      " :[[[ 0  1  2  3]\n",
      "  [ 4  5  6  7]\n",
      "  [ 8  9 10 11]]\n",
      "\n",
      " [[12 13 14 15]\n",
      "  [16 17 18 19]\n",
      "  [20 21 22 23]]\n",
      "\n",
      " [[24 25 26 27]\n",
      "  [28 29 30 31]\n",
      "  [32 33 34 35]]\n",
      "\n",
      " [[36 37 38 39]\n",
      "  [40 41 42 43]\n",
      "  [44 45 46 47]]]\n",
      "After shuffling 3-D array \n",
      " :[[[36 37 38 39]\n",
      "  [40 41 42 43]\n",
      "  [44 45 46 47]]\n",
      "\n",
      " [[ 0  1  2  3]\n",
      "  [ 4  5  6  7]\n",
      "  [ 8  9 10 11]]\n",
      "\n",
      " [[24 25 26 27]\n",
      "  [28 29 30 31]\n",
      "  [32 33 34 35]]\n",
      "\n",
      " [[12 13 14 15]\n",
      "  [16 17 18 19]\n",
      "  [20 21 22 23]]]\n"
     ]
    }
   ],
   "source": [
    "a = np.arange(48).reshape(4,3,4)\n",
    "print(f'Before shuffling 3-D array \\n :{a}')\n",
    "np.random.shuffle(a)\n",
    "print(f'After shuffling 3-D array \\n :{a}')"
   ]
  },
  {
   "cell_type": "markdown",
   "id": "4112c406",
   "metadata": {},
   "source": [
    "# Chapter-3 - Array Attributes and Numpy Data Types"
   ]
  },
  {
   "cell_type": "markdown",
   "id": "f834d797",
   "metadata": {},
   "source": [
    "## Array Attributes\n",
    "• ndim ==> returns the dimension of the array<br>\n",
    "• shape ==> returns the shape of the array. Always return in tuple form. (10,) : 1-D (10,3): 2-D<br>\n",
    "• size ==> To get total number of elements in the array<br>\n",
    "• dtype ==> To get data type of elements of the array<br>\n",
    "• itemsize ==> Length of each element of array in bytes<br>"
   ]
  },
  {
   "cell_type": "code",
   "execution_count": 162,
   "id": "03703271",
   "metadata": {},
   "outputs": [
    {
     "name": "stdout",
     "output_type": "stream",
     "text": [
      "10\n",
      "Dimension of the array a ==> 0\n",
      "Shape of the array a ==> ()\n",
      "Size of the array a ==> 1\n",
      "Data type of the elements in the array a ==> int32\n",
      "Itemsize oof the array a ==> 4\n"
     ]
    }
   ],
   "source": [
    "# 0-D array\n",
    "import numpy as np\n",
    "a = np.array(10)\n",
    "print(a)\n",
    "print(f'Dimension of the array a ==> {a.ndim}')\n",
    "print(f'Shape of the array a ==> {a.shape}')\n",
    "print(f'Size of the array a ==> {a.size}')\n",
    "print(f'Data type of the elements in the array a ==> {a.dtype}')\n",
    "print(f'Itemsize oof the array a ==> {a.itemsize}')"
   ]
  },
  {
   "cell_type": "code",
   "execution_count": 163,
   "id": "785a9258",
   "metadata": {},
   "outputs": [
    {
     "name": "stdout",
     "output_type": "stream",
     "text": [
      "Dimension of the array a ==> 2\n",
      "Shape of the array a ==> (3, 3)\n",
      "Size of the array a ==> 9\n",
      "Data type of the elements in the array a ==> int32\n",
      "Itemsize oof the array a ==> 4\n"
     ]
    }
   ],
   "source": [
    "# 2-D array with int32(default)\n",
    "a = np.array([[10,20,30],[40,50,60],[70,80,90]])\n",
    "print(f'Dimension of the array a ==> {a.ndim}')\n",
    "print(f'Shape of the array a ==> {a.shape}')\n",
    "print(f'Size of the array a ==> {a.size}')\n",
    "print(f'Data type of the elements in the array a ==> {a.dtype}')\n",
    "print(f'Itemsize oof the array a ==> {a.itemsize}')"
   ]
  },
  {
   "cell_type": "code",
   "execution_count": 164,
   "id": "7430472a",
   "metadata": {},
   "outputs": [
    {
     "name": "stdout",
     "output_type": "stream",
     "text": [
      "Dimension of the array a ==> 2\n",
      "Shape of the array a ==> (3, 3)\n",
      "Size of the array a ==> 9\n",
      "Data type of the elements in the array a ==> float64\n",
      "Itemsize oof the array a ==> 8\n"
     ]
    }
   ],
   "source": [
    "# 2-D array with float64\n",
    "a = np.array([[10,20,30],[40,50,60],[70,80,90]],dtype='float')\n",
    "print(f'Dimension of the array a ==> {a.ndim}')\n",
    "print(f'Shape of the array a ==> {a.shape}')\n",
    "print(f'Size of the array a ==> {a.size}')\n",
    "print(f'Data type of the elements in the array a ==> {a.dtype}')\n",
    "print(f'Itemsize oof the array a ==> {a.itemsize}')"
   ]
  },
  {
   "cell_type": "markdown",
   "id": "ebcf63ba",
   "metadata": {},
   "source": [
    "## Numpy Data Type\n",
    "\n",
    "• Python data types : int, float, complex, bool and str<br>\n",
    "• Numpy data types : Multiple data types present (Python + C)"
   ]
  },
  {
   "cell_type": "markdown",
   "id": "bd9cd867",
   "metadata": {},
   "source": [
    "• i ==> integer(int8,int16,int32,int64)<br>\n",
    "• b ==> boolean<br>\n",
    "• u ==> unsigned integer(uint8,uint16,uint32,uint64)<br>\n",
    "• f ==> float(float16,float32,float64)<br>\n",
    "• c ==> complex(complex64,complex128)<br>\n",
    "• s ==> String<br>\n",
    "• U ==> Unicode String<br>\n",
    "• M ==> datetime etc<br>\n",
    "• int8 ==> i1 ; int16 ==> i2; int32 ==> i4(default)<br>\n",
    "• float16 ==> f2 ; float32 ==> f4(default) ; float64 ==> f8"
   ]
  },
  {
   "cell_type": "markdown",
   "id": "3a01c7db",
   "metadata": {},
   "source": [
    "### int8(i1)\n",
    "• The value will be represented by 8 bits.<br>\n",
    "• MSB is reserved for sign.<br>\n",
    "• The range: -128 to 127<br>"
   ]
  },
  {
   "cell_type": "code",
   "execution_count": 170,
   "id": "d45a24b4",
   "metadata": {},
   "outputs": [
    {
     "data": {
      "image/jpeg": "[encoded data removed]",
      "text/plain": [
       "<IPython.core.display.Image object>"
      ]
     },
     "execution_count": 170,
     "metadata": {},
     "output_type": "execute_result"
    }
   ],
   "source": [
    "Image(filename=r'C:/Users/saurabhkumar9/numpy_image/int_data_type.JPG')"
   ]
  },
  {
   "cell_type": "markdown",
   "id": "5effff8c",
   "metadata": {},
   "source": [
    "### int16(i2)\n",
    "• The value will be represented by 16 bits.<br>\n",
    "• MSB is reserved for sign.<br>\n",
    "• The range: -32768 to 32767"
   ]
  },
  {
   "cell_type": "markdown",
   "id": "6c9c3e79",
   "metadata": {},
   "source": [
    "### int32 (default) (i4)\n",
    "• The value will be represented by 32 bits.<br>\n",
    "• MSB is reserved for sign.<br>\n",
    "• The range: -2147483648 to 2147483647"
   ]
  },
  {
   "cell_type": "markdown",
   "id": "dd3ca28a",
   "metadata": {},
   "source": [
    "### int64\n",
    "• The value will be represented by 64 bits.<br>\n",
    "• MSB is reserved for sign.<br>\n",
    "• The range: -9223372036854775808 to 9223372036854775807"
   ]
  },
  {
   "cell_type": "code",
   "execution_count": 171,
   "id": "b04ddd96",
   "metadata": {},
   "outputs": [
    {
     "name": "stdout",
     "output_type": "stream",
     "text": [
      "Size of int32 : 128\n",
      "Size of int8 : 116\n"
     ]
    }
   ],
   "source": [
    "# For efficient usage of memory we will consider the datatypes\n",
    "import sys\n",
    "a = np.array([10,20,30,40]) # default datatype : int32\n",
    "print(f\"Size of int32 : {sys.getsizeof(a)}\")\n",
    "a = np.array([10,20,30,40],dtype='int8')\n",
    "print(f\"Size of int8 : {sys.getsizeof(a)}\")"
   ]
  },
  {
   "cell_type": "markdown",
   "id": "4eac2e0c",
   "metadata": {},
   "source": [
    "Changing the data type of an existing array ==> astype()<br>\n",
    "we can change the data type of an existing array in two ways<br>\n",
    "• by using astype()<br>\n",
    "• by using built-in function of numpy like float64()"
   ]
  },
  {
   "cell_type": "code",
   "execution_count": 173,
   "id": "ef95b868",
   "metadata": {},
   "outputs": [
    {
     "name": "stdout",
     "output_type": "stream",
     "text": [
      "datatype of elements of array a : int32\n",
      "datatype of elements of array b : float64\n",
      "[10 20 30 40]\n",
      "[10. 20. 30. 40.]\n",
      "\n",
      "\n",
      "datatype of elements of array a : int32\n",
      "datatype of elements of array b : float64\n",
      "[10 20 30 40]\n",
      "[10. 20. 30. 40.]\n"
     ]
    }
   ],
   "source": [
    "# by using 'astype()'\n",
    "a = np.array([10,20,30,40])\n",
    "b = a.astype('float64')\n",
    "print(f\"datatype of elements of array a : {a.dtype}\")\n",
    "print(f\"datatype of elements of array b : {b.dtype}\")\n",
    "print(a)\n",
    "print(b)\n",
    "print('\\n')\n",
    "\n",
    "# by using built-in function of numpy like float64()\n",
    "a = np.array([10,20,30,40])\n",
    "b = np.float64(a)\n",
    "print(f\"datatype of elements of array a : {a.dtype}\")\n",
    "print(f\"datatype of elements of array b : {b.dtype}\")\n",
    "print(a)\n",
    "print(b)"
   ]
  },
  {
   "cell_type": "code",
   "execution_count": 174,
   "id": "3beb91a7",
   "metadata": {},
   "outputs": [
    {
     "name": "stderr",
     "output_type": "stream",
     "text": [
      "C:\\Users\\saurabhkumar9\\AppData\\Local\\Temp\\ipykernel_23864\\565466687.py:3: FutureWarning: In the future `np.bool` will be defined as the corresponding NumPy scalar.\n",
      "  x = np.bool(a)\n"
     ]
    },
    {
     "ename": "AttributeError",
     "evalue": "module 'numpy' has no attribute 'bool'.\n`np.bool` was a deprecated alias for the builtin `bool`. To avoid this error in existing code, use `bool` by itself. Doing this will not modify any behavior and is safe. If you specifically wanted the numpy scalar type, use `np.bool_` here.\nThe aliases was originally deprecated in NumPy 1.20; for more details and guidance see the original release note at:\n    https://numpy.org/devdocs/release/1.20.0-notes.html#deprecations",
     "output_type": "error",
     "traceback": [
      "\u001b[1;31m---------------------------------------------------------------------------\u001b[0m",
      "\u001b[1;31mAttributeError\u001b[0m                            Traceback (most recent call last)",
      "\u001b[1;32m~\\AppData\\Local\\Temp\\ipykernel_23864\\565466687.py\u001b[0m in \u001b[0;36m<module>\u001b[1;34m\u001b[0m\n\u001b[0;32m      1\u001b[0m \u001b[1;31m# converting to bool type\u001b[0m\u001b[1;33m\u001b[0m\u001b[1;33m\u001b[0m\u001b[0m\n\u001b[0;32m      2\u001b[0m \u001b[0ma\u001b[0m \u001b[1;33m=\u001b[0m \u001b[0mnp\u001b[0m\u001b[1;33m.\u001b[0m\u001b[0marray\u001b[0m\u001b[1;33m(\u001b[0m\u001b[1;33m[\u001b[0m\u001b[1;36m10\u001b[0m\u001b[1;33m,\u001b[0m\u001b[1;36m0\u001b[0m\u001b[1;33m,\u001b[0m\u001b[1;36m20\u001b[0m\u001b[1;33m,\u001b[0m\u001b[1;36m0\u001b[0m\u001b[1;33m,\u001b[0m\u001b[1;36m30\u001b[0m\u001b[1;33m]\u001b[0m\u001b[1;33m)\u001b[0m\u001b[1;33m\u001b[0m\u001b[1;33m\u001b[0m\u001b[0m\n\u001b[1;32m----> 3\u001b[1;33m \u001b[0mx\u001b[0m \u001b[1;33m=\u001b[0m \u001b[0mnp\u001b[0m\u001b[1;33m.\u001b[0m\u001b[0mbool\u001b[0m\u001b[1;33m(\u001b[0m\u001b[0ma\u001b[0m\u001b[1;33m)\u001b[0m\u001b[1;33m\u001b[0m\u001b[1;33m\u001b[0m\u001b[0m\n\u001b[0m",
      "\u001b[1;32m~\\Anaconda3\\lib\\site-packages\\numpy\\__init__.py\u001b[0m in \u001b[0;36m__getattr__\u001b[1;34m(attr)\u001b[0m\n\u001b[0;32m    303\u001b[0m \u001b[1;33m\u001b[0m\u001b[0m\n\u001b[0;32m    304\u001b[0m         \u001b[1;32mif\u001b[0m \u001b[0mattr\u001b[0m \u001b[1;32min\u001b[0m \u001b[0m__former_attrs__\u001b[0m\u001b[1;33m:\u001b[0m\u001b[1;33m\u001b[0m\u001b[1;33m\u001b[0m\u001b[0m\n\u001b[1;32m--> 305\u001b[1;33m             \u001b[1;32mraise\u001b[0m \u001b[0mAttributeError\u001b[0m\u001b[1;33m(\u001b[0m\u001b[0m__former_attrs__\u001b[0m\u001b[1;33m[\u001b[0m\u001b[0mattr\u001b[0m\u001b[1;33m]\u001b[0m\u001b[1;33m)\u001b[0m\u001b[1;33m\u001b[0m\u001b[1;33m\u001b[0m\u001b[0m\n\u001b[0m\u001b[0;32m    306\u001b[0m \u001b[1;33m\u001b[0m\u001b[0m\n\u001b[0;32m    307\u001b[0m         \u001b[1;31m# Importing Tester requires importing all of UnitTest which is not a\u001b[0m\u001b[1;33m\u001b[0m\u001b[1;33m\u001b[0m\u001b[0m\n",
      "\u001b[1;31mAttributeError\u001b[0m: module 'numpy' has no attribute 'bool'.\n`np.bool` was a deprecated alias for the builtin `bool`. To avoid this error in existing code, use `bool` by itself. Doing this will not modify any behavior and is safe. If you specifically wanted the numpy scalar type, use `np.bool_` here.\nThe aliases was originally deprecated in NumPy 1.20; for more details and guidance see the original release note at:\n    https://numpy.org/devdocs/release/1.20.0-notes.html#deprecations"
     ]
    }
   ],
   "source": [
    "# converting to bool type\n",
    "a = np.array([10,0,20,0,30])\n",
    "x = np.bool(a)"
   ]
  },
  {
   "cell_type": "code",
   "execution_count": 175,
   "id": "5a6cd124",
   "metadata": {},
   "outputs": [
    {
     "data": {
      "text/plain": [
       "array([ True, False,  True, False,  True])"
      ]
     },
     "execution_count": 175,
     "metadata": {},
     "output_type": "execute_result"
    }
   ],
   "source": [
    "x = np.bool_(a)\n",
    "x"
   ]
  },
  {
   "cell_type": "markdown",
   "id": "cfe6175e",
   "metadata": {},
   "source": [
    "# Chapter-3 - View vs Copy"
   ]
  },
  {
   "cell_type": "markdown",
   "id": "d5335951",
   "metadata": {},
   "source": [
    "## View\n",
    "\n",
    "• View is not separate object and just it is *logical representation of existing array*<br>\n",
    "• If we perform any changes to the original array, those changes will be reflected to the view. vice-versa also.<br>\n",
    "• We can create view explicitly by using view() method of ndarray class."
   ]
  },
  {
   "cell_type": "code",
   "execution_count": 176,
   "id": "50b27cb8",
   "metadata": {},
   "outputs": [
    {
     "name": "stdout",
     "output_type": "stream",
     "text": [
      "Original Array(a) ==> [10 20 30 40]\n",
      "View of the Array(b) ==> [10 20 30 40]\n",
      "********************************************************************************\n",
      "Changing the values of a, it will reflect to view(b) also :\n",
      "Changed Array(a) ==> [7777   20   30   40]\n",
      "View of the Array(b) ==> [7777   20   30   40]\n",
      "********************************************************************************\n",
      "Changing the values of view(b), it will reflect to a also :\n",
      "Changed view Array(b) ==> [7777   20   30  999]\n",
      "Original Array(a) ==> [7777   20   30  999]\n"
     ]
    }
   ],
   "source": [
    "import numpy as np\n",
    "a = np.array([10,20,30,40])\n",
    "b = a.view()\n",
    "print(f\"Original Array(a) ==> {a}\")\n",
    "print(f\"View of the Array(b) ==> {b}\")\n",
    "print(\"*\"*80)\n",
    "print(\"Changing the values of a, it will reflect to view(b) also :\")\n",
    "a[0]=7777\n",
    "print(f\"Changed Array(a) ==> {a}\")\n",
    "print(f\"View of the Array(b) ==> {b}\")\n",
    "print(\"*\"*80)\n",
    "print(\"Changing the values of view(b), it will reflect to a also :\")\n",
    "b[-1]=999\n",
    "print(f\"Changed view Array(b) ==> {b}\")\n",
    "print(f\"Original Array(a) ==> {a}\")"
   ]
  },
  {
   "cell_type": "markdown",
   "id": "84b98e83",
   "metadata": {},
   "source": [
    "## copy\n",
    "• Copy means separate object.<br>\n",
    "• If we perform any changes to the original array, those changes won't be reflected to the Copy. Vice-versa also.<br>\n",
    "• By using copy() method of ndarray class, we can create copy of existing ndarray."
   ]
  }
 ],
 "metadata": {
  "hide_input": false,
  "kernelspec": {
   "display_name": "Python 3 (ipykernel)",
   "language": "python",
   "name": "python3"
  },
  "language_info": {
   "codemirror_mode": {
    "name": "ipython",
    "version": 3
   },
   "file_extension": ".py",
   "mimetype": "text/x-python",
   "name": "python",
   "nbconvert_exporter": "python",
   "pygments_lexer": "ipython3",
   "version": "3.9.13"
  },
  "toc": {
   "base_numbering": 1,
   "nav_menu": {},
   "number_sections": true,
   "sideBar": true,
   "skip_h1_title": false,
   "title_cell": "Table of Contents",
   "title_sidebar": "Contents",
   "toc_cell": false,
   "toc_position": {},
   "toc_section_display": true,
   "toc_window_display": true
  }
 },
 "nbformat": 4,
 "nbformat_minor": 5
}
