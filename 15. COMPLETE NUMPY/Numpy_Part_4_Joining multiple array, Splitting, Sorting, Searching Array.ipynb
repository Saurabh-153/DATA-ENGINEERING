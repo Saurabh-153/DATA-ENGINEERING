{
 "cells": [
  {
   "cell_type": "markdown",
   "id": "c4ecb880",
   "metadata": {},
   "source": [
    "# Chapter-10 - Joining of multiple arrays into a single array"
   ]
  },
  {
   "cell_type": "code",
   "execution_count": 3,
   "id": "48184d62",
   "metadata": {},
   "outputs": [],
   "source": [
    "from IPython.display import Image"
   ]
  },
  {
   "cell_type": "markdown",
   "id": "072f36b8",
   "metadata": {},
   "source": [
    "**Joining of multiple arrays into a single array**\n",
    "\n",
    "It is similar to Join queries in Oracle.<br>\n",
    "\n",
    "We can join/concatenate multiple ndarrays into a single array by using the following functions.<br>\n",
    "\n",
    "• 1. concatenate()<br>\n",
    "• 2. stack()<br>\n",
    "• 3. vstack()<br>\n",
    "• 4. hstack()<br>\n",
    "• 5. dstack()<br>"
   ]
  },
  {
   "cell_type": "markdown",
   "id": "b0ec56b8",
   "metadata": {},
   "source": [
    "## concatenate()"
   ]
  },
  {
   "cell_type": "code",
   "execution_count": null,
   "id": "568886b3",
   "metadata": {},
   "outputs": [],
   "source": [
    "import numpy as np\n",
    "help(np.concatenate)"
   ]
  },
  {
   "cell_type": "markdown",
   "id": "7f5c121b",
   "metadata": {},
   "source": [
    "**Syntax:** concatenate(...)<br>\n",
    "\n",
    "• concatenate((a1, a2, ...), axis=0, out=None, dtype=None, casting=\"same_kind\")<br>\n",
    "• Join a sequence of arrays along an existing axis.<br>\n",
    "\n",
    "**(a1, a2,..) ==> input arrays along an existing axis**<br>\n",
    "**axis ==> based on which axis we have to perform concatination**<br>\n",
    "&emsp; • axis=0(default) :: vertical concatination will happens<br>\n",
    "&emsp; • axis=1 :: Horizontal concatination will happens<br>\n",
    "&emsp; • axis=None :: First the arrays will be flatten(converted to 1-D array) and then concatination will be performed on the resultant arrays<br>\n",
    "**out ==> destination array, where we have to store concatenation result.**<br>"
   ]
  },
  {
   "cell_type": "markdown",
   "id": "3263a7e8",
   "metadata": {},
   "source": [
    "### Use of axis parameter"
   ]
  },
  {
   "cell_type": "markdown",
   "id": "f6cc57fa",
   "metadata": {},
   "source": [
    "<img src=\"concatinate.JPG\" alt=\"concatinate\" width=\"700\" height=\"700\">"
   ]
  },
  {
   "cell_type": "code",
   "execution_count": 1,
   "id": "73fcfd96",
   "metadata": {},
   "outputs": [
    {
     "data": {
      "text/plain": [
       "array([0, 1, 2, 3, 0, 1, 2, 3, 4, 0, 1, 2])"
      ]
     },
     "execution_count": 1,
     "metadata": {},
     "output_type": "execute_result"
    }
   ],
   "source": [
    "# 1-D array\n",
    "import numpy as np\n",
    "a = np.arange(4)\n",
    "b = np.arange(5)\n",
    "c = np.arange(3)\n",
    "np.concatenate((a,b,c))"
   ]
  },
  {
   "cell_type": "code",
   "execution_count": 6,
   "id": "23862dfb",
   "metadata": {},
   "outputs": [
    {
     "name": "stdout",
     "output_type": "stream",
     "text": [
      "array a ==> \n",
      " [[1 2]\n",
      " [3 4]]\n",
      "array b ==> \n",
      " [[5 6]\n",
      " [7 8]]\n",
      "Without specifying axis parameter ==> \n",
      " [[1 2]\n",
      " [3 4]\n",
      " [5 6]\n",
      " [7 8]]\n",
      "Specifying axis=0 a ==> \n",
      " [[1 2]\n",
      " [3 4]\n",
      " [5 6]\n",
      " [7 8]]\n",
      "Specifying axis=1 ==> \n",
      " [[1 2 5 6]\n",
      " [3 4 7 8]]\n",
      "Specifying axis=None ==> \n",
      " [1 2 3 4 5 6 7 8]\n"
     ]
    }
   ],
   "source": [
    "# 2-D array\n",
    "import numpy as np\n",
    "a = np.array([[1,2],[3,4]])\n",
    "b = np.array([[5,6],[7,8]])\n",
    "\n",
    "# concatination by providing axis paraameter\n",
    "# Vertical Concatenation\n",
    "vcon = np.concatenate((a,b))\n",
    "vcon1 = np.concatenate((a,b),axis=0)\n",
    "\n",
    "# Horizontal Concateation\n",
    "hcon = np.concatenate((a,b),axis=1)\n",
    "\n",
    "# flatten and then concatenation\n",
    "flatt = np.concatenate((a,b),axis=None)\n",
    "print(f\"array a ==> \\n {a}\")\n",
    "print(f\"array b ==> \\n {b}\")\n",
    "print(f\"Without specifying axis parameter ==> \\n {vcon}\")\n",
    "print(f\"Specifying axis=0 a ==> \\n {vcon1}\")\n",
    "print(f\"Specifying axis=1 ==> \\n {hcon}\")\n",
    "print(f\"Specifying axis=None ==> \\n {flatt}\")"
   ]
  },
  {
   "cell_type": "markdown",
   "id": "c17a01f8",
   "metadata": {},
   "source": [
    "**Rules**:<br>\n",
    "\n",
    "• We can join any number of arrays, but all arrays should be of same dimension.<br>\n",
    "• The sizes of all axes, except concatenation axis should be same.<br>\n",
    "• The shapes of resultant array and out array must be same.<br>"
   ]
  },
  {
   "cell_type": "markdown",
   "id": "1cc07ac0",
   "metadata": {},
   "source": [
    "<img src=\"concatinate_1.JPG\" alt=\"concatinate_1\" width=\"700\" height=\"700\">"
   ]
  },
  {
   "cell_type": "code",
   "execution_count": 9,
   "id": "58de1798",
   "metadata": {},
   "outputs": [
    {
     "name": "stdout",
     "output_type": "stream",
     "text": [
      "array a ==> \n",
      " [[0 1 2]\n",
      " [3 4 5]]\n",
      "array b ==> \n",
      " [[ 0  1  2]\n",
      " [ 3  4  5]\n",
      " [ 6  7  8]\n",
      " [ 9 10 11]\n",
      " [12 13 14]]\n",
      "Vertical Concatenation array ==> \n",
      "[[ 0  1  2]\n",
      " [ 3  4  5]\n",
      " [ 0  1  2]\n",
      " [ 3  4  5]\n",
      " [ 6  7  8]\n",
      " [ 9 10 11]\n",
      " [12 13 14]]\n"
     ]
    },
    {
     "ename": "ValueError",
     "evalue": "all the input array dimensions except for the concatenation axis must match exactly, but along dimension 0, the array at index 0 has size 2 and the array at index 1 has size 5",
     "output_type": "error",
     "traceback": [
      "\u001b[1;31m---------------------------------------------------------------------------\u001b[0m",
      "\u001b[1;31mValueError\u001b[0m                                Traceback (most recent call last)",
      "\u001b[1;32m~\\AppData\\Local\\Temp\\ipykernel_17740\\1664471191.py\u001b[0m in \u001b[0;36m<module>\u001b[1;34m\u001b[0m\n\u001b[0;32m     11\u001b[0m \u001b[1;33m\u001b[0m\u001b[0m\n\u001b[0;32m     12\u001b[0m \u001b[1;31m# axis=1 ==> Horizontal Concatenation\u001b[0m\u001b[1;33m\u001b[0m\u001b[1;33m\u001b[0m\u001b[0m\n\u001b[1;32m---> 13\u001b[1;33m \u001b[0mhcon\u001b[0m \u001b[1;33m=\u001b[0m \u001b[0mnp\u001b[0m\u001b[1;33m.\u001b[0m\u001b[0mconcatenate\u001b[0m\u001b[1;33m(\u001b[0m\u001b[1;33m(\u001b[0m\u001b[0ma\u001b[0m\u001b[1;33m,\u001b[0m\u001b[0mb\u001b[0m\u001b[1;33m)\u001b[0m\u001b[1;33m,\u001b[0m\u001b[0maxis\u001b[0m\u001b[1;33m=\u001b[0m\u001b[1;36m1\u001b[0m\u001b[1;33m)\u001b[0m\u001b[1;33m\u001b[0m\u001b[1;33m\u001b[0m\u001b[0m\n\u001b[0m\u001b[0;32m     14\u001b[0m \u001b[0mprint\u001b[0m\u001b[1;33m(\u001b[0m\u001b[1;34mf\"Horizontal Concatenation array ==> \\n{hcon}\"\u001b[0m\u001b[1;33m)\u001b[0m\u001b[1;33m\u001b[0m\u001b[1;33m\u001b[0m\u001b[0m\n",
      "\u001b[1;32m~\\Anaconda3\\lib\\site-packages\\numpy\\core\\overrides.py\u001b[0m in \u001b[0;36mconcatenate\u001b[1;34m(*args, **kwargs)\u001b[0m\n",
      "\u001b[1;31mValueError\u001b[0m: all the input array dimensions except for the concatenation axis must match exactly, but along dimension 0, the array at index 0 has size 2 and the array at index 1 has size 5"
     ]
    }
   ],
   "source": [
    "# Rule-2 demonstration\n",
    "import numpy as np\n",
    "a = np.arange(6).reshape(2,3)\n",
    "b = np.arange(15).reshape(5,3)\n",
    "print(f\"array a ==> \\n {a}\")\n",
    "print(f\"array b ==> \\n {b}\")\n",
    "\n",
    "# axis=0 ==> Vertical concatenation\n",
    "vcon = np.concatenate((a,b),axis=0)\n",
    "print(f\"Vertical Concatenation array ==> \\n{vcon}\")\n",
    "\n",
    "# axis=1 ==> Horizontal Concatenation\n",
    "hcon = np.concatenate((a,b),axis=1)\n",
    "print(f\"Horizontal Concatenation array ==> \\n{hcon}\")"
   ]
  },
  {
   "cell_type": "markdown",
   "id": "73387f0d",
   "metadata": {},
   "source": [
    "### Storing the result using 'out' parameter\n",
    "\n",
    "• concatenate(...)<br>\n",
    "• concatenate((a1, a2, ...), axis=0, out=None, dtype=None, casting=\"same_kind\")<br>\n",
    "• Join a sequence of arrays along an existing axis.<br>\n",
    "• we can store result in an array after concatenation using 'out' parameter, but the result and out must be in same shape<br>"
   ]
  },
  {
   "cell_type": "code",
   "execution_count": 12,
   "id": "ebaecc75",
   "metadata": {},
   "outputs": [
    {
     "data": {
      "text/plain": [
       "array([0., 1., 2., 3., 0., 1., 2., 3., 4.])"
      ]
     },
     "execution_count": 12,
     "metadata": {},
     "output_type": "execute_result"
    }
   ],
   "source": [
    "# example for out parameter\n",
    "import numpy as np\n",
    "a = np.arange(4)\n",
    "b = np.arange(5)\n",
    "c = np.empty(9) # default dtype for empty is float\n",
    "np.concatenate((a,b),out=c)\n",
    "c"
   ]
  },
  {
   "cell_type": "code",
   "execution_count": 13,
   "id": "a15b4d63",
   "metadata": {},
   "outputs": [
    {
     "ename": "ValueError",
     "evalue": "Output array is the wrong shape",
     "output_type": "error",
     "traceback": [
      "\u001b[1;31m---------------------------------------------------------------------------\u001b[0m",
      "\u001b[1;31mValueError\u001b[0m                                Traceback (most recent call last)",
      "\u001b[1;32m~\\AppData\\Local\\Temp\\ipykernel_17740\\4049802304.py\u001b[0m in \u001b[0;36m<module>\u001b[1;34m\u001b[0m\n\u001b[0;32m      4\u001b[0m \u001b[0mb\u001b[0m \u001b[1;33m=\u001b[0m \u001b[0mnp\u001b[0m\u001b[1;33m.\u001b[0m\u001b[0marange\u001b[0m\u001b[1;33m(\u001b[0m\u001b[1;36m5\u001b[0m\u001b[1;33m)\u001b[0m\u001b[1;33m\u001b[0m\u001b[1;33m\u001b[0m\u001b[0m\n\u001b[0;32m      5\u001b[0m \u001b[0mc\u001b[0m \u001b[1;33m=\u001b[0m \u001b[0mnp\u001b[0m\u001b[1;33m.\u001b[0m\u001b[0mempty\u001b[0m\u001b[1;33m(\u001b[0m\u001b[1;36m10\u001b[0m\u001b[1;33m)\u001b[0m \u001b[1;31m# default dtype is float\u001b[0m\u001b[1;33m\u001b[0m\u001b[1;33m\u001b[0m\u001b[0m\n\u001b[1;32m----> 6\u001b[1;33m \u001b[0mnp\u001b[0m\u001b[1;33m.\u001b[0m\u001b[0mconcatenate\u001b[0m\u001b[1;33m(\u001b[0m\u001b[1;33m(\u001b[0m\u001b[0ma\u001b[0m\u001b[1;33m,\u001b[0m\u001b[0mb\u001b[0m\u001b[1;33m)\u001b[0m\u001b[1;33m,\u001b[0m\u001b[0mout\u001b[0m\u001b[1;33m=\u001b[0m\u001b[0mc\u001b[0m\u001b[1;33m)\u001b[0m\u001b[1;33m\u001b[0m\u001b[1;33m\u001b[0m\u001b[0m\n\u001b[0m",
      "\u001b[1;32m~\\Anaconda3\\lib\\site-packages\\numpy\\core\\overrides.py\u001b[0m in \u001b[0;36mconcatenate\u001b[1;34m(*args, **kwargs)\u001b[0m\n",
      "\u001b[1;31mValueError\u001b[0m: Output array is the wrong shape"
     ]
    }
   ],
   "source": [
    "# if the shape of result and out differs then we will get error : ValueError\n",
    "import numpy as np\n",
    "a = np.arange(4)\n",
    "b = np.arange(5)\n",
    "c = np.empty(10) # default dtype is float\n",
    "np.concatenate((a,b),out=c)"
   ]
  },
  {
   "cell_type": "markdown",
   "id": "985a6440",
   "metadata": {},
   "source": [
    "### using 'dtype' parameter\n",
    "• we can specifyt the required data type using dtype parameter"
   ]
  },
  {
   "cell_type": "markdown",
   "id": "d2c30b1a",
   "metadata": {},
   "source": [
    "**Note:**<br>\n",
    "• We can use either out or dtype .<br>\n",
    "• We cannot use both out and dtype simultaneously because out has its own data type"
   ]
  },
  {
   "cell_type": "code",
   "execution_count": 14,
   "id": "0a92e6c0",
   "metadata": {},
   "outputs": [
    {
     "data": {
      "text/plain": [
       "array(['0', '1', '2', '3', '0', '1', '2', '3', '4'], dtype='<U11')"
      ]
     },
     "execution_count": 14,
     "metadata": {},
     "output_type": "execute_result"
    }
   ],
   "source": [
    "# Demo for dtype parameter\n",
    "import numpy as np\n",
    "a = np.arange(4)\n",
    "b = np.arange(5)\n",
    "np.concatenate((a,b),dtype=str)"
   ]
  },
  {
   "cell_type": "code",
   "execution_count": 15,
   "id": "3cee50ad",
   "metadata": {},
   "outputs": [
    {
     "ename": "TypeError",
     "evalue": "concatenate() only takes `out` or `dtype` as an argument, but both were provided.",
     "output_type": "error",
     "traceback": [
      "\u001b[1;31m---------------------------------------------------------------------------\u001b[0m",
      "\u001b[1;31mTypeError\u001b[0m                                 Traceback (most recent call last)",
      "\u001b[1;32m~\\AppData\\Local\\Temp\\ipykernel_17740\\312802065.py\u001b[0m in \u001b[0;36m<module>\u001b[1;34m\u001b[0m\n\u001b[0;32m      5\u001b[0m \u001b[0mb\u001b[0m \u001b[1;33m=\u001b[0m \u001b[0mnp\u001b[0m\u001b[1;33m.\u001b[0m\u001b[0marange\u001b[0m\u001b[1;33m(\u001b[0m\u001b[1;36m5\u001b[0m\u001b[1;33m)\u001b[0m\u001b[1;33m\u001b[0m\u001b[1;33m\u001b[0m\u001b[0m\n\u001b[0;32m      6\u001b[0m \u001b[0mc\u001b[0m \u001b[1;33m=\u001b[0m \u001b[0mnp\u001b[0m\u001b[1;33m.\u001b[0m\u001b[0mempty\u001b[0m\u001b[1;33m(\u001b[0m\u001b[1;36m9\u001b[0m\u001b[1;33m,\u001b[0m\u001b[0mdtype\u001b[0m\u001b[1;33m=\u001b[0m\u001b[0mstr\u001b[0m\u001b[1;33m)\u001b[0m\u001b[1;33m\u001b[0m\u001b[1;33m\u001b[0m\u001b[0m\n\u001b[1;32m----> 7\u001b[1;33m \u001b[0mnp\u001b[0m\u001b[1;33m.\u001b[0m\u001b[0mconcatenate\u001b[0m\u001b[1;33m(\u001b[0m\u001b[1;33m(\u001b[0m\u001b[0ma\u001b[0m\u001b[1;33m,\u001b[0m\u001b[0mb\u001b[0m\u001b[1;33m)\u001b[0m\u001b[1;33m,\u001b[0m\u001b[0mout\u001b[0m\u001b[1;33m=\u001b[0m\u001b[0mc\u001b[0m\u001b[1;33m,\u001b[0m\u001b[0mdtype\u001b[0m\u001b[1;33m=\u001b[0m\u001b[0mstr\u001b[0m\u001b[1;33m)\u001b[0m\u001b[1;33m\u001b[0m\u001b[1;33m\u001b[0m\u001b[0m\n\u001b[0m",
      "\u001b[1;32m~\\Anaconda3\\lib\\site-packages\\numpy\\core\\overrides.py\u001b[0m in \u001b[0;36mconcatenate\u001b[1;34m(*args, **kwargs)\u001b[0m\n",
      "\u001b[1;31mTypeError\u001b[0m: concatenate() only takes `out` or `dtype` as an argument, but both were provided."
     ]
    }
   ],
   "source": [
    "# Demo for both out dtype parameter\n",
    "\n",
    "import numpy as np\n",
    "a = np.arange(4)\n",
    "b = np.arange(5)\n",
    "c = np.empty(9,dtype=str)\n",
    "np.concatenate((a,b),out=c,dtype=str)"
   ]
  },
  {
   "cell_type": "markdown",
   "id": "df6f102d",
   "metadata": {},
   "source": [
    "### Concatenation of 1-D arrays\n",
    "\n",
    "• we can concatenate any number of 1-D arrays at a time<br>\n",
    "• For 1-D arrays there exists only one axis i.e., axis-0"
   ]
  },
  {
   "cell_type": "code",
   "execution_count": 16,
   "id": "f1ca6e4d",
   "metadata": {},
   "outputs": [
    {
     "data": {
      "text/plain": [
       "array([0, 1, 2, 3, 0, 1, 2, 3, 4, 0, 1, 2])"
      ]
     },
     "execution_count": 16,
     "metadata": {},
     "output_type": "execute_result"
    }
   ],
   "source": [
    "# Demo for concatenation of three 1-D arrays\n",
    "a = np.arange(4)\n",
    "b = np.arange(5)\n",
    "c = np.arange(3)\n",
    "np.concatenate((a,b,c),dtype=int)"
   ]
  },
  {
   "cell_type": "markdown",
   "id": "95845f5a",
   "metadata": {},
   "source": [
    "### Concatenation of 2-D arrays\n",
    "\n",
    "• we can concatenate any number of 2-D arrays at a time<br>\n",
    "• For 2-D arrays there exists two axes i.e., axis-0 and axis-1<br>\n",
    "\n",
    "  - axis-0 ==> represents number of rows<br>\n",
    "  - axis-1 ==> represents number of columns<br>\n",
    "\n",
    "• we can perform concatenation either axis-0 or axis-1<br>\n",
    "• size of all dimensions(axes) must be matched except concatenation axis."
   ]
  },
  {
   "cell_type": "markdown",
   "id": "1e2da157",
   "metadata": {},
   "source": [
    "<img src=\"concatinate_2.JPG\" alt=\"concatinate_2\" width=\"700\" height=\"700\">"
   ]
  },
  {
   "cell_type": "code",
   "execution_count": 18,
   "id": "748d3c0f",
   "metadata": {},
   "outputs": [
    {
     "name": "stdout",
     "output_type": "stream",
     "text": [
      "a array :: \n",
      " [[10 20]\n",
      " [30 40]\n",
      " [50 60]]\n",
      "b array :: \n",
      " [[ 70  80]\n",
      " [ 90 100]]\n",
      "a shape : (3, 2)\n",
      "b shape : (2, 2)\n",
      "Concatenation based on axis-0(vertical) :: \n",
      " [[ 10  20]\n",
      " [ 30  40]\n",
      " [ 50  60]\n",
      " [ 70  80]\n",
      " [ 90 100]]\n"
     ]
    },
    {
     "ename": "ValueError",
     "evalue": "all the input array dimensions except for the concatenation axis must match exactly, but along dimension 0, the array at index 0 has size 3 and the array at index 1 has size 2",
     "output_type": "error",
     "traceback": [
      "\u001b[1;31m---------------------------------------------------------------------------\u001b[0m",
      "\u001b[1;31mValueError\u001b[0m                                Traceback (most recent call last)",
      "\u001b[1;32m~\\AppData\\Local\\Temp\\ipykernel_17740\\2803301606.py\u001b[0m in \u001b[0;36m<module>\u001b[1;34m\u001b[0m\n\u001b[0;32m     11\u001b[0m \u001b[0mprint\u001b[0m\u001b[1;33m(\u001b[0m\u001b[1;34mf\"Concatenation based on axis-0(vertical) :: \\n {vcon}\"\u001b[0m\u001b[1;33m)\u001b[0m\u001b[1;33m\u001b[0m\u001b[1;33m\u001b[0m\u001b[0m\n\u001b[0;32m     12\u001b[0m \u001b[1;31m# concatenation on axis=0 ==> Horizontal concatenation\u001b[0m\u001b[1;33m\u001b[0m\u001b[1;33m\u001b[0m\u001b[0m\n\u001b[1;32m---> 13\u001b[1;33m \u001b[0mhcon\u001b[0m \u001b[1;33m=\u001b[0m \u001b[0mnp\u001b[0m\u001b[1;33m.\u001b[0m\u001b[0mconcatenate\u001b[0m\u001b[1;33m(\u001b[0m\u001b[1;33m(\u001b[0m\u001b[0ma\u001b[0m\u001b[1;33m,\u001b[0m\u001b[0mb\u001b[0m\u001b[1;33m)\u001b[0m\u001b[1;33m,\u001b[0m\u001b[0maxis\u001b[0m\u001b[1;33m=\u001b[0m\u001b[1;36m1\u001b[0m\u001b[1;33m)\u001b[0m\u001b[1;33m\u001b[0m\u001b[1;33m\u001b[0m\u001b[0m\n\u001b[0m\u001b[0;32m     14\u001b[0m \u001b[0mprint\u001b[0m\u001b[1;33m(\u001b[0m\u001b[1;34mf\"Concatenation based on axis-1(vertical) :: \\n {hcon}\"\u001b[0m\u001b[1;33m)\u001b[0m\u001b[1;33m\u001b[0m\u001b[1;33m\u001b[0m\u001b[0m\n",
      "\u001b[1;32m~\\Anaconda3\\lib\\site-packages\\numpy\\core\\overrides.py\u001b[0m in \u001b[0;36mconcatenate\u001b[1;34m(*args, **kwargs)\u001b[0m\n",
      "\u001b[1;31mValueError\u001b[0m: all the input array dimensions except for the concatenation axis must match exactly, but along dimension 0, the array at index 0 has size 3 and the array at index 1 has size 2"
     ]
    }
   ],
   "source": [
    "# Demo for concatenation of two 2-D arrays\n",
    "import numpy as np\n",
    "a = np.array([[10,20],[30,40],[50,60]])\n",
    "b = np.array([[70,80],[90,100]])\n",
    "print(f\"a array :: \\n {a}\")\n",
    "print(f\"b array :: \\n {b}\")\n",
    "print(f\"a shape : {a.shape}\")\n",
    "print(f\"b shape : {b.shape}\")\n",
    "# concatenation on axis=0 ==> Vertical concatenation\n",
    "vcon = np.concatenate((a,b),axis=0)\n",
    "print(f\"Concatenation based on axis-0(vertical) :: \\n {vcon}\")\n",
    "# concatenation on axis=0 ==> Horizontal concatenation\n",
    "hcon = np.concatenate((a,b),axis=1)\n",
    "print(f\"Concatenation based on axis-1(vertical) :: \\n {hcon}\")"
   ]
  },
  {
   "cell_type": "markdown",
   "id": "c5997055",
   "metadata": {},
   "source": [
    "### Concatenation of 3-D arrays\n",
    "\n",
    "• we can concatenate any number of 3-D arrays at a time<br>\n",
    "• For 3-D arrays there exists three axes i.e., axis-0,axis-1 and axis-2<br>\n",
    "  - axis-0 ==> represents number of 2-D arrays<br>\n",
    "  - axis-1 ==> represents number of rows in every 2-D array<br>\n",
    "  - axis-2 ==> represents number of columns in every 2-D array<br>\n",
    "  \n",
    "• we can perform concatenation on axis-0, axis-1, axis-2 (existing axis)<br>\n",
    "• size of all dimensions(axes) must be matched except concatenation axis."
   ]
  },
  {
   "cell_type": "markdown",
   "id": "24f3c10e",
   "metadata": {},
   "source": [
    "<img src=\"concatinate_3.JPG\" alt=\"concatinate_3\" width=\"700\" height=\"700\">"
   ]
  },
  {
   "cell_type": "code",
   "execution_count": 20,
   "id": "d1b0b566",
   "metadata": {},
   "outputs": [
    {
     "name": "stdout",
     "output_type": "stream",
     "text": [
      "array a : \n",
      " [[[ 0  1]\n",
      "  [ 2  3]\n",
      "  [ 4  5]]\n",
      "\n",
      " [[ 6  7]\n",
      "  [ 8  9]\n",
      "  [10 11]]]\n",
      "array b : \n",
      " [[[ 0  1  2]\n",
      "  [ 3  4  5]\n",
      "  [ 6  7  8]]\n",
      "\n",
      " [[ 9 10 11]\n",
      "  [12 13 14]\n",
      "  [15 16 17]]]\n"
     ]
    },
    {
     "ename": "ValueError",
     "evalue": "all the input array dimensions except for the concatenation axis must match exactly, but along dimension 2, the array at index 0 has size 2 and the array at index 1 has size 3",
     "output_type": "error",
     "traceback": [
      "\u001b[1;31m---------------------------------------------------------------------------\u001b[0m",
      "\u001b[1;31mValueError\u001b[0m                                Traceback (most recent call last)",
      "\u001b[1;32m~\\AppData\\Local\\Temp\\ipykernel_17740\\3737247899.py\u001b[0m in \u001b[0;36m<module>\u001b[1;34m\u001b[0m\n\u001b[0;32m      6\u001b[0m \u001b[0mprint\u001b[0m\u001b[1;33m(\u001b[0m\u001b[1;34mf\"array b : \\n {b}\"\u001b[0m\u001b[1;33m)\u001b[0m\u001b[1;33m\u001b[0m\u001b[1;33m\u001b[0m\u001b[0m\n\u001b[0;32m      7\u001b[0m \u001b[1;31m# concatenation along axis=0 ==> not possible in this case\u001b[0m\u001b[1;33m\u001b[0m\u001b[1;33m\u001b[0m\u001b[0m\n\u001b[1;32m----> 8\u001b[1;33m \u001b[0mnp\u001b[0m\u001b[1;33m.\u001b[0m\u001b[0mconcatenate\u001b[0m\u001b[1;33m(\u001b[0m\u001b[1;33m(\u001b[0m\u001b[0ma\u001b[0m\u001b[1;33m,\u001b[0m\u001b[0mb\u001b[0m\u001b[1;33m)\u001b[0m\u001b[1;33m,\u001b[0m\u001b[0maxis\u001b[0m\u001b[1;33m=\u001b[0m\u001b[1;36m0\u001b[0m\u001b[1;33m)\u001b[0m\u001b[1;33m\u001b[0m\u001b[1;33m\u001b[0m\u001b[0m\n\u001b[0m",
      "\u001b[1;32m~\\Anaconda3\\lib\\site-packages\\numpy\\core\\overrides.py\u001b[0m in \u001b[0;36mconcatenate\u001b[1;34m(*args, **kwargs)\u001b[0m\n",
      "\u001b[1;31mValueError\u001b[0m: all the input array dimensions except for the concatenation axis must match exactly, but along dimension 2, the array at index 0 has size 2 and the array at index 1 has size 3"
     ]
    }
   ],
   "source": [
    "# Demo for concatenation of 3-D arrays\n",
    "import numpy as np\n",
    "a = np.arange(12).reshape(2,3,2)\n",
    "b = np.arange(18).reshape(2,3,3)\n",
    "print(f\"array a : \\n {a}\")\n",
    "print(f\"array b : \\n {b}\")\n",
    "# concatenation along axis=0 ==> not possible in this case\n",
    "np.concatenate((a,b),axis=0)"
   ]
  },
  {
   "cell_type": "code",
   "execution_count": 21,
   "id": "c3ce4cee",
   "metadata": {},
   "outputs": [
    {
     "ename": "ValueError",
     "evalue": "all the input array dimensions except for the concatenation axis must match exactly, but along dimension 2, the array at index 0 has size 2 and the array at index 1 has size 3",
     "output_type": "error",
     "traceback": [
      "\u001b[1;31m---------------------------------------------------------------------------\u001b[0m",
      "\u001b[1;31mValueError\u001b[0m                                Traceback (most recent call last)",
      "\u001b[1;32m~\\AppData\\Local\\Temp\\ipykernel_17740\\3555274305.py\u001b[0m in \u001b[0;36m<module>\u001b[1;34m\u001b[0m\n\u001b[0;32m      1\u001b[0m \u001b[1;31m# concatenation along axis=1 ==> not possible in this case\u001b[0m\u001b[1;33m\u001b[0m\u001b[1;33m\u001b[0m\u001b[0m\n\u001b[1;32m----> 2\u001b[1;33m \u001b[0mnp\u001b[0m\u001b[1;33m.\u001b[0m\u001b[0mconcatenate\u001b[0m\u001b[1;33m(\u001b[0m\u001b[1;33m(\u001b[0m\u001b[0ma\u001b[0m\u001b[1;33m,\u001b[0m\u001b[0mb\u001b[0m\u001b[1;33m)\u001b[0m\u001b[1;33m,\u001b[0m\u001b[0maxis\u001b[0m\u001b[1;33m=\u001b[0m\u001b[1;36m1\u001b[0m\u001b[1;33m)\u001b[0m\u001b[1;33m\u001b[0m\u001b[1;33m\u001b[0m\u001b[0m\n\u001b[0m",
      "\u001b[1;32m~\\Anaconda3\\lib\\site-packages\\numpy\\core\\overrides.py\u001b[0m in \u001b[0;36mconcatenate\u001b[1;34m(*args, **kwargs)\u001b[0m\n",
      "\u001b[1;31mValueError\u001b[0m: all the input array dimensions except for the concatenation axis must match exactly, but along dimension 2, the array at index 0 has size 2 and the array at index 1 has size 3"
     ]
    }
   ],
   "source": [
    "# concatenation along axis=1 ==> not possible in this case\n",
    "np.concatenate((a,b),axis=1)"
   ]
  },
  {
   "cell_type": "code",
   "execution_count": 22,
   "id": "e7ceaf5f",
   "metadata": {},
   "outputs": [
    {
     "data": {
      "text/plain": [
       "array([[[ 0,  1,  0,  1,  2],\n",
       "        [ 2,  3,  3,  4,  5],\n",
       "        [ 4,  5,  6,  7,  8]],\n",
       "\n",
       "       [[ 6,  7,  9, 10, 11],\n",
       "        [ 8,  9, 12, 13, 14],\n",
       "        [10, 11, 15, 16, 17]]])"
      ]
     },
     "execution_count": 22,
     "metadata": {},
     "output_type": "execute_result"
    }
   ],
   "source": [
    "# concatenation along axis=2 ==> possible in this case\n",
    "np.concatenate((a,b),axis=2)"
   ]
  },
  {
   "cell_type": "markdown",
   "id": "cdd4eb14",
   "metadata": {},
   "source": [
    "<img src=\"concatinate_4.JPG\" alt=\"concatinate_4\" width=\"700\" height=\"700\">"
   ]
  },
  {
   "cell_type": "code",
   "execution_count": 24,
   "id": "76b4d677",
   "metadata": {},
   "outputs": [
    {
     "name": "stdout",
     "output_type": "stream",
     "text": [
      "array a : \n",
      " [[[ 0  1  2]\n",
      "  [ 3  4  5]\n",
      "  [ 6  7  8]]\n",
      "\n",
      " [[ 9 10 11]\n",
      "  [12 13 14]\n",
      "  [15 16 17]]]\n",
      "array b : \n",
      " [[[18 19 20]\n",
      "  [21 22 23]\n",
      "  [24 25 26]]\n",
      "\n",
      " [[27 28 29]\n",
      "  [30 31 32]\n",
      "  [33 34 35]]]\n",
      "array a shape: (2, 3, 3)\n",
      "array b shape: (2, 3, 3)\n"
     ]
    }
   ],
   "source": [
    "# Demo for concatenation of 3-D array in all axes\n",
    "import numpy as np\n",
    "a = np.arange(18).reshape(2,3,3)\n",
    "b = np.arange(18,36).reshape(2,3,3)\n",
    "print(f\"array a : \\n {a}\")\n",
    "print(f\"array b : \\n {b}\")\n",
    "print(f\"array a shape: {a.shape}\")\n",
    "print(f\"array b shape: {b.shape}\")"
   ]
  },
  {
   "cell_type": "code",
   "execution_count": 25,
   "id": "6799f68b",
   "metadata": {},
   "outputs": [
    {
     "name": "stdout",
     "output_type": "stream",
     "text": [
      "Concatenation along axis-0 : \n",
      " [[[ 0  1  2]\n",
      "  [ 3  4  5]\n",
      "  [ 6  7  8]]\n",
      "\n",
      " [[ 9 10 11]\n",
      "  [12 13 14]\n",
      "  [15 16 17]]\n",
      "\n",
      " [[18 19 20]\n",
      "  [21 22 23]\n",
      "  [24 25 26]]\n",
      "\n",
      " [[27 28 29]\n",
      "  [30 31 32]\n",
      "  [33 34 35]]]\n",
      "Shape of the resultant array : (4, 3, 3)\n"
     ]
    }
   ],
   "source": [
    "# concatenation along axis-0\n",
    "axis0_result = np.concatenate((a,b),axis=0)\n",
    "print(f\"Concatenation along axis-0 : \\n {axis0_result}\")\n",
    "print(f\"Shape of the resultant array : {axis0_result.shape}\")"
   ]
  },
  {
   "cell_type": "code",
   "execution_count": 26,
   "id": "62d7f5d6",
   "metadata": {},
   "outputs": [
    {
     "name": "stdout",
     "output_type": "stream",
     "text": [
      "Concatenation along axis-0 : \n",
      " [[[ 0  1  2]\n",
      "  [ 3  4  5]\n",
      "  [ 6  7  8]\n",
      "  [18 19 20]\n",
      "  [21 22 23]\n",
      "  [24 25 26]]\n",
      "\n",
      " [[ 9 10 11]\n",
      "  [12 13 14]\n",
      "  [15 16 17]\n",
      "  [27 28 29]\n",
      "  [30 31 32]\n",
      "  [33 34 35]]]\n",
      "Shape of the resultant array : (2, 6, 3)\n"
     ]
    }
   ],
   "source": [
    "# concatenation along axis-1\n",
    "axis1_result = np.concatenate((a,b),axis=1)\n",
    "print(f\"Concatenation along axis-0 : \\n {axis1_result}\")\n",
    "print(f\"Shape of the resultant array : {axis1_result.shape}\")"
   ]
  },
  {
   "cell_type": "code",
   "execution_count": 27,
   "id": "cbcc14d5",
   "metadata": {},
   "outputs": [
    {
     "name": "stdout",
     "output_type": "stream",
     "text": [
      "Concatenation along axis-0 : \n",
      " [[[ 0  1  2 18 19 20]\n",
      "  [ 3  4  5 21 22 23]\n",
      "  [ 6  7  8 24 25 26]]\n",
      "\n",
      " [[ 9 10 11 27 28 29]\n",
      "  [12 13 14 30 31 32]\n",
      "  [15 16 17 33 34 35]]]\n",
      "Shape of the resultant array : (2, 3, 6)\n"
     ]
    }
   ],
   "source": [
    "# concatenation along axis-2\n",
    "axis2_result = np.concatenate((a,b),axis=2)\n",
    "print(f\"Concatenation along axis-0 : \\n {axis2_result}\")\n",
    "print(f\"Shape of the resultant array : {axis2_result.shape}\")"
   ]
  },
  {
   "cell_type": "markdown",
   "id": "fb74dd4d",
   "metadata": {},
   "source": [
    "### Array Concatenation Rules\n",
    "\n",
    "- **Dimension Consistency**: When concatenating, the result will have the same number of dimensions as the input arrays.\n",
    "  - `1-D + 1-D = 1-D`\n",
    "  - `2-D + 2-D = 2-D`\n",
    "  - `3-D + 3-D = 3-D`\n",
    "\n",
    "- **Axis-Based Concatenation**: Concatenation occurs along an existing axis.\n",
    "  - All input arrays must be of the same dimension.\n",
    "\n",
    "#### Effects of Concatenation on 2-D Arrays\n",
    "- **Axis-0 Concatenation**:\n",
    "  - Increases the number of 2-D arrays.\n",
    "  - Rows and columns remain unchanged.\n",
    "- **Axis-1 Concatenation**:\n",
    "  - Increases the number of rows.\n",
    "  - 2-D arrays and columns remain unchanged.\n",
    "- **Axis-2 Concatenation**:\n",
    "  - Increases the number of columns.\n",
    "  - 2-D arrays and rows remain unchanged.\n",
    "\n",
    "#### Special Note on Incompatible Shapes\n",
    "- **Example Query**: Is it possible to concatenate arrays with shapes `(3,2,3)` and `(2,1,3)`?\n",
    "  - **Answer**: Not possible to concatenate on any axis due to mismatch in dimensions.\n",
    "  - However, concatenation is possible when `axis=None`. In this case, both arrays will be flattened to 1-D, and then concatenation will occur."
   ]
  },
  {
   "cell_type": "markdown",
   "id": "e02b78b0",
   "metadata": {},
   "source": [
    "## stack()\n",
    "\n",
    "- **Shape Consistency**: All input arrays must have the same shape for stacking.\n",
    "- **Dimension Increase**: The resultant stacked array will have one more dimension than the input arrays.\n",
    "- **Axis of Joining**: The joining of arrays is always based on a new axis created in the resultant array.\n",
    "\n",
    "### Examples of Dimension Changes\n",
    "- `1-D + 1-D = 2-D`: Stacking two 1-D arrays results in a 2-D array.\n",
    "- `2-D + 2-D = 3-D`: Stacking two 2-D arrays results in a 3-D array."
   ]
  },
  {
   "cell_type": "code",
   "execution_count": null,
   "id": "a44867c7",
   "metadata": {},
   "outputs": [],
   "source": [
    "# help on stack\n",
    "import numpy as np\n",
    "help(np.stack)"
   ]
  },
  {
   "cell_type": "markdown",
   "id": "c69ab941",
   "metadata": {},
   "source": [
    "### Stacking 1-D array\n",
    "\n",
    "• To use stack() method, make sure all input arrays must have same shape, otherwise we will get error."
   ]
  },
  {
   "cell_type": "code",
   "execution_count": 29,
   "id": "b845e422",
   "metadata": {},
   "outputs": [
    {
     "ename": "ValueError",
     "evalue": "all input arrays must have the same shape",
     "output_type": "error",
     "traceback": [
      "\u001b[1;31m---------------------------------------------------------------------------\u001b[0m",
      "\u001b[1;31mValueError\u001b[0m                                Traceback (most recent call last)",
      "\u001b[1;32m~\\AppData\\Local\\Temp\\ipykernel_17740\\278564357.py\u001b[0m in \u001b[0;36m<module>\u001b[1;34m\u001b[0m\n\u001b[0;32m      2\u001b[0m \u001b[0ma\u001b[0m \u001b[1;33m=\u001b[0m \u001b[0mnp\u001b[0m\u001b[1;33m.\u001b[0m\u001b[0marray\u001b[0m\u001b[1;33m(\u001b[0m\u001b[1;33m[\u001b[0m\u001b[1;36m10\u001b[0m\u001b[1;33m,\u001b[0m\u001b[1;36m20\u001b[0m\u001b[1;33m,\u001b[0m\u001b[1;36m30\u001b[0m\u001b[1;33m]\u001b[0m\u001b[1;33m)\u001b[0m\u001b[1;33m\u001b[0m\u001b[1;33m\u001b[0m\u001b[0m\n\u001b[0;32m      3\u001b[0m \u001b[0mb\u001b[0m \u001b[1;33m=\u001b[0m \u001b[0mnp\u001b[0m\u001b[1;33m.\u001b[0m\u001b[0marray\u001b[0m\u001b[1;33m(\u001b[0m\u001b[1;33m[\u001b[0m\u001b[1;36m40\u001b[0m\u001b[1;33m,\u001b[0m\u001b[1;36m50\u001b[0m\u001b[1;33m,\u001b[0m\u001b[1;36m60\u001b[0m\u001b[1;33m,\u001b[0m\u001b[1;36m70\u001b[0m\u001b[1;33m]\u001b[0m\u001b[1;33m)\u001b[0m\u001b[1;33m\u001b[0m\u001b[1;33m\u001b[0m\u001b[0m\n\u001b[1;32m----> 4\u001b[1;33m \u001b[0mnp\u001b[0m\u001b[1;33m.\u001b[0m\u001b[0mstack\u001b[0m\u001b[1;33m(\u001b[0m\u001b[1;33m(\u001b[0m\u001b[0ma\u001b[0m\u001b[1;33m,\u001b[0m\u001b[0mb\u001b[0m\u001b[1;33m)\u001b[0m\u001b[1;33m)\u001b[0m\u001b[1;33m\u001b[0m\u001b[1;33m\u001b[0m\u001b[0m\n\u001b[0m",
      "\u001b[1;32m~\\Anaconda3\\lib\\site-packages\\numpy\\core\\overrides.py\u001b[0m in \u001b[0;36mstack\u001b[1;34m(*args, **kwargs)\u001b[0m\n",
      "\u001b[1;32m~\\Anaconda3\\lib\\site-packages\\numpy\\core\\shape_base.py\u001b[0m in \u001b[0;36mstack\u001b[1;34m(arrays, axis, out, dtype, casting)\u001b[0m\n\u001b[0;32m    462\u001b[0m     \u001b[0mshapes\u001b[0m \u001b[1;33m=\u001b[0m \u001b[1;33m{\u001b[0m\u001b[0marr\u001b[0m\u001b[1;33m.\u001b[0m\u001b[0mshape\u001b[0m \u001b[1;32mfor\u001b[0m \u001b[0marr\u001b[0m \u001b[1;32min\u001b[0m \u001b[0marrays\u001b[0m\u001b[1;33m}\u001b[0m\u001b[1;33m\u001b[0m\u001b[1;33m\u001b[0m\u001b[0m\n\u001b[0;32m    463\u001b[0m     \u001b[1;32mif\u001b[0m \u001b[0mlen\u001b[0m\u001b[1;33m(\u001b[0m\u001b[0mshapes\u001b[0m\u001b[1;33m)\u001b[0m \u001b[1;33m!=\u001b[0m \u001b[1;36m1\u001b[0m\u001b[1;33m:\u001b[0m\u001b[1;33m\u001b[0m\u001b[1;33m\u001b[0m\u001b[0m\n\u001b[1;32m--> 464\u001b[1;33m         \u001b[1;32mraise\u001b[0m \u001b[0mValueError\u001b[0m\u001b[1;33m(\u001b[0m\u001b[1;34m'all input arrays must have the same shape'\u001b[0m\u001b[1;33m)\u001b[0m\u001b[1;33m\u001b[0m\u001b[1;33m\u001b[0m\u001b[0m\n\u001b[0m\u001b[0;32m    465\u001b[0m \u001b[1;33m\u001b[0m\u001b[0m\n\u001b[0;32m    466\u001b[0m     \u001b[0mresult_ndim\u001b[0m \u001b[1;33m=\u001b[0m \u001b[0marrays\u001b[0m\u001b[1;33m[\u001b[0m\u001b[1;36m0\u001b[0m\u001b[1;33m]\u001b[0m\u001b[1;33m.\u001b[0m\u001b[0mndim\u001b[0m \u001b[1;33m+\u001b[0m \u001b[1;36m1\u001b[0m\u001b[1;33m\u001b[0m\u001b[1;33m\u001b[0m\u001b[0m\n",
      "\u001b[1;31mValueError\u001b[0m: all input arrays must have the same shape"
     ]
    }
   ],
   "source": [
    "import numpy as np\n",
    "a = np.array([10,20,30])\n",
    "b = np.array([40,50,60,70])\n",
    "np.stack((a,b))"
   ]
  },
  {
   "cell_type": "markdown",
   "id": "a8ad8713",
   "metadata": {},
   "source": [
    "**Stacking between 1-D arrays**<br>\n",
    "• The resultant array will be one more dimension i.e., 2-D array<br>\n",
    "• newly created array is 2-D and it has two axes ==> axis-0 and axis-1<br>\n",
    "• so we can perform stacking on axis-0 and axis-1<br>\n",
    "\n",
    "**Stacking along axis=0 in 1-D array**<br>\n",
    "• axis-0 means stack elements of input array row wise<br>\n",
    "• Read row wise from input arrays and arrange row wise in result array."
   ]
  },
  {
   "cell_type": "code",
   "execution_count": 30,
   "id": "a4cc7df8",
   "metadata": {},
   "outputs": [
    {
     "name": "stdout",
     "output_type": "stream",
     "text": [
      "Resultant array : \n",
      " [[10 20 30]\n",
      " [40 50 60]]\n",
      "Resultant array shape: (2, 3)\n"
     ]
    }
   ],
   "source": [
    "# stacking using axis=0\n",
    "a = np.array([10,20,30])\n",
    "b = np.array([40,50,60])\n",
    "resultant_array = np.stack((a,b)) # default axis=0\n",
    "print(f\"Resultant array : \\n {resultant_array}\")\n",
    "print(f\"Resultant array shape: {resultant_array.shape}\")"
   ]
  },
  {
   "cell_type": "markdown",
   "id": "1b44f3a4",
   "metadata": {},
   "source": [
    "**Stacking along axis=1 in 1-D array**<br>\n",
    "• axis-1 means stack elements of input array column wise<br>\n",
    "• Read row wise from input arrays and arrange column wise in result array."
   ]
  },
  {
   "cell_type": "code",
   "execution_count": 31,
   "id": "c42d30df",
   "metadata": {},
   "outputs": [
    {
     "name": "stdout",
     "output_type": "stream",
     "text": [
      "Resultant array : \n",
      " [[10 40]\n",
      " [20 50]\n",
      " [30 60]]\n",
      "Resultant array shape: (3, 2)\n"
     ]
    }
   ],
   "source": [
    "# stacking using axis=1\n",
    "a = np.array([10,20,30])\n",
    "b = np.array([40,50,60])\n",
    "resultant_array=np.stack((a,b),axis=1)\n",
    "print(f\"Resultant array : \\n {resultant_array}\")\n",
    "print(f\"Resultant array shape: {resultant_array.shape}\")"
   ]
  },
  {
   "cell_type": "markdown",
   "id": "cf3eb56a",
   "metadata": {},
   "source": [
    "### Stacking 2-D array\n",
    "\n",
    "**The resultant array will be: 3-D array**<br>\n",
    "3-D array shape:(x,y,z)<br>\n",
    "- x==>axis-0 ====>The number of 2-D arrays<br>\n",
    "- y==>axis-1 ====>The number of rows in every 2-D array<br>\n",
    "- z==>axis-2 ====> The number of columns in every 2-D array<br>\n",
    "\n",
    "axis-0 means 2-D arrays one by one<br>\n",
    "axis-1 means row wise in each 2-D array<br>\n",
    "axis-2 means column wise in each 2-D array<br>"
   ]
  },
  {
   "cell_type": "markdown",
   "id": "9ec742e1",
   "metadata": {},
   "source": [
    "<img src=\"stacking1.JPG\" alt=\"stacking1\" width=\"500\" height=\"600\">"
   ]
  },
  {
   "cell_type": "code",
   "execution_count": 33,
   "id": "017fd48f",
   "metadata": {},
   "outputs": [
    {
     "data": {
      "text/plain": [
       "array([[[ 1,  2,  3],\n",
       "        [ 4,  5,  6]],\n",
       "\n",
       "       [[ 7,  8,  9],\n",
       "        [10, 11, 12]]])"
      ]
     },
     "execution_count": 33,
     "metadata": {},
     "output_type": "execute_result"
    }
   ],
   "source": [
    "# stacking of 2-D arrays ==> axis=0\n",
    "# axis-0 means 2-D arrays one by one:\n",
    "import numpy as np\n",
    "a = np.array([[1,2,3],[4,5,6]])\n",
    "b = np.array([[7,8,9],[10,11,12]])\n",
    "np.stack((a,b)) # by defulat np.stack((a,b),axis=0)"
   ]
  },
  {
   "cell_type": "markdown",
   "id": "13ad5121",
   "metadata": {},
   "source": [
    "<img src=\"stacking2.JPG\" alt=\"stacking3\" width=\"500\" height=\"600\">"
   ]
  },
  {
   "cell_type": "code",
   "execution_count": 36,
   "id": "d47b6791",
   "metadata": {},
   "outputs": [
    {
     "data": {
      "text/plain": [
       "array([[[ 1,  2,  3],\n",
       "        [ 7,  8,  9]],\n",
       "\n",
       "       [[ 4,  5,  6],\n",
       "        [10, 11, 12]]])"
      ]
     },
     "execution_count": 36,
     "metadata": {},
     "output_type": "execute_result"
    }
   ],
   "source": [
    "# stacking of 2-D arrays ==> axis=1\n",
    "# axis-1 means row wise in each 2-D array\n",
    "a = np.array([[1,2,3],[4,5,6]])\n",
    "b = np.array([[7,8,9],[10,11,12]])\n",
    "np.stack((a,b),axis=1)"
   ]
  },
  {
   "cell_type": "markdown",
   "id": "2e518852",
   "metadata": {},
   "source": [
    "<img src=\"stacking3.JPG\" alt=\"stacking3\" width=\"600\" height=\"600\">"
   ]
  },
  {
   "cell_type": "code",
   "execution_count": 38,
   "id": "f33c2038",
   "metadata": {},
   "outputs": [
    {
     "data": {
      "text/plain": [
       "array([[[ 1,  7],\n",
       "        [ 2,  8],\n",
       "        [ 3,  9]],\n",
       "\n",
       "       [[ 4, 10],\n",
       "        [ 5, 11],\n",
       "        [ 6, 12]]])"
      ]
     },
     "execution_count": 38,
     "metadata": {},
     "output_type": "execute_result"
    }
   ],
   "source": [
    "# stacking of 2-D arrays ==> axis=2\n",
    "# axis-2 means column wise in each 2-D array\n",
    "a = np.array([[1,2,3],[4,5,6]])\n",
    "b = np.array([[7,8,9],[10,11,12]])\n",
    "np.stack((a,b),axis=2)"
   ]
  },
  {
   "cell_type": "code",
   "execution_count": 39,
   "id": "20650948",
   "metadata": {},
   "outputs": [
    {
     "name": "stdout",
     "output_type": "stream",
     "text": [
      "array a :\n",
      " [[1 2]\n",
      " [3 4]\n",
      " [5 6]]\n",
      "array b :\n",
      " [[ 7  8]\n",
      " [ 9 10]\n",
      " [11 12]]\n",
      "array c :\n",
      " [[13 14]\n",
      " [15 16]\n",
      " [17 18]]\n",
      "Stacking three 2-D arrays along axis-0:\n",
      " [[[ 1  2]\n",
      "  [ 3  4]\n",
      "  [ 5  6]]\n",
      "\n",
      " [[ 7  8]\n",
      "  [ 9 10]\n",
      "  [11 12]]\n",
      "\n",
      " [[13 14]\n",
      "  [15 16]\n",
      "  [17 18]]]\n"
     ]
    }
   ],
   "source": [
    "# Demo of Stacking of Three 2-D arrays\n",
    "\n",
    "a = np.arange(1,7).reshape(3,2)\n",
    "b = np.arange(7,13).reshape(3,2)\n",
    "c = np.arange(13,19).reshape(3,2)\n",
    "print(f\"array a :\\n {a}\")\n",
    "print(f\"array b :\\n {b}\")\n",
    "print(f\"array c :\\n {c}\")\n",
    "\n",
    "# stacking along axis-0\n",
    "# In 3-D array axis-0 means the number of 2-d arrays\n",
    "axis0_stack = np.stack((a,b,c),axis=0)\n",
    "print(f\"Stacking three 2-D arrays along axis-0:\\n {axis0_stack}\")"
   ]
  },
  {
   "cell_type": "code",
   "execution_count": 40,
   "id": "e450fd77",
   "metadata": {},
   "outputs": [
    {
     "name": "stdout",
     "output_type": "stream",
     "text": [
      "Stacking three 2-D arrays along axis-1:\n",
      " [[[ 1  2]\n",
      "  [ 7  8]\n",
      "  [13 14]]\n",
      "\n",
      " [[ 3  4]\n",
      "  [ 9 10]\n",
      "  [15 16]]\n",
      "\n",
      " [[ 5  6]\n",
      "  [11 12]\n",
      "  [17 18]]]\n"
     ]
    }
   ],
   "source": [
    "# stacking along axis-1\n",
    "# In 3-D array, axis-1 means the number of rows.\n",
    "# Stacking row wise\n",
    "axis1_stack = np.stack((a,b,c),axis=1)\n",
    "print(f\"Stacking three 2-D arrays along axis-1:\\n {axis1_stack}\")"
   ]
  },
  {
   "cell_type": "code",
   "execution_count": 41,
   "id": "bcaf5f97",
   "metadata": {},
   "outputs": [
    {
     "name": "stdout",
     "output_type": "stream",
     "text": [
      "Stacking three 2-D arrays along axis-2:\n",
      " [[[ 1  7 13]\n",
      "  [ 2  8 14]]\n",
      "\n",
      " [[ 3  9 15]\n",
      "  [ 4 10 16]]\n",
      "\n",
      " [[ 5 11 17]\n",
      "  [ 6 12 18]]]\n"
     ]
    }
   ],
   "source": [
    "# stacking along axis-2\n",
    "# in 3-D array axis-2 means the number of columns in every 2-D array.\n",
    "# stacking column wise\n",
    "axis2_stack = np.stack((a,b,c),axis=2)\n",
    "print(f\"Stacking three 2-D arrays along axis-2:\\n {axis2_stack}\")"
   ]
  },
  {
   "cell_type": "markdown",
   "id": "9da8393b",
   "metadata": {},
   "source": [
    "**Note:**<br>\n",
    "• Reading of arrays row-wise<br>\n",
    "• arraning is based on the newly created array axis"
   ]
  },
  {
   "cell_type": "markdown",
   "id": "6580cf37",
   "metadata": {},
   "source": [
    "### Stacking Three 1-D array"
   ]
  },
  {
   "cell_type": "code",
   "execution_count": 42,
   "id": "82abe8e6",
   "metadata": {},
   "outputs": [
    {
     "name": "stdout",
     "output_type": "stream",
     "text": [
      "array a :[0 1 2 3]\n",
      "array b :[4 5 6 7]\n",
      "array c :[ 8  9 10 11]\n",
      "Stacking three 2-D arrays along axis-0:\n",
      " [[ 0  1  2  3]\n",
      " [ 4  5  6  7]\n",
      " [ 8  9 10 11]]\n",
      "Stacking three 2-D arrays along axis-1:\n",
      " [[ 0  4  8]\n",
      " [ 1  5  9]\n",
      " [ 2  6 10]\n",
      " [ 3  7 11]]\n"
     ]
    }
   ],
   "source": [
    "a = np.arange(4)\n",
    "b = np.arange(4,8)\n",
    "c = np.arange(8,12)\n",
    "print(f\"array a :{a}\")\n",
    "print(f\"array b :{b}\")\n",
    "print(f\"array c :{c}\")\n",
    "\n",
    "# We will get 2-D array\n",
    "# In 2-D array avaialble axes are: axis-0 and axis-1\n",
    "# Based on axis-0:\n",
    "# axis-0 in 2-D array means the number of rows\n",
    "axis0_stack = np.stack((a,b,c),axis=0)\n",
    "print(f\"Stacking three 2-D arrays along axis-0:\\n {axis0_stack}\")\n",
    "\n",
    "# Based on axis-1:\n",
    "# axis-1 in 2-D array means the number of columns\n",
    "axis1_stack = np.stack((a,b,c),axis=1)\n",
    "print(f\"Stacking three 2-D arrays along axis-1:\\n {axis1_stack}\")"
   ]
  },
  {
   "cell_type": "markdown",
   "id": "1eb4429c",
   "metadata": {},
   "source": [
    "## cancatenate() Vs stack()\n",
    "\n",
    "<img src=\"concat vs stack.JPG\" alt=\"concat vs stack\" width=\"800\" height=\"800\">"
   ]
  },
  {
   "cell_type": "markdown",
   "id": "0d9beb8f",
   "metadata": {},
   "source": [
    "## vstack()\n",
    "\n",
    "• vstack--->vertical stack--->joining is always based on axis-0<br>\n",
    "• For 1-D arrays--->2-D array as output.<br>\n",
    "• For the remaining dimensions it acts as concatenate() along axis-0<br>\n",
    "\n",
    "**Rules:**<br>\n",
    "• The input arrays must have the same shape along all except first axis(axis-0)<br>\n",
    "• 1-D arrays must have the same size.<br>\n",
    "• The array formed by stacking the given arrays, will be at least 2-D.<br>\n",
    "• vstack() operation is equivalent to concatenation along the first axis after 1-D arrays of shape (N,) have been reshaped to (1,N).<br>\n",
    "• For 2-D or more dimension arrays, vstack() simply acts as concatenation wrt axis-0.<br>"
   ]
  },
  {
   "cell_type": "code",
   "execution_count": null,
   "id": "0ba019db",
   "metadata": {},
   "outputs": [],
   "source": [
    "import numpy as np\n",
    "help(np.vstack)"
   ]
  },
  {
   "cell_type": "markdown",
   "id": "bd980991",
   "metadata": {},
   "source": [
    "### For 1-D arrays"
   ]
  },
  {
   "cell_type": "code",
   "execution_count": 47,
   "id": "1631c8f6",
   "metadata": {},
   "outputs": [
    {
     "data": {
      "text/plain": [
       "array([[10, 20, 30, 40],\n",
       "       [50, 60, 70, 80]])"
      ]
     },
     "execution_count": 47,
     "metadata": {},
     "output_type": "execute_result"
    }
   ],
   "source": [
    "# vstack for 1-D arrays of same sizes\n",
    "a = np.array([10,20,30,40])\n",
    "b = np.array([50,60,70,80])\n",
    "# a will be converted to shapes (1,4) and b will be converted to (1,4)\n",
    "np.vstack((a,b))"
   ]
  },
  {
   "cell_type": "code",
   "execution_count": 48,
   "id": "67b88aa2",
   "metadata": {},
   "outputs": [
    {
     "ename": "ValueError",
     "evalue": "all the input array dimensions except for the concatenation axis must match exactly, but along dimension 1, the array at index 0 has size 4 and the array at index 1 has size 6",
     "output_type": "error",
     "traceback": [
      "\u001b[1;31m---------------------------------------------------------------------------\u001b[0m",
      "\u001b[1;31mValueError\u001b[0m                                Traceback (most recent call last)",
      "\u001b[1;32m~\\AppData\\Local\\Temp\\ipykernel_17740\\1217606762.py\u001b[0m in \u001b[0;36m<module>\u001b[1;34m\u001b[0m\n\u001b[0;32m      3\u001b[0m \u001b[0mb\u001b[0m \u001b[1;33m=\u001b[0m \u001b[0mnp\u001b[0m\u001b[1;33m.\u001b[0m\u001b[0marray\u001b[0m\u001b[1;33m(\u001b[0m\u001b[1;33m[\u001b[0m\u001b[1;36m50\u001b[0m\u001b[1;33m,\u001b[0m\u001b[1;36m60\u001b[0m\u001b[1;33m,\u001b[0m\u001b[1;36m70\u001b[0m\u001b[1;33m,\u001b[0m\u001b[1;36m80\u001b[0m\u001b[1;33m,\u001b[0m\u001b[1;36m90\u001b[0m\u001b[1;33m,\u001b[0m\u001b[1;36m100\u001b[0m\u001b[1;33m]\u001b[0m\u001b[1;33m)\u001b[0m\u001b[1;33m\u001b[0m\u001b[1;33m\u001b[0m\u001b[0m\n\u001b[0;32m      4\u001b[0m \u001b[1;31m# a will be converted to shapes (1,4) and b will be converted to (1,6)\u001b[0m\u001b[1;33m\u001b[0m\u001b[1;33m\u001b[0m\u001b[0m\n\u001b[1;32m----> 5\u001b[1;33m \u001b[0mnp\u001b[0m\u001b[1;33m.\u001b[0m\u001b[0mvstack\u001b[0m\u001b[1;33m(\u001b[0m\u001b[1;33m(\u001b[0m\u001b[0ma\u001b[0m\u001b[1;33m,\u001b[0m\u001b[0mb\u001b[0m\u001b[1;33m)\u001b[0m\u001b[1;33m)\u001b[0m\u001b[1;33m\u001b[0m\u001b[1;33m\u001b[0m\u001b[0m\n\u001b[0m",
      "\u001b[1;32m~\\Anaconda3\\lib\\site-packages\\numpy\\core\\overrides.py\u001b[0m in \u001b[0;36mvstack\u001b[1;34m(*args, **kwargs)\u001b[0m\n",
      "\u001b[1;32m~\\Anaconda3\\lib\\site-packages\\numpy\\core\\shape_base.py\u001b[0m in \u001b[0;36mvstack\u001b[1;34m(tup, dtype, casting)\u001b[0m\n\u001b[0;32m    294\u001b[0m     \u001b[1;32mif\u001b[0m \u001b[1;32mnot\u001b[0m \u001b[0misinstance\u001b[0m\u001b[1;33m(\u001b[0m\u001b[0marrs\u001b[0m\u001b[1;33m,\u001b[0m \u001b[0mlist\u001b[0m\u001b[1;33m)\u001b[0m\u001b[1;33m:\u001b[0m\u001b[1;33m\u001b[0m\u001b[1;33m\u001b[0m\u001b[0m\n\u001b[0;32m    295\u001b[0m         \u001b[0marrs\u001b[0m \u001b[1;33m=\u001b[0m \u001b[1;33m[\u001b[0m\u001b[0marrs\u001b[0m\u001b[1;33m]\u001b[0m\u001b[1;33m\u001b[0m\u001b[1;33m\u001b[0m\u001b[0m\n\u001b[1;32m--> 296\u001b[1;33m     \u001b[1;32mreturn\u001b[0m \u001b[0m_nx\u001b[0m\u001b[1;33m.\u001b[0m\u001b[0mconcatenate\u001b[0m\u001b[1;33m(\u001b[0m\u001b[0marrs\u001b[0m\u001b[1;33m,\u001b[0m \u001b[1;36m0\u001b[0m\u001b[1;33m,\u001b[0m \u001b[0mdtype\u001b[0m\u001b[1;33m=\u001b[0m\u001b[0mdtype\u001b[0m\u001b[1;33m,\u001b[0m \u001b[0mcasting\u001b[0m\u001b[1;33m=\u001b[0m\u001b[0mcasting\u001b[0m\u001b[1;33m)\u001b[0m\u001b[1;33m\u001b[0m\u001b[1;33m\u001b[0m\u001b[0m\n\u001b[0m\u001b[0;32m    297\u001b[0m \u001b[1;33m\u001b[0m\u001b[0m\n\u001b[0;32m    298\u001b[0m \u001b[1;33m\u001b[0m\u001b[0m\n",
      "\u001b[1;32m~\\Anaconda3\\lib\\site-packages\\numpy\\core\\overrides.py\u001b[0m in \u001b[0;36mconcatenate\u001b[1;34m(*args, **kwargs)\u001b[0m\n",
      "\u001b[1;31mValueError\u001b[0m: all the input array dimensions except for the concatenation axis must match exactly, but along dimension 1, the array at index 0 has size 4 and the array at index 1 has size 6"
     ]
    }
   ],
   "source": [
    "# vstack for 1-D arrays of different sizes\n",
    "a = np.array([10,20,30,40])\n",
    "b = np.array([50,60,70,80,90,100])\n",
    "# a will be converted to shapes (1,4) and b will be converted to (1,6)\n",
    "np.vstack((a,b))"
   ]
  },
  {
   "cell_type": "markdown",
   "id": "59b1e153",
   "metadata": {},
   "source": [
    "### For 2-D arrays"
   ]
  },
  {
   "cell_type": "code",
   "execution_count": 49,
   "id": "687d5908",
   "metadata": {},
   "outputs": [
    {
     "data": {
      "text/plain": [
       "array([[ 1,  2,  3],\n",
       "       [ 4,  5,  6],\n",
       "       [ 7,  8,  9],\n",
       "       [10, 11, 12],\n",
       "       [13, 14, 15]])"
      ]
     },
     "execution_count": 49,
     "metadata": {},
     "output_type": "execute_result"
    }
   ],
   "source": [
    "# vstack of 2-D arrays. sizes of axis-1 should be same to perform vstack() -> concatenation rule\n",
    "# Here it is possible because sizes of axis-1 are same 3 and 3\n",
    "# vstack() performed always along axis-0\n",
    "a = np.arange(1,10).reshape(3,3)\n",
    "b = np.arange(10,16).reshape(2,3)\n",
    "np.vstack((a,b))"
   ]
  },
  {
   "cell_type": "code",
   "execution_count": 51,
   "id": "f1a847fa",
   "metadata": {},
   "outputs": [
    {
     "ename": "ValueError",
     "evalue": "all the input array dimensions except for the concatenation axis must match exactly, but along dimension 1, the array at index 0 has size 3 and the array at index 1 has size 2",
     "output_type": "error",
     "traceback": [
      "\u001b[1;31m---------------------------------------------------------------------------\u001b[0m",
      "\u001b[1;31mValueError\u001b[0m                                Traceback (most recent call last)",
      "\u001b[1;32m~\\AppData\\Local\\Temp\\ipykernel_17740\\413552548.py\u001b[0m in \u001b[0;36m<module>\u001b[1;34m\u001b[0m\n\u001b[0;32m      4\u001b[0m \u001b[0ma\u001b[0m \u001b[1;33m=\u001b[0m \u001b[0mnp\u001b[0m\u001b[1;33m.\u001b[0m\u001b[0marange\u001b[0m\u001b[1;33m(\u001b[0m\u001b[1;36m1\u001b[0m\u001b[1;33m,\u001b[0m\u001b[1;36m10\u001b[0m\u001b[1;33m)\u001b[0m\u001b[1;33m.\u001b[0m\u001b[0mreshape\u001b[0m\u001b[1;33m(\u001b[0m\u001b[1;36m3\u001b[0m\u001b[1;33m,\u001b[0m\u001b[1;36m3\u001b[0m\u001b[1;33m)\u001b[0m\u001b[1;33m\u001b[0m\u001b[1;33m\u001b[0m\u001b[0m\n\u001b[0;32m      5\u001b[0m \u001b[0mb\u001b[0m \u001b[1;33m=\u001b[0m \u001b[0mnp\u001b[0m\u001b[1;33m.\u001b[0m\u001b[0marange\u001b[0m\u001b[1;33m(\u001b[0m\u001b[1;36m10\u001b[0m\u001b[1;33m,\u001b[0m\u001b[1;36m16\u001b[0m\u001b[1;33m)\u001b[0m\u001b[1;33m.\u001b[0m\u001b[0mreshape\u001b[0m\u001b[1;33m(\u001b[0m\u001b[1;36m3\u001b[0m\u001b[1;33m,\u001b[0m\u001b[1;36m2\u001b[0m\u001b[1;33m)\u001b[0m\u001b[1;33m\u001b[0m\u001b[1;33m\u001b[0m\u001b[0m\n\u001b[1;32m----> 6\u001b[1;33m \u001b[0mnp\u001b[0m\u001b[1;33m.\u001b[0m\u001b[0mvstack\u001b[0m\u001b[1;33m(\u001b[0m\u001b[1;33m(\u001b[0m\u001b[0ma\u001b[0m\u001b[1;33m,\u001b[0m\u001b[0mb\u001b[0m\u001b[1;33m)\u001b[0m\u001b[1;33m)\u001b[0m\u001b[1;33m\u001b[0m\u001b[1;33m\u001b[0m\u001b[0m\n\u001b[0m",
      "\u001b[1;32m~\\Anaconda3\\lib\\site-packages\\numpy\\core\\overrides.py\u001b[0m in \u001b[0;36mvstack\u001b[1;34m(*args, **kwargs)\u001b[0m\n",
      "\u001b[1;32m~\\Anaconda3\\lib\\site-packages\\numpy\\core\\shape_base.py\u001b[0m in \u001b[0;36mvstack\u001b[1;34m(tup, dtype, casting)\u001b[0m\n\u001b[0;32m    294\u001b[0m     \u001b[1;32mif\u001b[0m \u001b[1;32mnot\u001b[0m \u001b[0misinstance\u001b[0m\u001b[1;33m(\u001b[0m\u001b[0marrs\u001b[0m\u001b[1;33m,\u001b[0m \u001b[0mlist\u001b[0m\u001b[1;33m)\u001b[0m\u001b[1;33m:\u001b[0m\u001b[1;33m\u001b[0m\u001b[1;33m\u001b[0m\u001b[0m\n\u001b[0;32m    295\u001b[0m         \u001b[0marrs\u001b[0m \u001b[1;33m=\u001b[0m \u001b[1;33m[\u001b[0m\u001b[0marrs\u001b[0m\u001b[1;33m]\u001b[0m\u001b[1;33m\u001b[0m\u001b[1;33m\u001b[0m\u001b[0m\n\u001b[1;32m--> 296\u001b[1;33m     \u001b[1;32mreturn\u001b[0m \u001b[0m_nx\u001b[0m\u001b[1;33m.\u001b[0m\u001b[0mconcatenate\u001b[0m\u001b[1;33m(\u001b[0m\u001b[0marrs\u001b[0m\u001b[1;33m,\u001b[0m \u001b[1;36m0\u001b[0m\u001b[1;33m,\u001b[0m \u001b[0mdtype\u001b[0m\u001b[1;33m=\u001b[0m\u001b[0mdtype\u001b[0m\u001b[1;33m,\u001b[0m \u001b[0mcasting\u001b[0m\u001b[1;33m=\u001b[0m\u001b[0mcasting\u001b[0m\u001b[1;33m)\u001b[0m\u001b[1;33m\u001b[0m\u001b[1;33m\u001b[0m\u001b[0m\n\u001b[0m\u001b[0;32m    297\u001b[0m \u001b[1;33m\u001b[0m\u001b[0m\n\u001b[0;32m    298\u001b[0m \u001b[1;33m\u001b[0m\u001b[0m\n",
      "\u001b[1;32m~\\Anaconda3\\lib\\site-packages\\numpy\\core\\overrides.py\u001b[0m in \u001b[0;36mconcatenate\u001b[1;34m(*args, **kwargs)\u001b[0m\n",
      "\u001b[1;31mValueError\u001b[0m: all the input array dimensions except for the concatenation axis must match exactly, but along dimension 1, the array at index 0 has size 3 and the array at index 1 has size 2"
     ]
    }
   ],
   "source": [
    "# vstack of 2-D arrays. sizes of axis-1 should be same to perform vstack() -> concatenation rule\n",
    "# Here it is not possible because sizes of axis-1 are same 3 and 2\n",
    "# vstack() performed always along axis-0\n",
    "a = np.arange(1,10).reshape(3,3)\n",
    "b = np.arange(10,16).reshape(3,2)\n",
    "np.vstack((a,b))"
   ]
  },
  {
   "cell_type": "markdown",
   "id": "d1bea996",
   "metadata": {},
   "source": [
    "### For 3-D arrays\n",
    "\n",
    "• axis-0 means The number of 2-D arrays"
   ]
  },
  {
   "cell_type": "code",
   "execution_count": 52,
   "id": "0c56c29b",
   "metadata": {},
   "outputs": [
    {
     "name": "stdout",
     "output_type": "stream",
     "text": [
      "array a : \n",
      " [[[ 1  2  3  4]\n",
      "  [ 5  6  7  8]\n",
      "  [ 9 10 11 12]]\n",
      "\n",
      " [[13 14 15 16]\n",
      "  [17 18 19 20]\n",
      "  [21 22 23 24]]]\n",
      "array b : \n",
      " [[[25 26 27 28]\n",
      "  [29 30 31 32]\n",
      "  [33 34 35 36]]\n",
      "\n",
      " [[37 38 39 40]\n",
      "  [41 42 43 44]\n",
      "  [45 46 47 48]]]\n",
      "Result of vstack : \n",
      " [[[ 1  2  3  4]\n",
      "  [ 5  6  7  8]\n",
      "  [ 9 10 11 12]]\n",
      "\n",
      " [[13 14 15 16]\n",
      "  [17 18 19 20]\n",
      "  [21 22 23 24]]\n",
      "\n",
      " [[25 26 27 28]\n",
      "  [29 30 31 32]\n",
      "  [33 34 35 36]]\n",
      "\n",
      " [[37 38 39 40]\n",
      "  [41 42 43 44]\n",
      "  [45 46 47 48]]]\n"
     ]
    }
   ],
   "source": [
    "a = np.arange(1,25).reshape(2,3,4)\n",
    "b = np.arange(25,49).reshape(2,3,4)\n",
    "print(f\"array a : \\n {a}\")\n",
    "print(f\"array b : \\n {b}\")\n",
    "result = np.vstack((a,b))\n",
    "print(f\"Result of vstack : \\n {result}\")"
   ]
  },
  {
   "cell_type": "markdown",
   "id": "88e148bf",
   "metadata": {},
   "source": [
    "## hstack()\n",
    "\n",
    "• Exactly same as concatenate() but joining is always based on axis-1<br>\n",
    "• hstack--->horizontal stack--->column wise<br>\n",
    "• 1-D + 1-D --->1-D<br>\n",
    "\n",
    "**Rules:**<br>\n",
    "1. This is equivalent to concatenation along the second axis, except for 1-D arrays where it concatenates along the first axis.<br>\n",
    "2. All input arrays must be same dimension.<br>\n",
    "3. Except axis-1, all remining sizes must be equal."
   ]
  },
  {
   "cell_type": "code",
   "execution_count": null,
   "id": "dc7b8888",
   "metadata": {},
   "outputs": [],
   "source": [
    "import numpy as np\n",
    "help(np.hstack)"
   ]
  },
  {
   "cell_type": "markdown",
   "id": "63a4cff6",
   "metadata": {},
   "source": [
    "### For 1-D arrays"
   ]
  },
  {
   "cell_type": "code",
   "execution_count": 53,
   "id": "98faa0fa",
   "metadata": {},
   "outputs": [
    {
     "data": {
      "text/plain": [
       "array([ 10,  20,  30,  40,  50,  60,  70,  80,  90, 100])"
      ]
     },
     "execution_count": 53,
     "metadata": {},
     "output_type": "execute_result"
    }
   ],
   "source": [
    "a = np.array([10,20,30,40])\n",
    "b = np.array([50,60,70,80,90,100])\n",
    "np.hstack((a,b))"
   ]
  },
  {
   "cell_type": "markdown",
   "id": "f9fa7a38",
   "metadata": {},
   "source": [
    "### For 2-D arrays"
   ]
  },
  {
   "cell_type": "code",
   "execution_count": 54,
   "id": "a51bb3da",
   "metadata": {},
   "outputs": [
    {
     "data": {
      "text/plain": [
       "array([[ 1,  2,  7,  8,  9],\n",
       "       [ 3,  4, 10, 11, 12],\n",
       "       [ 5,  6, 13, 14, 15]])"
      ]
     },
     "execution_count": 54,
     "metadata": {},
     "output_type": "execute_result"
    }
   ],
   "source": [
    "a = np.arange(1,7).reshape(3,2)\n",
    "b = np.arange(7,16).reshape(3,3)\n",
    "np.hstack((a,b))"
   ]
  },
  {
   "cell_type": "code",
   "execution_count": 55,
   "id": "cde39a44",
   "metadata": {},
   "outputs": [
    {
     "ename": "ValueError",
     "evalue": "all the input array dimensions except for the concatenation axis must match exactly, but along dimension 0, the array at index 0 has size 2 and the array at index 1 has size 3",
     "output_type": "error",
     "traceback": [
      "\u001b[1;31m---------------------------------------------------------------------------\u001b[0m",
      "\u001b[1;31mValueError\u001b[0m                                Traceback (most recent call last)",
      "\u001b[1;32m~\\AppData\\Local\\Temp\\ipykernel_17740\\114961539.py\u001b[0m in \u001b[0;36m<module>\u001b[1;34m\u001b[0m\n\u001b[0;32m      1\u001b[0m \u001b[0ma\u001b[0m \u001b[1;33m=\u001b[0m \u001b[0mnp\u001b[0m\u001b[1;33m.\u001b[0m\u001b[0marange\u001b[0m\u001b[1;33m(\u001b[0m\u001b[1;36m1\u001b[0m\u001b[1;33m,\u001b[0m\u001b[1;36m7\u001b[0m\u001b[1;33m)\u001b[0m\u001b[1;33m.\u001b[0m\u001b[0mreshape\u001b[0m\u001b[1;33m(\u001b[0m\u001b[1;36m2\u001b[0m\u001b[1;33m,\u001b[0m\u001b[1;36m3\u001b[0m\u001b[1;33m)\u001b[0m\u001b[1;33m\u001b[0m\u001b[1;33m\u001b[0m\u001b[0m\n\u001b[0;32m      2\u001b[0m \u001b[0mb\u001b[0m \u001b[1;33m=\u001b[0m \u001b[0mnp\u001b[0m\u001b[1;33m.\u001b[0m\u001b[0marange\u001b[0m\u001b[1;33m(\u001b[0m\u001b[1;36m7\u001b[0m\u001b[1;33m,\u001b[0m\u001b[1;36m16\u001b[0m\u001b[1;33m)\u001b[0m\u001b[1;33m.\u001b[0m\u001b[0mreshape\u001b[0m\u001b[1;33m(\u001b[0m\u001b[1;36m3\u001b[0m\u001b[1;33m,\u001b[0m\u001b[1;36m3\u001b[0m\u001b[1;33m)\u001b[0m\u001b[1;33m\u001b[0m\u001b[1;33m\u001b[0m\u001b[0m\n\u001b[1;32m----> 3\u001b[1;33m \u001b[0mnp\u001b[0m\u001b[1;33m.\u001b[0m\u001b[0mhstack\u001b[0m\u001b[1;33m(\u001b[0m\u001b[1;33m(\u001b[0m\u001b[0ma\u001b[0m\u001b[1;33m,\u001b[0m\u001b[0mb\u001b[0m\u001b[1;33m)\u001b[0m\u001b[1;33m)\u001b[0m\u001b[1;33m\u001b[0m\u001b[1;33m\u001b[0m\u001b[0m\n\u001b[0m",
      "\u001b[1;32m~\\Anaconda3\\lib\\site-packages\\numpy\\core\\overrides.py\u001b[0m in \u001b[0;36mhstack\u001b[1;34m(*args, **kwargs)\u001b[0m\n",
      "\u001b[1;32m~\\Anaconda3\\lib\\site-packages\\numpy\\core\\shape_base.py\u001b[0m in \u001b[0;36mhstack\u001b[1;34m(tup, dtype, casting)\u001b[0m\n\u001b[0;32m    368\u001b[0m         \u001b[1;32mreturn\u001b[0m \u001b[0m_nx\u001b[0m\u001b[1;33m.\u001b[0m\u001b[0mconcatenate\u001b[0m\u001b[1;33m(\u001b[0m\u001b[0marrs\u001b[0m\u001b[1;33m,\u001b[0m \u001b[1;36m0\u001b[0m\u001b[1;33m,\u001b[0m \u001b[0mdtype\u001b[0m\u001b[1;33m=\u001b[0m\u001b[0mdtype\u001b[0m\u001b[1;33m,\u001b[0m \u001b[0mcasting\u001b[0m\u001b[1;33m=\u001b[0m\u001b[0mcasting\u001b[0m\u001b[1;33m)\u001b[0m\u001b[1;33m\u001b[0m\u001b[1;33m\u001b[0m\u001b[0m\n\u001b[0;32m    369\u001b[0m     \u001b[1;32melse\u001b[0m\u001b[1;33m:\u001b[0m\u001b[1;33m\u001b[0m\u001b[1;33m\u001b[0m\u001b[0m\n\u001b[1;32m--> 370\u001b[1;33m         \u001b[1;32mreturn\u001b[0m \u001b[0m_nx\u001b[0m\u001b[1;33m.\u001b[0m\u001b[0mconcatenate\u001b[0m\u001b[1;33m(\u001b[0m\u001b[0marrs\u001b[0m\u001b[1;33m,\u001b[0m \u001b[1;36m1\u001b[0m\u001b[1;33m,\u001b[0m \u001b[0mdtype\u001b[0m\u001b[1;33m=\u001b[0m\u001b[0mdtype\u001b[0m\u001b[1;33m,\u001b[0m \u001b[0mcasting\u001b[0m\u001b[1;33m=\u001b[0m\u001b[0mcasting\u001b[0m\u001b[1;33m)\u001b[0m\u001b[1;33m\u001b[0m\u001b[1;33m\u001b[0m\u001b[0m\n\u001b[0m\u001b[0;32m    371\u001b[0m \u001b[1;33m\u001b[0m\u001b[0m\n\u001b[0;32m    372\u001b[0m \u001b[1;33m\u001b[0m\u001b[0m\n",
      "\u001b[1;32m~\\Anaconda3\\lib\\site-packages\\numpy\\core\\overrides.py\u001b[0m in \u001b[0;36mconcatenate\u001b[1;34m(*args, **kwargs)\u001b[0m\n",
      "\u001b[1;31mValueError\u001b[0m: all the input array dimensions except for the concatenation axis must match exactly, but along dimension 0, the array at index 0 has size 2 and the array at index 1 has size 3"
     ]
    }
   ],
   "source": [
    "a = np.arange(1,7).reshape(2,3)\n",
    "b = np.arange(7,16).reshape(3,3)\n",
    "np.hstack((a,b))"
   ]
  },
  {
   "cell_type": "markdown",
   "id": "1ed9e0e2",
   "metadata": {},
   "source": [
    "## dstack()\n",
    "\n",
    "• dstack() --->depth/height stack --->concatenation based on axis-2<br>\n",
    "• 1-D and 2-D arrays will be converted to 3-D array<br>\n",
    "• The result is minimum 3-D array<br>\n",
    "\n",
    "**Rules:**\n",
    "1. This is equivalent to concatenation along the third axis after 2-D arrays of shape (M,N) have been reshaped to (M,N,1) and 1-D arrays of shape (N,) have been reshaped to (1,N,1).<br>\n",
    "2. The arrays must have the same shape along all but the third axis. 1-D or 2-D arrays must have the same shape.<br>\n",
    "3. The array formed by stacking the given arrays, will be at least 3-D."
   ]
  },
  {
   "cell_type": "code",
   "execution_count": null,
   "id": "7af6a219",
   "metadata": {},
   "outputs": [],
   "source": [
    "import numpy as np\n",
    "help(np.dstack)"
   ]
  },
  {
   "cell_type": "code",
   "execution_count": 56,
   "id": "13e36d74",
   "metadata": {},
   "outputs": [
    {
     "data": {
      "text/plain": [
       "array([[[1, 2],\n",
       "        [2, 3],\n",
       "        [3, 4]]])"
      ]
     },
     "execution_count": 56,
     "metadata": {},
     "output_type": "execute_result"
    }
   ],
   "source": [
    "a = np.array([1,2,3])\n",
    "b = np.array([2,3,4])\n",
    "np.dstack((a,b))"
   ]
  },
  {
   "cell_type": "code",
   "execution_count": 57,
   "id": "4d28cc35",
   "metadata": {},
   "outputs": [
    {
     "data": {
      "text/plain": [
       "array([[[1, 2]],\n",
       "\n",
       "       [[2, 3]],\n",
       "\n",
       "       [[3, 4]]])"
      ]
     },
     "execution_count": 57,
     "metadata": {},
     "output_type": "execute_result"
    }
   ],
   "source": [
    "a = np.array([[1],[2],[3]])\n",
    "b = np.array([[2],[3],[4]])\n",
    "np.dstack((a,b))"
   ]
  },
  {
   "cell_type": "markdown",
   "id": "067e44bf",
   "metadata": {},
   "source": [
    "## Summary of joining of nd arrays\n",
    "\n",
    "\n",
    "| Function    | Description                                                       |\n",
    "|-------------|-------------------------------------------------------------------|\n",
    "| `concatenate()` | Join a sequence of arrays along an existing axis.                 |\n",
    "| `stack()`       | Join a sequence of arrays along a new axis.                       |\n",
    "| `vstack()`      | Stack arrays in sequence vertically according to the first axis (axis-0). |\n",
    "| `hstack()`      | Stack arrays in sequence horizontally according to the second axis (axis-1). |\n",
    "| `dstack()`      | Stack arrays in sequence depth-wise according to the third axis (axis-2).   |"
   ]
  },
  {
   "cell_type": "markdown",
   "id": "fde201fa",
   "metadata": {},
   "source": [
    "# Chapter-11 - Splitting of arrays"
   ]
  },
  {
   "cell_type": "markdown",
   "id": "e823dde5",
   "metadata": {},
   "source": [
    "**We can perform split operation on ndarrays using the following functions**<br>\n",
    "\n",
    "1. split()<br>\n",
    "2. vsplit()<br>\n",
    "3. hsplit()<br>\n",
    "4. dsplit()<br>\n",
    "5. array_split()<br>\n",
    "\n",
    "We will get only views, but not copies because the data is not going to be changed"
   ]
  },
  {
   "cell_type": "markdown",
   "id": "38515a16",
   "metadata": {},
   "source": [
    "## split()\n",
    "\n",
    "### split(array, indices_or_sections, axis=0)\n",
    "\n",
    "• Split an array into multiple sub-arrays of equal size.<br>\n",
    "• sections means the number of sub-arrays<br>\n",
    "• it returns list of ndarray objects.<br>\n",
    "• all sections must be of equal size, otherwise error.<br>"
   ]
  },
  {
   "cell_type": "code",
   "execution_count": null,
   "id": "02d085ab",
   "metadata": {},
   "outputs": [],
   "source": [
    "import numpy as np\n",
    "help(np.split)"
   ]
  },
  {
   "cell_type": "markdown",
   "id": "2032a236",
   "metadata": {},
   "source": [
    "### split() based on sections\n",
    "\n",
    "• We can split arrays based on sections or indices.<br>\n",
    "• If we split based on sections, the sizes of sub-arrays should be equal.<br>\n",
    "• If we split based on indices, then the sizes of sub-arrays need not be the same"
   ]
  },
  {
   "cell_type": "markdown",
   "id": "3021df9f",
   "metadata": {},
   "source": [
    "#### 1-D arrays (axis=0)"
   ]
  },
  {
   "cell_type": "code",
   "execution_count": 58,
   "id": "a3edb276",
   "metadata": {},
   "outputs": [
    {
     "name": "stdout",
     "output_type": "stream",
     "text": [
      "array a : [1 2 3 4 5 6 7 8 9]\n",
      "Type of sub_arrays :<class 'list'>\n",
      "sub_arrays : [array([1, 2, 3]), array([4, 5, 6]), array([7, 8, 9])]\n"
     ]
    }
   ],
   "source": [
    "a = np.arange(1,10)\n",
    "sub_arrays = np.split(a,3)\n",
    "print(f\"array a : {a}\")\n",
    "print(f\"Type of sub_arrays :{type(sub_arrays)}\")\n",
    "print(f\"sub_arrays : {sub_arrays}\")"
   ]
  },
  {
   "cell_type": "code",
   "execution_count": 60,
   "id": "3f142897",
   "metadata": {},
   "outputs": [
    {
     "ename": "ValueError",
     "evalue": "array split does not result in an equal division",
     "output_type": "error",
     "traceback": [
      "\u001b[1;31m---------------------------------------------------------------------------\u001b[0m",
      "\u001b[1;31mValueError\u001b[0m                                Traceback (most recent call last)",
      "\u001b[1;32m~\\AppData\\Local\\Temp\\ipykernel_17740\\1353666323.py\u001b[0m in \u001b[0;36m<module>\u001b[1;34m\u001b[0m\n\u001b[0;32m      1\u001b[0m \u001b[1;31m# If dividing array into equal number of specified sections is not possible, then we will get error.\u001b[0m\u001b[1;33m\u001b[0m\u001b[1;33m\u001b[0m\u001b[0m\n\u001b[1;32m----> 2\u001b[1;33m \u001b[0mnp\u001b[0m\u001b[1;33m.\u001b[0m\u001b[0msplit\u001b[0m\u001b[1;33m(\u001b[0m\u001b[0ma\u001b[0m\u001b[1;33m,\u001b[0m\u001b[1;36m4\u001b[0m\u001b[1;33m)\u001b[0m\u001b[1;33m\u001b[0m\u001b[1;33m\u001b[0m\u001b[0m\n\u001b[0m",
      "\u001b[1;32m~\\Anaconda3\\lib\\site-packages\\numpy\\core\\overrides.py\u001b[0m in \u001b[0;36msplit\u001b[1;34m(*args, **kwargs)\u001b[0m\n",
      "\u001b[1;32m~\\Anaconda3\\lib\\site-packages\\numpy\\lib\\shape_base.py\u001b[0m in \u001b[0;36msplit\u001b[1;34m(ary, indices_or_sections, axis)\u001b[0m\n\u001b[0;32m    870\u001b[0m         \u001b[0mN\u001b[0m \u001b[1;33m=\u001b[0m \u001b[0mary\u001b[0m\u001b[1;33m.\u001b[0m\u001b[0mshape\u001b[0m\u001b[1;33m[\u001b[0m\u001b[0maxis\u001b[0m\u001b[1;33m]\u001b[0m\u001b[1;33m\u001b[0m\u001b[1;33m\u001b[0m\u001b[0m\n\u001b[0;32m    871\u001b[0m         \u001b[1;32mif\u001b[0m \u001b[0mN\u001b[0m \u001b[1;33m%\u001b[0m \u001b[0msections\u001b[0m\u001b[1;33m:\u001b[0m\u001b[1;33m\u001b[0m\u001b[1;33m\u001b[0m\u001b[0m\n\u001b[1;32m--> 872\u001b[1;33m             raise ValueError(\n\u001b[0m\u001b[0;32m    873\u001b[0m                 'array split does not result in an equal division') from None\n\u001b[0;32m    874\u001b[0m     \u001b[1;32mreturn\u001b[0m \u001b[0marray_split\u001b[0m\u001b[1;33m(\u001b[0m\u001b[0mary\u001b[0m\u001b[1;33m,\u001b[0m \u001b[0mindices_or_sections\u001b[0m\u001b[1;33m,\u001b[0m \u001b[0maxis\u001b[0m\u001b[1;33m)\u001b[0m\u001b[1;33m\u001b[0m\u001b[1;33m\u001b[0m\u001b[0m\n",
      "\u001b[1;31mValueError\u001b[0m: array split does not result in an equal division"
     ]
    }
   ],
   "source": [
    "# If dividing array into equal number of specified sections is not possible, then we will get error.\n",
    "np.split(a,4)"
   ]
  },
  {
   "cell_type": "markdown",
   "id": "51faecc0",
   "metadata": {},
   "source": [
    "#### 2-D arrays (axis=0 ==> Vertical split)\n",
    "\n",
    "• splitting is based on axis-0 bydefault. ie row wise split(vertical split)<br>\n",
    "• We can also split based on axis-1. column wise split (horizontal split)"
   ]
  },
  {
   "cell_type": "code",
   "execution_count": 61,
   "id": "fc8ba191",
   "metadata": {},
   "outputs": [
    {
     "name": "stdout",
     "output_type": "stream",
     "text": [
      "array a : \n",
      " [[ 1  2  3  4]\n",
      " [ 5  6  7  8]\n",
      " [ 9 10 11 12]\n",
      " [13 14 15 16]\n",
      " [17 18 19 20]\n",
      " [21 22 23 24]]\n",
      "splitting the array into 3 sections along axis-0 : \n",
      " [array([[1, 2, 3, 4],\n",
      "       [5, 6, 7, 8]]), array([[ 9, 10, 11, 12],\n",
      "       [13, 14, 15, 16]]), array([[17, 18, 19, 20],\n",
      "       [21, 22, 23, 24]])]\n"
     ]
    }
   ],
   "source": [
    "# split based on default axis i.e., axis-0 (Vertical Split)\n",
    "a = np.arange(1,25).reshape(6,4)\n",
    "result_3sections = np.split(a,3) # dividing 3 sections vertically\n",
    "print(f\"array a : \\n {a}\")\n",
    "print(f\"splitting the array into 3 sections along axis-0 : \\n {result_3sections}\")\n",
    "# Note: Here we can use various possible sections: 2,3,6"
   ]
  },
  {
   "cell_type": "code",
   "execution_count": 62,
   "id": "22540dcc",
   "metadata": {},
   "outputs": [
    {
     "name": "stdout",
     "output_type": "stream",
     "text": [
      "splitting the array into 2 sections along axis-0 : \n",
      " [array([[ 1,  2,  3,  4],\n",
      "       [ 5,  6,  7,  8],\n",
      "       [ 9, 10, 11, 12]]), array([[13, 14, 15, 16],\n",
      "       [17, 18, 19, 20],\n",
      "       [21, 22, 23, 24]])]\n",
      "splitting the array into 6 sections along axis-0 : \n",
      " [array([[1, 2, 3, 4]]), array([[5, 6, 7, 8]]), array([[ 9, 10, 11, 12]]), array([[13, 14, 15, 16]]), array([[17, 18, 19, 20]]), array([[21, 22, 23, 24]])]\n"
     ]
    }
   ],
   "source": [
    "# Note: Here we can use various possible sections: 2,3,6\n",
    "result_2sections = np.split(a,2,axis=0)\n",
    "result_6sections = np.split(a,6,axis=0)\n",
    "print(f\"splitting the array into 2 sections along axis-0 : \\n {result_2sections}\")\n",
    "print(f\"splitting the array into 6 sections along axis-0 : \\n {result_6sections}\")"
   ]
  },
  {
   "cell_type": "markdown",
   "id": "fc7d6740",
   "metadata": {},
   "source": [
    "#### 2-D arrays (axis=1 ==> Horizontal split)"
   ]
  },
  {
   "cell_type": "code",
   "execution_count": 63,
   "id": "a063b2df",
   "metadata": {},
   "outputs": [
    {
     "name": "stdout",
     "output_type": "stream",
     "text": [
      "splitting the array into 2 sections along axis-0 : \n",
      " [array([[ 1,  2],\n",
      "       [ 5,  6],\n",
      "       [ 9, 10],\n",
      "       [13, 14],\n",
      "       [17, 18],\n",
      "       [21, 22]]), array([[ 3,  4],\n",
      "       [ 7,  8],\n",
      "       [11, 12],\n",
      "       [15, 16],\n",
      "       [19, 20],\n",
      "       [23, 24]])]\n",
      "splitting the array into 4 sections along axis-0 : \n",
      " [array([[ 1],\n",
      "       [ 5],\n",
      "       [ 9],\n",
      "       [13],\n",
      "       [17],\n",
      "       [21]]), array([[ 2],\n",
      "       [ 6],\n",
      "       [10],\n",
      "       [14],\n",
      "       [18],\n",
      "       [22]]), array([[ 3],\n",
      "       [ 7],\n",
      "       [11],\n",
      "       [15],\n",
      "       [19],\n",
      "       [23]]), array([[ 4],\n",
      "       [ 8],\n",
      "       [12],\n",
      "       [16],\n",
      "       [20],\n",
      "       [24]])]\n"
     ]
    }
   ],
   "source": [
    "# split based on axis-1 (horizontal split)\n",
    "# for the shape(6,4) we can perform 4 or 2 sections\n",
    "a = np.arange(1,25).reshape(6,4)\n",
    "result_2sections = np.split(a,2,axis=1) # dividing 2 sections horizontally\n",
    "result_4sections = np.split(a,4,axis=1) # dividing 4 sections horizontally\n",
    "print(f\"splitting the array into 2 sections along axis-0 : \\n {result_2sections}\")\n",
    "print(f\"splitting the array into 4 sections along axis-0 : \\n {result_4sections}\")"
   ]
  },
  {
   "cell_type": "markdown",
   "id": "87bc04e3",
   "metadata": {},
   "source": [
    "### split() based on indices\n",
    "\n",
    "• We can also split based on indices. The sizes of sub-arrays are need not be equal."
   ]
  },
  {
   "cell_type": "markdown",
   "id": "dc62029c",
   "metadata": {},
   "source": [
    "#### 1-D arrays(axis=0)"
   ]
  },
  {
   "cell_type": "markdown",
   "id": "a3c0cb5f",
   "metadata": {},
   "source": [
    "<img src=\"split_1.JPG\" alt=\"split1\" width=\"700\" height=\"700\">"
   ]
  },
  {
   "cell_type": "code",
   "execution_count": 65,
   "id": "9aa351ac",
   "metadata": {},
   "outputs": [
    {
     "name": "stdout",
     "output_type": "stream",
     "text": [
      "array a : [ 10  20  30  40  50  60  70  80  90 100]\n",
      "splitting the 1-D array based on indices : \n",
      " [array([10, 20, 30]), array([40, 50, 60, 70]), array([ 80,  90, 100])]\n"
     ]
    }
   ],
   "source": [
    "# splitting the 1-D array based on indices\n",
    "a = np.arange(10,101,10)\n",
    "result = np.split(a,[3,7])\n",
    "print(f\"array a : {a}\")\n",
    "print(f\"splitting the 1-D array based on indices : \\n {result}\")"
   ]
  },
  {
   "cell_type": "code",
   "execution_count": 67,
   "id": "88f69e96",
   "metadata": {},
   "outputs": [
    {
     "name": "stdout",
     "output_type": "stream",
     "text": [
      "array a : [ 10  20  30  40  50  60  70  80  90 100]\n",
      "splitting the 1-D array based on indices : \n",
      " [array([10, 20]), array([30, 40, 50]), array([60, 70]), array([ 80,  90, 100])]\n"
     ]
    }
   ],
   "source": [
    "# splitting the 1-D array based on indices\n",
    "a = np.arange(10,101,10)\n",
    "result = np.split(a,[2,5,7])\n",
    "# [2,5,7] ==> 4 subarrays\n",
    "# subarray-1 : before index-2 ==> 0,1\n",
    "# subarray-2 : from index-2 to before index-5 ==> 2,3,4\n",
    "# subarray-3 : from index-5 to before index-7 ==> 5,6\n",
    "# subarray-4 : from index-7 to last index ==> 7,8,9\n",
    "print(f\"array a : {a}\")\n",
    "print(f\"splitting the 1-D array based on indices : \\n {result}\")"
   ]
  },
  {
   "cell_type": "markdown",
   "id": "b05e4ab6",
   "metadata": {},
   "source": [
    "#### 2-D arrays(axis=0)\n",
    "\n",
    "<img src=\"split_2.JPG\" alt=\"split1\" width=\"500\" height=\"600\">"
   ]
  },
  {
   "cell_type": "code",
   "execution_count": 69,
   "id": "70ed1cf6",
   "metadata": {},
   "outputs": [
    {
     "name": "stdout",
     "output_type": "stream",
     "text": [
      "array a : \n",
      " [[ 1  2]\n",
      " [ 3  4]\n",
      " [ 5  6]\n",
      " [ 7  8]\n",
      " [ 9 10]\n",
      " [11 12]]\n",
      "resultant array after vertical split : \n",
      " [array([[1, 2],\n",
      "       [3, 4],\n",
      "       [5, 6]]), array([[7, 8]]), array([[ 9, 10],\n",
      "       [11, 12]])]\n"
     ]
    }
   ],
   "source": [
    "# splitting 2-D arrays based on indices along axis=0\n",
    "a = np.arange(1,13).reshape(6,2)\n",
    "result = np.split(a,[3,4])\n",
    "print(f\"array a : \\n {a}\")\n",
    "print(f\"resultant array after vertical split : \\n {result}\")"
   ]
  },
  {
   "cell_type": "markdown",
   "id": "db1b6cf9",
   "metadata": {},
   "source": [
    "#### 2-D arrays(axis=1)\n",
    "\n",
    "<img src=\"split_3.JPG\" alt=\"split3\" width=\"600\" height=\"600\">"
   ]
  },
  {
   "cell_type": "code",
   "execution_count": 82,
   "id": "f21af8e8",
   "metadata": {},
   "outputs": [
    {
     "name": "stdout",
     "output_type": "stream",
     "text": [
      "array a : \n",
      " [[ 1  2  3  4  5  6]\n",
      " [ 7  8  9 10 11 12]\n",
      " [13 14 15 16 17 18]]\n",
      "resultant array after horizontal split : \n",
      " [array([[ 1],\n",
      "       [ 7],\n",
      "       [13]]), array([[ 2,  3],\n",
      "       [ 8,  9],\n",
      "       [14, 15]]), array([[ 4,  5],\n",
      "       [10, 11],\n",
      "       [16, 17]]), array([[ 6],\n",
      "       [12],\n",
      "       [18]])]\n"
     ]
    }
   ],
   "source": [
    "a = np.arange(1,19).reshape(3,6)\n",
    "result = np.split(a,[1,3,5],axis=1)\n",
    "print(f\"array a : \\n {a}\")\n",
    "print(f\"resultant array after horizontal split : \\n {result}\")"
   ]
  },
  {
   "cell_type": "code",
   "execution_count": 83,
   "id": "58e56ef3",
   "metadata": {},
   "outputs": [
    {
     "name": "stdout",
     "output_type": "stream",
     "text": [
      "array a : \n",
      " [[ 1  2  3  4  5  6]\n",
      " [ 7  8  9 10 11 12]\n",
      " [13 14 15 16 17 18]]\n",
      "resultant array after horizontal split : \n",
      " [array([[ 1,  2],\n",
      "       [ 7,  8],\n",
      "       [13, 14]]), array([[ 3,  4],\n",
      "       [ 9, 10],\n",
      "       [15, 16]]), array([], shape=(3, 0), dtype=int32), array([[ 5,  6],\n",
      "       [11, 12],\n",
      "       [17, 18]])]\n",
      "first subarray : \n",
      " [[ 1  2]\n",
      " [ 7  8]\n",
      " [13 14]]\n",
      "second subarray : \n",
      " [[ 3  4]\n",
      " [ 9 10]\n",
      " [15 16]]\n",
      "third subarray : \n",
      " []\n",
      "fourth subarray : \n",
      " [[ 5  6]\n",
      " [11 12]\n",
      " [17 18]]\n"
     ]
    }
   ],
   "source": [
    "a = np.arange(1,19).reshape(3,6)\n",
    "result = np.split(a,[2,4,4],axis=1)\n",
    "# [2,4,4] => 4 subarrays are created\n",
    "# subarray1: 2 ==> before index-2 ==> 0,1\n",
    "# subarray2: 4 ==> from index-2 to before index-4 ==> 2,3\n",
    "# subarray3: 4 ==> from index-4 to before index-4 ==> empty array\n",
    "# subarray4: ==> from index-4 to last index ==> 4,5\n",
    "print(f\"array a : \\n {a}\")\n",
    "print(f\"resultant array after horizontal split : \\n {result}\")\n",
    "print(f\"first subarray : \\n {result[0]}\")\n",
    "print(f\"second subarray : \\n {result[1]}\")\n",
    "print(f\"third subarray : \\n {result[2]}\")\n",
    "print(f\"fourth subarray : \\n {result[3]}\")"
   ]
  },
  {
   "cell_type": "code",
   "execution_count": 84,
   "id": "38ef59d3",
   "metadata": {},
   "outputs": [
    {
     "name": "stdout",
     "output_type": "stream",
     "text": [
      "array a : \n",
      " [[ 1  2  3  4  5  6]\n",
      " [ 7  8  9 10 11 12]\n",
      " [13 14 15 16 17 18]]\n",
      "resultant array after horizontal split : \n",
      " [array([], shape=(3, 0), dtype=int32), array([[ 1,  2],\n",
      "       [ 7,  8],\n",
      "       [13, 14]]), array([[ 3,  4,  5,  6],\n",
      "       [ 9, 10, 11, 12],\n",
      "       [15, 16, 17, 18]]), array([], shape=(3, 0), dtype=int32)]\n",
      "first subarray : \n",
      " []\n",
      "second subarray : \n",
      " [[ 1  2]\n",
      " [ 7  8]\n",
      " [13 14]]\n",
      "third subarray : \n",
      " [[ 3  4  5  6]\n",
      " [ 9 10 11 12]\n",
      " [15 16 17 18]]\n",
      "fourth subarray : \n",
      " []\n"
     ]
    }
   ],
   "source": [
    "a = np.arange(1,19).reshape(3,6)\n",
    "result = np.split(a,[0,2,6],axis=1)\n",
    "# [0,2,6] => 4 subarrays are created\n",
    "# subarray1: 0 ==> before index-0 ==> empty\n",
    "# subarray2: 2 ==> from index-0 to before index-2 ==> 0,1\n",
    "# subarray3: 6 ==> from index-2 to before index-6 ==> 2,3,4,5\n",
    "# subarray4: ==> from index-6 to last index ==> empty\n",
    "print(f\"array a : \\n {a}\")\n",
    "print(f\"resultant array after horizontal split : \\n {result}\")\n",
    "print(f\"first subarray : \\n {result[0]}\")\n",
    "print(f\"second subarray : \\n {result[1]}\")\n",
    "print(f\"third subarray : \\n {result[2]}\")\n",
    "print(f\"fourth subarray : \\n {result[3]}\")"
   ]
  },
  {
   "cell_type": "code",
   "execution_count": 85,
   "id": "090bde5b",
   "metadata": {},
   "outputs": [
    {
     "name": "stdout",
     "output_type": "stream",
     "text": [
      "array a : \n",
      " [[ 1  2  3  4  5  6]\n",
      " [ 7  8  9 10 11 12]\n",
      " [13 14 15 16 17 18]]\n",
      "resultant array after horizontal split : \n",
      " [array([[ 1],\n",
      "       [ 7],\n",
      "       [13]]), array([[ 2,  3,  4,  5],\n",
      "       [ 8,  9, 10, 11],\n",
      "       [14, 15, 16, 17]]), array([], shape=(3, 0), dtype=int32), array([[ 4,  5,  6],\n",
      "       [10, 11, 12],\n",
      "       [16, 17, 18]])]\n",
      "first subarray : \n",
      " [[ 1]\n",
      " [ 7]\n",
      " [13]]\n",
      "second subarray : \n",
      " [[ 2  3  4  5]\n",
      " [ 8  9 10 11]\n",
      " [14 15 16 17]]\n",
      "third subarray : \n",
      " []\n",
      "fourth subarray : \n",
      " [[ 4  5  6]\n",
      " [10 11 12]\n",
      " [16 17 18]]\n"
     ]
    }
   ],
   "source": [
    "a = np.arange(1,19).reshape(3,6)\n",
    "result = np.split(a,[1,5,3],axis=1)\n",
    "# [1,5,3] => 4 subarrays are created\n",
    "# subarray1: 1 ==> before index-1 ==> 0\n",
    "# subarray2: 5 ==> from index-1 to before index-5 ==> 1,2,3,4\n",
    "# subarray3: 3 ==> from index-5 to before index-3 ==> empty\n",
    "# subarray4: ==> from index-3 to last index ==> 3,4,5\n",
    "print(f\"array a : \\n {a}\")\n",
    "print(f\"resultant array after horizontal split : \\n {result}\")\n",
    "print(f\"first subarray : \\n {result[0]}\")\n",
    "print(f\"second subarray : \\n {result[1]}\")\n",
    "print(f\"third subarray : \\n {result[2]}\")\n",
    "print(f\"fourth subarray : \\n {result[3]}\")"
   ]
  },
  {
   "cell_type": "markdown",
   "id": "e0b23a97",
   "metadata": {},
   "source": [
    "## vsplit()\n",
    "\n",
    "• vsplit means vertical split means row wise split<br>\n",
    "• split is based on axis-0"
   ]
  },
  {
   "cell_type": "code",
   "execution_count": 93,
   "id": "5634675f",
   "metadata": {
    "collapsed": true
   },
   "outputs": [
    {
     "name": "stdout",
     "output_type": "stream",
     "text": [
      "Help on function vsplit in module numpy:\n",
      "\n",
      "vsplit(ary, indices_or_sections)\n",
      "    Split an array into multiple sub-arrays vertically (row-wise).\n",
      "    \n",
      "    Please refer to the ``split`` documentation.  ``vsplit`` is equivalent\n",
      "    to ``split`` with `axis=0` (default), the array is always split along the\n",
      "    first axis regardless of the array dimension.\n",
      "    \n",
      "    See Also\n",
      "    --------\n",
      "    split : Split an array into multiple sub-arrays of equal size.\n",
      "    \n",
      "    Examples\n",
      "    --------\n",
      "    >>> x = np.arange(16.0).reshape(4, 4)\n",
      "    >>> x\n",
      "    array([[ 0.,   1.,   2.,   3.],\n",
      "           [ 4.,   5.,   6.,   7.],\n",
      "           [ 8.,   9.,  10.,  11.],\n",
      "           [12.,  13.,  14.,  15.]])\n",
      "    >>> np.vsplit(x, 2)\n",
      "    [array([[0., 1., 2., 3.],\n",
      "           [4., 5., 6., 7.]]), array([[ 8.,  9., 10., 11.],\n",
      "           [12., 13., 14., 15.]])]\n",
      "    >>> np.vsplit(x, np.array([3, 6]))\n",
      "    [array([[ 0.,  1.,  2.,  3.],\n",
      "           [ 4.,  5.,  6.,  7.],\n",
      "           [ 8.,  9., 10., 11.]]), array([[12., 13., 14., 15.]]), array([], shape=(0, 4), dtype=float64)]\n",
      "    \n",
      "    With a higher dimensional array the split is still along the first axis.\n",
      "    \n",
      "    >>> x = np.arange(8.0).reshape(2, 2, 2)\n",
      "    >>> x\n",
      "    array([[[0.,  1.],\n",
      "            [2.,  3.]],\n",
      "           [[4.,  5.],\n",
      "            [6.,  7.]]])\n",
      "    >>> np.vsplit(x, 2)\n",
      "    [array([[[0., 1.],\n",
      "            [2., 3.]]]), array([[[4., 5.],\n",
      "            [6., 7.]]])]\n",
      "\n"
     ]
    }
   ],
   "source": [
    "import numpy as np\n",
    "help(np.vsplit)"
   ]
  },
  {
   "cell_type": "markdown",
   "id": "4532c4e7",
   "metadata": {},
   "source": [
    "### 1-D arrays\n",
    "\n",
    "• To use vsplit, input array should be atleast 2-D array<br>\n",
    "• It is not possible to split 1-D array vertically."
   ]
  },
  {
   "cell_type": "code",
   "execution_count": 94,
   "id": "3ee6a4f1",
   "metadata": {},
   "outputs": [
    {
     "ename": "ValueError",
     "evalue": "vsplit only works on arrays of 2 or more dimensions",
     "output_type": "error",
     "traceback": [
      "\u001b[1;31m---------------------------------------------------------------------------\u001b[0m",
      "\u001b[1;31mValueError\u001b[0m                                Traceback (most recent call last)",
      "\u001b[1;32m~\\AppData\\Local\\Temp\\ipykernel_17740\\3704567713.py\u001b[0m in \u001b[0;36m<module>\u001b[1;34m\u001b[0m\n\u001b[0;32m      1\u001b[0m \u001b[0ma\u001b[0m \u001b[1;33m=\u001b[0m \u001b[0mnp\u001b[0m\u001b[1;33m.\u001b[0m\u001b[0marange\u001b[0m\u001b[1;33m(\u001b[0m\u001b[1;36m10\u001b[0m\u001b[1;33m)\u001b[0m\u001b[1;33m\u001b[0m\u001b[1;33m\u001b[0m\u001b[0m\n\u001b[1;32m----> 2\u001b[1;33m \u001b[0mnp\u001b[0m\u001b[1;33m.\u001b[0m\u001b[0mvsplit\u001b[0m\u001b[1;33m(\u001b[0m\u001b[0ma\u001b[0m\u001b[1;33m,\u001b[0m\u001b[1;36m2\u001b[0m\u001b[1;33m)\u001b[0m\u001b[1;33m\u001b[0m\u001b[1;33m\u001b[0m\u001b[0m\n\u001b[0m",
      "\u001b[1;32m~\\Anaconda3\\lib\\site-packages\\numpy\\core\\overrides.py\u001b[0m in \u001b[0;36mvsplit\u001b[1;34m(*args, **kwargs)\u001b[0m\n",
      "\u001b[1;32m~\\Anaconda3\\lib\\site-packages\\numpy\\lib\\shape_base.py\u001b[0m in \u001b[0;36mvsplit\u001b[1;34m(ary, indices_or_sections)\u001b[0m\n\u001b[0;32m    994\u001b[0m     \"\"\"\n\u001b[0;32m    995\u001b[0m     \u001b[1;32mif\u001b[0m \u001b[0m_nx\u001b[0m\u001b[1;33m.\u001b[0m\u001b[0mndim\u001b[0m\u001b[1;33m(\u001b[0m\u001b[0mary\u001b[0m\u001b[1;33m)\u001b[0m \u001b[1;33m<\u001b[0m \u001b[1;36m2\u001b[0m\u001b[1;33m:\u001b[0m\u001b[1;33m\u001b[0m\u001b[1;33m\u001b[0m\u001b[0m\n\u001b[1;32m--> 996\u001b[1;33m         \u001b[1;32mraise\u001b[0m \u001b[0mValueError\u001b[0m\u001b[1;33m(\u001b[0m\u001b[1;34m'vsplit only works on arrays of 2 or more dimensions'\u001b[0m\u001b[1;33m)\u001b[0m\u001b[1;33m\u001b[0m\u001b[1;33m\u001b[0m\u001b[0m\n\u001b[0m\u001b[0;32m    997\u001b[0m     \u001b[1;32mreturn\u001b[0m \u001b[0msplit\u001b[0m\u001b[1;33m(\u001b[0m\u001b[0mary\u001b[0m\u001b[1;33m,\u001b[0m \u001b[0mindices_or_sections\u001b[0m\u001b[1;33m,\u001b[0m \u001b[1;36m0\u001b[0m\u001b[1;33m)\u001b[0m\u001b[1;33m\u001b[0m\u001b[1;33m\u001b[0m\u001b[0m\n\u001b[0;32m    998\u001b[0m \u001b[1;33m\u001b[0m\u001b[0m\n",
      "\u001b[1;31mValueError\u001b[0m: vsplit only works on arrays of 2 or more dimensions"
     ]
    }
   ],
   "source": [
    "a = np.arange(10)\n",
    "np.vsplit(a,2)"
   ]
  },
  {
   "cell_type": "markdown",
   "id": "6ec5b238",
   "metadata": {},
   "source": [
    "### 2-D arrays"
   ]
  },
  {
   "cell_type": "code",
   "execution_count": 96,
   "id": "328a4ef8",
   "metadata": {},
   "outputs": [
    {
     "name": "stdout",
     "output_type": "stream",
     "text": [
      "array is: [[ 1  2]\n",
      " [ 3  4]\n",
      " [ 5  6]\n",
      " [ 7  8]\n",
      " [ 9 10]\n",
      " [11 12]]\n"
     ]
    },
    {
     "data": {
      "text/plain": [
       "[array([[1, 2],\n",
       "        [3, 4],\n",
       "        [5, 6]]),\n",
       " array([[ 7,  8],\n",
       "        [ 9, 10],\n",
       "        [11, 12]])]"
      ]
     },
     "execution_count": 96,
     "metadata": {},
     "output_type": "execute_result"
    }
   ],
   "source": [
    "a = np.arange(1,13).reshape(6,2)\n",
    "print(f'array is: {a}')\n",
    "np.vsplit(a,2)"
   ]
  },
  {
   "cell_type": "code",
   "execution_count": 97,
   "id": "f2459c30",
   "metadata": {},
   "outputs": [
    {
     "data": {
      "text/plain": [
       "[array([[1, 2],\n",
       "        [3, 4]]),\n",
       " array([[5, 6],\n",
       "        [7, 8]]),\n",
       " array([[ 9, 10],\n",
       "        [11, 12]])]"
      ]
     },
     "execution_count": 97,
     "metadata": {},
     "output_type": "execute_result"
    }
   ],
   "source": [
    "np.vsplit(a,3)"
   ]
  },
  {
   "cell_type": "code",
   "execution_count": 98,
   "id": "fba142f4",
   "metadata": {},
   "outputs": [
    {
     "data": {
      "text/plain": [
       "[array([[1, 2]]),\n",
       " array([[3, 4]]),\n",
       " array([[5, 6]]),\n",
       " array([[7, 8]]),\n",
       " array([[ 9, 10]]),\n",
       " array([[11, 12]])]"
      ]
     },
     "execution_count": 98,
     "metadata": {},
     "output_type": "execute_result"
    }
   ],
   "source": [
    "np.vsplit(a,6)"
   ]
  },
  {
   "cell_type": "code",
   "execution_count": 90,
   "id": "791598e8",
   "metadata": {},
   "outputs": [
    {
     "data": {
      "text/plain": [
       "[array([[1, 2],\n",
       "        [3, 4],\n",
       "        [5, 6]]),\n",
       " array([[7, 8]]),\n",
       " array([[ 9, 10],\n",
       "        [11, 12]])]"
      ]
     },
     "execution_count": 90,
     "metadata": {},
     "output_type": "execute_result"
    }
   ],
   "source": [
    "# vsplit() based on indices:\n",
    "a = np.arange(1,13).reshape(6,2)\n",
    "np.vsplit(a,[3,4])"
   ]
  },
  {
   "cell_type": "markdown",
   "id": "753e5e66",
   "metadata": {},
   "source": [
    "## hsplit()\n",
    "\n",
    "• hsplit--->means horizontal split(column wise)<br>\n",
    "• split will be happend based on 2nd axis (axis-1)"
   ]
  },
  {
   "cell_type": "code",
   "execution_count": null,
   "id": "4ba4c926",
   "metadata": {},
   "outputs": [],
   "source": [
    "import numpy as np\n",
    "help(np.hsplit)"
   ]
  },
  {
   "cell_type": "markdown",
   "id": "2b038153",
   "metadata": {},
   "source": [
    "### 1-D arrays"
   ]
  },
  {
   "cell_type": "code",
   "execution_count": 91,
   "id": "88c23c71",
   "metadata": {},
   "outputs": [
    {
     "data": {
      "text/plain": [
       "[array([0, 1, 2, 3, 4]), array([5, 6, 7, 8, 9])]"
      ]
     },
     "execution_count": 91,
     "metadata": {},
     "output_type": "execute_result"
    }
   ],
   "source": [
    "a = np.arange(10)\n",
    "np.hsplit(a,2)"
   ]
  },
  {
   "cell_type": "markdown",
   "id": "84443034",
   "metadata": {},
   "source": [
    "## 2-D arrays\n",
    "\n",
    "• Based on axis-1 only"
   ]
  },
  {
   "cell_type": "code",
   "execution_count": 92,
   "id": "1ce96c1f",
   "metadata": {},
   "outputs": [
    {
     "data": {
      "text/plain": [
       "[array([[ 1,  2],\n",
       "        [ 5,  6],\n",
       "        [ 9, 10]]),\n",
       " array([[ 3,  4],\n",
       "        [ 7,  8],\n",
       "        [11, 12]])]"
      ]
     },
     "execution_count": 92,
     "metadata": {},
     "output_type": "execute_result"
    }
   ],
   "source": [
    "a = np.arange(1,13).reshape(3,4)\n",
    "np.hsplit(a,2)"
   ]
  },
  {
   "cell_type": "code",
   "execution_count": 99,
   "id": "7cc0519a",
   "metadata": {},
   "outputs": [
    {
     "data": {
      "text/plain": [
       "[array([10, 20]), array([30, 40]), array([ 50,  60,  70,  80,  90, 100])]"
      ]
     },
     "execution_count": 99,
     "metadata": {},
     "output_type": "execute_result"
    }
   ],
   "source": [
    "# hsplit() based on indices:\n",
    "a = np.arange(10,101,10)\n",
    "np.hsplit(a,[2,4])"
   ]
  },
  {
   "cell_type": "code",
   "execution_count": 100,
   "id": "1e2b0cf6",
   "metadata": {},
   "outputs": [
    {
     "data": {
      "text/plain": [
       "[array([[ 0,  1],\n",
       "        [ 6,  7],\n",
       "        [12, 13],\n",
       "        [18, 19]]),\n",
       " array([[ 2,  3],\n",
       "        [ 8,  9],\n",
       "        [14, 15],\n",
       "        [20, 21]]),\n",
       " array([[ 4,  5],\n",
       "        [10, 11],\n",
       "        [16, 17],\n",
       "        [22, 23]])]"
      ]
     },
     "execution_count": 100,
     "metadata": {},
     "output_type": "execute_result"
    }
   ],
   "source": [
    "a = np.arange(24).reshape(4,6)\n",
    "np.hsplit(a,[2,4])"
   ]
  },
  {
   "cell_type": "markdown",
   "id": "c5a3bc1d",
   "metadata": {},
   "source": [
    "## dsplit()\n",
    "\n",
    "• dsplit --->means depth split<br>\n",
    "• splitting based on 3rd axis(axis-2)"
   ]
  },
  {
   "cell_type": "code",
   "execution_count": null,
   "id": "3031a1ee",
   "metadata": {},
   "outputs": [],
   "source": [
    "import numpy as np\n",
    "help(np.dsplit)"
   ]
  },
  {
   "cell_type": "code",
   "execution_count": 101,
   "id": "21b322e6",
   "metadata": {},
   "outputs": [
    {
     "data": {
      "text/plain": [
       "array([[[ 0,  1,  2,  3],\n",
       "        [ 4,  5,  6,  7],\n",
       "        [ 8,  9, 10, 11]],\n",
       "\n",
       "       [[12, 13, 14, 15],\n",
       "        [16, 17, 18, 19],\n",
       "        [20, 21, 22, 23]]])"
      ]
     },
     "execution_count": 101,
     "metadata": {},
     "output_type": "execute_result"
    }
   ],
   "source": [
    "a = np.arange(24).reshape(2,3,4)\n",
    "a"
   ]
  },
  {
   "cell_type": "code",
   "execution_count": 102,
   "id": "047997b0",
   "metadata": {},
   "outputs": [
    {
     "data": {
      "text/plain": [
       "[array([[[ 0,  1],\n",
       "         [ 4,  5],\n",
       "         [ 8,  9]],\n",
       " \n",
       "        [[12, 13],\n",
       "         [16, 17],\n",
       "         [20, 21]]]),\n",
       " array([[[ 2,  3],\n",
       "         [ 6,  7],\n",
       "         [10, 11]],\n",
       " \n",
       "        [[14, 15],\n",
       "         [18, 19],\n",
       "         [22, 23]]])]"
      ]
     },
     "execution_count": 102,
     "metadata": {},
     "output_type": "execute_result"
    }
   ],
   "source": [
    "# dsplit based on sections\n",
    "np.dsplit(a,2)"
   ]
  },
  {
   "cell_type": "code",
   "execution_count": 103,
   "id": "562810e3",
   "metadata": {},
   "outputs": [
    {
     "data": {
      "text/plain": [
       "[array([[[ 0],\n",
       "         [ 4],\n",
       "         [ 8]],\n",
       " \n",
       "        [[12],\n",
       "         [16],\n",
       "         [20]]]),\n",
       " array([[[ 1,  2],\n",
       "         [ 5,  6],\n",
       "         [ 9, 10]],\n",
       " \n",
       "        [[13, 14],\n",
       "         [17, 18],\n",
       "         [21, 22]]]),\n",
       " array([[[ 3],\n",
       "         [ 7],\n",
       "         [11]],\n",
       " \n",
       "        [[15],\n",
       "         [19],\n",
       "         [23]]])]"
      ]
     },
     "execution_count": 103,
     "metadata": {},
     "output_type": "execute_result"
    }
   ],
   "source": [
    "# dsplit based on indices\n",
    "np.dsplit(a,[1,3])"
   ]
  },
  {
   "cell_type": "markdown",
   "id": "96937b6f",
   "metadata": {},
   "source": [
    "## array_split()\n",
    "\n",
    "• In the case of **split()** with sections, the array should be splitted into equal parts. If equal parts are not possible, then we will get error.<br>\n",
    "• But in the case of **array_split()** we won't get any error.<br>\n",
    "\n",
    "1. The only difference between split() and array_split() is that 'array_split' allows 'indices_or_sections' to be an integer that does not equally divide the axis.\n",
    "2. For an array of length x that should be split into n sections, it returns x % n subarrays of size x//n + 1 and the rest of size x//n"
   ]
  },
  {
   "cell_type": "code",
   "execution_count": null,
   "id": "f759b7f8",
   "metadata": {},
   "outputs": [],
   "source": [
    "import numpy as np\n",
    "help(np.array_split)"
   ]
  },
  {
   "cell_type": "code",
   "execution_count": 104,
   "id": "4546075e",
   "metadata": {},
   "outputs": [
    {
     "data": {
      "text/plain": [
       "[array([10, 20, 30, 40]), array([50, 60, 70]), array([ 80,  90, 100])]"
      ]
     },
     "execution_count": 104,
     "metadata": {},
     "output_type": "execute_result"
    }
   ],
   "source": [
    "# x % n sub-arrays of size x//n + 1\n",
    "# and the rest of size x//n\n",
    "# eg-1:\n",
    "# 10 elements --->3 sections\n",
    "# 10%3(1) sub-arrays of size 10//3+1(4)\n",
    "# and the rest(2) of size 10//3 (3)\n",
    "# 1 sub-array of size 4 and the rest of size 3\n",
    "#(4,3,3)\n",
    "a = np.arange(10,101,10)\n",
    "np.array_split(a,3)"
   ]
  },
  {
   "cell_type": "code",
   "execution_count": 105,
   "id": "fb02e812",
   "metadata": {},
   "outputs": [
    {
     "data": {
      "text/plain": [
       "[array([0, 1, 2, 3]), array([4, 5, 6, 7]), array([ 8,  9, 10])]"
      ]
     },
     "execution_count": 105,
     "metadata": {},
     "output_type": "execute_result"
    }
   ],
   "source": [
    "# Eg: 2\n",
    "# 11 elements 3 sections\n",
    "# it returns x % n (11%3=2)sub-arrays of size x//n + 1(11//3+1=4)\n",
    "# and the rest(1) of size x//n.(11//3=3)\n",
    "# (4,4,3)\n",
    "a = np.arange(11)\n",
    "np.array_split(a,3)"
   ]
  },
  {
   "cell_type": "code",
   "execution_count": 106,
   "id": "e471a650",
   "metadata": {},
   "outputs": [
    {
     "data": {
      "text/plain": [
       "array([[ 0,  1,  2,  3],\n",
       "       [ 4,  5,  6,  7],\n",
       "       [ 8,  9, 10, 11],\n",
       "       [12, 13, 14, 15],\n",
       "       [16, 17, 18, 19],\n",
       "       [20, 21, 22, 23]])"
      ]
     },
     "execution_count": 106,
     "metadata": {},
     "output_type": "execute_result"
    }
   ],
   "source": [
    "# 2-D array\n",
    "# x=6 n=4\n",
    "# x % n sub-arrays of size x//n + 1-->2 sub-arrays of size:2\n",
    "# rest of size x//n.--->2 sub-arrays of size:1\n",
    "# 2,2,1,1,\n",
    "a = np.arange(24).reshape(6,4)\n",
    "a"
   ]
  },
  {
   "cell_type": "code",
   "execution_count": 107,
   "id": "8292c96f",
   "metadata": {},
   "outputs": [
    {
     "data": {
      "text/plain": [
       "[array([[0, 1, 2, 3],\n",
       "        [4, 5, 6, 7]]),\n",
       " array([[ 8,  9, 10, 11],\n",
       "        [12, 13, 14, 15]]),\n",
       " array([[16, 17, 18, 19]]),\n",
       " array([[20, 21, 22, 23]])]"
      ]
     },
     "execution_count": 107,
     "metadata": {},
     "output_type": "execute_result"
    }
   ],
   "source": [
    "np.array_split(a,4)"
   ]
  },
  {
   "cell_type": "markdown",
   "id": "b592db7d",
   "metadata": {},
   "source": [
    "## summary of split methods\n",
    "\n",
    "| Method       | Description                                                                                     |\n",
    "|--------------|-------------------------------------------------------------------------------------------------|\n",
    "| `split()`    | Split an array into multiple sub-arrays of equal size. Raises error if equal division cannot be made. |\n",
    "| `vsplit()`   | Split array into multiple sub-arrays vertically (row wise).                                     |\n",
    "| `hsplit()`   | Split array into multiple sub-arrays horizontally (column-wise).                                |\n",
    "| `dsplit()`   | Split array into multiple sub-arrays along the 3rd axis (depth).                                |\n",
    "| `array_split()` | Split an array into multiple sub-arrays of equal or near-equal size. Does not raise an exception if an equal division cannot be made. |\n"
   ]
  },
  {
   "cell_type": "markdown",
   "id": "1f30c8f3",
   "metadata": {},
   "source": [
    "# Chapter-12 - Sorting elements of nd arrays"
   ]
  },
  {
   "cell_type": "markdown",
   "id": "c0ca7630",
   "metadata": {},
   "source": [
    "Sorting elements of nd arrays<br>\n",
    "\n",
    "• We can sort elements of nd array.<br>\n",
    "• numpy module contains sort() function.<br>\n",
    "• The default sorting algorithm is quicksort and it is Ascending order<br>\n",
    "• We can also specify mergesort, heapsort etc<br>\n",
    "• For numbers-->Ascending order<br>\n",
    "• For Strings-->alphabetical order"
   ]
  },
  {
   "cell_type": "code",
   "execution_count": null,
   "id": "1039427e",
   "metadata": {},
   "outputs": [],
   "source": [
    "import numpy as np\n",
    "help(np.sort)"
   ]
  },
  {
   "cell_type": "markdown",
   "id": "4d7be154",
   "metadata": {},
   "source": [
    "## 1-D arrays"
   ]
  },
  {
   "cell_type": "code",
   "execution_count": 108,
   "id": "0b01264e",
   "metadata": {},
   "outputs": [
    {
     "name": "stdout",
     "output_type": "stream",
     "text": [
      "Original array a : [70 20 60 10 50 40 30]\n",
      "Sorted array(Ascending by default) : [10 20 30 40 50 60 70]\n"
     ]
    }
   ],
   "source": [
    "# 1-D arrays\n",
    "a = np.array([70,20,60,10,50,40,30])\n",
    "sorted_array = np.sort(a)\n",
    "print(f\"Original array a : {a}\")\n",
    "print(f\"Sorted array(Ascending by default) : {sorted_array}\")"
   ]
  },
  {
   "cell_type": "code",
   "execution_count": 109,
   "id": "1cbe8899",
   "metadata": {},
   "outputs": [
    {
     "name": "stdout",
     "output_type": "stream",
     "text": [
      "Original array a : [70 20 60 10 50 40 30]\n",
      "Sorted array(Descending) : [70 60 50 40 30 20 10]\n"
     ]
    }
   ],
   "source": [
    "# Descending the 1-D arrays\n",
    "# 1st way :: np.sort(a)[::-1]\n",
    "a = np.array([70,20,60,10,50,40,30])\n",
    "sorted_array = np.sort(a)[::-1]\n",
    "print(f\"Original array a : {a}\")\n",
    "print(f\"Sorted array(Descending) : {sorted_array}\")"
   ]
  },
  {
   "cell_type": "code",
   "execution_count": 110,
   "id": "d3c8397f",
   "metadata": {},
   "outputs": [
    {
     "data": {
      "text/plain": [
       "array([-70, -20, -60, -10, -50, -40, -30])"
      ]
     },
     "execution_count": 110,
     "metadata": {},
     "output_type": "execute_result"
    }
   ],
   "source": [
    "# Descending the 1-D arrays\n",
    "# 2nd way :: -np.sort(-a)\n",
    "a = np.array([70,20,60,10,50,40,30])\n",
    "-a"
   ]
  },
  {
   "cell_type": "code",
   "execution_count": 111,
   "id": "8fdc2665",
   "metadata": {},
   "outputs": [
    {
     "data": {
      "text/plain": [
       "array([-70, -60, -50, -40, -30, -20, -10])"
      ]
     },
     "execution_count": 111,
     "metadata": {},
     "output_type": "execute_result"
    }
   ],
   "source": [
    "np.sort(-a) # Ascending order"
   ]
  },
  {
   "cell_type": "code",
   "execution_count": 112,
   "id": "be90e9e3",
   "metadata": {},
   "outputs": [
    {
     "data": {
      "text/plain": [
       "array([70, 60, 50, 40, 30, 20, 10])"
      ]
     },
     "execution_count": 112,
     "metadata": {},
     "output_type": "execute_result"
    }
   ],
   "source": [
    "-np.sort(-a) # Descending Order"
   ]
  },
  {
   "cell_type": "code",
   "execution_count": 113,
   "id": "2175ba78",
   "metadata": {},
   "outputs": [
    {
     "name": "stdout",
     "output_type": "stream",
     "text": [
      "Original array a : ['cat' 'rat' 'bat' 'vat' 'dog']\n",
      "Sorted array(Ascending) : ['bat' 'cat' 'dog' 'rat' 'vat']\n",
      "Sorted array(Descending) : ['vat' 'rat' 'dog' 'cat' 'bat']\n"
     ]
    }
   ],
   "source": [
    "# To sort string elements in alphabetical order\n",
    "a = np.array(['cat','rat','bat','vat','dog'])\n",
    "ascending = np.sort(a)\n",
    "descending = np.sort(a)[::-1]\n",
    "# -np.sort(-a) ==> 2nd way is not possible\n",
    "print(f\"Original array a : {a}\")\n",
    "print(f\"Sorted array(Ascending) : {ascending}\")\n",
    "print(f\"Sorted array(Descending) : {descending}\")"
   ]
  },
  {
   "cell_type": "markdown",
   "id": "faa3ea23",
   "metadata": {},
   "source": [
    "## 2-D arrays\n",
    "\n",
    "• axis-0 --->the number of rows (axis = -2)<br>\n",
    "• axis-1--->the number of columns (axis= -1) ==> defautl value<br>\n",
    "• sorting is based on columns in 2-D arrays by default. Every 1-D array will be sorted."
   ]
  },
  {
   "cell_type": "code",
   "execution_count": 114,
   "id": "faa28f1a",
   "metadata": {},
   "outputs": [
    {
     "name": "stdout",
     "output_type": "stream",
     "text": [
      "Original array a :\n",
      " [[40 20 70]\n",
      " [30 20 60]\n",
      " [70 90 80]]\n",
      "Sorted array(Ascending) : \n",
      " [[20 40 70]\n",
      " [20 30 60]\n",
      " [70 80 90]]\n"
     ]
    }
   ],
   "source": [
    "a= np.array([[40,20,70],[30,20,60],[70,90,80]])\n",
    "ascending = np.sort(a)\n",
    "print(f\"Original array a :\\n {a}\")\n",
    "print(f\"Sorted array(Ascending) : \\n {ascending}\")"
   ]
  },
  {
   "cell_type": "markdown",
   "id": "1b989b27",
   "metadata": {},
   "source": [
    "### order parameter\n",
    "• Use the order keyword to specify a field to use when sorting a structured array:"
   ]
  },
  {
   "cell_type": "code",
   "execution_count": 115,
   "id": "e4c8077e",
   "metadata": {},
   "outputs": [
    {
     "name": "stdout",
     "output_type": "stream",
     "text": [
      "Original Array :\n",
      " [(b'Gopie', 1.7, 45) (b'Vikranth', 1.5, 38) (b'Sathwik', 1.8, 28)]\n",
      "Sorting based on height :\n",
      " [(b'Vikranth', 1.5, 38) (b'Gopie', 1.7, 45) (b'Sathwik', 1.8, 28)]\n",
      "Sorting based on age :\n",
      " [(b'Sathwik', 1.8, 28) (b'Vikranth', 1.5, 38) (b'Gopie', 1.7, 45)]\n"
     ]
    }
   ],
   "source": [
    "# creating the structured array\n",
    "dtype = [('name', 'S10'), ('height', float), ('age', int)]\n",
    "values = [('Gopie', 1.7, 45), ('Vikranth', 1.5, 38),('Sathwik', 1.8, 28)]\n",
    "a = np.array(values, dtype=dtype)\n",
    "sort_height = np.sort(a, order='height')\n",
    "sort_age = np.sort(a,order='age')\n",
    "print(f\"Original Array :\\n {a}\")\n",
    "print(f\"Sorting based on height :\\n {sort_height}\")\n",
    "print(f\"Sorting based on age :\\n {sort_age}\")"
   ]
  },
  {
   "cell_type": "code",
   "execution_count": 116,
   "id": "6ccc05ce",
   "metadata": {},
   "outputs": [
    {
     "name": "stdout",
     "output_type": "stream",
     "text": [
      "Original Array :\n",
      " [(b'Gopie', 1.7, 45) (b'Vikranth', 1.5, 38) (b'Sathwik', 1.8, 28)\n",
      " (b'Rudra', 1.5, 28)]\n",
      "Sorting based on height :\n",
      " [(b'Rudra', 1.5, 28) (b'Sathwik', 1.8, 28) (b'Vikranth', 1.5, 38)\n",
      " (b'Gopie', 1.7, 45)]\n"
     ]
    }
   ],
   "source": [
    "# Sort by age, then height if ages are equal\n",
    "dtype = [('name', 'S10'), ('height', float), ('age', int)]\n",
    "values = [('Gopie', 1.7, 45), ('Vikranth', 1.5, 38),('Sathwik', 1.8, 28),('Rudra', 1.5, 28)]\n",
    "a = np.array(values, dtype=dtype)\n",
    "sort_age_height = np.sort(a, order=['age', 'height'])\n",
    "print(f\"Original Array :\\n {a}\")\n",
    "print(f\"Sorting based on height :\\n {sort_age_height}\")"
   ]
  },
  {
   "cell_type": "markdown",
   "id": "aa4bcf24",
   "metadata": {},
   "source": [
    "# Chapter-13 - Searching elements of ndarray"
   ]
  },
  {
   "cell_type": "markdown",
   "id": "c9e3d6df",
   "metadata": {},
   "source": [
    "## Searching elements of ndarray\n",
    "\n",
    "- **Function Used**: `where()`\n",
    "  - Syntax: `where(condition, [x, y])`\n",
    "- **Functionality**:\n",
    "  - If only the condition is specified, it returns the indices of the elements that satisfy the condition.\n",
    "  - If `condition`, `x`, `y` are provided:\n",
    "    - Elements satisfying the condition are replaced with `x`.\n",
    "    - Remaining elements are replaced with `y`.\n",
    "- **Returns**:\n",
    "  - Does not return the elements directly, only their indices.\n",
    "- **Additional Info**:\n",
    "  - Acts as a replacement operator.\n",
    "  - Similar to a ternary operator in its replacement functionality."
   ]
  },
  {
   "cell_type": "code",
   "execution_count": null,
   "id": "1f4fca14",
   "metadata": {},
   "outputs": [],
   "source": [
    "import numpy as np\n",
    "help(np.where)"
   ]
  },
  {
   "cell_type": "markdown",
   "id": "e006fd41",
   "metadata": {},
   "source": [
    "## where() function"
   ]
  },
  {
   "cell_type": "code",
   "execution_count": 117,
   "id": "d5b6b3df",
   "metadata": {},
   "outputs": [
    {
     "data": {
      "text/plain": [
       "(array([2, 4], dtype=int64),)"
      ]
     },
     "execution_count": 117,
     "metadata": {},
     "output_type": "execute_result"
    }
   ],
   "source": [
    "# Find indexes where the value is 7 from 1-D array\n",
    "a = np.array([3,5,7,6,7,9,4,6,10,15])\n",
    "b = np.where(a==7)\n",
    "b # element 7 is available at 2 and 4 indices"
   ]
  },
  {
   "cell_type": "code",
   "execution_count": 118,
   "id": "b0f70f75",
   "metadata": {},
   "outputs": [
    {
     "data": {
      "text/plain": [
       "(array([0, 1, 2, 4, 5, 9], dtype=int64),)"
      ]
     },
     "execution_count": 118,
     "metadata": {},
     "output_type": "execute_result"
    }
   ],
   "source": [
    "# Find indices where odd numbers present in the given 1-D array?\n",
    "a = np.array([3,5,7,6,7,9,4,6,10,15])\n",
    "b = np.where(a%2!=0)\n",
    "b"
   ]
  },
  {
   "cell_type": "markdown",
   "id": "a92412b5",
   "metadata": {},
   "source": [
    "## Finding the elements directly\n",
    "\n",
    "We can get the elements directly in 2 ways<br>\n",
    "1. using where() function<br>\n",
    "2. using condition based selection"
   ]
  },
  {
   "cell_type": "markdown",
   "id": "0ebbb3ff",
   "metadata": {},
   "source": [
    "### where() function"
   ]
  },
  {
   "cell_type": "code",
   "execution_count": 119,
   "id": "8eb343be",
   "metadata": {},
   "outputs": [
    {
     "data": {
      "text/plain": [
       "array([ 3,  5,  7,  7,  9, 15])"
      ]
     },
     "execution_count": 119,
     "metadata": {},
     "output_type": "execute_result"
    }
   ],
   "source": [
    "# to get the odd numbers\n",
    "a = np.array([3,5,7,6,7,9,4,6,10,15])\n",
    "indices = np.where(a%2!=0)\n",
    "a[indices]"
   ]
  },
  {
   "cell_type": "markdown",
   "id": "737b2da8",
   "metadata": {},
   "source": [
    "### conditional based selection"
   ]
  },
  {
   "cell_type": "code",
   "execution_count": 120,
   "id": "7a9a8220",
   "metadata": {},
   "outputs": [
    {
     "data": {
      "text/plain": [
       "array([ 3,  5,  7,  7,  9, 15])"
      ]
     },
     "execution_count": 120,
     "metadata": {},
     "output_type": "execute_result"
    }
   ],
   "source": [
    "# to get the odd numbers\n",
    "a = np.array([3,5,7,6,7,9,4,6,10,15])\n",
    "a[a%2!=0]"
   ]
  },
  {
   "cell_type": "code",
   "execution_count": 123,
   "id": "8e6898d7",
   "metadata": {},
   "outputs": [
    {
     "data": {
      "text/plain": [
       "array([7777, 7777, 7777, 8888, 7777, 7777, 8888, 8888, 8888, 7777])"
      ]
     },
     "execution_count": 123,
     "metadata": {},
     "output_type": "execute_result"
    }
   ],
   "source": [
    "# where(condition,[x,y])\n",
    "# if condition satisfied that element will be replaced from x and\n",
    "# if the condition fails that element will be replaced from y.\n",
    "# Replace every even number with 8888 and every odd number with 7777?\n",
    "a = np.array([3,5,7,6,7,9,4,6,10,15])\n",
    "b = np.where( a%2 == 0, 8888, 7777)\n",
    "b"
   ]
  },
  {
   "cell_type": "code",
   "execution_count": 124,
   "id": "a787d623",
   "metadata": {},
   "outputs": [
    {
     "data": {
      "text/plain": [
       "array([9999, 9999, 9999,    6, 9999, 9999,    4,    6,   10, 9999])"
      ]
     },
     "execution_count": 124,
     "metadata": {},
     "output_type": "execute_result"
    }
   ],
   "source": [
    "# Find indexes where odd numbers present in the given 1-D array and replace with element 9999.\n",
    "a = np.array([3,5,7,6,7,9,4,6,10,15])\n",
    "b = np.where( a%2 != 0, 9999, a)\n",
    "b"
   ]
  },
  {
   "cell_type": "markdown",
   "id": "8aa94b96",
   "metadata": {},
   "source": [
    "### We can use where() function for any n-dimensional array\n",
    "\n",
    "#### 2-D arrays\n",
    "• It will return the 2 arrays.<br>\n",
    "• First array is row indices<br>\n",
    "• Second array is column indices"
   ]
  },
  {
   "cell_type": "code",
   "execution_count": 125,
   "id": "a27d611b",
   "metadata": {},
   "outputs": [
    {
     "data": {
      "text/plain": [
       "(array([0, 1, 3], dtype=int64), array([0, 2, 1], dtype=int64))"
      ]
     },
     "execution_count": 125,
     "metadata": {},
     "output_type": "execute_result"
    }
   ],
   "source": [
    "# to find the indices of the elements where elements are divisible by 5\n",
    "a = np.arange(12).reshape(4,3)\n",
    "np.where(a%5==0)\n",
    "\n",
    "\n",
    "#• The second array array([0, 2, 1] represents the column indices\n",
    "#• The required elements present at (0,0),(1,2) and (3,1) index places."
   ]
  },
  {
   "cell_type": "code",
   "execution_count": 126,
   "id": "d056f0c3",
   "metadata": {},
   "outputs": [
    {
     "data": {
      "text/plain": [
       "array([[9999,    1,    2],\n",
       "       [   3,    4, 9999],\n",
       "       [   6,    7,    8],\n",
       "       [   9, 9999,   11]])"
      ]
     },
     "execution_count": 126,
     "metadata": {},
     "output_type": "execute_result"
    }
   ],
   "source": [
    "# we can perform replacement on 2-D arrays\n",
    "a = np.arange(12).reshape(4,3)\n",
    "np.where(a%5==0,9999,a)"
   ]
  },
  {
   "cell_type": "markdown",
   "id": "09905cfb",
   "metadata": {},
   "source": [
    "## searchsorted() function\n",
    "\n",
    "• Internally this function will use **Binary Search algorithm**. Hence we can call this function **only for sorted arrays**.<br>\n",
    "• If the array is not sorted then we will get abnormal results.<br>\n",
    "• Complexicity of the Binary search algorithm is O(log n)<br>\n",
    "• It will return insertion point(i.e., index) of the given element"
   ]
  },
  {
   "cell_type": "code",
   "execution_count": null,
   "id": "87dc3c50",
   "metadata": {},
   "outputs": [],
   "source": [
    "import numpy as np\n",
    "help(np.searchsorted)"
   ]
  },
  {
   "cell_type": "code",
   "execution_count": 127,
   "id": "69c674f3",
   "metadata": {},
   "outputs": [
    {
     "data": {
      "text/plain": [
       "2"
      ]
     },
     "execution_count": 127,
     "metadata": {},
     "output_type": "execute_result"
    }
   ],
   "source": [
    "# to find the insertion point of 6 from left\n",
    "a = np.arange(0,31,5)\n",
    "np.searchsorted(a,6)"
   ]
  },
  {
   "cell_type": "markdown",
   "id": "33b9535e",
   "metadata": {},
   "source": [
    "**Note**<br>\n",
    "• Bydefault it will always search from left hand side to identify insertion point.<br>\n",
    "• If we want to search from right hand side we should use **side='right'**"
   ]
  },
  {
   "cell_type": "code",
   "execution_count": 128,
   "id": "e1d4fc36",
   "metadata": {},
   "outputs": [
    {
     "name": "stdout",
     "output_type": "stream",
     "text": [
      "Array a :\n",
      " [ 0  5 10 15 20 25 30]\n"
     ]
    },
    {
     "data": {
      "text/plain": [
       "2"
      ]
     },
     "execution_count": 128,
     "metadata": {},
     "output_type": "execute_result"
    }
   ],
   "source": [
    "# to find the insertion point of 6 from right\n",
    "a = np.arange(0,31,5)\n",
    "print(f\"Array a :\\n {a}\")\n",
    "np.searchsorted(a,6,side='right')"
   ]
  },
  {
   "cell_type": "code",
   "execution_count": 129,
   "id": "f213a4f2",
   "metadata": {},
   "outputs": [
    {
     "name": "stdout",
     "output_type": "stream",
     "text": [
      "The original array : [ 3  4  5  6  6  7  7  9 10 15]\n",
      "Insertion point for 6 from left : 3\n",
      "Insertion point for 6 from right : 5\n"
     ]
    }
   ],
   "source": [
    "# to find the insetion point from left and right\n",
    "a = np.array([3,5,7,6,7,9,4,10,15,6])\n",
    "# first sort the elements\n",
    "a = np.sort(a)\n",
    "# insertion point from left(default)\n",
    "left = np.searchsorted(a,6)\n",
    "# insertion point from right\n",
    "right = np.searchsorted(a,6,side='right')\n",
    "print(f\"The original array : {a}\")\n",
    "print(f\"Insertion point for 6 from left : {left}\")\n",
    "print(f\"Insertion point for 6 from right : {right}\")"
   ]
  },
  {
   "cell_type": "markdown",
   "id": "b6e29b82",
   "metadata": {},
   "source": [
    "### Summary:\n",
    "\n",
    "| Function        | Description                                      |\n",
    "|-----------------|--------------------------------------------------|\n",
    "| `sort()`        | To sort given array                              |\n",
    "| `where()`       | To perform search and replace operation          |\n",
    "| `searchsorted()`| To identify insertion point in the given sorted array |"
   ]
  }
 ],
 "metadata": {
  "hide_input": false,
  "kernelspec": {
   "display_name": "Python 3 (ipykernel)",
   "language": "python",
   "name": "python3"
  },
  "language_info": {
   "codemirror_mode": {
    "name": "ipython",
    "version": 3
   },
   "file_extension": ".py",
   "mimetype": "text/x-python",
   "name": "python",
   "nbconvert_exporter": "python",
   "pygments_lexer": "ipython3",
   "version": "3.9.13"
  },
  "toc": {
   "base_numbering": 1,
   "nav_menu": {},
   "number_sections": true,
   "sideBar": true,
   "skip_h1_title": false,
   "title_cell": "Table of Contents",
   "title_sidebar": "Contents",
   "toc_cell": false,
   "toc_position": {},
   "toc_section_display": true,
   "toc_window_display": true
  }
 },
 "nbformat": 4,
 "nbformat_minor": 5
}
