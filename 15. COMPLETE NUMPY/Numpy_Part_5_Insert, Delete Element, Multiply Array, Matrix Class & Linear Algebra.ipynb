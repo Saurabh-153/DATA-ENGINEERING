{
 "cells": [
  {
   "cell_type": "markdown",
   "id": "e4c1e21e",
   "metadata": {},
   "source": [
    "# Chapter-14 - How to insert elements into ndarray"
   ]
  },
  {
   "cell_type": "markdown",
   "id": "a71a6387",
   "metadata": {},
   "source": [
    "## How to insert elements into ndarray\n",
    "• **insert()** ==> inserting the element at the required position<br>\n",
    "• **append()** ==> inserting the element at the end"
   ]
  },
  {
   "cell_type": "markdown",
   "id": "ff9e1e66",
   "metadata": {},
   "source": [
    "### insert()"
   ]
  },
  {
   "cell_type": "code",
   "execution_count": 3,
   "id": "ae279355",
   "metadata": {
    "collapsed": true
   },
   "outputs": [
    {
     "name": "stdout",
     "output_type": "stream",
     "text": [
      "Help on function insert in module numpy:\n",
      "\n",
      "insert(arr, obj, values, axis=None)\n",
      "    Insert values along the given axis before the given indices.\n",
      "    \n",
      "    Parameters\n",
      "    ----------\n",
      "    arr : array_like\n",
      "        Input array.\n",
      "    obj : int, slice or sequence of ints\n",
      "        Object that defines the index or indices before which `values` is\n",
      "        inserted.\n",
      "    \n",
      "        .. versionadded:: 1.8.0\n",
      "    \n",
      "        Support for multiple insertions when `obj` is a single scalar or a\n",
      "        sequence with one element (similar to calling insert multiple\n",
      "        times).\n",
      "    values : array_like\n",
      "        Values to insert into `arr`. If the type of `values` is different\n",
      "        from that of `arr`, `values` is converted to the type of `arr`.\n",
      "        `values` should be shaped so that ``arr[...,obj,...] = values``\n",
      "        is legal.\n",
      "    axis : int, optional\n",
      "        Axis along which to insert `values`.  If `axis` is None then `arr`\n",
      "        is flattened first.\n",
      "    \n",
      "    Returns\n",
      "    -------\n",
      "    out : ndarray\n",
      "        A copy of `arr` with `values` inserted.  Note that `insert`\n",
      "        does not occur in-place: a new array is returned. If\n",
      "        `axis` is None, `out` is a flattened array.\n",
      "    \n",
      "    See Also\n",
      "    --------\n",
      "    append : Append elements at the end of an array.\n",
      "    concatenate : Join a sequence of arrays along an existing axis.\n",
      "    delete : Delete elements from an array.\n",
      "    \n",
      "    Notes\n",
      "    -----\n",
      "    Note that for higher dimensional inserts ``obj=0`` behaves very different\n",
      "    from ``obj=[0]`` just like ``arr[:,0,:] = values`` is different from\n",
      "    ``arr[:,[0],:] = values``.\n",
      "    \n",
      "    Examples\n",
      "    --------\n",
      "    >>> a = np.array([[1, 1], [2, 2], [3, 3]])\n",
      "    >>> a\n",
      "    array([[1, 1],\n",
      "           [2, 2],\n",
      "           [3, 3]])\n",
      "    >>> np.insert(a, 1, 5)\n",
      "    array([1, 5, 1, ..., 2, 3, 3])\n",
      "    >>> np.insert(a, 1, 5, axis=1)\n",
      "    array([[1, 5, 1],\n",
      "           [2, 5, 2],\n",
      "           [3, 5, 3]])\n",
      "    \n",
      "    Difference between sequence and scalars:\n",
      "    \n",
      "    >>> np.insert(a, [1], [[1],[2],[3]], axis=1)\n",
      "    array([[1, 1, 1],\n",
      "           [2, 2, 2],\n",
      "           [3, 3, 3]])\n",
      "    >>> np.array_equal(np.insert(a, 1, [1, 2, 3], axis=1),\n",
      "    ...                np.insert(a, [1], [[1],[2],[3]], axis=1))\n",
      "    True\n",
      "    \n",
      "    >>> b = a.flatten()\n",
      "    >>> b\n",
      "    array([1, 1, 2, 2, 3, 3])\n",
      "    >>> np.insert(b, [2, 2], [5, 6])\n",
      "    array([1, 1, 5, ..., 2, 3, 3])\n",
      "    \n",
      "    >>> np.insert(b, slice(2, 4), [5, 6])\n",
      "    array([1, 1, 5, ..., 2, 3, 3])\n",
      "    \n",
      "    >>> np.insert(b, [2, 2], [7.13, False]) # type casting\n",
      "    array([1, 1, 7, ..., 2, 3, 3])\n",
      "    \n",
      "    >>> x = np.arange(8).reshape(2, 4)\n",
      "    >>> idx = (1, 3)\n",
      "    >>> np.insert(x, idx, 999, axis=1)\n",
      "    array([[  0, 999,   1,   2, 999,   3],\n",
      "           [  4, 999,   5,   6, 999,   7]])\n",
      "\n"
     ]
    }
   ],
   "source": [
    "import numpy as np\n",
    "help(np.insert)"
   ]
  },
  {
   "cell_type": "code",
   "execution_count": 1,
   "id": "54307945",
   "metadata": {},
   "outputs": [],
   "source": [
    "# insert(array, obj, values, axis=None)\n",
    "# Insert values along the given axis before the given indices.\n",
    "\n",
    "# obj-->Object that defines the index or indices before which 'values' are inserted.\n",
    "# values--->Values to insert into array.\n",
    "# axis ---->Axis along which to insert 'values'."
   ]
  },
  {
   "cell_type": "markdown",
   "id": "2343d451",
   "metadata": {},
   "source": [
    "#### 1-D arrays"
   ]
  },
  {
   "cell_type": "code",
   "execution_count": 4,
   "id": "b53a44d2",
   "metadata": {},
   "outputs": [
    {
     "name": "stdout",
     "output_type": "stream",
     "text": [
      "array a : [0 1 2 3 4 5 6 7 8 9]\n",
      "array b : [   0    1 7777    2    3    4    5    6    7    8    9]\n"
     ]
    }
   ],
   "source": [
    "# To insert 7777 before index 2\n",
    "a = np.arange(10)\n",
    "b = np.insert(a,2,7777)\n",
    "print(f\"array a : {a}\")\n",
    "print(f\"array b : {b}\")"
   ]
  },
  {
   "cell_type": "code",
   "execution_count": 5,
   "id": "63999188",
   "metadata": {},
   "outputs": [
    {
     "name": "stdout",
     "output_type": "stream",
     "text": [
      "array a : [0 1 2 3 4 5 6 7 8 9]\n",
      "array b : [   0    1 7777    2    3    4 7777    5    6    7    8    9]\n"
     ]
    }
   ],
   "source": [
    "# To insert 7777 before indexes 2 and 5.\n",
    "a = np.arange(10)\n",
    "b = np.insert(a,[2,5],7777)\n",
    "print(f\"array a : {a}\")\n",
    "print(f\"array b : {b}\")"
   ]
  },
  {
   "cell_type": "code",
   "execution_count": 6,
   "id": "d51dd1b0",
   "metadata": {},
   "outputs": [
    {
     "name": "stdout",
     "output_type": "stream",
     "text": [
      "array a : [0 1 2 3 4 5 6 7 8 9]\n",
      "array b : [   0    1 7777    2    3    4 8888    5    6    7    8    9]\n"
     ]
    }
   ],
   "source": [
    "# To insert 7777 before index 2 and 8888 before index 5?\n",
    "a = np.arange(10)\n",
    "b = np.insert(a,[2,5],[7777,8888])\n",
    "print(f\"array a : {a}\")\n",
    "print(f\"array b : {b}\")"
   ]
  },
  {
   "cell_type": "code",
   "execution_count": 7,
   "id": "f11074fb",
   "metadata": {},
   "outputs": [
    {
     "ename": "ValueError",
     "evalue": "shape mismatch: value array of shape (3,) could not be broadcast to indexing result of shape (2,)",
     "output_type": "error",
     "traceback": [
      "\u001b[1;31m---------------------------------------------------------------------------\u001b[0m",
      "\u001b[1;31mValueError\u001b[0m                                Traceback (most recent call last)",
      "\u001b[1;32m~\\AppData\\Local\\Temp\\ipykernel_15516\\915930700.py\u001b[0m in \u001b[0;36m<module>\u001b[1;34m\u001b[0m\n\u001b[0;32m      1\u001b[0m \u001b[1;31m# shape mismatch\u001b[0m\u001b[1;33m\u001b[0m\u001b[1;33m\u001b[0m\u001b[0m\n\u001b[0;32m      2\u001b[0m \u001b[0ma\u001b[0m \u001b[1;33m=\u001b[0m \u001b[0mnp\u001b[0m\u001b[1;33m.\u001b[0m\u001b[0marange\u001b[0m\u001b[1;33m(\u001b[0m\u001b[1;36m10\u001b[0m\u001b[1;33m)\u001b[0m\u001b[1;33m\u001b[0m\u001b[1;33m\u001b[0m\u001b[0m\n\u001b[1;32m----> 3\u001b[1;33m \u001b[0mb\u001b[0m \u001b[1;33m=\u001b[0m \u001b[0mnp\u001b[0m\u001b[1;33m.\u001b[0m\u001b[0minsert\u001b[0m\u001b[1;33m(\u001b[0m\u001b[0ma\u001b[0m\u001b[1;33m,\u001b[0m\u001b[1;33m[\u001b[0m\u001b[1;36m2\u001b[0m\u001b[1;33m,\u001b[0m\u001b[1;36m5\u001b[0m\u001b[1;33m]\u001b[0m\u001b[1;33m,\u001b[0m\u001b[1;33m[\u001b[0m\u001b[1;36m7777\u001b[0m\u001b[1;33m,\u001b[0m\u001b[1;36m8888\u001b[0m\u001b[1;33m,\u001b[0m\u001b[1;36m9999\u001b[0m\u001b[1;33m]\u001b[0m\u001b[1;33m)\u001b[0m\u001b[1;33m\u001b[0m\u001b[1;33m\u001b[0m\u001b[0m\n\u001b[0m\u001b[0;32m      4\u001b[0m \u001b[0mprint\u001b[0m\u001b[1;33m(\u001b[0m\u001b[1;34mf\"array a : {a}\"\u001b[0m\u001b[1;33m)\u001b[0m\u001b[1;33m\u001b[0m\u001b[1;33m\u001b[0m\u001b[0m\n\u001b[0;32m      5\u001b[0m \u001b[0mprint\u001b[0m\u001b[1;33m(\u001b[0m\u001b[1;34mf\"array b : {b}\"\u001b[0m\u001b[1;33m)\u001b[0m\u001b[1;33m\u001b[0m\u001b[1;33m\u001b[0m\u001b[0m\n",
      "\u001b[1;32m~\\Anaconda3\\lib\\site-packages\\numpy\\core\\overrides.py\u001b[0m in \u001b[0;36minsert\u001b[1;34m(*args, **kwargs)\u001b[0m\n",
      "\u001b[1;32m~\\Anaconda3\\lib\\site-packages\\numpy\\lib\\function_base.py\u001b[0m in \u001b[0;36minsert\u001b[1;34m(arr, obj, values, axis)\u001b[0m\n\u001b[0;32m   5430\u001b[0m     \u001b[0mslobj\u001b[0m\u001b[1;33m[\u001b[0m\u001b[0maxis\u001b[0m\u001b[1;33m]\u001b[0m \u001b[1;33m=\u001b[0m \u001b[0mindices\u001b[0m\u001b[1;33m\u001b[0m\u001b[1;33m\u001b[0m\u001b[0m\n\u001b[0;32m   5431\u001b[0m     \u001b[0mslobj2\u001b[0m\u001b[1;33m[\u001b[0m\u001b[0maxis\u001b[0m\u001b[1;33m]\u001b[0m \u001b[1;33m=\u001b[0m \u001b[0mold_mask\u001b[0m\u001b[1;33m\u001b[0m\u001b[1;33m\u001b[0m\u001b[0m\n\u001b[1;32m-> 5432\u001b[1;33m     \u001b[0mnew\u001b[0m\u001b[1;33m[\u001b[0m\u001b[0mtuple\u001b[0m\u001b[1;33m(\u001b[0m\u001b[0mslobj\u001b[0m\u001b[1;33m)\u001b[0m\u001b[1;33m]\u001b[0m \u001b[1;33m=\u001b[0m \u001b[0mvalues\u001b[0m\u001b[1;33m\u001b[0m\u001b[1;33m\u001b[0m\u001b[0m\n\u001b[0m\u001b[0;32m   5433\u001b[0m     \u001b[0mnew\u001b[0m\u001b[1;33m[\u001b[0m\u001b[0mtuple\u001b[0m\u001b[1;33m(\u001b[0m\u001b[0mslobj2\u001b[0m\u001b[1;33m)\u001b[0m\u001b[1;33m]\u001b[0m \u001b[1;33m=\u001b[0m \u001b[0marr\u001b[0m\u001b[1;33m\u001b[0m\u001b[1;33m\u001b[0m\u001b[0m\n\u001b[0;32m   5434\u001b[0m \u001b[1;33m\u001b[0m\u001b[0m\n",
      "\u001b[1;31mValueError\u001b[0m: shape mismatch: value array of shape (3,) could not be broadcast to indexing result of shape (2,)"
     ]
    }
   ],
   "source": [
    "# shape mismatch\n",
    "a = np.arange(10)\n",
    "b = np.insert(a,[2,5],[7777,8888,9999])\n",
    "print(f\"array a : {a}\")\n",
    "print(f\"array b : {b}\")"
   ]
  },
  {
   "cell_type": "code",
   "execution_count": 8,
   "id": "035572b6",
   "metadata": {},
   "outputs": [
    {
     "ename": "ValueError",
     "evalue": "shape mismatch: value array of shape (2,) could not be broadcast to indexing result of shape (3,)",
     "output_type": "error",
     "traceback": [
      "\u001b[1;31m---------------------------------------------------------------------------\u001b[0m",
      "\u001b[1;31mValueError\u001b[0m                                Traceback (most recent call last)",
      "\u001b[1;32m~\\AppData\\Local\\Temp\\ipykernel_15516\\2580603405.py\u001b[0m in \u001b[0;36m<module>\u001b[1;34m\u001b[0m\n\u001b[0;32m      1\u001b[0m \u001b[1;31m# shape mismatch\u001b[0m\u001b[1;33m\u001b[0m\u001b[1;33m\u001b[0m\u001b[0m\n\u001b[0;32m      2\u001b[0m \u001b[0ma\u001b[0m \u001b[1;33m=\u001b[0m \u001b[0mnp\u001b[0m\u001b[1;33m.\u001b[0m\u001b[0marange\u001b[0m\u001b[1;33m(\u001b[0m\u001b[1;36m10\u001b[0m\u001b[1;33m)\u001b[0m\u001b[1;33m\u001b[0m\u001b[1;33m\u001b[0m\u001b[0m\n\u001b[1;32m----> 3\u001b[1;33m \u001b[0mb\u001b[0m \u001b[1;33m=\u001b[0m \u001b[0mnp\u001b[0m\u001b[1;33m.\u001b[0m\u001b[0minsert\u001b[0m\u001b[1;33m(\u001b[0m\u001b[0ma\u001b[0m\u001b[1;33m,\u001b[0m\u001b[1;33m[\u001b[0m\u001b[1;36m2\u001b[0m\u001b[1;33m,\u001b[0m\u001b[1;36m5\u001b[0m\u001b[1;33m,\u001b[0m\u001b[1;36m7\u001b[0m\u001b[1;33m]\u001b[0m\u001b[1;33m,\u001b[0m\u001b[1;33m[\u001b[0m\u001b[1;36m7777\u001b[0m\u001b[1;33m,\u001b[0m\u001b[1;36m8888\u001b[0m\u001b[1;33m]\u001b[0m\u001b[1;33m)\u001b[0m\u001b[1;33m\u001b[0m\u001b[1;33m\u001b[0m\u001b[0m\n\u001b[0m\u001b[0;32m      4\u001b[0m \u001b[0mprint\u001b[0m\u001b[1;33m(\u001b[0m\u001b[1;34mf\"array a : {a}\"\u001b[0m\u001b[1;33m)\u001b[0m\u001b[1;33m\u001b[0m\u001b[1;33m\u001b[0m\u001b[0m\n\u001b[0;32m      5\u001b[0m \u001b[0mprint\u001b[0m\u001b[1;33m(\u001b[0m\u001b[1;34mf\"array b : {b}\"\u001b[0m\u001b[1;33m)\u001b[0m\u001b[1;33m\u001b[0m\u001b[1;33m\u001b[0m\u001b[0m\n",
      "\u001b[1;32m~\\Anaconda3\\lib\\site-packages\\numpy\\core\\overrides.py\u001b[0m in \u001b[0;36minsert\u001b[1;34m(*args, **kwargs)\u001b[0m\n",
      "\u001b[1;32m~\\Anaconda3\\lib\\site-packages\\numpy\\lib\\function_base.py\u001b[0m in \u001b[0;36minsert\u001b[1;34m(arr, obj, values, axis)\u001b[0m\n\u001b[0;32m   5430\u001b[0m     \u001b[0mslobj\u001b[0m\u001b[1;33m[\u001b[0m\u001b[0maxis\u001b[0m\u001b[1;33m]\u001b[0m \u001b[1;33m=\u001b[0m \u001b[0mindices\u001b[0m\u001b[1;33m\u001b[0m\u001b[1;33m\u001b[0m\u001b[0m\n\u001b[0;32m   5431\u001b[0m     \u001b[0mslobj2\u001b[0m\u001b[1;33m[\u001b[0m\u001b[0maxis\u001b[0m\u001b[1;33m]\u001b[0m \u001b[1;33m=\u001b[0m \u001b[0mold_mask\u001b[0m\u001b[1;33m\u001b[0m\u001b[1;33m\u001b[0m\u001b[0m\n\u001b[1;32m-> 5432\u001b[1;33m     \u001b[0mnew\u001b[0m\u001b[1;33m[\u001b[0m\u001b[0mtuple\u001b[0m\u001b[1;33m(\u001b[0m\u001b[0mslobj\u001b[0m\u001b[1;33m)\u001b[0m\u001b[1;33m]\u001b[0m \u001b[1;33m=\u001b[0m \u001b[0mvalues\u001b[0m\u001b[1;33m\u001b[0m\u001b[1;33m\u001b[0m\u001b[0m\n\u001b[0m\u001b[0;32m   5433\u001b[0m     \u001b[0mnew\u001b[0m\u001b[1;33m[\u001b[0m\u001b[0mtuple\u001b[0m\u001b[1;33m(\u001b[0m\u001b[0mslobj2\u001b[0m\u001b[1;33m)\u001b[0m\u001b[1;33m]\u001b[0m \u001b[1;33m=\u001b[0m \u001b[0marr\u001b[0m\u001b[1;33m\u001b[0m\u001b[1;33m\u001b[0m\u001b[0m\n\u001b[0;32m   5434\u001b[0m \u001b[1;33m\u001b[0m\u001b[0m\n",
      "\u001b[1;31mValueError\u001b[0m: shape mismatch: value array of shape (2,) could not be broadcast to indexing result of shape (3,)"
     ]
    }
   ],
   "source": [
    "# shape mismatch\n",
    "a = np.arange(10)\n",
    "b = np.insert(a,[2,5,7],[7777,8888])\n",
    "print(f\"array a : {a}\")\n",
    "print(f\"array b : {b}\")"
   ]
  },
  {
   "cell_type": "code",
   "execution_count": 9,
   "id": "85d52179",
   "metadata": {},
   "outputs": [
    {
     "name": "stdout",
     "output_type": "stream",
     "text": [
      "array a : [0 1 2 3 4 5 6 7 8 9]\n",
      "array b : [  0   1 777   2   3   4 888 999   5   6   7   8   9]\n"
     ]
    }
   ],
   "source": [
    "a = np.arange(10)\n",
    "b = np.insert(a,[2,5,5],[777,888,999])\n",
    "print(f\"array a : {a}\")\n",
    "print(f\"array b : {b}\")"
   ]
  },
  {
   "cell_type": "code",
   "execution_count": 10,
   "id": "a989c6d8",
   "metadata": {},
   "outputs": [
    {
     "ename": "IndexError",
     "evalue": "index 25 is out of bounds for axis 0 with size 10",
     "output_type": "error",
     "traceback": [
      "\u001b[1;31m---------------------------------------------------------------------------\u001b[0m",
      "\u001b[1;31mIndexError\u001b[0m                                Traceback (most recent call last)",
      "\u001b[1;32m~\\AppData\\Local\\Temp\\ipykernel_15516\\966878581.py\u001b[0m in \u001b[0;36m<module>\u001b[1;34m\u001b[0m\n\u001b[0;32m      1\u001b[0m \u001b[1;31m# IndexError\u001b[0m\u001b[1;33m\u001b[0m\u001b[1;33m\u001b[0m\u001b[0m\n\u001b[0;32m      2\u001b[0m \u001b[0ma\u001b[0m \u001b[1;33m=\u001b[0m \u001b[0mnp\u001b[0m\u001b[1;33m.\u001b[0m\u001b[0marange\u001b[0m\u001b[1;33m(\u001b[0m\u001b[1;36m10\u001b[0m\u001b[1;33m)\u001b[0m\u001b[1;33m\u001b[0m\u001b[1;33m\u001b[0m\u001b[0m\n\u001b[1;32m----> 3\u001b[1;33m \u001b[0mb\u001b[0m \u001b[1;33m=\u001b[0m \u001b[0mnp\u001b[0m\u001b[1;33m.\u001b[0m\u001b[0minsert\u001b[0m\u001b[1;33m(\u001b[0m\u001b[0ma\u001b[0m\u001b[1;33m,\u001b[0m\u001b[1;36m25\u001b[0m\u001b[1;33m,\u001b[0m\u001b[1;36m7777\u001b[0m\u001b[1;33m)\u001b[0m\u001b[1;33m\u001b[0m\u001b[1;33m\u001b[0m\u001b[0m\n\u001b[0m\u001b[0;32m      4\u001b[0m \u001b[0mprint\u001b[0m\u001b[1;33m(\u001b[0m\u001b[1;34mf\"array a : {a}\"\u001b[0m\u001b[1;33m)\u001b[0m\u001b[1;33m\u001b[0m\u001b[1;33m\u001b[0m\u001b[0m\n\u001b[0;32m      5\u001b[0m \u001b[0mprint\u001b[0m\u001b[1;33m(\u001b[0m\u001b[1;34mf\"array b : {b}\"\u001b[0m\u001b[1;33m)\u001b[0m\u001b[1;33m\u001b[0m\u001b[1;33m\u001b[0m\u001b[0m\n",
      "\u001b[1;32m~\\Anaconda3\\lib\\site-packages\\numpy\\core\\overrides.py\u001b[0m in \u001b[0;36minsert\u001b[1;34m(*args, **kwargs)\u001b[0m\n",
      "\u001b[1;32m~\\Anaconda3\\lib\\site-packages\\numpy\\lib\\function_base.py\u001b[0m in \u001b[0;36minsert\u001b[1;34m(arr, obj, values, axis)\u001b[0m\n\u001b[0;32m   5385\u001b[0m         \u001b[0mindex\u001b[0m \u001b[1;33m=\u001b[0m \u001b[0mindices\u001b[0m\u001b[1;33m.\u001b[0m\u001b[0mitem\u001b[0m\u001b[1;33m(\u001b[0m\u001b[1;33m)\u001b[0m\u001b[1;33m\u001b[0m\u001b[1;33m\u001b[0m\u001b[0m\n\u001b[0;32m   5386\u001b[0m         \u001b[1;32mif\u001b[0m \u001b[0mindex\u001b[0m \u001b[1;33m<\u001b[0m \u001b[1;33m-\u001b[0m\u001b[0mN\u001b[0m \u001b[1;32mor\u001b[0m \u001b[0mindex\u001b[0m \u001b[1;33m>\u001b[0m \u001b[0mN\u001b[0m\u001b[1;33m:\u001b[0m\u001b[1;33m\u001b[0m\u001b[1;33m\u001b[0m\u001b[0m\n\u001b[1;32m-> 5387\u001b[1;33m             raise IndexError(f\"index {obj} is out of bounds for axis {axis} \"\n\u001b[0m\u001b[0;32m   5388\u001b[0m                              f\"with size {N}\")\n\u001b[0;32m   5389\u001b[0m         \u001b[1;32mif\u001b[0m \u001b[1;33m(\u001b[0m\u001b[0mindex\u001b[0m \u001b[1;33m<\u001b[0m \u001b[1;36m0\u001b[0m\u001b[1;33m)\u001b[0m\u001b[1;33m:\u001b[0m\u001b[1;33m\u001b[0m\u001b[1;33m\u001b[0m\u001b[0m\n",
      "\u001b[1;31mIndexError\u001b[0m: index 25 is out of bounds for axis 0 with size 10"
     ]
    }
   ],
   "source": [
    "# IndexError\n",
    "a = np.arange(10)\n",
    "b = np.insert(a,25,7777)\n",
    "print(f\"array a : {a}\")\n",
    "print(f\"array b : {b}\")"
   ]
  },
  {
   "cell_type": "markdown",
   "id": "bf2bdfea",
   "metadata": {},
   "source": [
    "**Note**<br>\n",
    "• All the insertion points(indices) are identified at the beginning of the insert operation<br>\n",
    "• Array should contain only homogeneous elements<br>\n",
    "• By using insert() function, if we are trying to insert any other type element, then that element will be converted to array type automatically before insertion.<br>\n",
    "• If the conversion is not possible then we will get error."
   ]
  },
  {
   "cell_type": "code",
   "execution_count": 11,
   "id": "ef822da1",
   "metadata": {},
   "outputs": [
    {
     "name": "stdout",
     "output_type": "stream",
     "text": [
      "array a : [0 1 2 3 4 5 6 7 8 9]\n",
      "array b : [  0   1 123   2   3   4   5   6   7   8   9]\n"
     ]
    }
   ],
   "source": [
    "# the original array contains int values. If inserted value is float then the float value\n",
    "# is converted to the array type i.e., int. There may be data loss in this scenario\n",
    "a = np.arange(10)\n",
    "b = np.insert(a,2,123.456)\n",
    "print(f\"array a : {a}\")\n",
    "print(f\"array b : {b}\")"
   ]
  },
  {
   "cell_type": "code",
   "execution_count": 12,
   "id": "884c00d9",
   "metadata": {},
   "outputs": [
    {
     "name": "stdout",
     "output_type": "stream",
     "text": [
      "array a : [0 1 2 3 4 5 6 7 8 9]\n",
      "array b : [0 1 1 2 3 4 5 6 7 8 9]\n"
     ]
    }
   ],
   "source": [
    "a = np.arange(10)\n",
    "b = np.insert(a,2,True)\n",
    "print(f\"array a : {a}\")\n",
    "print(f\"array b : {b}\")"
   ]
  },
  {
   "cell_type": "code",
   "execution_count": 13,
   "id": "1fe1166b",
   "metadata": {},
   "outputs": [
    {
     "ename": "ValueError",
     "evalue": "invalid literal for int() with base 10: 'GK'",
     "output_type": "error",
     "traceback": [
      "\u001b[1;31m---------------------------------------------------------------------------\u001b[0m",
      "\u001b[1;31mValueError\u001b[0m                                Traceback (most recent call last)",
      "\u001b[1;32m~\\AppData\\Local\\Temp\\ipykernel_15516\\678298736.py\u001b[0m in \u001b[0;36m<module>\u001b[1;34m\u001b[0m\n\u001b[0;32m      1\u001b[0m \u001b[0ma\u001b[0m \u001b[1;33m=\u001b[0m \u001b[0mnp\u001b[0m\u001b[1;33m.\u001b[0m\u001b[0marange\u001b[0m\u001b[1;33m(\u001b[0m\u001b[1;36m10\u001b[0m\u001b[1;33m)\u001b[0m\u001b[1;33m\u001b[0m\u001b[1;33m\u001b[0m\u001b[0m\n\u001b[1;32m----> 2\u001b[1;33m \u001b[0mb\u001b[0m \u001b[1;33m=\u001b[0m \u001b[0mnp\u001b[0m\u001b[1;33m.\u001b[0m\u001b[0minsert\u001b[0m\u001b[1;33m(\u001b[0m\u001b[0ma\u001b[0m\u001b[1;33m,\u001b[0m\u001b[1;36m2\u001b[0m\u001b[1;33m,\u001b[0m\u001b[1;34m'GK'\u001b[0m\u001b[1;33m)\u001b[0m\u001b[1;33m\u001b[0m\u001b[1;33m\u001b[0m\u001b[0m\n\u001b[0m\u001b[0;32m      3\u001b[0m \u001b[0mprint\u001b[0m\u001b[1;33m(\u001b[0m\u001b[1;34mf\"array a : {a}\"\u001b[0m\u001b[1;33m)\u001b[0m\u001b[1;33m\u001b[0m\u001b[1;33m\u001b[0m\u001b[0m\n\u001b[0;32m      4\u001b[0m \u001b[0mprint\u001b[0m\u001b[1;33m(\u001b[0m\u001b[1;34mf\"array b : {b}\"\u001b[0m\u001b[1;33m)\u001b[0m\u001b[1;33m\u001b[0m\u001b[1;33m\u001b[0m\u001b[0m\n",
      "\u001b[1;32m~\\Anaconda3\\lib\\site-packages\\numpy\\core\\overrides.py\u001b[0m in \u001b[0;36minsert\u001b[1;34m(*args, **kwargs)\u001b[0m\n",
      "\u001b[1;32m~\\Anaconda3\\lib\\site-packages\\numpy\\lib\\function_base.py\u001b[0m in \u001b[0;36minsert\u001b[1;34m(arr, obj, values, axis)\u001b[0m\n\u001b[0;32m   5392\u001b[0m         \u001b[1;31m# There are some object array corner cases here, but we cannot avoid\u001b[0m\u001b[1;33m\u001b[0m\u001b[1;33m\u001b[0m\u001b[0m\n\u001b[0;32m   5393\u001b[0m         \u001b[1;31m# that:\u001b[0m\u001b[1;33m\u001b[0m\u001b[1;33m\u001b[0m\u001b[0m\n\u001b[1;32m-> 5394\u001b[1;33m         \u001b[0mvalues\u001b[0m \u001b[1;33m=\u001b[0m \u001b[0marray\u001b[0m\u001b[1;33m(\u001b[0m\u001b[0mvalues\u001b[0m\u001b[1;33m,\u001b[0m \u001b[0mcopy\u001b[0m\u001b[1;33m=\u001b[0m\u001b[1;32mFalse\u001b[0m\u001b[1;33m,\u001b[0m \u001b[0mndmin\u001b[0m\u001b[1;33m=\u001b[0m\u001b[0marr\u001b[0m\u001b[1;33m.\u001b[0m\u001b[0mndim\u001b[0m\u001b[1;33m,\u001b[0m \u001b[0mdtype\u001b[0m\u001b[1;33m=\u001b[0m\u001b[0marr\u001b[0m\u001b[1;33m.\u001b[0m\u001b[0mdtype\u001b[0m\u001b[1;33m)\u001b[0m\u001b[1;33m\u001b[0m\u001b[1;33m\u001b[0m\u001b[0m\n\u001b[0m\u001b[0;32m   5395\u001b[0m         \u001b[1;32mif\u001b[0m \u001b[0mindices\u001b[0m\u001b[1;33m.\u001b[0m\u001b[0mndim\u001b[0m \u001b[1;33m==\u001b[0m \u001b[1;36m0\u001b[0m\u001b[1;33m:\u001b[0m\u001b[1;33m\u001b[0m\u001b[1;33m\u001b[0m\u001b[0m\n\u001b[0;32m   5396\u001b[0m             \u001b[1;31m# broadcasting is very different here, since a[:,0,:] = ... behaves\u001b[0m\u001b[1;33m\u001b[0m\u001b[1;33m\u001b[0m\u001b[0m\n",
      "\u001b[1;31mValueError\u001b[0m: invalid literal for int() with base 10: 'GK'"
     ]
    }
   ],
   "source": [
    "a = np.arange(10)\n",
    "b = np.insert(a,2,'GK')\n",
    "print(f\"array a : {a}\")\n",
    "print(f\"array b : {b}\")"
   ]
  },
  {
   "cell_type": "code",
   "execution_count": 14,
   "id": "dce5524e",
   "metadata": {},
   "outputs": [
    {
     "ename": "TypeError",
     "evalue": "can't convert complex to int",
     "output_type": "error",
     "traceback": [
      "\u001b[1;31m---------------------------------------------------------------------------\u001b[0m",
      "\u001b[1;31mTypeError\u001b[0m                                 Traceback (most recent call last)",
      "\u001b[1;32m~\\AppData\\Local\\Temp\\ipykernel_15516\\1923340343.py\u001b[0m in \u001b[0;36m<module>\u001b[1;34m\u001b[0m\n\u001b[0;32m      1\u001b[0m \u001b[0ma\u001b[0m \u001b[1;33m=\u001b[0m \u001b[0mnp\u001b[0m\u001b[1;33m.\u001b[0m\u001b[0marange\u001b[0m\u001b[1;33m(\u001b[0m\u001b[1;36m10\u001b[0m\u001b[1;33m)\u001b[0m\u001b[1;33m\u001b[0m\u001b[1;33m\u001b[0m\u001b[0m\n\u001b[1;32m----> 2\u001b[1;33m \u001b[0mb\u001b[0m \u001b[1;33m=\u001b[0m \u001b[0mnp\u001b[0m\u001b[1;33m.\u001b[0m\u001b[0minsert\u001b[0m\u001b[1;33m(\u001b[0m\u001b[0ma\u001b[0m\u001b[1;33m,\u001b[0m\u001b[1;36m2\u001b[0m\u001b[1;33m,\u001b[0m\u001b[1;36m10\u001b[0m\u001b[1;33m+\u001b[0m\u001b[1;36m20j\u001b[0m\u001b[1;33m)\u001b[0m\u001b[1;33m\u001b[0m\u001b[1;33m\u001b[0m\u001b[0m\n\u001b[0m\u001b[0;32m      3\u001b[0m \u001b[0mprint\u001b[0m\u001b[1;33m(\u001b[0m\u001b[1;34mf\"array a : {a}\"\u001b[0m\u001b[1;33m)\u001b[0m\u001b[1;33m\u001b[0m\u001b[1;33m\u001b[0m\u001b[0m\n\u001b[0;32m      4\u001b[0m \u001b[0mprint\u001b[0m\u001b[1;33m(\u001b[0m\u001b[1;34mf\"array b : {b}\"\u001b[0m\u001b[1;33m)\u001b[0m\u001b[1;33m\u001b[0m\u001b[1;33m\u001b[0m\u001b[0m\n",
      "\u001b[1;32m~\\Anaconda3\\lib\\site-packages\\numpy\\core\\overrides.py\u001b[0m in \u001b[0;36minsert\u001b[1;34m(*args, **kwargs)\u001b[0m\n",
      "\u001b[1;32m~\\Anaconda3\\lib\\site-packages\\numpy\\lib\\function_base.py\u001b[0m in \u001b[0;36minsert\u001b[1;34m(arr, obj, values, axis)\u001b[0m\n\u001b[0;32m   5392\u001b[0m         \u001b[1;31m# There are some object array corner cases here, but we cannot avoid\u001b[0m\u001b[1;33m\u001b[0m\u001b[1;33m\u001b[0m\u001b[0m\n\u001b[0;32m   5393\u001b[0m         \u001b[1;31m# that:\u001b[0m\u001b[1;33m\u001b[0m\u001b[1;33m\u001b[0m\u001b[0m\n\u001b[1;32m-> 5394\u001b[1;33m         \u001b[0mvalues\u001b[0m \u001b[1;33m=\u001b[0m \u001b[0marray\u001b[0m\u001b[1;33m(\u001b[0m\u001b[0mvalues\u001b[0m\u001b[1;33m,\u001b[0m \u001b[0mcopy\u001b[0m\u001b[1;33m=\u001b[0m\u001b[1;32mFalse\u001b[0m\u001b[1;33m,\u001b[0m \u001b[0mndmin\u001b[0m\u001b[1;33m=\u001b[0m\u001b[0marr\u001b[0m\u001b[1;33m.\u001b[0m\u001b[0mndim\u001b[0m\u001b[1;33m,\u001b[0m \u001b[0mdtype\u001b[0m\u001b[1;33m=\u001b[0m\u001b[0marr\u001b[0m\u001b[1;33m.\u001b[0m\u001b[0mdtype\u001b[0m\u001b[1;33m)\u001b[0m\u001b[1;33m\u001b[0m\u001b[1;33m\u001b[0m\u001b[0m\n\u001b[0m\u001b[0;32m   5395\u001b[0m         \u001b[1;32mif\u001b[0m \u001b[0mindices\u001b[0m\u001b[1;33m.\u001b[0m\u001b[0mndim\u001b[0m \u001b[1;33m==\u001b[0m \u001b[1;36m0\u001b[0m\u001b[1;33m:\u001b[0m\u001b[1;33m\u001b[0m\u001b[1;33m\u001b[0m\u001b[0m\n\u001b[0;32m   5396\u001b[0m             \u001b[1;31m# broadcasting is very different here, since a[:,0,:] = ... behaves\u001b[0m\u001b[1;33m\u001b[0m\u001b[1;33m\u001b[0m\u001b[0m\n",
      "\u001b[1;31mTypeError\u001b[0m: can't convert complex to int"
     ]
    }
   ],
   "source": [
    "a = np.arange(10)\n",
    "b = np.insert(a,2,10+20j)\n",
    "print(f\"array a : {a}\")\n",
    "print(f\"array b : {b}\")"
   ]
  },
  {
   "cell_type": "markdown",
   "id": "2133f0b1",
   "metadata": {},
   "source": [
    "#### Summary for 1-D arrays while insertion\n",
    "• The number of indices and the number of elements should be matched.<br>\n",
    "• Out of range index is not allowed.<br>\n",
    "• Elements will be converted automatically to the array type"
   ]
  },
  {
   "cell_type": "markdown",
   "id": "64b113bf",
   "metadata": {},
   "source": [
    "#### 2-D arrays\n",
    "• If we are trying to insert elements into multi dimensional arrays, compulsory we have to provide axis<br>\n",
    "• If we are not providing axis value, then default value None will be considered<br>\n",
    "• In this case, array will be flatten to 1-D array and then insertion will be happend.<br>\n",
    "• axis=0 means rows (axis=-2)<br>\n",
    "• axis=1 means columns (axis=-1)"
   ]
  },
  {
   "cell_type": "code",
   "execution_count": 15,
   "id": "c5278d14",
   "metadata": {},
   "outputs": [
    {
     "name": "stdout",
     "output_type": "stream",
     "text": [
      "array a :\n",
      " [[10 20]\n",
      " [30 40]]\n",
      "array b : [ 10 100  20  30  40]\n"
     ]
    }
   ],
   "source": [
    "# if the axis is not defined for 2-D arrays, None is selected by default\n",
    "# here the 2-D array flatten to 1-D array and insertion will be happened\n",
    "a = np.array([[10,20],[30,40]])\n",
    "b = np.insert(a,1,100)\n",
    "print(f\"array a :\\n {a}\")\n",
    "print(f\"array b : {b}\")"
   ]
  },
  {
   "cell_type": "markdown",
   "id": "7a4c8df2",
   "metadata": {},
   "source": [
    "<img src=\"images\\insert2d.JPG\" alt=\"insert2d\" width=\"600\" height=\"600\">"
   ]
  },
  {
   "cell_type": "code",
   "execution_count": 16,
   "id": "edfdbf20",
   "metadata": {},
   "outputs": [
    {
     "name": "stdout",
     "output_type": "stream",
     "text": [
      "array a :\n",
      " [[10 20]\n",
      " [30 40]]\n",
      "array b :\n",
      " [[ 10 100  20]\n",
      " [ 30 100  40]]\n",
      "array c :\n",
      " [[ 10 100  20]\n",
      " [ 30 100  40]]\n"
     ]
    }
   ],
   "source": [
    "# insert the elements along the axis=1 or axis=-1 ==> rows are inserted\n",
    "a = np.array([[10,20],[30,40]])\n",
    "b = np.insert(a,1,100,axis=1)\n",
    "c = np.insert(a,1,100,axis=-1)\n",
    "print(f\"array a :\\n {a}\")\n",
    "print(f\"array b :\\n {b}\")\n",
    "print(f\"array c :\\n {c}\")"
   ]
  },
  {
   "cell_type": "code",
   "execution_count": 17,
   "id": "fe224e77",
   "metadata": {},
   "outputs": [
    {
     "name": "stdout",
     "output_type": "stream",
     "text": [
      "array a :\n",
      " [[10 20]\n",
      " [30 40]]\n",
      "array b :\n",
      " [[ 10  20]\n",
      " [100 200]\n",
      " [300 400]\n",
      " [ 30  40]]\n"
     ]
    }
   ],
   "source": [
    "# to insert multiple rows\n",
    "a = np.array([[10,20],[30,40]])\n",
    "b = np.insert(a,1,[[100,200],[300,400]],axis=0)\n",
    "print(f\"array a :\\n {a}\")\n",
    "print(f\"array b :\\n {b}\")"
   ]
  },
  {
   "cell_type": "code",
   "execution_count": 18,
   "id": "6a889abe",
   "metadata": {},
   "outputs": [
    {
     "name": "stdout",
     "output_type": "stream",
     "text": [
      "array a :\n",
      " [[10 20]\n",
      " [30 40]]\n",
      "array b :\n",
      " [[ 10 100 300  20]\n",
      " [ 30 200 400  40]]\n"
     ]
    }
   ],
   "source": [
    "# to insert multiple columns\n",
    "a = np.array([[10,20],[30,40]])\n",
    "b = np.insert(a,1,[[100,200],[300,400]],axis=1)\n",
    "print(f\"array a :\\n {a}\")\n",
    "print(f\"array b :\\n {b}\")"
   ]
  },
  {
   "cell_type": "code",
   "execution_count": 19,
   "id": "396c272f",
   "metadata": {},
   "outputs": [
    {
     "ename": "ValueError",
     "evalue": "could not broadcast input array from shape (1,3) into shape (1,2)",
     "output_type": "error",
     "traceback": [
      "\u001b[1;31m---------------------------------------------------------------------------\u001b[0m",
      "\u001b[1;31mValueError\u001b[0m                                Traceback (most recent call last)",
      "\u001b[1;32m~\\AppData\\Local\\Temp\\ipykernel_15516\\3593061045.py\u001b[0m in \u001b[0;36m<module>\u001b[1;34m\u001b[0m\n\u001b[0;32m      1\u001b[0m \u001b[1;31m# ValueError\u001b[0m\u001b[1;33m\u001b[0m\u001b[1;33m\u001b[0m\u001b[0m\n\u001b[0;32m      2\u001b[0m \u001b[0ma\u001b[0m \u001b[1;33m=\u001b[0m \u001b[0mnp\u001b[0m\u001b[1;33m.\u001b[0m\u001b[0marray\u001b[0m\u001b[1;33m(\u001b[0m\u001b[1;33m[\u001b[0m\u001b[1;33m[\u001b[0m\u001b[1;36m10\u001b[0m\u001b[1;33m,\u001b[0m\u001b[1;36m20\u001b[0m\u001b[1;33m]\u001b[0m\u001b[1;33m,\u001b[0m\u001b[1;33m[\u001b[0m\u001b[1;36m30\u001b[0m\u001b[1;33m,\u001b[0m\u001b[1;36m40\u001b[0m\u001b[1;33m]\u001b[0m\u001b[1;33m]\u001b[0m\u001b[1;33m)\u001b[0m\u001b[1;33m\u001b[0m\u001b[1;33m\u001b[0m\u001b[0m\n\u001b[1;32m----> 3\u001b[1;33m \u001b[0mb\u001b[0m \u001b[1;33m=\u001b[0m \u001b[0mnp\u001b[0m\u001b[1;33m.\u001b[0m\u001b[0minsert\u001b[0m\u001b[1;33m(\u001b[0m\u001b[0ma\u001b[0m\u001b[1;33m,\u001b[0m\u001b[1;36m1\u001b[0m\u001b[1;33m,\u001b[0m\u001b[1;33m[\u001b[0m\u001b[1;36m100\u001b[0m\u001b[1;33m,\u001b[0m\u001b[1;36m200\u001b[0m\u001b[1;33m,\u001b[0m\u001b[1;36m300\u001b[0m\u001b[1;33m]\u001b[0m\u001b[1;33m,\u001b[0m\u001b[0maxis\u001b[0m\u001b[1;33m=\u001b[0m\u001b[1;36m0\u001b[0m\u001b[1;33m)\u001b[0m\u001b[1;33m\u001b[0m\u001b[1;33m\u001b[0m\u001b[0m\n\u001b[0m\u001b[0;32m      4\u001b[0m \u001b[0mprint\u001b[0m\u001b[1;33m(\u001b[0m\u001b[1;34mf\"array a :\\n {a}\"\u001b[0m\u001b[1;33m)\u001b[0m\u001b[1;33m\u001b[0m\u001b[1;33m\u001b[0m\u001b[0m\n\u001b[0;32m      5\u001b[0m \u001b[0mprint\u001b[0m\u001b[1;33m(\u001b[0m\u001b[1;34mf\"array b :\\n {b}\"\u001b[0m\u001b[1;33m)\u001b[0m\u001b[1;33m\u001b[0m\u001b[1;33m\u001b[0m\u001b[0m\n",
      "\u001b[1;32m~\\Anaconda3\\lib\\site-packages\\numpy\\core\\overrides.py\u001b[0m in \u001b[0;36minsert\u001b[1;34m(*args, **kwargs)\u001b[0m\n",
      "\u001b[1;32m~\\Anaconda3\\lib\\site-packages\\numpy\\lib\\function_base.py\u001b[0m in \u001b[0;36minsert\u001b[1;34m(arr, obj, values, axis)\u001b[0m\n\u001b[0;32m   5404\u001b[0m         \u001b[0mnew\u001b[0m\u001b[1;33m[\u001b[0m\u001b[0mtuple\u001b[0m\u001b[1;33m(\u001b[0m\u001b[0mslobj\u001b[0m\u001b[1;33m)\u001b[0m\u001b[1;33m]\u001b[0m \u001b[1;33m=\u001b[0m \u001b[0marr\u001b[0m\u001b[1;33m[\u001b[0m\u001b[0mtuple\u001b[0m\u001b[1;33m(\u001b[0m\u001b[0mslobj\u001b[0m\u001b[1;33m)\u001b[0m\u001b[1;33m]\u001b[0m\u001b[1;33m\u001b[0m\u001b[1;33m\u001b[0m\u001b[0m\n\u001b[0;32m   5405\u001b[0m         \u001b[0mslobj\u001b[0m\u001b[1;33m[\u001b[0m\u001b[0maxis\u001b[0m\u001b[1;33m]\u001b[0m \u001b[1;33m=\u001b[0m \u001b[0mslice\u001b[0m\u001b[1;33m(\u001b[0m\u001b[0mindex\u001b[0m\u001b[1;33m,\u001b[0m \u001b[0mindex\u001b[0m\u001b[1;33m+\u001b[0m\u001b[0mnumnew\u001b[0m\u001b[1;33m)\u001b[0m\u001b[1;33m\u001b[0m\u001b[1;33m\u001b[0m\u001b[0m\n\u001b[1;32m-> 5406\u001b[1;33m         \u001b[0mnew\u001b[0m\u001b[1;33m[\u001b[0m\u001b[0mtuple\u001b[0m\u001b[1;33m(\u001b[0m\u001b[0mslobj\u001b[0m\u001b[1;33m)\u001b[0m\u001b[1;33m]\u001b[0m \u001b[1;33m=\u001b[0m \u001b[0mvalues\u001b[0m\u001b[1;33m\u001b[0m\u001b[1;33m\u001b[0m\u001b[0m\n\u001b[0m\u001b[0;32m   5407\u001b[0m         \u001b[0mslobj\u001b[0m\u001b[1;33m[\u001b[0m\u001b[0maxis\u001b[0m\u001b[1;33m]\u001b[0m \u001b[1;33m=\u001b[0m \u001b[0mslice\u001b[0m\u001b[1;33m(\u001b[0m\u001b[0mindex\u001b[0m\u001b[1;33m+\u001b[0m\u001b[0mnumnew\u001b[0m\u001b[1;33m,\u001b[0m \u001b[1;32mNone\u001b[0m\u001b[1;33m)\u001b[0m\u001b[1;33m\u001b[0m\u001b[1;33m\u001b[0m\u001b[0m\n\u001b[0;32m   5408\u001b[0m         \u001b[0mslobj2\u001b[0m \u001b[1;33m=\u001b[0m \u001b[1;33m[\u001b[0m\u001b[0mslice\u001b[0m\u001b[1;33m(\u001b[0m\u001b[1;32mNone\u001b[0m\u001b[1;33m)\u001b[0m\u001b[1;33m]\u001b[0m \u001b[1;33m*\u001b[0m \u001b[0mndim\u001b[0m\u001b[1;33m\u001b[0m\u001b[1;33m\u001b[0m\u001b[0m\n",
      "\u001b[1;31mValueError\u001b[0m: could not broadcast input array from shape (1,3) into shape (1,2)"
     ]
    }
   ],
   "source": [
    "# ValueError\n",
    "a = np.array([[10,20],[30,40]])\n",
    "b = np.insert(a,1,[100,200,300],axis=0)\n",
    "print(f\"array a :\\n {a}\")\n",
    "print(f\"array b :\\n {b}\")"
   ]
  },
  {
   "cell_type": "markdown",
   "id": "f121e46b",
   "metadata": {},
   "source": [
    "### append()\n",
    "• By using insert() function, we can insert elements at our required index position.<br>\n",
    "• If we want to add elements always at end of the ndarray, then we have to go for\n",
    "append() function."
   ]
  },
  {
   "cell_type": "code",
   "execution_count": null,
   "id": "8083b3d9",
   "metadata": {},
   "outputs": [],
   "source": [
    "import numpy as np\n",
    "help(np.append)"
   ]
  },
  {
   "cell_type": "markdown",
   "id": "4fab828c",
   "metadata": {},
   "source": [
    "#### 1-D arrays\n",
    "• If appended element type is not same type of array, then elements conversion will be happend such that all elements of same common type."
   ]
  },
  {
   "cell_type": "code",
   "execution_count": 20,
   "id": "943aedfe",
   "metadata": {},
   "outputs": [
    {
     "name": "stdout",
     "output_type": "stream",
     "text": [
      "array a : [0 1 2 3 4 5 6 7 8 9]\n",
      "array b : [  0   1   2   3   4   5   6   7   8   9 100]\n"
     ]
    }
   ],
   "source": [
    "# append 100 element to the existing array of int\n",
    "a = np.arange(10)\n",
    "b = np.append(a,100)\n",
    "print(f\"array a : {a}\")\n",
    "print(f\"array b : {b}\")"
   ]
  },
  {
   "cell_type": "code",
   "execution_count": 21,
   "id": "80e6bc50",
   "metadata": {},
   "outputs": [
    {
     "name": "stdout",
     "output_type": "stream",
     "text": [
      "array a : [0 1 2 3 4 5 6 7 8 9]\n",
      "array b : [ 0.   1.   2.   3.   4.   5.   6.   7.   8.   9.  20.5]\n"
     ]
    }
   ],
   "source": [
    "# if the inserted element is not the type of the array then common type conversion happened\n",
    "a = np.arange(10)\n",
    "b = np.append(a,20.5)\n",
    "print(f\"array a : {a}\")\n",
    "print(f\"array b : {b}\")"
   ]
  },
  {
   "cell_type": "code",
   "execution_count": 22,
   "id": "f0c2cfcf",
   "metadata": {},
   "outputs": [
    {
     "name": "stdout",
     "output_type": "stream",
     "text": [
      "array a : [0 1 2 3 4 5 6 7 8 9]\n",
      "array b : ['0' '1' '2' '3' '4' '5' '6' '7' '8' '9' 'GK']\n"
     ]
    }
   ],
   "source": [
    "a = np.arange(10)\n",
    "b = np.append(a,\"GK\")\n",
    "print(f\"array a : {a}\")\n",
    "print(f\"array b : {b}\")"
   ]
  },
  {
   "cell_type": "code",
   "execution_count": 23,
   "id": "5eb4bf7f",
   "metadata": {},
   "outputs": [
    {
     "name": "stdout",
     "output_type": "stream",
     "text": [
      "array a : [0 1 2 3 4 5 6 7 8 9]\n",
      "array b : [0 1 2 3 4 5 6 7 8 9 1]\n"
     ]
    }
   ],
   "source": [
    "a = np.arange(10)\n",
    "b = np.append(a,True)\n",
    "print(f\"array a : {a}\")\n",
    "print(f\"array b : {b}\")"
   ]
  },
  {
   "cell_type": "code",
   "execution_count": 24,
   "id": "723a44df",
   "metadata": {},
   "outputs": [
    {
     "name": "stdout",
     "output_type": "stream",
     "text": [
      "array a : [0 1 2 3 4 5 6 7 8 9]\n",
      "array b : [ 0. +0.j  1. +0.j  2. +0.j  3. +0.j  4. +0.j  5. +0.j  6. +0.j  7. +0.j\n",
      "  8. +0.j  9. +0.j 20.+15.j]\n"
     ]
    }
   ],
   "source": [
    "a = np.arange(10)\n",
    "b = np.append(a,20+15j)\n",
    "print(f\"array a : {a}\")\n",
    "print(f\"array b : {b}\")"
   ]
  },
  {
   "cell_type": "markdown",
   "id": "d7ae41d3",
   "metadata": {},
   "source": [
    "#### 2-D arrays\n",
    "• If we are not specifying axis, then input array will be flatten to 1-D array and then append will be performed.<br>\n",
    "• If we are providing axis, then all the input arrays must have same number of dimensions, and same shape of provided axis.<br>\n",
    "• if axis-0 is taken then the obj should match with the number of columns of the input array<br>\n",
    "• if axis-1 is taken then the obj should match with the number of rows of the input array\n"
   ]
  },
  {
   "cell_type": "code",
   "execution_count": 25,
   "id": "6a694040",
   "metadata": {},
   "outputs": [
    {
     "name": "stdout",
     "output_type": "stream",
     "text": [
      "array a :\n",
      " [[10 20]\n",
      " [30 40]]\n",
      "array b : [10 20 30 40 70]\n"
     ]
    }
   ],
   "source": [
    "# here axis is not specified so the default \"None\" will be taken and flatten to 1-D array & insertion\n",
    "a = np.array([[10,20],[30,40]])\n",
    "b = np.append(a,70)\n",
    "print(f\"array a :\\n {a}\")\n",
    "print(f\"array b : {b}\")"
   ]
  },
  {
   "cell_type": "code",
   "execution_count": 26,
   "id": "bed2708e",
   "metadata": {},
   "outputs": [
    {
     "ename": "ValueError",
     "evalue": "all the input arrays must have same number of dimensions, but the array at index 0 has 2 dimension(s) and the array at index 1 has 0 dimension(s)",
     "output_type": "error",
     "traceback": [
      "\u001b[1;31m---------------------------------------------------------------------------\u001b[0m",
      "\u001b[1;31mValueError\u001b[0m                                Traceback (most recent call last)",
      "\u001b[1;32m~\\AppData\\Local\\Temp\\ipykernel_15516\\1361926494.py\u001b[0m in \u001b[0;36m<module>\u001b[1;34m\u001b[0m\n\u001b[0;32m      2\u001b[0m \u001b[1;31m# Value Error : i/p array is 2-D and appended array is 0-D\u001b[0m\u001b[1;33m\u001b[0m\u001b[1;33m\u001b[0m\u001b[0m\n\u001b[0;32m      3\u001b[0m \u001b[0ma\u001b[0m \u001b[1;33m=\u001b[0m \u001b[0mnp\u001b[0m\u001b[1;33m.\u001b[0m\u001b[0marray\u001b[0m\u001b[1;33m(\u001b[0m\u001b[1;33m[\u001b[0m\u001b[1;33m[\u001b[0m\u001b[1;36m10\u001b[0m\u001b[1;33m,\u001b[0m\u001b[1;36m20\u001b[0m\u001b[1;33m]\u001b[0m\u001b[1;33m,\u001b[0m\u001b[1;33m[\u001b[0m\u001b[1;36m30\u001b[0m\u001b[1;33m,\u001b[0m\u001b[1;36m40\u001b[0m\u001b[1;33m]\u001b[0m\u001b[1;33m]\u001b[0m\u001b[1;33m)\u001b[0m\u001b[1;33m\u001b[0m\u001b[1;33m\u001b[0m\u001b[0m\n\u001b[1;32m----> 4\u001b[1;33m \u001b[0mb\u001b[0m \u001b[1;33m=\u001b[0m \u001b[0mnp\u001b[0m\u001b[1;33m.\u001b[0m\u001b[0mappend\u001b[0m\u001b[1;33m(\u001b[0m\u001b[0ma\u001b[0m\u001b[1;33m,\u001b[0m\u001b[1;36m70\u001b[0m\u001b[1;33m,\u001b[0m\u001b[0maxis\u001b[0m\u001b[1;33m=\u001b[0m\u001b[1;36m0\u001b[0m\u001b[1;33m)\u001b[0m \u001b[1;31m# appended is 0-D => 70\u001b[0m\u001b[1;33m\u001b[0m\u001b[1;33m\u001b[0m\u001b[0m\n\u001b[0m\u001b[0;32m      5\u001b[0m \u001b[0mprint\u001b[0m\u001b[1;33m(\u001b[0m\u001b[1;34mf\"array a :\\n {a}\"\u001b[0m\u001b[1;33m)\u001b[0m\u001b[1;33m\u001b[0m\u001b[1;33m\u001b[0m\u001b[0m\n\u001b[0;32m      6\u001b[0m \u001b[0mprint\u001b[0m\u001b[1;33m(\u001b[0m\u001b[1;34mf\"array b : {b}\"\u001b[0m\u001b[1;33m)\u001b[0m\u001b[1;33m\u001b[0m\u001b[1;33m\u001b[0m\u001b[0m\n",
      "\u001b[1;32m~\\Anaconda3\\lib\\site-packages\\numpy\\core\\overrides.py\u001b[0m in \u001b[0;36mappend\u001b[1;34m(*args, **kwargs)\u001b[0m\n",
      "\u001b[1;32m~\\Anaconda3\\lib\\site-packages\\numpy\\lib\\function_base.py\u001b[0m in \u001b[0;36mappend\u001b[1;34m(arr, values, axis)\u001b[0m\n\u001b[0;32m   5497\u001b[0m         \u001b[0mvalues\u001b[0m \u001b[1;33m=\u001b[0m \u001b[0mravel\u001b[0m\u001b[1;33m(\u001b[0m\u001b[0mvalues\u001b[0m\u001b[1;33m)\u001b[0m\u001b[1;33m\u001b[0m\u001b[1;33m\u001b[0m\u001b[0m\n\u001b[0;32m   5498\u001b[0m         \u001b[0maxis\u001b[0m \u001b[1;33m=\u001b[0m \u001b[0marr\u001b[0m\u001b[1;33m.\u001b[0m\u001b[0mndim\u001b[0m\u001b[1;33m-\u001b[0m\u001b[1;36m1\u001b[0m\u001b[1;33m\u001b[0m\u001b[1;33m\u001b[0m\u001b[0m\n\u001b[1;32m-> 5499\u001b[1;33m     \u001b[1;32mreturn\u001b[0m \u001b[0mconcatenate\u001b[0m\u001b[1;33m(\u001b[0m\u001b[1;33m(\u001b[0m\u001b[0marr\u001b[0m\u001b[1;33m,\u001b[0m \u001b[0mvalues\u001b[0m\u001b[1;33m)\u001b[0m\u001b[1;33m,\u001b[0m \u001b[0maxis\u001b[0m\u001b[1;33m=\u001b[0m\u001b[0maxis\u001b[0m\u001b[1;33m)\u001b[0m\u001b[1;33m\u001b[0m\u001b[1;33m\u001b[0m\u001b[0m\n\u001b[0m\u001b[0;32m   5500\u001b[0m \u001b[1;33m\u001b[0m\u001b[0m\n\u001b[0;32m   5501\u001b[0m \u001b[1;33m\u001b[0m\u001b[0m\n",
      "\u001b[1;32m~\\Anaconda3\\lib\\site-packages\\numpy\\core\\overrides.py\u001b[0m in \u001b[0;36mconcatenate\u001b[1;34m(*args, **kwargs)\u001b[0m\n",
      "\u001b[1;31mValueError\u001b[0m: all the input arrays must have same number of dimensions, but the array at index 0 has 2 dimension(s) and the array at index 1 has 0 dimension(s)"
     ]
    }
   ],
   "source": [
    "# axis=0 ==> along rows\n",
    "# Value Error : i/p array is 2-D and appended array is 0-D\n",
    "a = np.array([[10,20],[30,40]])\n",
    "b = np.append(a,70,axis=0) # appended is 0-D => 70\n",
    "print(f\"array a :\\n {a}\")\n",
    "print(f\"array b : {b}\")"
   ]
  },
  {
   "cell_type": "code",
   "execution_count": 27,
   "id": "013b6444",
   "metadata": {},
   "outputs": [
    {
     "ename": "ValueError",
     "evalue": "all the input arrays must have same number of dimensions, but the array at index 0 has 2 dimension(s) and the array at index 1 has 1 dimension(s)",
     "output_type": "error",
     "traceback": [
      "\u001b[1;31m---------------------------------------------------------------------------\u001b[0m",
      "\u001b[1;31mValueError\u001b[0m                                Traceback (most recent call last)",
      "\u001b[1;32m~\\AppData\\Local\\Temp\\ipykernel_15516\\2068697413.py\u001b[0m in \u001b[0;36m<module>\u001b[1;34m\u001b[0m\n\u001b[0;32m      1\u001b[0m \u001b[1;31m# Value Error : i/p array is 2-D and appended array is 1-D\u001b[0m\u001b[1;33m\u001b[0m\u001b[1;33m\u001b[0m\u001b[0m\n\u001b[0;32m      2\u001b[0m \u001b[0ma\u001b[0m \u001b[1;33m=\u001b[0m \u001b[0mnp\u001b[0m\u001b[1;33m.\u001b[0m\u001b[0marray\u001b[0m\u001b[1;33m(\u001b[0m\u001b[1;33m[\u001b[0m\u001b[1;33m[\u001b[0m\u001b[1;36m10\u001b[0m\u001b[1;33m,\u001b[0m\u001b[1;36m20\u001b[0m\u001b[1;33m]\u001b[0m\u001b[1;33m,\u001b[0m\u001b[1;33m[\u001b[0m\u001b[1;36m30\u001b[0m\u001b[1;33m,\u001b[0m\u001b[1;36m40\u001b[0m\u001b[1;33m]\u001b[0m\u001b[1;33m]\u001b[0m\u001b[1;33m)\u001b[0m\u001b[1;33m\u001b[0m\u001b[1;33m\u001b[0m\u001b[0m\n\u001b[1;32m----> 3\u001b[1;33m \u001b[0mb\u001b[0m \u001b[1;33m=\u001b[0m \u001b[0mnp\u001b[0m\u001b[1;33m.\u001b[0m\u001b[0mappend\u001b[0m\u001b[1;33m(\u001b[0m\u001b[0ma\u001b[0m\u001b[1;33m,\u001b[0m\u001b[1;33m[\u001b[0m\u001b[1;36m70\u001b[0m\u001b[1;33m,\u001b[0m\u001b[1;36m80\u001b[0m\u001b[1;33m]\u001b[0m\u001b[1;33m,\u001b[0m\u001b[0maxis\u001b[0m\u001b[1;33m=\u001b[0m\u001b[1;36m0\u001b[0m\u001b[1;33m)\u001b[0m \u001b[1;31m# appended is 1-D => [70,80]\u001b[0m\u001b[1;33m\u001b[0m\u001b[1;33m\u001b[0m\u001b[0m\n\u001b[0m\u001b[0;32m      4\u001b[0m \u001b[0mprint\u001b[0m\u001b[1;33m(\u001b[0m\u001b[1;34mf\"array a :\\n {a}\"\u001b[0m\u001b[1;33m)\u001b[0m\u001b[1;33m\u001b[0m\u001b[1;33m\u001b[0m\u001b[0m\n\u001b[0;32m      5\u001b[0m \u001b[0mprint\u001b[0m\u001b[1;33m(\u001b[0m\u001b[1;34mf\"array b : {b}\"\u001b[0m\u001b[1;33m)\u001b[0m\u001b[1;33m\u001b[0m\u001b[1;33m\u001b[0m\u001b[0m\n",
      "\u001b[1;32m~\\Anaconda3\\lib\\site-packages\\numpy\\core\\overrides.py\u001b[0m in \u001b[0;36mappend\u001b[1;34m(*args, **kwargs)\u001b[0m\n",
      "\u001b[1;32m~\\Anaconda3\\lib\\site-packages\\numpy\\lib\\function_base.py\u001b[0m in \u001b[0;36mappend\u001b[1;34m(arr, values, axis)\u001b[0m\n\u001b[0;32m   5497\u001b[0m         \u001b[0mvalues\u001b[0m \u001b[1;33m=\u001b[0m \u001b[0mravel\u001b[0m\u001b[1;33m(\u001b[0m\u001b[0mvalues\u001b[0m\u001b[1;33m)\u001b[0m\u001b[1;33m\u001b[0m\u001b[1;33m\u001b[0m\u001b[0m\n\u001b[0;32m   5498\u001b[0m         \u001b[0maxis\u001b[0m \u001b[1;33m=\u001b[0m \u001b[0marr\u001b[0m\u001b[1;33m.\u001b[0m\u001b[0mndim\u001b[0m\u001b[1;33m-\u001b[0m\u001b[1;36m1\u001b[0m\u001b[1;33m\u001b[0m\u001b[1;33m\u001b[0m\u001b[0m\n\u001b[1;32m-> 5499\u001b[1;33m     \u001b[1;32mreturn\u001b[0m \u001b[0mconcatenate\u001b[0m\u001b[1;33m(\u001b[0m\u001b[1;33m(\u001b[0m\u001b[0marr\u001b[0m\u001b[1;33m,\u001b[0m \u001b[0mvalues\u001b[0m\u001b[1;33m)\u001b[0m\u001b[1;33m,\u001b[0m \u001b[0maxis\u001b[0m\u001b[1;33m=\u001b[0m\u001b[0maxis\u001b[0m\u001b[1;33m)\u001b[0m\u001b[1;33m\u001b[0m\u001b[1;33m\u001b[0m\u001b[0m\n\u001b[0m\u001b[0;32m   5500\u001b[0m \u001b[1;33m\u001b[0m\u001b[0m\n\u001b[0;32m   5501\u001b[0m \u001b[1;33m\u001b[0m\u001b[0m\n",
      "\u001b[1;32m~\\Anaconda3\\lib\\site-packages\\numpy\\core\\overrides.py\u001b[0m in \u001b[0;36mconcatenate\u001b[1;34m(*args, **kwargs)\u001b[0m\n",
      "\u001b[1;31mValueError\u001b[0m: all the input arrays must have same number of dimensions, but the array at index 0 has 2 dimension(s) and the array at index 1 has 1 dimension(s)"
     ]
    }
   ],
   "source": [
    "# Value Error : i/p array is 2-D and appended array is 1-D\n",
    "a = np.array([[10,20],[30,40]])\n",
    "b = np.append(a,[70,80],axis=0) # appended is 1-D => [70,80]\n",
    "print(f\"array a :\\n {a}\")\n",
    "print(f\"array b : {b}\")"
   ]
  },
  {
   "cell_type": "code",
   "execution_count": 29,
   "id": "10fe1c2d",
   "metadata": {},
   "outputs": [
    {
     "name": "stdout",
     "output_type": "stream",
     "text": [
      "array a :\n",
      " [[10 20]\n",
      " [30 40]]\n",
      "array b : [[10 20]\n",
      " [30 40]\n",
      " [70 80]]\n"
     ]
    }
   ],
   "source": [
    "# i/p array is 2-D and appended array is 2-D\n",
    "a = np.array([[10,20],[30,40]])\n",
    "b = np.append(a,[[70,80]],axis=0) # appended is 2-D => [[70,80]]\n",
    "print(f\"array a :\\n {a}\")\n",
    "print(f\"array b : {b}\")"
   ]
  },
  {
   "cell_type": "code",
   "execution_count": 30,
   "id": "e763e0d2",
   "metadata": {},
   "outputs": [
    {
     "ename": "ValueError",
     "evalue": "all the input array dimensions except for the concatenation axis must match exactly, but along dimension 0, the array at index 0 has size 2 and the array at index 1 has size 1",
     "output_type": "error",
     "traceback": [
      "\u001b[1;31m---------------------------------------------------------------------------\u001b[0m",
      "\u001b[1;31mValueError\u001b[0m                                Traceback (most recent call last)",
      "\u001b[1;32m~\\AppData\\Local\\Temp\\ipykernel_15516\\1597377493.py\u001b[0m in \u001b[0;36m<module>\u001b[1;34m\u001b[0m\n\u001b[0;32m      2\u001b[0m \u001b[1;31m# Value Error : i/p array is Size 2 and appended element is size 1\u001b[0m\u001b[1;33m\u001b[0m\u001b[1;33m\u001b[0m\u001b[0m\n\u001b[0;32m      3\u001b[0m \u001b[0ma\u001b[0m \u001b[1;33m=\u001b[0m \u001b[0mnp\u001b[0m\u001b[1;33m.\u001b[0m\u001b[0marray\u001b[0m\u001b[1;33m(\u001b[0m\u001b[1;33m[\u001b[0m\u001b[1;33m[\u001b[0m\u001b[1;36m10\u001b[0m\u001b[1;33m,\u001b[0m\u001b[1;36m20\u001b[0m\u001b[1;33m]\u001b[0m\u001b[1;33m,\u001b[0m\u001b[1;33m[\u001b[0m\u001b[1;36m30\u001b[0m\u001b[1;33m,\u001b[0m\u001b[1;36m40\u001b[0m\u001b[1;33m]\u001b[0m\u001b[1;33m]\u001b[0m\u001b[1;33m)\u001b[0m\u001b[1;33m\u001b[0m\u001b[1;33m\u001b[0m\u001b[0m\n\u001b[1;32m----> 4\u001b[1;33m \u001b[0mb\u001b[0m \u001b[1;33m=\u001b[0m \u001b[0mnp\u001b[0m\u001b[1;33m.\u001b[0m\u001b[0mappend\u001b[0m\u001b[1;33m(\u001b[0m\u001b[0ma\u001b[0m\u001b[1;33m,\u001b[0m\u001b[1;33m[\u001b[0m\u001b[1;33m[\u001b[0m\u001b[1;36m70\u001b[0m\u001b[1;33m,\u001b[0m\u001b[1;36m80\u001b[0m\u001b[1;33m]\u001b[0m\u001b[1;33m]\u001b[0m\u001b[1;33m,\u001b[0m\u001b[0maxis\u001b[0m\u001b[1;33m=\u001b[0m\u001b[1;36m1\u001b[0m\u001b[1;33m)\u001b[0m \u001b[1;31m# appended is size 1 => [[70,80]]\u001b[0m\u001b[1;33m\u001b[0m\u001b[1;33m\u001b[0m\u001b[0m\n\u001b[0m\u001b[0;32m      5\u001b[0m \u001b[0mprint\u001b[0m\u001b[1;33m(\u001b[0m\u001b[1;34mf\"array a :\\n {a}\"\u001b[0m\u001b[1;33m)\u001b[0m\u001b[1;33m\u001b[0m\u001b[1;33m\u001b[0m\u001b[0m\n\u001b[0;32m      6\u001b[0m \u001b[0mprint\u001b[0m\u001b[1;33m(\u001b[0m\u001b[1;34mf\"array b : {b}\"\u001b[0m\u001b[1;33m)\u001b[0m\u001b[1;33m\u001b[0m\u001b[1;33m\u001b[0m\u001b[0m\n",
      "\u001b[1;32m~\\Anaconda3\\lib\\site-packages\\numpy\\core\\overrides.py\u001b[0m in \u001b[0;36mappend\u001b[1;34m(*args, **kwargs)\u001b[0m\n",
      "\u001b[1;32m~\\Anaconda3\\lib\\site-packages\\numpy\\lib\\function_base.py\u001b[0m in \u001b[0;36mappend\u001b[1;34m(arr, values, axis)\u001b[0m\n\u001b[0;32m   5497\u001b[0m         \u001b[0mvalues\u001b[0m \u001b[1;33m=\u001b[0m \u001b[0mravel\u001b[0m\u001b[1;33m(\u001b[0m\u001b[0mvalues\u001b[0m\u001b[1;33m)\u001b[0m\u001b[1;33m\u001b[0m\u001b[1;33m\u001b[0m\u001b[0m\n\u001b[0;32m   5498\u001b[0m         \u001b[0maxis\u001b[0m \u001b[1;33m=\u001b[0m \u001b[0marr\u001b[0m\u001b[1;33m.\u001b[0m\u001b[0mndim\u001b[0m\u001b[1;33m-\u001b[0m\u001b[1;36m1\u001b[0m\u001b[1;33m\u001b[0m\u001b[1;33m\u001b[0m\u001b[0m\n\u001b[1;32m-> 5499\u001b[1;33m     \u001b[1;32mreturn\u001b[0m \u001b[0mconcatenate\u001b[0m\u001b[1;33m(\u001b[0m\u001b[1;33m(\u001b[0m\u001b[0marr\u001b[0m\u001b[1;33m,\u001b[0m \u001b[0mvalues\u001b[0m\u001b[1;33m)\u001b[0m\u001b[1;33m,\u001b[0m \u001b[0maxis\u001b[0m\u001b[1;33m=\u001b[0m\u001b[0maxis\u001b[0m\u001b[1;33m)\u001b[0m\u001b[1;33m\u001b[0m\u001b[1;33m\u001b[0m\u001b[0m\n\u001b[0m\u001b[0;32m   5500\u001b[0m \u001b[1;33m\u001b[0m\u001b[0m\n\u001b[0;32m   5501\u001b[0m \u001b[1;33m\u001b[0m\u001b[0m\n",
      "\u001b[1;32m~\\Anaconda3\\lib\\site-packages\\numpy\\core\\overrides.py\u001b[0m in \u001b[0;36mconcatenate\u001b[1;34m(*args, **kwargs)\u001b[0m\n",
      "\u001b[1;31mValueError\u001b[0m: all the input array dimensions except for the concatenation axis must match exactly, but along dimension 0, the array at index 0 has size 2 and the array at index 1 has size 1"
     ]
    }
   ],
   "source": [
    "# axis=1 along colums\n",
    "# Value Error : i/p array is Size 2 and appended element is size 1\n",
    "a = np.array([[10,20],[30,40]])\n",
    "b = np.append(a,[[70,80]],axis=1) # appended is size 1 => [[70,80]]\n",
    "print(f\"array a :\\n {a}\")\n",
    "print(f\"array b : {b}\")"
   ]
  },
  {
   "cell_type": "code",
   "execution_count": 31,
   "id": "48974b89",
   "metadata": {},
   "outputs": [
    {
     "name": "stdout",
     "output_type": "stream",
     "text": [
      "array a :\n",
      " [[10 20]\n",
      " [30 40]]\n",
      "array b :\n",
      " [[10 20 70]\n",
      " [30 40 80]]\n"
     ]
    }
   ],
   "source": [
    "a = np.array([[10,20],[30,40]])\n",
    "b = np.append(a,[[70],[80]],axis=1)\n",
    "print(f\"array a :\\n {a}\")\n",
    "print(f\"array b :\\n {b}\")"
   ]
  },
  {
   "cell_type": "code",
   "execution_count": 32,
   "id": "0c8df9fa",
   "metadata": {},
   "outputs": [
    {
     "name": "stdout",
     "output_type": "stream",
     "text": [
      "array a :\n",
      " [[10 20]\n",
      " [30 40]]\n",
      "array b :\n",
      " [[ 10  20  70  80]\n",
      " [ 30  40  90 100]]\n"
     ]
    }
   ],
   "source": [
    "# multiple columns\n",
    "a = np.array([[10,20],[30,40]])\n",
    "b = np.append(a,[[70,80],[90,100]],axis=1)\n",
    "print(f\"array a :\\n {a}\")\n",
    "print(f\"array b :\\n {b}\")"
   ]
  },
  {
   "cell_type": "code",
   "execution_count": 33,
   "id": "00d65a26",
   "metadata": {},
   "outputs": [],
   "source": [
    "# Consider the array?\n",
    "a = np.arange(12).reshape(4,3)\n",
    "# Which of the following operations will be performed successfully?\n",
    "# A. np.append(a,[[10,20,30]],axis=0) #valid\n",
    "# B. np.append(a,[[10,20,30]],axis=1) #invalid\n",
    "# C. np.append(a,[[10],[20],[30]],axis=0) #invalid\n",
    "# D. np.append(a,[[10],[20],[30],[40]],axis=1) #valid\n",
    "# E. np.append(a,[[10,20,30],[40,50,60]],axis=0) #valid\n",
    "# F. np.append(a,[[10,20],[30,40],[50,60],[70,80]],axis=1) #valid"
   ]
  },
  {
   "cell_type": "code",
   "execution_count": 34,
   "id": "54b9654c",
   "metadata": {},
   "outputs": [
    {
     "data": {
      "text/plain": [
       "array([[ 0,  1,  2],\n",
       "       [ 3,  4,  5],\n",
       "       [ 6,  7,  8],\n",
       "       [ 9, 10, 11],\n",
       "       [10, 20, 30]])"
      ]
     },
     "execution_count": 34,
     "metadata": {},
     "output_type": "execute_result"
    }
   ],
   "source": [
    "np.append(a,[[10,20,30]],axis=0) #valid"
   ]
  },
  {
   "cell_type": "code",
   "execution_count": 35,
   "id": "0399fc86",
   "metadata": {},
   "outputs": [
    {
     "ename": "ValueError",
     "evalue": "all the input array dimensions except for the concatenation axis must match exactly, but along dimension 0, the array at index 0 has size 4 and the array at index 1 has size 1",
     "output_type": "error",
     "traceback": [
      "\u001b[1;31m---------------------------------------------------------------------------\u001b[0m",
      "\u001b[1;31mValueError\u001b[0m                                Traceback (most recent call last)",
      "\u001b[1;32m~\\AppData\\Local\\Temp\\ipykernel_15516\\4042467431.py\u001b[0m in \u001b[0;36m<module>\u001b[1;34m\u001b[0m\n\u001b[1;32m----> 1\u001b[1;33m \u001b[0mnp\u001b[0m\u001b[1;33m.\u001b[0m\u001b[0mappend\u001b[0m\u001b[1;33m(\u001b[0m\u001b[0ma\u001b[0m\u001b[1;33m,\u001b[0m\u001b[1;33m[\u001b[0m\u001b[1;33m[\u001b[0m\u001b[1;36m10\u001b[0m\u001b[1;33m,\u001b[0m\u001b[1;36m20\u001b[0m\u001b[1;33m,\u001b[0m\u001b[1;36m30\u001b[0m\u001b[1;33m]\u001b[0m\u001b[1;33m]\u001b[0m\u001b[1;33m,\u001b[0m\u001b[0maxis\u001b[0m\u001b[1;33m=\u001b[0m\u001b[1;36m1\u001b[0m\u001b[1;33m)\u001b[0m \u001b[1;31m#invalid\u001b[0m\u001b[1;33m\u001b[0m\u001b[1;33m\u001b[0m\u001b[0m\n\u001b[0m",
      "\u001b[1;32m~\\Anaconda3\\lib\\site-packages\\numpy\\core\\overrides.py\u001b[0m in \u001b[0;36mappend\u001b[1;34m(*args, **kwargs)\u001b[0m\n",
      "\u001b[1;32m~\\Anaconda3\\lib\\site-packages\\numpy\\lib\\function_base.py\u001b[0m in \u001b[0;36mappend\u001b[1;34m(arr, values, axis)\u001b[0m\n\u001b[0;32m   5497\u001b[0m         \u001b[0mvalues\u001b[0m \u001b[1;33m=\u001b[0m \u001b[0mravel\u001b[0m\u001b[1;33m(\u001b[0m\u001b[0mvalues\u001b[0m\u001b[1;33m)\u001b[0m\u001b[1;33m\u001b[0m\u001b[1;33m\u001b[0m\u001b[0m\n\u001b[0;32m   5498\u001b[0m         \u001b[0maxis\u001b[0m \u001b[1;33m=\u001b[0m \u001b[0marr\u001b[0m\u001b[1;33m.\u001b[0m\u001b[0mndim\u001b[0m\u001b[1;33m-\u001b[0m\u001b[1;36m1\u001b[0m\u001b[1;33m\u001b[0m\u001b[1;33m\u001b[0m\u001b[0m\n\u001b[1;32m-> 5499\u001b[1;33m     \u001b[1;32mreturn\u001b[0m \u001b[0mconcatenate\u001b[0m\u001b[1;33m(\u001b[0m\u001b[1;33m(\u001b[0m\u001b[0marr\u001b[0m\u001b[1;33m,\u001b[0m \u001b[0mvalues\u001b[0m\u001b[1;33m)\u001b[0m\u001b[1;33m,\u001b[0m \u001b[0maxis\u001b[0m\u001b[1;33m=\u001b[0m\u001b[0maxis\u001b[0m\u001b[1;33m)\u001b[0m\u001b[1;33m\u001b[0m\u001b[1;33m\u001b[0m\u001b[0m\n\u001b[0m\u001b[0;32m   5500\u001b[0m \u001b[1;33m\u001b[0m\u001b[0m\n\u001b[0;32m   5501\u001b[0m \u001b[1;33m\u001b[0m\u001b[0m\n",
      "\u001b[1;32m~\\Anaconda3\\lib\\site-packages\\numpy\\core\\overrides.py\u001b[0m in \u001b[0;36mconcatenate\u001b[1;34m(*args, **kwargs)\u001b[0m\n",
      "\u001b[1;31mValueError\u001b[0m: all the input array dimensions except for the concatenation axis must match exactly, but along dimension 0, the array at index 0 has size 4 and the array at index 1 has size 1"
     ]
    }
   ],
   "source": [
    "np.append(a,[[10,20,30]],axis=1) #invalid"
   ]
  },
  {
   "cell_type": "code",
   "execution_count": 36,
   "id": "63a24e1c",
   "metadata": {},
   "outputs": [
    {
     "ename": "ValueError",
     "evalue": "all the input array dimensions except for the concatenation axis must match exactly, but along dimension 1, the array at index 0 has size 3 and the array at index 1 has size 1",
     "output_type": "error",
     "traceback": [
      "\u001b[1;31m---------------------------------------------------------------------------\u001b[0m",
      "\u001b[1;31mValueError\u001b[0m                                Traceback (most recent call last)",
      "\u001b[1;32m~\\AppData\\Local\\Temp\\ipykernel_15516\\3810046588.py\u001b[0m in \u001b[0;36m<module>\u001b[1;34m\u001b[0m\n\u001b[1;32m----> 1\u001b[1;33m \u001b[0mnp\u001b[0m\u001b[1;33m.\u001b[0m\u001b[0mappend\u001b[0m\u001b[1;33m(\u001b[0m\u001b[0ma\u001b[0m\u001b[1;33m,\u001b[0m\u001b[1;33m[\u001b[0m\u001b[1;33m[\u001b[0m\u001b[1;36m10\u001b[0m\u001b[1;33m]\u001b[0m\u001b[1;33m,\u001b[0m\u001b[1;33m[\u001b[0m\u001b[1;36m20\u001b[0m\u001b[1;33m]\u001b[0m\u001b[1;33m,\u001b[0m\u001b[1;33m[\u001b[0m\u001b[1;36m30\u001b[0m\u001b[1;33m]\u001b[0m\u001b[1;33m]\u001b[0m\u001b[1;33m,\u001b[0m\u001b[0maxis\u001b[0m\u001b[1;33m=\u001b[0m\u001b[1;36m0\u001b[0m\u001b[1;33m)\u001b[0m \u001b[1;31m#invalid\u001b[0m\u001b[1;33m\u001b[0m\u001b[1;33m\u001b[0m\u001b[0m\n\u001b[0m",
      "\u001b[1;32m~\\Anaconda3\\lib\\site-packages\\numpy\\core\\overrides.py\u001b[0m in \u001b[0;36mappend\u001b[1;34m(*args, **kwargs)\u001b[0m\n",
      "\u001b[1;32m~\\Anaconda3\\lib\\site-packages\\numpy\\lib\\function_base.py\u001b[0m in \u001b[0;36mappend\u001b[1;34m(arr, values, axis)\u001b[0m\n\u001b[0;32m   5497\u001b[0m         \u001b[0mvalues\u001b[0m \u001b[1;33m=\u001b[0m \u001b[0mravel\u001b[0m\u001b[1;33m(\u001b[0m\u001b[0mvalues\u001b[0m\u001b[1;33m)\u001b[0m\u001b[1;33m\u001b[0m\u001b[1;33m\u001b[0m\u001b[0m\n\u001b[0;32m   5498\u001b[0m         \u001b[0maxis\u001b[0m \u001b[1;33m=\u001b[0m \u001b[0marr\u001b[0m\u001b[1;33m.\u001b[0m\u001b[0mndim\u001b[0m\u001b[1;33m-\u001b[0m\u001b[1;36m1\u001b[0m\u001b[1;33m\u001b[0m\u001b[1;33m\u001b[0m\u001b[0m\n\u001b[1;32m-> 5499\u001b[1;33m     \u001b[1;32mreturn\u001b[0m \u001b[0mconcatenate\u001b[0m\u001b[1;33m(\u001b[0m\u001b[1;33m(\u001b[0m\u001b[0marr\u001b[0m\u001b[1;33m,\u001b[0m \u001b[0mvalues\u001b[0m\u001b[1;33m)\u001b[0m\u001b[1;33m,\u001b[0m \u001b[0maxis\u001b[0m\u001b[1;33m=\u001b[0m\u001b[0maxis\u001b[0m\u001b[1;33m)\u001b[0m\u001b[1;33m\u001b[0m\u001b[1;33m\u001b[0m\u001b[0m\n\u001b[0m\u001b[0;32m   5500\u001b[0m \u001b[1;33m\u001b[0m\u001b[0m\n\u001b[0;32m   5501\u001b[0m \u001b[1;33m\u001b[0m\u001b[0m\n",
      "\u001b[1;32m~\\Anaconda3\\lib\\site-packages\\numpy\\core\\overrides.py\u001b[0m in \u001b[0;36mconcatenate\u001b[1;34m(*args, **kwargs)\u001b[0m\n",
      "\u001b[1;31mValueError\u001b[0m: all the input array dimensions except for the concatenation axis must match exactly, but along dimension 1, the array at index 0 has size 3 and the array at index 1 has size 1"
     ]
    }
   ],
   "source": [
    "np.append(a,[[10],[20],[30]],axis=0) #invalid"
   ]
  },
  {
   "cell_type": "code",
   "execution_count": 37,
   "id": "855b4e1c",
   "metadata": {},
   "outputs": [
    {
     "data": {
      "text/plain": [
       "array([[ 0,  1,  2, 10],\n",
       "       [ 3,  4,  5, 20],\n",
       "       [ 6,  7,  8, 30],\n",
       "       [ 9, 10, 11, 40]])"
      ]
     },
     "execution_count": 37,
     "metadata": {},
     "output_type": "execute_result"
    }
   ],
   "source": [
    "np.append(a,[[10],[20],[30],[40]],axis=1) #valid"
   ]
  },
  {
   "cell_type": "code",
   "execution_count": 38,
   "id": "719f9f78",
   "metadata": {},
   "outputs": [
    {
     "data": {
      "text/plain": [
       "array([[ 0,  1,  2],\n",
       "       [ 3,  4,  5],\n",
       "       [ 6,  7,  8],\n",
       "       [ 9, 10, 11],\n",
       "       [10, 20, 30],\n",
       "       [40, 50, 60]])"
      ]
     },
     "execution_count": 38,
     "metadata": {},
     "output_type": "execute_result"
    }
   ],
   "source": [
    "np.append(a,[[10,20,30],[40,50,60]],axis=0) #valid"
   ]
  },
  {
   "cell_type": "code",
   "execution_count": 39,
   "id": "fc368fe7",
   "metadata": {},
   "outputs": [
    {
     "data": {
      "text/plain": [
       "array([[ 0,  1,  2, 10, 20],\n",
       "       [ 3,  4,  5, 30, 40],\n",
       "       [ 6,  7,  8, 50, 60],\n",
       "       [ 9, 10, 11, 70, 80]])"
      ]
     },
     "execution_count": 39,
     "metadata": {},
     "output_type": "execute_result"
    }
   ],
   "source": [
    "np.append(a,[[10,20],[30,40],[50,60],[70,80]],axis=1) #valid"
   ]
  },
  {
   "cell_type": "code",
   "execution_count": 40,
   "id": "db65e2ff",
   "metadata": {},
   "outputs": [
    {
     "name": "stdout",
     "output_type": "stream",
     "text": [
      "[[ 0  1  2]\n",
      " [ 3  4  5]\n",
      " [ 6  7  8]\n",
      " [ 9 10 11]]\n",
      "[[ 0  1  2 10]\n",
      " [ 3  4  5 20]\n",
      " [ 6  7  8 30]\n",
      " [ 9 10 11 40]]\n"
     ]
    }
   ],
   "source": [
    "a = np.arange(12).reshape(4,3)\n",
    "print(a)\n",
    "b = np.append(a,[[10],[20],[30],[40]],axis=1)\n",
    "print(b)"
   ]
  },
  {
   "cell_type": "code",
   "execution_count": 41,
   "id": "153271e2",
   "metadata": {},
   "outputs": [
    {
     "name": "stdout",
     "output_type": "stream",
     "text": [
      "[[ 0  1  2]\n",
      " [ 3  4  5]\n",
      " [ 6  7  8]\n",
      " [ 9 10 11]]\n",
      "[[ 0  1  2 10 50]\n",
      " [ 3  4  5 20 60]\n",
      " [ 6  7  8 30 70]\n",
      " [ 9 10 11 40 80]]\n"
     ]
    }
   ],
   "source": [
    "a = np.arange(12).reshape(4,3)\n",
    "print(a)\n",
    "b = np.append(a,[[10,50],[20,60],[30,70],[40,80]],axis=1)\n",
    "print(b)"
   ]
  },
  {
   "cell_type": "markdown",
   "id": "4d214e5c",
   "metadata": {},
   "source": [
    "## insert() vs append()\n",
    "\n",
    "| Function  | Description                                                          |\n",
    "|-----------|----------------------------------------------------------------------|\n",
    "| `insert()`| By using the insert() function, we can insert elements at our required index position. |\n",
    "| `append()`| By using the append() function, we can add elements always at the end of ndarray.   |"
   ]
  },
  {
   "cell_type": "markdown",
   "id": "ce498e3a",
   "metadata": {},
   "source": [
    "# Chapter-15 - How to delete elements from ndarray"
   ]
  },
  {
   "cell_type": "markdown",
   "id": "a3f9dd7a",
   "metadata": {},
   "source": [
    "## How to delete elements from ndarray\n",
    "\n",
    "We can delete elements of ndarray by using delete() function.\n",
    "<br>\n",
    "**delete(arr, obj, axis=None)**<br>\n",
    "\n",
    "• obj can be int, array of ints or slice<br>\n",
    "• for multi-dimensional arrays we must have to specify the axis, other-wise the default axis=None will be considered. In this case first the array is flatten to the 1-D array and deletion will be performed"
   ]
  },
  {
   "cell_type": "code",
   "execution_count": null,
   "id": "85cca8fc",
   "metadata": {},
   "outputs": [],
   "source": [
    "import numpy as np\n",
    "help(np.delete)"
   ]
  },
  {
   "cell_type": "markdown",
   "id": "71094c2a",
   "metadata": {},
   "source": [
    "## 1-D arrays"
   ]
  },
  {
   "cell_type": "code",
   "execution_count": 42,
   "id": "c36ff913",
   "metadata": {},
   "outputs": [
    {
     "name": "stdout",
     "output_type": "stream",
     "text": [
      "array a : [ 10  20  30  40  50  60  70  80  90 100]\n",
      "array b : [ 10  20  30  50  60  70  80  90 100]\n"
     ]
    }
   ],
   "source": [
    "# To delete a single element of 1-D array at a specified index\n",
    "a = np.arange(10,101,10)\n",
    "b = np.delete(a,3) # to delete the element present at 3rd index\n",
    "print(f\"array a : {a}\")\n",
    "print(f\"array b : {b}\")"
   ]
  },
  {
   "cell_type": "code",
   "execution_count": 43,
   "id": "d2bfa48b",
   "metadata": {},
   "outputs": [
    {
     "name": "stdout",
     "output_type": "stream",
     "text": [
      "array a : [ 10  20  30  40  50  60  70  80  90 100]\n",
      "array b : [ 20  30  40  60  80  90 100]\n"
     ]
    }
   ],
   "source": [
    "# To delete elements of 1-D array at a specified indices\n",
    "a = np.arange(10,101,10)\n",
    "b = np.delete(a,[0,4,6]) # to delete elements present at indices:0,4,6\n",
    "print(f\"array a : {a}\")\n",
    "print(f\"array b : {b}\")"
   ]
  },
  {
   "cell_type": "code",
   "execution_count": 44,
   "id": "fd41e342",
   "metadata": {},
   "outputs": [
    {
     "name": "stdout",
     "output_type": "stream",
     "text": [
      "array a : [ 10  20  30  40  50  60  70  80  90 100]\n",
      "array b : [ 10  20  70  80  90 100]\n"
     ]
    }
   ],
   "source": [
    "# To delete elements of 1-D array from a specified range using numpy np.s_[]\n",
    "a = np.arange(10,101,10)\n",
    "b = np.delete(a,np.s_[2:6]) # to delete elements from 2nd index to 5th index\n",
    "print(f\"array a : {a}\")\n",
    "print(f\"array b : {b}\")"
   ]
  },
  {
   "cell_type": "code",
   "execution_count": 45,
   "id": "9204ac5f",
   "metadata": {},
   "outputs": [
    {
     "name": "stdout",
     "output_type": "stream",
     "text": [
      "array a : [ 10  20  30  40  50  60  70  80  90 100]\n",
      "array b : [ 10  20  70  80  90 100]\n"
     ]
    }
   ],
   "source": [
    "# To delete elements of 1-D array from a specified range using python range\n",
    "# this is applicable only for 1-D arrays.\n",
    "a = np.arange(10,101,10)\n",
    "b = np.delete(a,range(2,6)) # to delete elements from 2nd index to 5th index\n",
    "print(f\"array a : {a}\")\n",
    "print(f\"array b : {b}\")"
   ]
  },
  {
   "cell_type": "markdown",
   "id": "b37d8112",
   "metadata": {},
   "source": [
    "## 2-D arrays\n",
    "\n",
    "• Here we have to provide axis.<br>\n",
    "• If we are not specifying access then array will be flatten(1-D) and then deletion will\n",
    "be happend."
   ]
  },
  {
   "cell_type": "code",
   "execution_count": 46,
   "id": "c08bfee2",
   "metadata": {},
   "outputs": [
    {
     "name": "stdout",
     "output_type": "stream",
     "text": [
      "array a : \n",
      " [[ 1  2  3]\n",
      " [ 4  5  6]\n",
      " [ 7  8  9]\n",
      " [10 11 12]]\n",
      "array b : \n",
      " [ 1  3  4  5  6  7  8  9 10 11 12]\n"
     ]
    }
   ],
   "source": [
    "# without providing the axis. defautl axis=None will be taken\n",
    "a = np.arange(1,13).reshape(4,3)\n",
    "b = np.delete(a,1)\n",
    "print(f\"array a : \\n {a}\")\n",
    "print(f\"array b : \\n {b}\")"
   ]
  },
  {
   "cell_type": "code",
   "execution_count": 47,
   "id": "b6953777",
   "metadata": {},
   "outputs": [
    {
     "name": "stdout",
     "output_type": "stream",
     "text": [
      "array a : \n",
      " [[ 1  2  3]\n",
      " [ 4  5  6]\n",
      " [ 7  8  9]\n",
      " [10 11 12]]\n",
      "array b : \n",
      " [[ 1  2  3]\n",
      " [ 7  8  9]\n",
      " [10 11 12]]\n"
     ]
    }
   ],
   "source": [
    "# axis=0. deleting the specifie row\n",
    "a = np.arange(1,13).reshape(4,3)\n",
    "b = np.delete(a,1,axis=0) # row at index 1 will be deleted\n",
    "print(f\"array a : \\n {a}\")\n",
    "print(f\"array b : \\n {b}\")"
   ]
  },
  {
   "cell_type": "code",
   "execution_count": 48,
   "id": "fa6d5781",
   "metadata": {},
   "outputs": [
    {
     "name": "stdout",
     "output_type": "stream",
     "text": [
      "array a : \n",
      " [[ 1  2  3]\n",
      " [ 4  5  6]\n",
      " [ 7  8  9]\n",
      " [10 11 12]]\n",
      "array b : \n",
      " [[1 2 3]\n",
      " [7 8 9]]\n"
     ]
    }
   ],
   "source": [
    "# axis=0. deleting the specified rows\n",
    "a = np.arange(1,13).reshape(4,3)\n",
    "b = np.delete(a,[1,3],axis=0) # row at index 1 and index 3 will be deleted\n",
    "print(f\"array a : \\n {a}\")\n",
    "print(f\"array b : \\n {b}\")"
   ]
  },
  {
   "cell_type": "code",
   "execution_count": 49,
   "id": "e9b3f461",
   "metadata": {},
   "outputs": [
    {
     "name": "stdout",
     "output_type": "stream",
     "text": [
      "array a : \n",
      " [[ 1  2  3]\n",
      " [ 4  5  6]\n",
      " [ 7  8  9]\n",
      " [10 11 12]]\n",
      "array b : \n",
      " [[10 11 12]]\n"
     ]
    }
   ],
   "source": [
    "# axis=0. deleting the specified range of rows\n",
    "a = np.arange(1,13).reshape(4,3)\n",
    "b = np.delete(a,np.s_[0:3],axis=0) # rows from index-0 to index-(3-1) will be deleted\n",
    "print(f\"array a : \\n {a}\")\n",
    "print(f\"array b : \\n {b}\")"
   ]
  },
  {
   "cell_type": "code",
   "execution_count": 50,
   "id": "2586df08",
   "metadata": {},
   "outputs": [
    {
     "ename": "NameError",
     "evalue": "name 'index' is not defined",
     "output_type": "error",
     "traceback": [
      "\u001b[1;31m---------------------------------------------------------------------------\u001b[0m",
      "\u001b[1;31mNameError\u001b[0m                                 Traceback (most recent call last)",
      "\u001b[1;32m~\\AppData\\Local\\Temp\\ipykernel_15516\\2131807123.py\u001b[0m in \u001b[0;36m<module>\u001b[1;34m\u001b[0m\n\u001b[0;32m      2\u001b[0m \u001b[0ma\u001b[0m \u001b[1;33m=\u001b[0m \u001b[0mnp\u001b[0m\u001b[1;33m.\u001b[0m\u001b[0marange\u001b[0m\u001b[1;33m(\u001b[0m\u001b[1;36m1\u001b[0m\u001b[1;33m,\u001b[0m\u001b[1;36m13\u001b[0m\u001b[1;33m)\u001b[0m\u001b[1;33m.\u001b[0m\u001b[0mreshape\u001b[0m\u001b[1;33m(\u001b[0m\u001b[1;36m4\u001b[0m\u001b[1;33m,\u001b[0m\u001b[1;36m3\u001b[0m\u001b[1;33m)\u001b[0m\u001b[1;33m\u001b[0m\u001b[1;33m\u001b[0m\u001b[0m\n\u001b[0;32m      3\u001b[0m \u001b[0mb\u001b[0m \u001b[1;33m=\u001b[0m \u001b[0mnp\u001b[0m\u001b[1;33m.\u001b[0m\u001b[0mdelete\u001b[0m\u001b[1;33m(\u001b[0m\u001b[0ma\u001b[0m\u001b[1;33m,\u001b[0m\u001b[0mnp\u001b[0m\u001b[1;33m.\u001b[0m\u001b[0ms_\u001b[0m\u001b[1;33m[\u001b[0m\u001b[1;33m:\u001b[0m\u001b[1;33m:\u001b[0m\u001b[1;36m2\u001b[0m\u001b[1;33m]\u001b[0m\u001b[1;33m,\u001b[0m\u001b[0maxis\u001b[0m\u001b[1;33m=\u001b[0m\u001b[1;36m0\u001b[0m\u001b[1;33m)\u001b[0m \u001b[1;31m# to delete every 2nd row (alternative row) from\u001b[0m\u001b[1;33m\u001b[0m\u001b[1;33m\u001b[0m\u001b[0m\n\u001b[1;32m----> 4\u001b[1;33m \u001b[0mindex\u001b[0m\u001b[1;33m-\u001b[0m\u001b[1;36m0\u001b[0m\u001b[1;33m\u001b[0m\u001b[1;33m\u001b[0m\u001b[0m\n\u001b[0m\u001b[0;32m      5\u001b[0m \u001b[0mprint\u001b[0m\u001b[1;33m(\u001b[0m\u001b[1;34mf\"array a : \\n {a}\"\u001b[0m\u001b[1;33m)\u001b[0m\u001b[1;33m\u001b[0m\u001b[1;33m\u001b[0m\u001b[0m\n\u001b[0;32m      6\u001b[0m \u001b[0mprint\u001b[0m\u001b[1;33m(\u001b[0m\u001b[1;34mf\"array b : \\n {b}\"\u001b[0m\u001b[1;33m)\u001b[0m\u001b[1;33m\u001b[0m\u001b[1;33m\u001b[0m\u001b[0m\n",
      "\u001b[1;31mNameError\u001b[0m: name 'index' is not defined"
     ]
    }
   ],
   "source": [
    "# axis=0. deleting the specified range of rows with step value\n",
    "a = np.arange(1,13).reshape(4,3)\n",
    "b = np.delete(a,np.s_[::2],axis=0) # to delete every 2nd row (alternative row) from\n",
    "index-0\n",
    "print(f\"array a : \\n {a}\")\n",
    "print(f\"array b : \\n {b}\")"
   ]
  },
  {
   "cell_type": "code",
   "execution_count": 51,
   "id": "6d987cb9",
   "metadata": {},
   "outputs": [
    {
     "name": "stdout",
     "output_type": "stream",
     "text": [
      "array a : \n",
      " [[ 1  2  3]\n",
      " [ 4  5  6]\n",
      " [ 7  8  9]\n",
      " [10 11 12]]\n",
      "array b : \n",
      " [[ 1  3]\n",
      " [ 4  6]\n",
      " [ 7  9]\n",
      " [10 12]]\n"
     ]
    }
   ],
   "source": [
    "# axis=1. deleting the specifie column\n",
    "a = np.arange(1,13).reshape(4,3)\n",
    "b = np.delete(a,1,axis=1) # column at index 1 will be deleted\n",
    "print(f\"array a : \\n {a}\")\n",
    "print(f\"array b : \\n {b}\")"
   ]
  },
  {
   "cell_type": "code",
   "execution_count": 52,
   "id": "c74eb6b1",
   "metadata": {},
   "outputs": [
    {
     "name": "stdout",
     "output_type": "stream",
     "text": [
      "array a : \n",
      " [[ 1  2  3]\n",
      " [ 4  5  6]\n",
      " [ 7  8  9]\n",
      " [10 11 12]]\n",
      "array b : \n",
      " [[ 1]\n",
      " [ 4]\n",
      " [ 7]\n",
      " [10]]\n"
     ]
    }
   ],
   "source": [
    "# axis=1. deleting the specified colunns\n",
    "a = np.arange(1,13).reshape(4,3)\n",
    "b = np.delete(a,[1,2],axis=1) # columns at index 1 and index 2 will be deleted\n",
    "print(f\"array a : \\n {a}\")\n",
    "print(f\"array b : \\n {b}\")"
   ]
  },
  {
   "cell_type": "code",
   "execution_count": 53,
   "id": "d5434d0f",
   "metadata": {},
   "outputs": [
    {
     "name": "stdout",
     "output_type": "stream",
     "text": [
      "array a : \n",
      " [[ 1  2  3]\n",
      " [ 4  5  6]\n",
      " [ 7  8  9]\n",
      " [10 11 12]]\n",
      "array b : \n",
      " [[ 3]\n",
      " [ 6]\n",
      " [ 9]\n",
      " [12]]\n"
     ]
    }
   ],
   "source": [
    "# axis=1. deleting the specified range of columns\n",
    "a = np.arange(1,13).reshape(4,3)\n",
    "b = np.delete(a,np.s_[0:2],axis=1) # rows from index-0 to index-(2-1) will be deleted\n",
    "print(f\"array a : \\n {a}\")\n",
    "print(f\"array b : \\n {b}\")"
   ]
  },
  {
   "cell_type": "markdown",
   "id": "4db13819",
   "metadata": {},
   "source": [
    "## 3-D arrays"
   ]
  },
  {
   "cell_type": "code",
   "execution_count": 54,
   "id": "2c9a844e",
   "metadata": {},
   "outputs": [
    {
     "name": "stdout",
     "output_type": "stream",
     "text": [
      "array a : \n",
      " [[[ 0  1  2  3]\n",
      "  [ 4  5  6  7]\n",
      "  [ 8  9 10 11]]\n",
      "\n",
      " [[12 13 14 15]\n",
      "  [16 17 18 19]\n",
      "  [20 21 22 23]]]\n",
      "array b : \n",
      " [ 0  1  2  4  5  6  7  8  9 10 11 12 13 14 15 16 17 18 19 20 21 22 23]\n"
     ]
    }
   ],
   "source": [
    "# axis= None\n",
    "a = np.arange(24).reshape(2,3,4)\n",
    "b = np.delete(a,3) # flatten to 1-D array and element at 3rd index will be deleted\n",
    "print(f\"array a : \\n {a}\")\n",
    "print(f\"array b : \\n {b}\")"
   ]
  },
  {
   "cell_type": "code",
   "execution_count": 55,
   "id": "8127d13f",
   "metadata": {},
   "outputs": [
    {
     "name": "stdout",
     "output_type": "stream",
     "text": [
      "array a : \n",
      " [[[ 0  1  2  3]\n",
      "  [ 4  5  6  7]\n",
      "  [ 8  9 10 11]]\n",
      "\n",
      " [[12 13 14 15]\n",
      "  [16 17 18 19]\n",
      "  [20 21 22 23]]]\n",
      "array b : \n",
      " [[[12 13 14 15]\n",
      "  [16 17 18 19]\n",
      "  [20 21 22 23]]]\n"
     ]
    }
   ],
   "source": [
    "# axis=0. Delete a 2-D array at the specified index\n",
    "a = np.arange(24).reshape(2,3,4)\n",
    "b = np.delete(a,0,axis=0) # 2-D array at index 0 will be deleted\n",
    "print(f\"array a : \\n {a}\")\n",
    "print(f\"array b : \\n {b}\")"
   ]
  },
  {
   "cell_type": "code",
   "execution_count": 56,
   "id": "bc28d589",
   "metadata": {},
   "outputs": [
    {
     "name": "stdout",
     "output_type": "stream",
     "text": [
      "array a : \n",
      " [[[ 0  1  2  3]\n",
      "  [ 4  5  6  7]\n",
      "  [ 8  9 10 11]]\n",
      "\n",
      " [[12 13 14 15]\n",
      "  [16 17 18 19]\n",
      "  [20 21 22 23]]]\n",
      "array b : \n",
      " [[[ 4  5  6  7]\n",
      "  [ 8  9 10 11]]\n",
      "\n",
      " [[16 17 18 19]\n",
      "  [20 21 22 23]]]\n"
     ]
    }
   ],
   "source": [
    "# axis=1. Delete a row at the specified index from every 2-D array.\n",
    "a = np.arange(24).reshape(2,3,4)\n",
    "b = np.delete(a,0,axis=1) # Row at index 0 will be deleted from every 2-D array\n",
    "print(f\"array a : \\n {a}\")\n",
    "print(f\"array b : \\n {b}\")"
   ]
  },
  {
   "cell_type": "code",
   "execution_count": 57,
   "id": "f875b2b2",
   "metadata": {},
   "outputs": [
    {
     "name": "stdout",
     "output_type": "stream",
     "text": [
      "array a : \n",
      " [[[ 0  1  2  3]\n",
      "  [ 4  5  6  7]\n",
      "  [ 8  9 10 11]]\n",
      "\n",
      " [[12 13 14 15]\n",
      "  [16 17 18 19]\n",
      "  [20 21 22 23]]]\n",
      "array b : \n",
      " [[[ 0  2  3]\n",
      "  [ 4  6  7]\n",
      "  [ 8 10 11]]\n",
      "\n",
      " [[12 14 15]\n",
      "  [16 18 19]\n",
      "  [20 22 23]]]\n"
     ]
    }
   ],
   "source": [
    "# axis=1. Delete a column at the specified index from every 2-D array.\n",
    "a = np.arange(24).reshape(2,3,4)\n",
    "b = np.delete(a,1,axis=2) # column at index 1 will be deleted from every 2-D array\n",
    "print(f\"array a : \\n {a}\")\n",
    "print(f\"array b : \\n {b}\")"
   ]
  },
  {
   "cell_type": "markdown",
   "id": "da039795",
   "metadata": {},
   "source": [
    "## case study\n",
    "\n",
    "Consider the following array<br>\n",
    "\n",
    "array([[ 0, 1, 2], [ 3, 4, 5], [ 6, 7, 8], [ 9, 10, 11]])<br>\n",
    "\n",
    "Delete last row and insert following row in that place:==> [70,80,90]"
   ]
  },
  {
   "cell_type": "code",
   "execution_count": 58,
   "id": "f131ee4b",
   "metadata": {},
   "outputs": [
    {
     "name": "stdout",
     "output_type": "stream",
     "text": [
      "Original Array\n",
      "array a : \n",
      " [[ 0  1  2]\n",
      " [ 3  4  5]\n",
      " [ 6  7  8]\n",
      " [ 9 10 11]]\n",
      "After deletion the array \n",
      "array b : \n",
      " [[0 1 2]\n",
      " [3 4 5]\n",
      " [6 7 8]]\n",
      "After insertion the array \n",
      "array c : \n",
      " [[ 0  1  2]\n",
      " [ 3  4  5]\n",
      " [ 6  7  8]\n",
      " [70 80 90]]\n"
     ]
    }
   ],
   "source": [
    "# Solution for the case study\n",
    "# Step:1 ==> create the required ndarray\n",
    "a = np.arange(12).reshape(4,3)\n",
    "\n",
    "# Step:2 ==> Delete the last row.\n",
    "# We have to mention the axis as axis=0 for rows.\n",
    "# obj value we can take as -1 , which represents the last row\n",
    "b = np.delete(a,-1,axis=0)\n",
    "print(\"Original Array\")\n",
    "print(f\"array a : \\n {a}\")\n",
    "print(\"After deletion the array \")\n",
    "print(f\"array b : \\n {b}\")\n",
    "\n",
    "# Step:3 ==> we have to insert the row [70.80.90] at the end\n",
    "# for this we can use append() function with axis=0\n",
    "c = np.append(b,[[70,80,90]],axis=0)\n",
    "print(\"After insertion the array \")\n",
    "print(f\"array c : \\n {c}\")"
   ]
  },
  {
   "cell_type": "markdown",
   "id": "0dba8cb2",
   "metadata": {},
   "source": [
    "## Summary\n",
    "\n",
    "• **insert()** ==> Insert elements into an array at specified index.<br>\n",
    "• **append()** ==> Append elements at the end of an array.<br>\n",
    "• **delete()** ==> Delete elements from an array."
   ]
  },
  {
   "cell_type": "markdown",
   "id": "41124a41",
   "metadata": {},
   "source": [
    "# Chapter-16 - Matrix multiplication by using dot() function"
   ]
  },
  {
   "cell_type": "markdown",
   "id": "7dfbaca4",
   "metadata": {},
   "source": [
    "## Matrix multiplication by using dot() function\n",
    "\n",
    "• For a given two ndarrays a,b, if we perform a*b ==> element level multiplication will be happened<br>\n",
    "• To perform matrix level multiplication we have to use dot() function<br>\n",
    "• dot() function in available in numpy module<br>\n",
    "• dot() method is present in ndarray class also"
   ]
  },
  {
   "cell_type": "code",
   "execution_count": null,
   "id": "da003a4b",
   "metadata": {},
   "outputs": [],
   "source": [
    "# dot() function in numpy module\n",
    "import numpy as np\n",
    "help(np.dot)"
   ]
  },
  {
   "cell_type": "code",
   "execution_count": null,
   "id": "6a68237e",
   "metadata": {},
   "outputs": [],
   "source": [
    "# dot() method in ndarray class\n",
    "help(np.ndarray.dot)"
   ]
  },
  {
   "cell_type": "code",
   "execution_count": 59,
   "id": "4a021964",
   "metadata": {},
   "outputs": [
    {
     "name": "stdout",
     "output_type": "stream",
     "text": [
      "array a : \n",
      " [[10 20]\n",
      " [30 40]]\n",
      "array b : \n",
      " [[1 2]\n",
      " [3 4]]\n",
      "Element level multiplication \n",
      "array b : \n",
      " [[ 10  40]\n",
      " [ 90 160]]\n"
     ]
    }
   ],
   "source": [
    "# Element level multiplication\n",
    "a = np.array([[10,20],[30,40]])\n",
    "b = np.array([[1,2],[3,4]])\n",
    "print(f\"array a : \\n {a}\")\n",
    "print(f\"array b : \\n {b}\")\n",
    "print(\"Element level multiplication \")\n",
    "ele_multiplication = a* b\n",
    "print(f\"array b : \\n {ele_multiplication}\")"
   ]
  },
  {
   "cell_type": "markdown",
   "id": "a0ec340f",
   "metadata": {},
   "source": [
    "<img src=\"images\\dot_product.JPG\" alt=\"dot_product\" width=\"600\" height=\"600\">"
   ]
  },
  {
   "cell_type": "code",
   "execution_count": 60,
   "id": "eeea4c46",
   "metadata": {},
   "outputs": [
    {
     "name": "stdout",
     "output_type": "stream",
     "text": [
      "array a : \n",
      " [[10 20]\n",
      " [30 40]]\n",
      "array b : \n",
      " [[1 2]\n",
      " [3 4]]\n",
      "Matrix multiplication:\n",
      " [[ 70 100]\n",
      " [150 220]] \n"
     ]
    }
   ],
   "source": [
    "# matrix multiplication using dot() function in numpy module\n",
    "a = np.array([[10,20],[30,40]])\n",
    "b = np.array([[1,2],[3,4]])\n",
    "dot_product = np.dot(a,b)\n",
    "print(f\"array a : \\n {a}\")\n",
    "print(f\"array b : \\n {b}\")\n",
    "print(f\"Matrix multiplication:\\n {dot_product} \")"
   ]
  },
  {
   "cell_type": "markdown",
   "id": "a8151b5f",
   "metadata": {},
   "source": [
    "<img src=\"images\\matrix_multiplication.JPG\" alt=\"dot_product\" width=\"700\" height=\"600\">"
   ]
  },
  {
   "cell_type": "markdown",
   "id": "3679d196",
   "metadata": {},
   "source": [
    "# Chapter-17 - Importance of matrix class in numpy library"
   ]
  },
  {
   "cell_type": "markdown",
   "id": "cf0e07c2",
   "metadata": {},
   "source": [
    "## Importance of matrix class in numpy library\n",
    "\n",
    "1-D array is called => Vector<br>\n",
    "2-D array is called => Matrix<br>\n",
    "\n",
    "• matrix class is specially designed class to create 2-D arrays."
   ]
  },
  {
   "cell_type": "code",
   "execution_count": null,
   "id": "2a989d5f",
   "metadata": {},
   "outputs": [],
   "source": [
    "import numpy as np\n",
    "help(np.matrix)"
   ]
  },
  {
   "cell_type": "markdown",
   "id": "54e13b14",
   "metadata": {},
   "source": [
    "## creating 2-D arrays\n",
    "\n",
    "• By using matrix class<br>\n",
    "• By using ndarray class<br>\n",
    "\n",
    "**class matrix(ndarray)<br>\n",
    "matrix(data, dtype=None, copy=True)**\n",
    "\n",
    "• data : array_like or string<br>\n",
    "• If data is a string, it is interpreted as a matrix with commas or spaces separating columns, and semicolons separating rows.<br>\n",
    "\n",
    "**Parameters**\n",
    "\n",
    "**1. data : array_like or string**\n",
    "• If data is a string, it is interpreted as a matrix with commas\n",
    "• or spaces separating columns, and semicolons separating rows.\n",
    "\n",
    "**2. dtype : data-type**\n",
    "• Data-type of the output matrix.\n",
    "\n",
    "**3. copy : bool**\n",
    "• If data is already an ndarray, then this flag determines\n",
    "• whether the data is copied (the default), or whether a view is constructed."
   ]
  },
  {
   "cell_type": "code",
   "execution_count": 62,
   "id": "9fee6e51",
   "metadata": {},
   "outputs": [
    {
     "name": "stdout",
     "output_type": "stream",
     "text": [
      "type of a : type(a)\n",
      "type of b : type(b)\n",
      "Matrix object creation from string with comma : \n",
      "[[10 20]\n",
      " [30 40]]\n",
      "Matrix object creation from string with space : \n",
      "[[10 20]\n",
      " [30 40]]\n"
     ]
    }
   ],
   "source": [
    "# Creating matrix object from string\n",
    "# a = np.matrix('col1 col2 col3;col1 col2 col3')\n",
    "# a = np.matrix('col1,col2,col3;col1,col2,col3')\n",
    "a = np.matrix('10,20;30,40')\n",
    "b = np.matrix('10 20;30 40')\n",
    "print(f\"type of a : type(a)\")\n",
    "print(f\"type of b : type(b)\")\n",
    "print(f\"Matrix object creation from string with comma : \\n{a}\")\n",
    "print(f\"Matrix object creation from string with space : \\n{b}\")"
   ]
  },
  {
   "cell_type": "code",
   "execution_count": 63,
   "id": "6f71de4f",
   "metadata": {},
   "outputs": [
    {
     "data": {
      "text/plain": [
       "matrix([[10, 20],\n",
       "        [30, 40]])"
      ]
     },
     "execution_count": 63,
     "metadata": {},
     "output_type": "execute_result"
    }
   ],
   "source": [
    "# Creating matrix object from nested list\n",
    "a = np.matrix([[10,20],[30,40]])\n",
    "a"
   ]
  },
  {
   "cell_type": "code",
   "execution_count": 64,
   "id": "62a1923b",
   "metadata": {},
   "outputs": [
    {
     "name": "stdout",
     "output_type": "stream",
     "text": [
      "type of a : type(a)\n",
      "type of b : type(b)\n",
      "ndarray :\n",
      " [[0 1]\n",
      " [2 3]\n",
      " [4 5]]\n",
      "matrix :\n",
      " [[0 1]\n",
      " [2 3]\n",
      " [4 5]]\n"
     ]
    }
   ],
   "source": [
    "# create a matrix from ndarray\n",
    "a = np.arange(6).reshape(3,2)\n",
    "b = np.matrix(a)\n",
    "print(f\"type of a : type(a)\")\n",
    "print(f\"type of b : type(b)\")\n",
    "print(f'ndarray :\\n {a}')\n",
    "print(f'matrix :\\n {b}')"
   ]
  },
  {
   "cell_type": "markdown",
   "id": "a5c957a0",
   "metadata": {},
   "source": [
    "## + operator in ndarray and matrix\n",
    "\n",
    "• In case of both ndarray and matrix + operator behaves in the same way\n",
    "\n",
    "<img src=\"images\\plus_operator.JPG\" alt=\"plus_operator\" width=\"700\" height=\"600\">"
   ]
  },
  {
   "cell_type": "code",
   "execution_count": 65,
   "id": "1dd35bfa",
   "metadata": {},
   "outputs": [
    {
     "name": "stdout",
     "output_type": "stream",
     "text": [
      "ndarray addition :\n",
      " [[2 4]\n",
      " [6 8]]\n",
      "matrix addition :\n",
      " [[2 4]\n",
      " [6 8]]\n"
     ]
    }
   ],
   "source": [
    "# + operator in ndarray and matrix\n",
    "a = np.array([[1,2],[3,4]])\n",
    "m = np.matrix([[1,2],[3,4]])\n",
    "addition_a = a+a\n",
    "addition_m = m+m\n",
    "print(f'ndarray addition :\\n {addition_a}')\n",
    "print(f'matrix addition :\\n {addition_m}')"
   ]
  },
  {
   "cell_type": "markdown",
   "id": "2bf61d8c",
   "metadata": {},
   "source": [
    "## * operator in ndarray and matrix\n",
    "\n",
    "• In case of ndarray * operator performs element level multiplication<br>\n",
    "• In case of matrix * operator performs matrix multiplication<br>\n",
    "\n",
    "<img src=\"images\\mul_operator.JPG\" alt=\"plus_operator\" width=\"700\" height=\"600\">"
   ]
  },
  {
   "cell_type": "code",
   "execution_count": 66,
   "id": "8bf7dcce",
   "metadata": {},
   "outputs": [
    {
     "name": "stdout",
     "output_type": "stream",
     "text": [
      "ndarray multiplication :\n",
      " [[ 1  4]\n",
      " [ 9 16]]\n",
      "matrix multiplication :\n",
      " [[ 7 10]\n",
      " [15 22]]\n"
     ]
    }
   ],
   "source": [
    "# * operator in ndarray and matrix\n",
    "a = np.array([[1,2],[3,4]])\n",
    "m = np.matrix([[1,2],[3,4]])\n",
    "element_mul = a*a\n",
    "matrix_mul = m*m\n",
    "print(f'ndarray multiplication :\\n {element_mul}')\n",
    "print(f'matrix multiplication :\\n {matrix_mul}')"
   ]
  },
  {
   "cell_type": "markdown",
   "id": "3a8acd03",
   "metadata": {},
   "source": [
    "## ** operator in ndarray and\n",
    "• In case of ndarray ** operator performs power operation at element level<br>\n",
    "• In case of matrix ** operator performs power operation at matrix level<br>\n",
    "m ** 2 ==> m *m<br>\n",
    "\n",
    "<img src=\"images\\power_operator.JPG\" alt=\"plus_operator\" width=\"700\" height=\"600\">"
   ]
  },
  {
   "cell_type": "code",
   "execution_count": 67,
   "id": "5a21519a",
   "metadata": {},
   "outputs": [
    {
     "name": "stdout",
     "output_type": "stream",
     "text": [
      "ndarray power :\n",
      " [[ 1  4]\n",
      " [ 9 16]]\n",
      "matrix power :\n",
      " [[ 7 10]\n",
      " [15 22]]\n"
     ]
    }
   ],
   "source": [
    "# ** operator in ndarray and matrix\n",
    "a = np.array([[1,2],[3,4]])\n",
    "m = np.matrix([[1,2],[3,4]])\n",
    "element_power = a**2\n",
    "matrix_power = m**2\n",
    "print(f'ndarray power :\\n {element_power}')\n",
    "print(f'matrix power :\\n {matrix_power}')"
   ]
  },
  {
   "cell_type": "markdown",
   "id": "e95692cb",
   "metadata": {},
   "source": [
    "## T in ndarray and matrix\n",
    "• In case of both ndarray and matrix T behaves in the same way"
   ]
  },
  {
   "cell_type": "code",
   "execution_count": 68,
   "id": "23c0fb67",
   "metadata": {},
   "outputs": [
    {
     "name": "stdout",
     "output_type": "stream",
     "text": [
      "ndarray transpose :\n",
      " [[1 3]\n",
      " [2 4]]\n",
      "matrix transpose :\n",
      " [[1 3]\n",
      " [2 4]]\n"
     ]
    }
   ],
   "source": [
    "# ** operator in ndarray and matrix\n",
    "a = np.array([[1,2],[3,4]])\n",
    "m = np.matrix([[1,2],[3,4]])\n",
    "ndarray_T = a.T\n",
    "matrix_T = m.T\n",
    "print(f'ndarray transpose :\\n {ndarray_T}')\n",
    "print(f'matrix transpose :\\n {matrix_T}')"
   ]
  },
  {
   "cell_type": "markdown",
   "id": "9e916dca",
   "metadata": {},
   "source": [
    "## Conclusions\n",
    "• matrix class is the child class of ndarray class. Hence all methods and properties of ndarray class are bydefault available to the matrix class.<br>\n",
    "• We can use +, *, T, ** for matrix objects also.<br>\n",
    "• In the case of ndarray, operator performs element level multiplication. But in case of matrix, operator preforms matrix multiplication.<br>\n",
    "• In the case of ndarray, operator performs power operation at element level. But in the case of matrix, operator performs 'matrix' power.<br>\n",
    "• matrix class always meant for 2-D array only.<br>\n",
    "• It is no longer recommended to use.<br>"
   ]
  },
  {
   "cell_type": "markdown",
   "id": "7e640bdf",
   "metadata": {},
   "source": [
    "## Differences between ndarray and matrix\n",
    "\n",
    "**ndarray**<br>\n",
    "• It can represent any n-dimension array.<br>\n",
    "• We can create from any array_like object but not from string.<br>\n",
    "• * operator meant for element mulitplication but not for dot product.<br>\n",
    "• ** operator meant for element level power operation<br>\n",
    "• It is the parent class<br>\n",
    "• It is the recommended to use<br>\n",
    "\n",
    "**matrix**\n",
    "• It can represent only 2-dimension array.<br>\n",
    "• We can create from either array_like object or from string<br>\n",
    "• * operator meant for for dot product but not for element mulitplication.<br>\n",
    "• ** operator meant for for matrix power operation<br>\n",
    "• It is the child class<br>\n",
    "• It is not recommended to use and it is deprecated.<br>"
   ]
  },
  {
   "cell_type": "markdown",
   "id": "1d191e2f",
   "metadata": {},
   "source": [
    "# Chapter-18 - Linear Algebra function from linalg module"
   ]
  },
  {
   "cell_type": "markdown",
   "id": "e169bf7c",
   "metadata": {},
   "source": [
    "## Linear Algebra function from linalg module\n",
    "\n",
    "**numpy.linalg** ==> contains functions to perform linear algebra operations<br>\n",
    "\n",
    "• inv() ==> to find inverse of a matrix<br>\n",
    "• matrix_power() ==> to find power of a matrix like A^n<br>\n",
    "• det ==> to find the determinant of a matrix<br>\n",
    "• solve() ==> to solve linear algebra equations<br>"
   ]
  },
  {
   "cell_type": "markdown",
   "id": "0ceba284",
   "metadata": {},
   "source": [
    "## inv() --> to find inverse of a matrix"
   ]
  },
  {
   "cell_type": "code",
   "execution_count": null,
   "id": "655d2ca3",
   "metadata": {},
   "outputs": [],
   "source": [
    "import numpy as np\n",
    "help(np.linalg.inv)"
   ]
  },
  {
   "cell_type": "markdown",
   "id": "0699a1ed",
   "metadata": {},
   "source": [
    "### inverse of 2-D array(matrix)\n",
    "\n",
    "<img src=\"images\\inv.JPG\" alt=\"inv\" width=\"700\" height=\"600\">"
   ]
  },
  {
   "cell_type": "code",
   "execution_count": 69,
   "id": "d6e94e72",
   "metadata": {},
   "outputs": [
    {
     "name": "stdout",
     "output_type": "stream",
     "text": [
      "Original Matrix :: \n",
      " [[1 2]\n",
      " [3 4]]\n",
      "Inverse of the Matrix :: \n",
      " [[-2.   1. ]\n",
      " [ 1.5 -0.5]]\n"
     ]
    }
   ],
   "source": [
    "# To Find inverse of a matrix\n",
    "a = np.array([[1,2],[3,4]])\n",
    "ainv = np.linalg.inv(a)\n",
    "print(f\"Original Matrix :: \\n {a}\")\n",
    "print(f\"Inverse of the Matrix :: \\n {ainv}\")"
   ]
  },
  {
   "cell_type": "markdown",
   "id": "6aad3a36",
   "metadata": {},
   "source": [
    "### How to check the inverse of the matrix is correct or not\n",
    "\n",
    "• dot(a,ainv) = dot(ainv,a) = eye(a,shape[0])<br>\n",
    "\n",
    "<img src=\"images\\inv_check.JPG\" alt=\"inv\" width=\"700\" height=\"600\">"
   ]
  },
  {
   "cell_type": "code",
   "execution_count": 70,
   "id": "f00a5915",
   "metadata": {},
   "outputs": [
    {
     "name": "stdout",
     "output_type": "stream",
     "text": [
      "Original Matrix :: \n",
      " [[1 2]\n",
      " [3 4]]\n",
      "Inverse of the Matrix :: \n",
      " [[-2.   1. ]\n",
      " [ 1.5 -0.5]]\n",
      "Dot product of Matrix and Inverse of Matrix :: \n",
      " [[1.0000000e+00 0.0000000e+00]\n",
      " [8.8817842e-16 1.0000000e+00]]\n",
      "Identity Matrix(2-D array using eye() function):: \n",
      " [[1. 0.]\n",
      " [0. 1.]]\n"
     ]
    }
   ],
   "source": [
    "# To check the inverse of the matrix correct or not\n",
    "a = np.array([[1,2],[3,4]])\n",
    "ainv = np.linalg.inv(a)\n",
    "dot_produt = np.dot(a,ainv)\n",
    "i = np.eye(2) # Identity matrix for the shape 2 ==> 2-D Arrray\n",
    "print(f\"Original Matrix :: \\n {a}\")\n",
    "print(f\"Inverse of the Matrix :: \\n {ainv}\")\n",
    "print(f\"Dot product of Matrix and Inverse of Matrix :: \\n {dot_produt}\")\n",
    "print(f\"Identity Matrix(2-D array using eye() function):: \\n {i}\")"
   ]
  },
  {
   "cell_type": "markdown",
   "id": "4fdd6dbf",
   "metadata": {},
   "source": [
    "### np.allclose()\n",
    "\n",
    "• np.allclose() ==> method is used to check the matrices are equal at element level Note<br>\n",
    "• The results of floating point arithmetic varies from platform to platform"
   ]
  },
  {
   "cell_type": "code",
   "execution_count": 71,
   "id": "ad130e4a",
   "metadata": {
    "collapsed": true
   },
   "outputs": [
    {
     "name": "stdout",
     "output_type": "stream",
     "text": [
      "Help on function allclose in module numpy:\n",
      "\n",
      "allclose(a, b, rtol=1e-05, atol=1e-08, equal_nan=False)\n",
      "    Returns True if two arrays are element-wise equal within a tolerance.\n",
      "    \n",
      "    The tolerance values are positive, typically very small numbers.  The\n",
      "    relative difference (`rtol` * abs(`b`)) and the absolute difference\n",
      "    `atol` are added together to compare against the absolute difference\n",
      "    between `a` and `b`.\n",
      "    \n",
      "    NaNs are treated as equal if they are in the same place and if\n",
      "    ``equal_nan=True``.  Infs are treated as equal if they are in the same\n",
      "    place and of the same sign in both arrays.\n",
      "    \n",
      "    Parameters\n",
      "    ----------\n",
      "    a, b : array_like\n",
      "        Input arrays to compare.\n",
      "    rtol : float\n",
      "        The relative tolerance parameter (see Notes).\n",
      "    atol : float\n",
      "        The absolute tolerance parameter (see Notes).\n",
      "    equal_nan : bool\n",
      "        Whether to compare NaN's as equal.  If True, NaN's in `a` will be\n",
      "        considered equal to NaN's in `b` in the output array.\n",
      "    \n",
      "        .. versionadded:: 1.10.0\n",
      "    \n",
      "    Returns\n",
      "    -------\n",
      "    allclose : bool\n",
      "        Returns True if the two arrays are equal within the given\n",
      "        tolerance; False otherwise.\n",
      "    \n",
      "    See Also\n",
      "    --------\n",
      "    isclose, all, any, equal\n",
      "    \n",
      "    Notes\n",
      "    -----\n",
      "    If the following equation is element-wise True, then allclose returns\n",
      "    True.\n",
      "    \n",
      "     absolute(`a` - `b`) <= (`atol` + `rtol` * absolute(`b`))\n",
      "    \n",
      "    The above equation is not symmetric in `a` and `b`, so that\n",
      "    ``allclose(a, b)`` might be different from ``allclose(b, a)`` in\n",
      "    some rare cases.\n",
      "    \n",
      "    The comparison of `a` and `b` uses standard broadcasting, which\n",
      "    means that `a` and `b` need not have the same shape in order for\n",
      "    ``allclose(a, b)`` to evaluate to True.  The same is true for\n",
      "    `equal` but not `array_equal`.\n",
      "    \n",
      "    `allclose` is not defined for non-numeric data types.\n",
      "    `bool` is considered a numeric data-type for this purpose.\n",
      "    \n",
      "    Examples\n",
      "    --------\n",
      "    >>> np.allclose([1e10,1e-7], [1.00001e10,1e-8])\n",
      "    False\n",
      "    >>> np.allclose([1e10,1e-8], [1.00001e10,1e-9])\n",
      "    True\n",
      "    >>> np.allclose([1e10,1e-8], [1.0001e10,1e-9])\n",
      "    False\n",
      "    >>> np.allclose([1.0, np.nan], [1.0, np.nan])\n",
      "    False\n",
      "    >>> np.allclose([1.0, np.nan], [1.0, np.nan], equal_nan=True)\n",
      "    True\n",
      "\n"
     ]
    }
   ],
   "source": [
    "# help allclose() function\n",
    "help(np.allclose)"
   ]
  },
  {
   "cell_type": "code",
   "execution_count": 72,
   "id": "1b37bc43",
   "metadata": {},
   "outputs": [
    {
     "data": {
      "text/plain": [
       "True"
      ]
     },
     "execution_count": 72,
     "metadata": {},
     "output_type": "execute_result"
    }
   ],
   "source": [
    "# demo for allclose() function\n",
    "a = np.array([[1,2],[3,4]])\n",
    "ainv = np.linalg.inv(a)\n",
    "dot_produt = np.dot(a,ainv)\n",
    "np.allclose(dot_produt,i)"
   ]
  },
  {
   "cell_type": "markdown",
   "id": "52d25b3a",
   "metadata": {},
   "source": [
    "**Note:** We can find inverse only for square matrices, otherwise we will get error(LinAlgError)"
   ]
  },
  {
   "cell_type": "code",
   "execution_count": 73,
   "id": "07c6f721",
   "metadata": {},
   "outputs": [
    {
     "ename": "LinAlgError",
     "evalue": "Last 2 dimensions of the array must be square",
     "output_type": "error",
     "traceback": [
      "\u001b[1;31m---------------------------------------------------------------------------\u001b[0m",
      "\u001b[1;31mLinAlgError\u001b[0m                               Traceback (most recent call last)",
      "\u001b[1;32m~\\AppData\\Local\\Temp\\ipykernel_15516\\671421088.py\u001b[0m in \u001b[0;36m<module>\u001b[1;34m\u001b[0m\n\u001b[0;32m      1\u001b[0m \u001b[0ma\u001b[0m \u001b[1;33m=\u001b[0m \u001b[0mnp\u001b[0m\u001b[1;33m.\u001b[0m\u001b[0marange\u001b[0m\u001b[1;33m(\u001b[0m\u001b[1;36m10\u001b[0m\u001b[1;33m)\u001b[0m\u001b[1;33m.\u001b[0m\u001b[0mreshape\u001b[0m\u001b[1;33m(\u001b[0m\u001b[1;36m5\u001b[0m\u001b[1;33m,\u001b[0m\u001b[1;36m2\u001b[0m\u001b[1;33m)\u001b[0m\u001b[1;33m\u001b[0m\u001b[1;33m\u001b[0m\u001b[0m\n\u001b[1;32m----> 2\u001b[1;33m \u001b[0mnp\u001b[0m\u001b[1;33m.\u001b[0m\u001b[0mlinalg\u001b[0m\u001b[1;33m.\u001b[0m\u001b[0minv\u001b[0m\u001b[1;33m(\u001b[0m\u001b[0ma\u001b[0m\u001b[1;33m)\u001b[0m\u001b[1;33m\u001b[0m\u001b[1;33m\u001b[0m\u001b[0m\n\u001b[0m",
      "\u001b[1;32m~\\Anaconda3\\lib\\site-packages\\numpy\\core\\overrides.py\u001b[0m in \u001b[0;36minv\u001b[1;34m(*args, **kwargs)\u001b[0m\n",
      "\u001b[1;32m~\\Anaconda3\\lib\\site-packages\\numpy\\linalg\\linalg.py\u001b[0m in \u001b[0;36minv\u001b[1;34m(a)\u001b[0m\n\u001b[0;32m    531\u001b[0m     \u001b[0ma\u001b[0m\u001b[1;33m,\u001b[0m \u001b[0mwrap\u001b[0m \u001b[1;33m=\u001b[0m \u001b[0m_makearray\u001b[0m\u001b[1;33m(\u001b[0m\u001b[0ma\u001b[0m\u001b[1;33m)\u001b[0m\u001b[1;33m\u001b[0m\u001b[1;33m\u001b[0m\u001b[0m\n\u001b[0;32m    532\u001b[0m     \u001b[0m_assert_stacked_2d\u001b[0m\u001b[1;33m(\u001b[0m\u001b[0ma\u001b[0m\u001b[1;33m)\u001b[0m\u001b[1;33m\u001b[0m\u001b[1;33m\u001b[0m\u001b[0m\n\u001b[1;32m--> 533\u001b[1;33m     \u001b[0m_assert_stacked_square\u001b[0m\u001b[1;33m(\u001b[0m\u001b[0ma\u001b[0m\u001b[1;33m)\u001b[0m\u001b[1;33m\u001b[0m\u001b[1;33m\u001b[0m\u001b[0m\n\u001b[0m\u001b[0;32m    534\u001b[0m     \u001b[0mt\u001b[0m\u001b[1;33m,\u001b[0m \u001b[0mresult_t\u001b[0m \u001b[1;33m=\u001b[0m \u001b[0m_commonType\u001b[0m\u001b[1;33m(\u001b[0m\u001b[0ma\u001b[0m\u001b[1;33m)\u001b[0m\u001b[1;33m\u001b[0m\u001b[1;33m\u001b[0m\u001b[0m\n\u001b[0;32m    535\u001b[0m \u001b[1;33m\u001b[0m\u001b[0m\n",
      "\u001b[1;32m~\\Anaconda3\\lib\\site-packages\\numpy\\linalg\\linalg.py\u001b[0m in \u001b[0;36m_assert_stacked_square\u001b[1;34m(*arrays)\u001b[0m\n\u001b[0;32m    188\u001b[0m         \u001b[0mm\u001b[0m\u001b[1;33m,\u001b[0m \u001b[0mn\u001b[0m \u001b[1;33m=\u001b[0m \u001b[0ma\u001b[0m\u001b[1;33m.\u001b[0m\u001b[0mshape\u001b[0m\u001b[1;33m[\u001b[0m\u001b[1;33m-\u001b[0m\u001b[1;36m2\u001b[0m\u001b[1;33m:\u001b[0m\u001b[1;33m]\u001b[0m\u001b[1;33m\u001b[0m\u001b[1;33m\u001b[0m\u001b[0m\n\u001b[0;32m    189\u001b[0m         \u001b[1;32mif\u001b[0m \u001b[0mm\u001b[0m \u001b[1;33m!=\u001b[0m \u001b[0mn\u001b[0m\u001b[1;33m:\u001b[0m\u001b[1;33m\u001b[0m\u001b[1;33m\u001b[0m\u001b[0m\n\u001b[1;32m--> 190\u001b[1;33m             \u001b[1;32mraise\u001b[0m \u001b[0mLinAlgError\u001b[0m\u001b[1;33m(\u001b[0m\u001b[1;34m'Last 2 dimensions of the array must be square'\u001b[0m\u001b[1;33m)\u001b[0m\u001b[1;33m\u001b[0m\u001b[1;33m\u001b[0m\u001b[0m\n\u001b[0m\u001b[0;32m    191\u001b[0m \u001b[1;33m\u001b[0m\u001b[0m\n\u001b[0;32m    192\u001b[0m \u001b[1;32mdef\u001b[0m \u001b[0m_assert_finite\u001b[0m\u001b[1;33m(\u001b[0m\u001b[1;33m*\u001b[0m\u001b[0marrays\u001b[0m\u001b[1;33m)\u001b[0m\u001b[1;33m:\u001b[0m\u001b[1;33m\u001b[0m\u001b[1;33m\u001b[0m\u001b[0m\n",
      "\u001b[1;31mLinAlgError\u001b[0m: Last 2 dimensions of the array must be square"
     ]
    }
   ],
   "source": [
    "a = np.arange(10).reshape(5,2)\n",
    "np.linalg.inv(a)"
   ]
  },
  {
   "cell_type": "markdown",
   "id": "27e2a028",
   "metadata": {},
   "source": [
    "### inverse of 3-D array\n",
    "• 3-D array is the collection of 2-D arrays<br>\n",
    "• Finding inverse of 3-D array means finding the inverse of every 2-D array"
   ]
  },
  {
   "cell_type": "code",
   "execution_count": 74,
   "id": "ceda41ee",
   "metadata": {},
   "outputs": [
    {
     "name": "stdout",
     "output_type": "stream",
     "text": [
      "Original 3-D array :: \n",
      " [[[0 1]\n",
      "  [2 3]]\n",
      "\n",
      " [[4 5]\n",
      "  [6 7]]]\n",
      "Inverse of 3-D array :: \n",
      " [[[-1.5  0.5]\n",
      "  [ 1.   0. ]]\n",
      "\n",
      " [[-3.5  2.5]\n",
      "  [ 3.  -2. ]]]\n"
     ]
    }
   ],
   "source": [
    "a = np.arange(8).reshape(2,2,2)\n",
    "ainv = np.linalg.inv(a)\n",
    "print(f\"Original 3-D array :: \\n {a}\")\n",
    "print(f\"Inverse of 3-D array :: \\n {ainv}\")"
   ]
  },
  {
   "cell_type": "markdown",
   "id": "5b78c369",
   "metadata": {},
   "source": [
    "## matrix_power()\n",
    "\n",
    "**to find power of a matrix like A^n<br>\n",
    "matrix_power(a, n) ==>** Raise a square matrix to the (integer) power n.<br>\n",
    "\n",
    "• if n == 0 ==> Identity Matrix<br>\n",
    "• if n > 0 ==> Normal Power operation<br>\n",
    "• if n < 0 ==> First inverse and then power operation for absolute value of n abs(n)"
   ]
  },
  {
   "cell_type": "code",
   "execution_count": null,
   "id": "8da72da8",
   "metadata": {},
   "outputs": [],
   "source": [
    "import numpy as np\n",
    "help(np.linalg.matrix_power)"
   ]
  },
  {
   "cell_type": "code",
   "execution_count": 75,
   "id": "58ae3645",
   "metadata": {},
   "outputs": [
    {
     "name": "stdout",
     "output_type": "stream",
     "text": [
      "Original 2-D array(Matrix) :: \n",
      " [[1 2]\n",
      " [3 4]]\n",
      "Matrix Power of 2-D array :: \n",
      " [[1 0]\n",
      " [0 1]]\n"
     ]
    }
   ],
   "source": [
    "# if n=0 ==> Identity Matrix\n",
    "a = np.array([[1,2],[3,4]])\n",
    "matrix_power = np.linalg.matrix_power(a,0)\n",
    "print(f\"Original 2-D array(Matrix) :: \\n {a}\")\n",
    "print(f\"Matrix Power of 2-D array :: \\n {matrix_power}\")"
   ]
  },
  {
   "cell_type": "code",
   "execution_count": 77,
   "id": "fbb11928",
   "metadata": {},
   "outputs": [
    {
     "name": "stdout",
     "output_type": "stream",
     "text": [
      "Original 2-D array(Matrix) :: \n",
      " [[1 2]\n",
      " [3 4]]\n",
      "Matrix Power of 2-D array :: \n",
      " [[ 7 10]\n",
      " [15 22]]\n"
     ]
    }
   ],
   "source": [
    "# if n > 0 ==> Normal power operation\n",
    "a = np.array([[1,2],[3,4]])\n",
    "matrix_power = np.linalg.matrix_power(a,2)\n",
    "print(f\"Original 2-D array(Matrix) :: \\n {a}\")\n",
    "print(f\"Matrix Power of 2-D array :: \\n {matrix_power}\")"
   ]
  },
  {
   "cell_type": "code",
   "execution_count": 78,
   "id": "3800bb32",
   "metadata": {},
   "outputs": [
    {
     "name": "stdout",
     "output_type": "stream",
     "text": [
      "Original 2-D array(Matrix) :: \n",
      " [[1 2]\n",
      " [3 4]]\n",
      "Matrix Power of 2-D array :: \n",
      " [[ 5.5  -2.5 ]\n",
      " [-3.75  1.75]]\n"
     ]
    }
   ],
   "source": [
    "# if n < 0 ==> First inverse opeartion and then power operation\n",
    "a = np.array([[1,2],[3,4]])\n",
    "matrix_power = np.linalg.matrix_power(a,-2)\n",
    "print(f\"Original 2-D array(Matrix) :: \\n {a}\")\n",
    "print(f\"Matrix Power of 2-D array :: \\n {matrix_power}\")"
   ]
  },
  {
   "cell_type": "code",
   "execution_count": 79,
   "id": "06d8e96b",
   "metadata": {},
   "outputs": [
    {
     "name": "stdout",
     "output_type": "stream",
     "text": [
      "Original 2-D array(Matrix) :: \n",
      " [[1 2]\n",
      " [3 4]]\n",
      "Inverse of Matrix :: \n",
      " [[-2.   1. ]\n",
      " [ 1.5 -0.5]]\n",
      "Dot product of Inverse of Matrix :: \n",
      " [[ 5.5  -2.5 ]\n",
      " [-3.75  1.75]]\n"
     ]
    }
   ],
   "source": [
    "# dot product of inverse matrix => dot(ainv) * dot(ainv) = result of n < 0 case\n",
    "a = np.array([[1,2],[3,4]])\n",
    "ainv = np.linalg.inv(a)\n",
    "dot_product = np.dot(ainv,ainv)\n",
    "print(f\"Original 2-D array(Matrix) :: \\n {a}\")\n",
    "print(f\"Inverse of Matrix :: \\n {ainv}\")\n",
    "print(f\"Dot product of Inverse of Matrix :: \\n {dot_product}\")"
   ]
  },
  {
   "cell_type": "code",
   "execution_count": 80,
   "id": "7d37349d",
   "metadata": {},
   "outputs": [
    {
     "name": "stdout",
     "output_type": "stream",
     "text": [
      "Original 2-D array(Matrix) :: \n",
      " [[1 2]\n",
      " [3 4]]\n",
      "Inverse of Matrix :: \n",
      " [[-2.   1. ]\n",
      " [ 1.5 -0.5]]\n",
      "Matrix power of Inverse of Matrix and abs(n) :: \n",
      " [[ 5.5  -2.5 ]\n",
      " [-3.75  1.75]]\n"
     ]
    }
   ],
   "source": [
    "# matrix power of inverse matrix and abs(n)\n",
    "a = np.array([[1,2],[3,4]])\n",
    "ainv = np.linalg.inv(a)\n",
    "matrix_power = np.linalg.matrix_power(ainv,2)\n",
    "print(f\"Original 2-D array(Matrix) :: \\n {a}\")\n",
    "print(f\"Inverse of Matrix :: \\n {ainv}\")\n",
    "print(f\"Matrix power of Inverse of Matrix and abs(n) :: \\n {matrix_power}\")"
   ]
  },
  {
   "cell_type": "markdown",
   "id": "f5985589",
   "metadata": {},
   "source": [
    "<img src=\"images\\matrix_power.JPG\" alt=\"matrix_power\" width=\"700\" height=\"600\">"
   ]
  },
  {
   "cell_type": "code",
   "execution_count": 81,
   "id": "c5783f26",
   "metadata": {},
   "outputs": [
    {
     "ename": "LinAlgError",
     "evalue": "Last 2 dimensions of the array must be square",
     "output_type": "error",
     "traceback": [
      "\u001b[1;31m---------------------------------------------------------------------------\u001b[0m",
      "\u001b[1;31mLinAlgError\u001b[0m                               Traceback (most recent call last)",
      "\u001b[1;32m~\\AppData\\Local\\Temp\\ipykernel_15516\\31786335.py\u001b[0m in \u001b[0;36m<module>\u001b[1;34m\u001b[0m\n\u001b[0;32m      1\u001b[0m \u001b[0ma\u001b[0m \u001b[1;33m=\u001b[0m \u001b[0mnp\u001b[0m\u001b[1;33m.\u001b[0m\u001b[0marange\u001b[0m\u001b[1;33m(\u001b[0m\u001b[1;36m10\u001b[0m\u001b[1;33m)\u001b[0m\u001b[1;33m.\u001b[0m\u001b[0mreshape\u001b[0m\u001b[1;33m(\u001b[0m\u001b[1;36m5\u001b[0m\u001b[1;33m,\u001b[0m\u001b[1;36m2\u001b[0m\u001b[1;33m)\u001b[0m\u001b[1;33m\u001b[0m\u001b[1;33m\u001b[0m\u001b[0m\n\u001b[1;32m----> 2\u001b[1;33m \u001b[0mnp\u001b[0m\u001b[1;33m.\u001b[0m\u001b[0mlinalg\u001b[0m\u001b[1;33m.\u001b[0m\u001b[0mmatrix_power\u001b[0m\u001b[1;33m(\u001b[0m\u001b[0ma\u001b[0m\u001b[1;33m,\u001b[0m\u001b[1;36m2\u001b[0m\u001b[1;33m)\u001b[0m\u001b[1;33m\u001b[0m\u001b[1;33m\u001b[0m\u001b[0m\n\u001b[0m",
      "\u001b[1;32m~\\Anaconda3\\lib\\site-packages\\numpy\\core\\overrides.py\u001b[0m in \u001b[0;36mmatrix_power\u001b[1;34m(*args, **kwargs)\u001b[0m\n",
      "\u001b[1;32m~\\Anaconda3\\lib\\site-packages\\numpy\\linalg\\linalg.py\u001b[0m in \u001b[0;36mmatrix_power\u001b[1;34m(a, n)\u001b[0m\n\u001b[0;32m    611\u001b[0m     \u001b[0ma\u001b[0m \u001b[1;33m=\u001b[0m \u001b[0masanyarray\u001b[0m\u001b[1;33m(\u001b[0m\u001b[0ma\u001b[0m\u001b[1;33m)\u001b[0m\u001b[1;33m\u001b[0m\u001b[1;33m\u001b[0m\u001b[0m\n\u001b[0;32m    612\u001b[0m     \u001b[0m_assert_stacked_2d\u001b[0m\u001b[1;33m(\u001b[0m\u001b[0ma\u001b[0m\u001b[1;33m)\u001b[0m\u001b[1;33m\u001b[0m\u001b[1;33m\u001b[0m\u001b[0m\n\u001b[1;32m--> 613\u001b[1;33m     \u001b[0m_assert_stacked_square\u001b[0m\u001b[1;33m(\u001b[0m\u001b[0ma\u001b[0m\u001b[1;33m)\u001b[0m\u001b[1;33m\u001b[0m\u001b[1;33m\u001b[0m\u001b[0m\n\u001b[0m\u001b[0;32m    614\u001b[0m \u001b[1;33m\u001b[0m\u001b[0m\n\u001b[0;32m    615\u001b[0m     \u001b[1;32mtry\u001b[0m\u001b[1;33m:\u001b[0m\u001b[1;33m\u001b[0m\u001b[1;33m\u001b[0m\u001b[0m\n",
      "\u001b[1;32m~\\Anaconda3\\lib\\site-packages\\numpy\\linalg\\linalg.py\u001b[0m in \u001b[0;36m_assert_stacked_square\u001b[1;34m(*arrays)\u001b[0m\n\u001b[0;32m    188\u001b[0m         \u001b[0mm\u001b[0m\u001b[1;33m,\u001b[0m \u001b[0mn\u001b[0m \u001b[1;33m=\u001b[0m \u001b[0ma\u001b[0m\u001b[1;33m.\u001b[0m\u001b[0mshape\u001b[0m\u001b[1;33m[\u001b[0m\u001b[1;33m-\u001b[0m\u001b[1;36m2\u001b[0m\u001b[1;33m:\u001b[0m\u001b[1;33m]\u001b[0m\u001b[1;33m\u001b[0m\u001b[1;33m\u001b[0m\u001b[0m\n\u001b[0;32m    189\u001b[0m         \u001b[1;32mif\u001b[0m \u001b[0mm\u001b[0m \u001b[1;33m!=\u001b[0m \u001b[0mn\u001b[0m\u001b[1;33m:\u001b[0m\u001b[1;33m\u001b[0m\u001b[1;33m\u001b[0m\u001b[0m\n\u001b[1;32m--> 190\u001b[1;33m             \u001b[1;32mraise\u001b[0m \u001b[0mLinAlgError\u001b[0m\u001b[1;33m(\u001b[0m\u001b[1;34m'Last 2 dimensions of the array must be square'\u001b[0m\u001b[1;33m)\u001b[0m\u001b[1;33m\u001b[0m\u001b[1;33m\u001b[0m\u001b[0m\n\u001b[0m\u001b[0;32m    191\u001b[0m \u001b[1;33m\u001b[0m\u001b[0m\n\u001b[0;32m    192\u001b[0m \u001b[1;32mdef\u001b[0m \u001b[0m_assert_finite\u001b[0m\u001b[1;33m(\u001b[0m\u001b[1;33m*\u001b[0m\u001b[0marrays\u001b[0m\u001b[1;33m)\u001b[0m\u001b[1;33m:\u001b[0m\u001b[1;33m\u001b[0m\u001b[1;33m\u001b[0m\u001b[0m\n",
      "\u001b[1;31mLinAlgError\u001b[0m: Last 2 dimensions of the array must be square"
     ]
    }
   ],
   "source": [
    "a = np.arange(10).reshape(5,2)\n",
    "np.linalg.matrix_power(a,2)"
   ]
  },
  {
   "cell_type": "markdown",
   "id": "bb3614f4",
   "metadata": {},
   "source": [
    "## det()\n",
    "\n",
    "**to find the determinant of a matrix**<br>\n",
    "• determinant of the matrix = ad-bc\n",
    "\n",
    "<img src=\"images\\det.JPG\" alt=\"det\" width=\"700\" height=\"600\">"
   ]
  },
  {
   "cell_type": "code",
   "execution_count": null,
   "id": "546e3288",
   "metadata": {},
   "outputs": [],
   "source": [
    "import numpy as np\n",
    "help(np.linalg.det)"
   ]
  },
  {
   "cell_type": "markdown",
   "id": "967612bb",
   "metadata": {},
   "source": [
    "### determinant of 2-D arrays"
   ]
  },
  {
   "cell_type": "code",
   "execution_count": 82,
   "id": "e0764b2b",
   "metadata": {},
   "outputs": [
    {
     "name": "stdout",
     "output_type": "stream",
     "text": [
      "Original Matrix : \n",
      " [[1 2]\n",
      " [3 4]]\n",
      "Determinant of Matrix : \n",
      " -2.0000000000000004\n"
     ]
    }
   ],
   "source": [
    "a = np.array([[1,2],[3,4]])\n",
    "adet = np.linalg.det(a)\n",
    "print(f\"Original Matrix : \\n {a}\")\n",
    "print(f\"Determinant of Matrix : \\n {adet}\")"
   ]
  },
  {
   "cell_type": "markdown",
   "id": "07a618a6",
   "metadata": {},
   "source": [
    "### determinant of 3-D arrays"
   ]
  },
  {
   "cell_type": "code",
   "execution_count": 83,
   "id": "41ae163d",
   "metadata": {},
   "outputs": [
    {
     "name": "stdout",
     "output_type": "stream",
     "text": [
      "Original Matrix : \n",
      " [[0 1 2]\n",
      " [3 4 5]\n",
      " [6 7 8]]\n",
      "Determinant of Matrix : \n",
      " 0.0\n"
     ]
    }
   ],
   "source": [
    "a = np.arange(9).reshape(3,3)\n",
    "adet = np.linalg.det(a)\n",
    "print(f\"Original Matrix : \\n {a}\")\n",
    "print(f\"Determinant of Matrix : \\n {adet}\")"
   ]
  },
  {
   "cell_type": "markdown",
   "id": "21aadb73",
   "metadata": {},
   "source": [
    "**Note:** We can find determinant only for square matrices, otherwise we will get error(LinAlgError)"
   ]
  },
  {
   "cell_type": "code",
   "execution_count": 84,
   "id": "bed8ec06",
   "metadata": {},
   "outputs": [
    {
     "ename": "LinAlgError",
     "evalue": "Last 2 dimensions of the array must be square",
     "output_type": "error",
     "traceback": [
      "\u001b[1;31m---------------------------------------------------------------------------\u001b[0m",
      "\u001b[1;31mLinAlgError\u001b[0m                               Traceback (most recent call last)",
      "\u001b[1;32m~\\AppData\\Local\\Temp\\ipykernel_15516\\3301089049.py\u001b[0m in \u001b[0;36m<module>\u001b[1;34m\u001b[0m\n\u001b[0;32m      1\u001b[0m \u001b[0ma\u001b[0m \u001b[1;33m=\u001b[0m \u001b[0mnp\u001b[0m\u001b[1;33m.\u001b[0m\u001b[0marange\u001b[0m\u001b[1;33m(\u001b[0m\u001b[1;36m10\u001b[0m\u001b[1;33m)\u001b[0m\u001b[1;33m.\u001b[0m\u001b[0mreshape\u001b[0m\u001b[1;33m(\u001b[0m\u001b[1;36m5\u001b[0m\u001b[1;33m,\u001b[0m\u001b[1;36m2\u001b[0m\u001b[1;33m)\u001b[0m\u001b[1;33m\u001b[0m\u001b[1;33m\u001b[0m\u001b[0m\n\u001b[1;32m----> 2\u001b[1;33m \u001b[0mnp\u001b[0m\u001b[1;33m.\u001b[0m\u001b[0mlinalg\u001b[0m\u001b[1;33m.\u001b[0m\u001b[0mdet\u001b[0m\u001b[1;33m(\u001b[0m\u001b[0ma\u001b[0m\u001b[1;33m)\u001b[0m\u001b[1;33m\u001b[0m\u001b[1;33m\u001b[0m\u001b[0m\n\u001b[0m",
      "\u001b[1;32m~\\Anaconda3\\lib\\site-packages\\numpy\\core\\overrides.py\u001b[0m in \u001b[0;36mdet\u001b[1;34m(*args, **kwargs)\u001b[0m\n",
      "\u001b[1;32m~\\Anaconda3\\lib\\site-packages\\numpy\\linalg\\linalg.py\u001b[0m in \u001b[0;36mdet\u001b[1;34m(a)\u001b[0m\n\u001b[0;32m   2134\u001b[0m     \u001b[0ma\u001b[0m \u001b[1;33m=\u001b[0m \u001b[0masarray\u001b[0m\u001b[1;33m(\u001b[0m\u001b[0ma\u001b[0m\u001b[1;33m)\u001b[0m\u001b[1;33m\u001b[0m\u001b[1;33m\u001b[0m\u001b[0m\n\u001b[0;32m   2135\u001b[0m     \u001b[0m_assert_stacked_2d\u001b[0m\u001b[1;33m(\u001b[0m\u001b[0ma\u001b[0m\u001b[1;33m)\u001b[0m\u001b[1;33m\u001b[0m\u001b[1;33m\u001b[0m\u001b[0m\n\u001b[1;32m-> 2136\u001b[1;33m     \u001b[0m_assert_stacked_square\u001b[0m\u001b[1;33m(\u001b[0m\u001b[0ma\u001b[0m\u001b[1;33m)\u001b[0m\u001b[1;33m\u001b[0m\u001b[1;33m\u001b[0m\u001b[0m\n\u001b[0m\u001b[0;32m   2137\u001b[0m     \u001b[0mt\u001b[0m\u001b[1;33m,\u001b[0m \u001b[0mresult_t\u001b[0m \u001b[1;33m=\u001b[0m \u001b[0m_commonType\u001b[0m\u001b[1;33m(\u001b[0m\u001b[0ma\u001b[0m\u001b[1;33m)\u001b[0m\u001b[1;33m\u001b[0m\u001b[1;33m\u001b[0m\u001b[0m\n\u001b[0;32m   2138\u001b[0m     \u001b[0msignature\u001b[0m \u001b[1;33m=\u001b[0m \u001b[1;34m'D->D'\u001b[0m \u001b[1;32mif\u001b[0m \u001b[0misComplexType\u001b[0m\u001b[1;33m(\u001b[0m\u001b[0mt\u001b[0m\u001b[1;33m)\u001b[0m \u001b[1;32melse\u001b[0m \u001b[1;34m'd->d'\u001b[0m\u001b[1;33m\u001b[0m\u001b[1;33m\u001b[0m\u001b[0m\n",
      "\u001b[1;32m~\\Anaconda3\\lib\\site-packages\\numpy\\linalg\\linalg.py\u001b[0m in \u001b[0;36m_assert_stacked_square\u001b[1;34m(*arrays)\u001b[0m\n\u001b[0;32m    188\u001b[0m         \u001b[0mm\u001b[0m\u001b[1;33m,\u001b[0m \u001b[0mn\u001b[0m \u001b[1;33m=\u001b[0m \u001b[0ma\u001b[0m\u001b[1;33m.\u001b[0m\u001b[0mshape\u001b[0m\u001b[1;33m[\u001b[0m\u001b[1;33m-\u001b[0m\u001b[1;36m2\u001b[0m\u001b[1;33m:\u001b[0m\u001b[1;33m]\u001b[0m\u001b[1;33m\u001b[0m\u001b[1;33m\u001b[0m\u001b[0m\n\u001b[0;32m    189\u001b[0m         \u001b[1;32mif\u001b[0m \u001b[0mm\u001b[0m \u001b[1;33m!=\u001b[0m \u001b[0mn\u001b[0m\u001b[1;33m:\u001b[0m\u001b[1;33m\u001b[0m\u001b[1;33m\u001b[0m\u001b[0m\n\u001b[1;32m--> 190\u001b[1;33m             \u001b[1;32mraise\u001b[0m \u001b[0mLinAlgError\u001b[0m\u001b[1;33m(\u001b[0m\u001b[1;34m'Last 2 dimensions of the array must be square'\u001b[0m\u001b[1;33m)\u001b[0m\u001b[1;33m\u001b[0m\u001b[1;33m\u001b[0m\u001b[0m\n\u001b[0m\u001b[0;32m    191\u001b[0m \u001b[1;33m\u001b[0m\u001b[0m\n\u001b[0;32m    192\u001b[0m \u001b[1;32mdef\u001b[0m \u001b[0m_assert_finite\u001b[0m\u001b[1;33m(\u001b[0m\u001b[1;33m*\u001b[0m\u001b[0marrays\u001b[0m\u001b[1;33m)\u001b[0m\u001b[1;33m:\u001b[0m\u001b[1;33m\u001b[0m\u001b[1;33m\u001b[0m\u001b[0m\n",
      "\u001b[1;31mLinAlgError\u001b[0m: Last 2 dimensions of the array must be square"
     ]
    }
   ],
   "source": [
    "a = np.arange(10).reshape(5,2)\n",
    "np.linalg.det(a)"
   ]
  },
  {
   "cell_type": "markdown",
   "id": "df54d48d",
   "metadata": {},
   "source": [
    "## solve()\n",
    "\n",
    "**to solve linear algebra equations<br>\n",
    "solve(a, b)** ==> Solve a linear matrix equation, or system of linear scalar equations.<br>\n",
    "\n",
    "• a : (..., M, M) array_like ==> Coefficient matrix.<br>\n",
    "• b : {(..., M,), (..., M, K)}, array_like ==> Ordinate or \"dependent variable\" values.<br>"
   ]
  },
  {
   "cell_type": "markdown",
   "id": "d4a79386",
   "metadata": {},
   "source": [
    "## 2 variables\n",
    "\n",
    "### case study:\n",
    "\n",
    "**Problem:**<br>\n",
    "• Boys and Girls are attending Durga sir's datascience class.<br>\n",
    "• For boys fee is $3 and for girls fee is $8.<br>\n",
    "• For a certain batch 2200 people attented and $10100 fee collected.<br>\n",
    "• How many boys and girls attended for that batch?<br>\n",
    "\n",
    "<img src=\"images\\problem.JPG\" alt=\"det\" width=\"700\" height=\"600\">"
   ]
  },
  {
   "cell_type": "code",
   "execution_count": 85,
   "id": "003263b4",
   "metadata": {},
   "outputs": [
    {
     "name": "stdout",
     "output_type": "stream",
     "text": [
      "Coefficient Matrix : \n",
      " [[1 1]\n",
      " [3 8]]\n",
      "Dependent Matrix : \n",
      " [ 2200 10100]\n",
      "Solution array : [1500.  700.]\n",
      "Type of result : <class 'numpy.ndarray'>\n"
     ]
    }
   ],
   "source": [
    "# solution\n",
    "# x+y = 2200\n",
    "# 3x+8y=10100\n",
    "coef = np.array([[1,1],[3,8]])\n",
    "dep = np.array([2200,10100])\n",
    "result = np.linalg.solve(coef,dep)\n",
    "print(f\"Coefficient Matrix : \\n {coef}\")\n",
    "print(f\"Dependent Matrix : \\n {dep}\")\n",
    "print(f\"Solution array : {result}\")\n",
    "print(f\"Type of result : {type(result)}\")"
   ]
  },
  {
   "cell_type": "markdown",
   "id": "25b3f6c6",
   "metadata": {},
   "source": [
    "3 variables\n",
    "\n",
    "<img src=\"images\\problem_3.JPG\" alt=\"problem_3\" width=\"700\" height=\"600\">"
   ]
  },
  {
   "cell_type": "code",
   "execution_count": 86,
   "id": "dd2710ba",
   "metadata": {},
   "outputs": [
    {
     "name": "stdout",
     "output_type": "stream",
     "text": [
      "Coefficient Matrix : \n",
      " [[-4  7 -2]\n",
      " [ 1 -2  1]\n",
      " [ 2 -3  1]]\n",
      "Dependent Matrix : \n",
      " [ 2  3 -4]\n",
      "Solution array : [-13.  -6.   4.]\n"
     ]
    }
   ],
   "source": [
    "# Finding the values of the 3 variables\n",
    "# -4x+7y-2z = 2\n",
    "# x-2y+z = 3\n",
    "# 2x-3y+z = -4\n",
    "coef = np.array([[-4,7,-2],[1,-2,1],[2,-3,1]])\n",
    "dep = np.array([2,3,-4])\n",
    "result = np.linalg.solve(coef,dep)\n",
    "print(f\"Coefficient Matrix : \\n {coef}\")\n",
    "print(f\"Dependent Matrix : \\n {dep}\")\n",
    "print(f\"Solution array : {result}\")"
   ]
  }
 ],
 "metadata": {
  "hide_input": false,
  "kernelspec": {
   "display_name": "Python 3 (ipykernel)",
   "language": "python",
   "name": "python3"
  },
  "language_info": {
   "codemirror_mode": {
    "name": "ipython",
    "version": 3
   },
   "file_extension": ".py",
   "mimetype": "text/x-python",
   "name": "python",
   "nbconvert_exporter": "python",
   "pygments_lexer": "ipython3",
   "version": "3.9.13"
  },
  "toc": {
   "base_numbering": 1,
   "nav_menu": {},
   "number_sections": true,
   "sideBar": true,
   "skip_h1_title": false,
   "title_cell": "Table of Contents",
   "title_sidebar": "Contents",
   "toc_cell": false,
   "toc_position": {},
   "toc_section_display": true,
   "toc_window_display": true
  }
 },
 "nbformat": 4,
 "nbformat_minor": 5
}
