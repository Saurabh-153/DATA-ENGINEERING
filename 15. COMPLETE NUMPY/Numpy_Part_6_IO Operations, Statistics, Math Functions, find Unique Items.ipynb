{
 "cells": [
  {
   "cell_type": "markdown",
   "id": "c4a14e4e",
   "metadata": {},
   "source": [
    "# Chapter-19 - IO operations with Numpy"
   ]
  },
  {
   "cell_type": "markdown",
   "id": "eadc2ef7",
   "metadata": {},
   "source": [
    "## I/O operations with Numpy\n",
    "\n",
    "• We can save/write ndarray objects to a binary file for future purpose.<br>\n",
    "• Later point of time, when ever these objects are required, we can read from that binary file.<br>\n",
    "• save() ==> to save/write ndarry object to a file<br>\n",
    "• load() ==>to read ndarray object from a file<br>\n",
    "\n",
    "### Syntax\n",
    "• ***save(file, arr, allow_pickle=True, fix_imports=True)*** ==> Save an array to a binary file in NumPy .npy format.<br>\n",
    "• ***load(file, mmap_mode=None, allow_pickle=False, fix_imports=True, encoding='ASCII')*** ==> Load arrays or pickled objects from .npy, .npz or pickled\n",
    "files."
   ]
  },
  {
   "cell_type": "code",
   "execution_count": null,
   "id": "b3278d8b",
   "metadata": {},
   "outputs": [],
   "source": [
    "import numpy as np\n",
    "help(np.save)"
   ]
  },
  {
   "cell_type": "code",
   "execution_count": null,
   "id": "956000de",
   "metadata": {},
   "outputs": [],
   "source": [
    "import numpy as np\n",
    "help(np.load)"
   ]
  },
  {
   "cell_type": "markdown",
   "id": "5fe59292",
   "metadata": {},
   "source": [
    "## save() and load() => single ndarray"
   ]
  },
  {
   "cell_type": "code",
   "execution_count": 1,
   "id": "e2f05feb",
   "metadata": {},
   "outputs": [
    {
     "name": "stdout",
     "output_type": "stream",
     "text": [
      "[[10 20 30]\n",
      " [40 50 60]]\n"
     ]
    }
   ],
   "source": [
    "# Saving ndarray object to a file and read back:(save_read_obj.py)\n",
    "import numpy as np\n",
    "a = np.array([[10,20,30],[40,50,60]]) #2-D array with shape:(2,3)\n",
    "\n",
    "#save/serialize ndarray object to a file\n",
    "np.save('out.npy',a)\n",
    "\n",
    "#load/deserialize ndarray object from a file\n",
    "out_array = np.load('out.npy')\n",
    "print(out_array)"
   ]
  },
  {
   "cell_type": "markdown",
   "id": "957c4a31",
   "metadata": {},
   "source": [
    "**Note:**<br>\n",
    "• The data will be stored in binary form<br>\n",
    "• File extension should be .npy, otherwise save() function itself will add that extension.<br>\n",
    "• By using **save()** function we can write only one obejct to the file. If we want to write multiple objects to a file then we should go for **savez()** function."
   ]
  },
  {
   "cell_type": "markdown",
   "id": "da1ff925",
   "metadata": {},
   "source": [
    "## savez() and load() => multiple ndarrays"
   ]
  },
  {
   "cell_type": "code",
   "execution_count": null,
   "id": "84df26b7",
   "metadata": {},
   "outputs": [],
   "source": [
    "import numpy as np\n",
    "help(np.savez)"
   ]
  },
  {
   "cell_type": "code",
   "execution_count": 2,
   "id": "1a284b71",
   "metadata": {},
   "outputs": [
    {
     "name": "stdout",
     "output_type": "stream",
     "text": [
      "Type of the npzfileobj : <class 'numpy.lib.npyio.NpzFile'>\n",
      "['arr_0', 'arr_1']\n",
      "[[10 20 30]\n",
      " [40 50 60]]\n",
      "[[ 70  80]\n",
      " [ 90 100]]\n"
     ]
    }
   ],
   "source": [
    "# Saving mulitple ndarray objects to the binary file:\n",
    "import numpy as np\n",
    "a = np.array([[10,20,30],[40,50,60]]) #2-D array with shape:(2,3)\n",
    "b = np.array([[70,80],[90,100]]) #2-D array with shape:(2,2)\n",
    "\n",
    "#save/serialize ndarrays object to a file\n",
    "np.savez('out.npz',a,b)\n",
    "\n",
    "#reading ndarray objects from a file\n",
    "npzfileobj = np.load('out.npz') #returns NpzFile object\n",
    "print(f\"Type of the npzfileobj : {type(npzfileobj)}\")\n",
    "print(npzfileobj.files)\n",
    "print(npzfileobj['arr_0'])\n",
    "print(npzfileobj['arr_1'])"
   ]
  },
  {
   "cell_type": "code",
   "execution_count": 3,
   "id": "ee0f6dd8",
   "metadata": {},
   "outputs": [
    {
     "name": "stdout",
     "output_type": "stream",
     "text": [
      "<class 'numpy.lib.npyio.NpzFile'>\n",
      "['arr_0', 'arr_1']\n",
      "Name of the file : arr_0\n",
      "Contents in the file :\n",
      "[[10 20 30]\n",
      " [40 50 60]]\n",
      "********************************************************************************\n",
      "Name of the file : arr_1\n",
      "Contents in the file :\n",
      "[[ 70  80]\n",
      " [ 90 100]]\n",
      "********************************************************************************\n"
     ]
    }
   ],
   "source": [
    "# reading the file objets using for loop\n",
    "import numpy as np\n",
    "a = np.array([[10,20,30],[40,50,60]]) #2-D array with shape:(2,3)\n",
    "b = np.array([[70,80],[90,100]]) #2-D array with shape:(2,2)\n",
    "\n",
    "#save/serialize ndarrays object to a file\n",
    "np.savez('out.npz',a,b)\n",
    "\n",
    "#reading ndarray objects from a file\n",
    "npzfileobj = np.load('out.npz') #returns NpzFile object ==> <class 'numpy.lib.npyio.NpzFile'>\n",
    "print(type(npzfileobj))\n",
    "print(npzfileobj.files)\n",
    "\n",
    "for i in npzfileobj:\n",
    "    print(f\"Name of the file : {i}\")\n",
    "    print(\"Contents in the file :\")\n",
    "    print(npzfileobj[i])\n",
    "    print(\"*\"*80)"
   ]
  },
  {
   "cell_type": "markdown",
   "id": "85ec5075",
   "metadata": {},
   "source": [
    "## Note\n",
    "\n",
    "• **np.save()** ==>Save an array to a binary file in .npy format<br>\n",
    "• **np.savez()** ==> Save several arrays into a single file in .npz format but in uncompressed form.<br>\n",
    "• **np.savez_compressed()** ==>Save several arrays into a single file in .npz format but in compressed form.<br>\n",
    "• **np.load()** ==>To load/read arrays from .npy or .npz files."
   ]
  },
  {
   "cell_type": "markdown",
   "id": "1a044d3c",
   "metadata": {},
   "source": [
    "## savez_compressed() and load() => ndarray compressed form"
   ]
  },
  {
   "cell_type": "code",
   "execution_count": null,
   "id": "5e6b0230",
   "metadata": {},
   "outputs": [],
   "source": [
    "import numpy as np\n",
    "help(np.savez_compressed)"
   ]
  },
  {
   "cell_type": "code",
   "execution_count": 4,
   "id": "5b223b97",
   "metadata": {},
   "outputs": [
    {
     "name": "stdout",
     "output_type": "stream",
     "text": [
      "['arr_0', 'arr_1']\n",
      "[[10 20 30]\n",
      " [40 50 60]]\n",
      "[[ 70  80]\n",
      " [ 90 100]]\n"
     ]
    }
   ],
   "source": [
    "# compressed form\n",
    "import numpy as np\n",
    "a = np.array([[10,20,30],[40,50,60]]) #2-D array with shape:(2,3)\n",
    "b = np.array([[70,80],[90,100]]) #2-D array with shape:(2,2)\n",
    "\n",
    "#save/serialize ndarrays object to a file\n",
    "np.savez_compressed('out_compressed.npz',a,b)\n",
    "\n",
    "#reading ndarray objects from a file\n",
    "npzfileobj = np.load('out_compressed.npz') #returns NpzFile object\n",
    "#print(type(npzfileobj))\n",
    "print(npzfileobj.files)\n",
    "print(npzfileobj['arr_0'])\n",
    "print(npzfileobj['arr_1'])"
   ]
  },
  {
   "cell_type": "code",
   "execution_count": 5,
   "id": "67bcb024",
   "metadata": {},
   "outputs": [
    {
     "name": "stdout",
     "output_type": "stream",
     "text": [
      " Volume in drive C is OSDisk\n",
      " Volume Serial Number is 96FE-AEC2\n",
      "\n",
      " Directory of C:\\Users\\saurabhkumar9\\numpy_image\n",
      "\n",
      "\n",
      " Directory of C:\\Users\\saurabhkumar9\\numpy_image\n",
      "\n",
      "07/03/2024  04:58 PM               546 out.npz\n",
      "07/03/2024  04:58 PM               419 out_compressed.npz\n",
      "               2 File(s)            965 bytes\n",
      "               0 Dir(s)  201,076,817,920 bytes free\n"
     ]
    }
   ],
   "source": [
    "# Analysys\n",
    "%ls out.npz out_compressed.npz"
   ]
  },
  {
   "cell_type": "markdown",
   "id": "53d80f97",
   "metadata": {},
   "source": [
    "**We can save object in compressed form, then what is the need of uncompressed form?**<br>\n",
    "\n",
    "• **compressed form** ==>memory will be saved, but performance down.<br>\n",
    "• **uncompressed form** ==>memory won't be saved, but performance wise good.<br>\n",
    "\n",
    "**Note:**<br>\n",
    "• if we are using **save()** function the file extension: **npy**<br>\n",
    "• if we are using **savez() or savez_compressed()** functions the file extension: **npz**"
   ]
  },
  {
   "cell_type": "markdown",
   "id": "34bb5f61",
   "metadata": {},
   "source": [
    "## savetxt() and loadtxt() => ndarray object to text file\n",
    "\n",
    "• To save ndarray object to a text file we will use **savetxt()** function<br>\n",
    "• To read ndarray object from a text file we will use **loadtxt()** function"
   ]
  },
  {
   "cell_type": "code",
   "execution_count": null,
   "id": "b91e617c",
   "metadata": {},
   "outputs": [],
   "source": [
    "import numpy as np\n",
    "help(np.savetxt)"
   ]
  },
  {
   "cell_type": "code",
   "execution_count": null,
   "id": "f2f9345e",
   "metadata": {},
   "outputs": [],
   "source": [
    "import numpy as np\n",
    "help(np.loadtxt)"
   ]
  },
  {
   "cell_type": "code",
   "execution_count": 6,
   "id": "967087f0",
   "metadata": {
    "scrolled": true
   },
   "outputs": [
    {
     "name": "stdout",
     "output_type": "stream",
     "text": [
      "Output array in default format : float\n",
      "[[10. 20. 30.]\n",
      " [40. 50. 60.]]\n",
      "Output array in int format\n",
      "[[10 20 30]\n",
      " [40 50 60]]\n"
     ]
    },
    {
     "name": "stderr",
     "output_type": "stream",
     "text": [
      "C:\\Users\\saurabhkumar9\\AppData\\Local\\Temp\\ipykernel_1380\\2356838790.py:14: DeprecationWarning: loadtxt(): Parsing an integer via a float is deprecated.  To avoid this warning, you can:\n",
      "    * make sure the original data is stored as integers.\n",
      "    * use the `converters=` keyword argument.  If you only use\n",
      "      NumPy 1.23 or later, `converters=float` will normally work.\n",
      "    * Use `np.loadtxt(...).astype(np.int64)` parsing the file as\n",
      "      floating point and then convert it.  (On all NumPy versions.)\n",
      "  (Deprecated NumPy 1.23)\n",
      "  out_array2 = np.loadtxt('out.txt',dtype=int)\n"
     ]
    }
   ],
   "source": [
    "import numpy as np\n",
    "a = np.array([[10,20,30],[40,50,60]]) #2-D array with shape:(2,3)\n",
    "\n",
    "#save/serialize ndarrays object to a file\n",
    "np.savetxt('out.txt',a,fmt='%.1f')\n",
    "\n",
    "#reading ndarray objects from a file and default dtype is float\n",
    "out_array1 = np.loadtxt('out.txt')\n",
    "print(\"Output array in default format : float\")\n",
    "print(out_array1)\n",
    "\n",
    "#reading ndarray objects from a file and default dtype is int\n",
    "print(\"Output array in int format\")\n",
    "out_array2 = np.loadtxt('out.txt',dtype=int)\n",
    "print(out_array2)"
   ]
  },
  {
   "cell_type": "code",
   "execution_count": 7,
   "id": "12696764",
   "metadata": {},
   "outputs": [
    {
     "ename": "TypeError",
     "evalue": "Mismatch between array dtype ('<U11') and format specifier ('%.18e %.18e')",
     "output_type": "error",
     "traceback": [
      "\u001b[1;31m---------------------------------------------------------------------------\u001b[0m",
      "\u001b[1;31mTypeError\u001b[0m                                 Traceback (most recent call last)",
      "\u001b[1;32m~\\Anaconda3\\lib\\site-packages\\numpy\\lib\\npyio.py\u001b[0m in \u001b[0;36msavetxt\u001b[1;34m(fname, X, fmt, delimiter, newline, header, footer, comments, encoding)\u001b[0m\n\u001b[0;32m   1607\u001b[0m                 \u001b[1;32mtry\u001b[0m\u001b[1;33m:\u001b[0m\u001b[1;33m\u001b[0m\u001b[1;33m\u001b[0m\u001b[0m\n\u001b[1;32m-> 1608\u001b[1;33m                     \u001b[0mv\u001b[0m \u001b[1;33m=\u001b[0m \u001b[0mformat\u001b[0m \u001b[1;33m%\u001b[0m \u001b[0mtuple\u001b[0m\u001b[1;33m(\u001b[0m\u001b[0mrow\u001b[0m\u001b[1;33m)\u001b[0m \u001b[1;33m+\u001b[0m \u001b[0mnewline\u001b[0m\u001b[1;33m\u001b[0m\u001b[1;33m\u001b[0m\u001b[0m\n\u001b[0m\u001b[0;32m   1609\u001b[0m                 \u001b[1;32mexcept\u001b[0m \u001b[0mTypeError\u001b[0m \u001b[1;32mas\u001b[0m \u001b[0me\u001b[0m\u001b[1;33m:\u001b[0m\u001b[1;33m\u001b[0m\u001b[1;33m\u001b[0m\u001b[0m\n",
      "\u001b[1;31mTypeError\u001b[0m: must be real number, not numpy.str_",
      "\nThe above exception was the direct cause of the following exception:\n",
      "\u001b[1;31mTypeError\u001b[0m                                 Traceback (most recent call last)",
      "\u001b[1;32m~\\AppData\\Local\\Temp\\ipykernel_1380\\2116043639.py\u001b[0m in \u001b[0;36m<module>\u001b[1;34m\u001b[0m\n\u001b[0;32m      4\u001b[0m \u001b[1;33m\u001b[0m\u001b[0m\n\u001b[0;32m      5\u001b[0m \u001b[1;31m#save this ndarray to a text file\u001b[0m\u001b[1;33m\u001b[0m\u001b[1;33m\u001b[0m\u001b[0m\n\u001b[1;32m----> 6\u001b[1;33m \u001b[0mnp\u001b[0m\u001b[1;33m.\u001b[0m\u001b[0msavetxt\u001b[0m\u001b[1;33m(\u001b[0m\u001b[1;34m'out.txt'\u001b[0m\u001b[1;33m,\u001b[0m\u001b[0ma1\u001b[0m\u001b[1;33m)\u001b[0m \u001b[1;31m# by default fmt='%.18e'. It will leads to error\u001b[0m\u001b[1;33m\u001b[0m\u001b[1;33m\u001b[0m\u001b[0m\n\u001b[0m",
      "\u001b[1;32m~\\Anaconda3\\lib\\site-packages\\numpy\\core\\overrides.py\u001b[0m in \u001b[0;36msavetxt\u001b[1;34m(*args, **kwargs)\u001b[0m\n",
      "\u001b[1;32m~\\Anaconda3\\lib\\site-packages\\numpy\\lib\\npyio.py\u001b[0m in \u001b[0;36msavetxt\u001b[1;34m(fname, X, fmt, delimiter, newline, header, footer, comments, encoding)\u001b[0m\n\u001b[0;32m   1608\u001b[0m                     \u001b[0mv\u001b[0m \u001b[1;33m=\u001b[0m \u001b[0mformat\u001b[0m \u001b[1;33m%\u001b[0m \u001b[0mtuple\u001b[0m\u001b[1;33m(\u001b[0m\u001b[0mrow\u001b[0m\u001b[1;33m)\u001b[0m \u001b[1;33m+\u001b[0m \u001b[0mnewline\u001b[0m\u001b[1;33m\u001b[0m\u001b[1;33m\u001b[0m\u001b[0m\n\u001b[0;32m   1609\u001b[0m                 \u001b[1;32mexcept\u001b[0m \u001b[0mTypeError\u001b[0m \u001b[1;32mas\u001b[0m \u001b[0me\u001b[0m\u001b[1;33m:\u001b[0m\u001b[1;33m\u001b[0m\u001b[1;33m\u001b[0m\u001b[0m\n\u001b[1;32m-> 1610\u001b[1;33m                     raise TypeError(\"Mismatch between array dtype ('%s') and \"\n\u001b[0m\u001b[0;32m   1611\u001b[0m                                     \u001b[1;34m\"format specifier ('%s')\"\u001b[0m\u001b[1;33m\u001b[0m\u001b[1;33m\u001b[0m\u001b[0m\n\u001b[0;32m   1612\u001b[0m                                     % (str(X.dtype), format)) from e\n",
      "\u001b[1;31mTypeError\u001b[0m: Mismatch between array dtype ('<U11') and format specifier ('%.18e %.18e')"
     ]
    }
   ],
   "source": [
    "## save ndarray object(str) into a text file\n",
    "import numpy as np\n",
    "a1 = np.array([['Sunny',1000],['Bunny',2000],['Chinny',3000],['Pinny',4000]])\n",
    "\n",
    "#save this ndarray to a text file\n",
    "np.savetxt('out.txt',a1) # by default fmt='%.18e'. It will leads to error"
   ]
  },
  {
   "cell_type": "markdown",
   "id": "9f6ccc1a",
   "metadata": {},
   "source": [
    "## savetxt() conclusions\n",
    "\n",
    "• By using savetxt() we can store ndarray of type 1-D and 2-D only<br>\n",
    "• If we use 3-D array to store into a file then it will give error"
   ]
  },
  {
   "cell_type": "code",
   "execution_count": 8,
   "id": "8ae33c8d",
   "metadata": {},
   "outputs": [
    {
     "ename": "ValueError",
     "evalue": "Expected 1D or 2D array, got 3D array instead",
     "output_type": "error",
     "traceback": [
      "\u001b[1;31m---------------------------------------------------------------------------\u001b[0m",
      "\u001b[1;31mValueError\u001b[0m                                Traceback (most recent call last)",
      "\u001b[1;32m~\\AppData\\Local\\Temp\\ipykernel_1380\\3811251251.py\u001b[0m in \u001b[0;36m<module>\u001b[1;34m\u001b[0m\n\u001b[0;32m      1\u001b[0m \u001b[1;32mimport\u001b[0m \u001b[0mnumpy\u001b[0m \u001b[1;32mas\u001b[0m \u001b[0mnp\u001b[0m\u001b[1;33m\u001b[0m\u001b[1;33m\u001b[0m\u001b[0m\n\u001b[0;32m      2\u001b[0m \u001b[0ma\u001b[0m \u001b[1;33m=\u001b[0m \u001b[0mnp\u001b[0m\u001b[1;33m.\u001b[0m\u001b[0marange\u001b[0m\u001b[1;33m(\u001b[0m\u001b[1;36m24\u001b[0m\u001b[1;33m)\u001b[0m\u001b[1;33m.\u001b[0m\u001b[0mreshape\u001b[0m\u001b[1;33m(\u001b[0m\u001b[1;36m2\u001b[0m\u001b[1;33m,\u001b[0m\u001b[1;36m3\u001b[0m\u001b[1;33m,\u001b[0m\u001b[1;36m4\u001b[0m\u001b[1;33m)\u001b[0m\u001b[1;33m\u001b[0m\u001b[1;33m\u001b[0m\u001b[0m\n\u001b[1;32m----> 3\u001b[1;33m \u001b[0mnp\u001b[0m\u001b[1;33m.\u001b[0m\u001b[0msavetxt\u001b[0m\u001b[1;33m(\u001b[0m\u001b[1;34m'output.txt'\u001b[0m\u001b[1;33m,\u001b[0m\u001b[0ma\u001b[0m\u001b[1;33m)\u001b[0m\u001b[1;33m\u001b[0m\u001b[1;33m\u001b[0m\u001b[0m\n\u001b[0m",
      "\u001b[1;32m~\\Anaconda3\\lib\\site-packages\\numpy\\core\\overrides.py\u001b[0m in \u001b[0;36msavetxt\u001b[1;34m(*args, **kwargs)\u001b[0m\n",
      "\u001b[1;32m~\\Anaconda3\\lib\\site-packages\\numpy\\lib\\npyio.py\u001b[0m in \u001b[0;36msavetxt\u001b[1;34m(fname, X, fmt, delimiter, newline, header, footer, comments, encoding)\u001b[0m\n\u001b[0;32m   1553\u001b[0m         \u001b[1;31m# Handle 1-dimensional arrays\u001b[0m\u001b[1;33m\u001b[0m\u001b[1;33m\u001b[0m\u001b[0m\n\u001b[0;32m   1554\u001b[0m         \u001b[1;32mif\u001b[0m \u001b[0mX\u001b[0m\u001b[1;33m.\u001b[0m\u001b[0mndim\u001b[0m \u001b[1;33m==\u001b[0m \u001b[1;36m0\u001b[0m \u001b[1;32mor\u001b[0m \u001b[0mX\u001b[0m\u001b[1;33m.\u001b[0m\u001b[0mndim\u001b[0m \u001b[1;33m>\u001b[0m \u001b[1;36m2\u001b[0m\u001b[1;33m:\u001b[0m\u001b[1;33m\u001b[0m\u001b[1;33m\u001b[0m\u001b[0m\n\u001b[1;32m-> 1555\u001b[1;33m             raise ValueError(\n\u001b[0m\u001b[0;32m   1556\u001b[0m                 \"Expected 1D or 2D array, got %dD array instead\" % X.ndim)\n\u001b[0;32m   1557\u001b[0m         \u001b[1;32melif\u001b[0m \u001b[0mX\u001b[0m\u001b[1;33m.\u001b[0m\u001b[0mndim\u001b[0m \u001b[1;33m==\u001b[0m \u001b[1;36m1\u001b[0m\u001b[1;33m:\u001b[0m\u001b[1;33m\u001b[0m\u001b[1;33m\u001b[0m\u001b[0m\n",
      "\u001b[1;31mValueError\u001b[0m: Expected 1D or 2D array, got 3D array instead"
     ]
    }
   ],
   "source": [
    "import numpy as np\n",
    "a = np.arange(24).reshape(2,3,4)\n",
    "np.savetxt('output.txt',a)"
   ]
  },
  {
   "cell_type": "code",
   "execution_count": 9,
   "id": "9c36a11c",
   "metadata": {},
   "outputs": [
    {
     "name": "stdout",
     "output_type": "stream",
     "text": [
      "Type of a2(fetching the data from text file) : <class 'numpy.ndarray'>\n",
      "The a2 value after fetching the data from text file : \n",
      " [['Sunny' '1000']\n",
      " ['Bunny' '2000']\n",
      " ['Chinny' '3000']\n",
      " ['Pinny' '4000']]\n"
     ]
    }
   ],
   "source": [
    "# to store str ndarray into a file we must specify the fmt parameter as str\n",
    "import numpy as np\n",
    "a1 = np.array([['Sunny',1000],['Bunny',2000],['Chinny',3000],['Pinny',4000]])\n",
    "\n",
    "#save this ndarray to a text file\n",
    "np.savetxt('out.txt',a1,fmt='%s %s')\n",
    "\n",
    "#reading ndarray from the text file\n",
    "a2 = np.loadtxt('out.txt',dtype='str')\n",
    "print(f\"Type of a2(fetching the data from text file) : {type(a2)}\")\n",
    "print(f\"The a2 value after fetching the data from text file : \\n {a2}\")"
   ]
  },
  {
   "cell_type": "markdown",
   "id": "33b2cd93",
   "metadata": {},
   "source": [
    "## Creating ndarray object by reading a file"
   ]
  },
  {
   "cell_type": "code",
   "execution_count": 10,
   "id": "398fc2ed",
   "metadata": {},
   "outputs": [
    {
     "name": "stdout",
     "output_type": "stream",
     "text": [
      "Type of a2 : <class 'numpy.ndarray'>\n",
      "[['Sunny' '1000']\n",
      " ['Bunny' '2000']\n",
      " ['Chinny' '3000']\n",
      " ['Pinny' '4000']]\n"
     ]
    }
   ],
   "source": [
    "# out.txt:\n",
    "# -------\n",
    "# Sunny 1000\n",
    "# Bunny 2000\n",
    "# Chinny 3000\n",
    "# Pinny 4000\n",
    "# Zinny 5000\n",
    "# Vinny 6000\n",
    "# Minny 7000\n",
    "# Tinny 8000\n",
    "# creating ndarray from text file data:\n",
    "import numpy as np\n",
    "#reading ndarray from the text file\n",
    "a2 = np.loadtxt('out.txt',dtype='str')\n",
    "print(f\"Type of a2 : {type(a2)}\")\n",
    "print(a2)"
   ]
  },
  {
   "cell_type": "markdown",
   "id": "347aaf02",
   "metadata": {},
   "source": [
    "## Writing ndarray objects to the csv file\n",
    "\n",
    "• csv - Comma separated Values"
   ]
  },
  {
   "cell_type": "code",
   "execution_count": 12,
   "id": "a87e7bd9",
   "metadata": {},
   "outputs": [
    {
     "name": "stdout",
     "output_type": "stream",
     "text": [
      "[[10. 20. 30.]\n",
      " [40. 50. 60.]]\n"
     ]
    }
   ],
   "source": [
    "import numpy as np\n",
    "a1 = np.array([[10, 20, 30], [40, 50, 60]])\n",
    "                           \n",
    "#save/serialize to a csv file\n",
    "np.savetxt('out.csv',a1,delimiter=',')\n",
    "\n",
    "#reading ndarray object from a csv file\n",
    "a2 = np.loadtxt('out.csv',delimiter=',')\n",
    "print(a2)"
   ]
  },
  {
   "cell_type": "markdown",
   "id": "7e076f9f",
   "metadata": {},
   "source": [
    "## Summary:\n",
    "\n",
    "| Functionality                           | Description                                    | Functions Used                |\n",
    "|-----------------------------------------|------------------------------------------------|-------------------------------|\n",
    "| Save one ndarray object                 | to the binary file                             | `save()` and `load()`         |\n",
    "| Save multiple ndarray objects           | to the binary file in uncompressed form        | `savez()` and `load()`        |\n",
    "| Save multiple ndarray objects           | to the binary file in compressed form          | `savez_compressed()` and `load()` |\n",
    "| Save ndarray object                     | to the text file                               | `savetxt()` and `loadtxt()`   |\n",
    "| Save ndarray object                     | to the csv file                                | `savetxt()` and `loadtxt()` with `delimiter=','` |"
   ]
  },
  {
   "cell_type": "markdown",
   "id": "97fab1e5",
   "metadata": {},
   "source": [
    "# Chapter-20 - Basic Statistics with Numpy"
   ]
  },
  {
   "cell_type": "markdown",
   "id": "57474790",
   "metadata": {},
   "source": [
    "**In Datascience domain, we required to collect,store and analyze huge amount of data. From this data we may required to find some basic statistics like**<br>\n",
    "\n",
    "• Minimum value<br>\n",
    "• Maximum value<br>\n",
    "• Average Value<br>\n",
    "• Sum of all values<br>\n",
    "• Mean value<br>\n",
    "• Median value<br>\n",
    "• Variance<br>\n",
    "• Standard deviation etc<br>\n",
    "\n",
    "## Minimum value\n",
    "\n",
    "• np.min(a)<br>\n",
    "• np.amin(a)<br>\n",
    "• a.min()"
   ]
  },
  {
   "cell_type": "code",
   "execution_count": null,
   "id": "d3a2116d",
   "metadata": {},
   "outputs": [],
   "source": [
    "import numpy as np\n",
    "help(np.min)"
   ]
  },
  {
   "cell_type": "markdown",
   "id": "a43cff8f",
   "metadata": {},
   "source": [
    "### 1-D array"
   ]
  },
  {
   "cell_type": "code",
   "execution_count": 13,
   "id": "7dba3ffa",
   "metadata": {},
   "outputs": [
    {
     "name": "stdout",
     "output_type": "stream",
     "text": [
      "1-D array : [10  5 20  3 25]\n",
      "np.min(a) value : 3\n",
      "np.amin(a) value : 3\n",
      "a.min() value : 3\n"
     ]
    }
   ],
   "source": [
    "a = np.array([10,5,20,3,25])\n",
    "print(f\"1-D array : {a}\")\n",
    "print(f\"np.min(a) value : {np.min(a)}\")\n",
    "print(f\"np.amin(a) value : {np.amin(a)}\")\n",
    "print(f\"a.min() value : {a.min()}\")"
   ]
  },
  {
   "cell_type": "markdown",
   "id": "b10b47e1",
   "metadata": {},
   "source": [
    "### 2-D array\n",
    "\n",
    "• axis=None(default) - The array is flattened to 1-D array and find the the min value<br>\n",
    "• axis=0 - minimum row and that row contains 3 element<br>\n",
    "• axis=1 - minimum column and that column contains 4 elements<br>\n",
    "• axis=0 - minimum row and that is by considering all the columns, in that min row value<br>\n",
    "• axis=1 - minimum column and that is by considering all rows, in that min column value\n",
    "\n",
    "<img src=\"images\\stats_1.JPG\" alt=\"insert2d\" width=\"600\" height=\"600\">"
   ]
  },
  {
   "cell_type": "code",
   "execution_count": 14,
   "id": "7062da9e",
   "metadata": {},
   "outputs": [
    {
     "name": "stdout",
     "output_type": "stream",
     "text": [
      "array a : \n",
      " [[100  20  30]\n",
      " [ 10  50  60]\n",
      " [ 25  15  18]\n",
      " [  4   5  19]]\n",
      "Minimum value along axis=None : 4\n",
      "Minimum value along axis-0 : [ 4  5 18]\n",
      "Minimum value along axis-1 : [20 10 15  4]\n"
     ]
    }
   ],
   "source": [
    "import numpy as np\n",
    "a = np.array([[100,20,30],[10,50,60],[25,15,18],[4,5,19]])\n",
    "print(f\"array a : \\n {a}\")\n",
    "print(f\"Minimum value along axis=None : {np.min(a)}\")\n",
    "print(f\"Minimum value along axis-0 : {np.min(a,axis=0)}\")\n",
    "print(f\"Minimum value along axis-1 : {np.min(a,axis=1)}\")"
   ]
  },
  {
   "cell_type": "code",
   "execution_count": 15,
   "id": "483f3de0",
   "metadata": {},
   "outputs": [
    {
     "name": "stdout",
     "output_type": "stream",
     "text": [
      "array a : \n",
      " [[ 0  1  2  3]\n",
      " [ 4  5  6  7]\n",
      " [ 8  9 10 11]\n",
      " [12 13 14 15]\n",
      " [16 17 18 19]\n",
      " [20 21 22 23]]\n",
      "Minimum value along axis=None : 0\n",
      "Minimum value along axis-0 : [0 1 2 3]\n",
      "Minimum value along axis-1 : [ 0  4  8 12 16 20]\n"
     ]
    }
   ],
   "source": [
    "import numpy as np\n",
    "a = np.arange(24).reshape(6,4)\n",
    "print(f\"array a : \\n {a}\")\n",
    "print(f\"Minimum value along axis=None : {np.min(a)}\")\n",
    "print(f\"Minimum value along axis-0 : {np.min(a,axis=0)}\")\n",
    "print(f\"Minimum value along axis-1 : {np.min(a,axis=1)}\")"
   ]
  },
  {
   "cell_type": "code",
   "execution_count": 16,
   "id": "034bd610",
   "metadata": {},
   "outputs": [
    {
     "name": "stdout",
     "output_type": "stream",
     "text": [
      "array a : \n",
      " [[19 18 17  5]\n",
      " [20 12  2  9]\n",
      " [11 14 23  6]\n",
      " [21  3  1 22]\n",
      " [15  8 13  4]\n",
      " [10  0  7 16]]\n",
      "Minimum value along axis=None : 0\n",
      "Minimum value along axis-0 : [10  0  1  4]\n",
      "Minimum value along axis-1 : [5 2 6 1 4 0]\n"
     ]
    }
   ],
   "source": [
    "import numpy as np\n",
    "a = np.arange(24)\n",
    "np.random.shuffle(a)\n",
    "a = a.reshape(6,4)\n",
    "print(f\"array a : \\n {a}\")\n",
    "print(f\"Minimum value along axis=None : {np.min(a)}\")\n",
    "print(f\"Minimum value along axis-0 : {np.min(a,axis=0)}\")\n",
    "print(f\"Minimum value along axis-1 : {np.min(a,axis=1)}\")"
   ]
  },
  {
   "cell_type": "markdown",
   "id": "cf69a673",
   "metadata": {},
   "source": [
    "## Maximum value\n",
    "\n",
    "• np.max(a)<br>\n",
    "• np.amax(a)<br>\n",
    "• a.max()"
   ]
  },
  {
   "cell_type": "code",
   "execution_count": null,
   "id": "98892ec3",
   "metadata": {},
   "outputs": [],
   "source": [
    "import numpy as np\n",
    "help(np.max)"
   ]
  },
  {
   "cell_type": "markdown",
   "id": "d6a34942",
   "metadata": {},
   "source": [
    "### 1-D array"
   ]
  },
  {
   "cell_type": "code",
   "execution_count": 17,
   "id": "3f615d4a",
   "metadata": {},
   "outputs": [
    {
     "name": "stdout",
     "output_type": "stream",
     "text": [
      "1-D array : [10  5 20  3 25]\n",
      "np.max(a) value : 25\n",
      "np.amax(a) value : 25\n",
      "a.max() value : 25\n"
     ]
    }
   ],
   "source": [
    "a = np.array([10,5,20,3,25])\n",
    "print(f\"1-D array : {a}\")\n",
    "print(f\"np.max(a) value : {np.max(a)}\")\n",
    "print(f\"np.amax(a) value : {np.amax(a)}\")\n",
    "print(f\"a.max() value : {a.max()}\")"
   ]
  },
  {
   "cell_type": "markdown",
   "id": "a44d546e",
   "metadata": {},
   "source": [
    "### 2-D array\n",
    "• axis=None(default) - The array is flattened to 1-D array and find the the max value<br>\n",
    "• axis=0 - maximum row and that row contains 3 element<br>\n",
    "• axis=1 - maximum column and that column contains 4 elements<br>\n",
    "• axis=0 - maximum row and that is by considering all the columns, in that max row value<br>\n",
    "• axis=1 - maximum column and that is by considering all rows, in that max column value<br>\n",
    "\n",
    "<img src=\"images\\stats_2.JPG\" alt=\"insert2d\" width=\"600\" height=\"600\">"
   ]
  },
  {
   "cell_type": "code",
   "execution_count": 18,
   "id": "3aec381e",
   "metadata": {},
   "outputs": [
    {
     "name": "stdout",
     "output_type": "stream",
     "text": [
      "array a : \n",
      " [[100  20  30]\n",
      " [ 10  50  60]\n",
      " [ 25  15  18]\n",
      " [  4   5  19]]\n",
      "Maximum value along axis=None : 100\n",
      "Maximum value along axis-0 : [100  50  60]\n",
      "Maximum value along axis-1 : [100  60  25  19]\n"
     ]
    }
   ],
   "source": [
    "import numpy as np\n",
    "a = np.array([[100,20,30],[10,50,60],[25,15,18],[4,5,19]])\n",
    "print(f\"array a : \\n {a}\")\n",
    "print(f\"Maximum value along axis=None : {np.max(a)}\")\n",
    "print(f\"Maximum value along axis-0 : {np.max(a,axis=0)}\")\n",
    "print(f\"Maximum value along axis-1 : {np.max(a,axis=1)}\")"
   ]
  },
  {
   "cell_type": "markdown",
   "id": "8938b5e2",
   "metadata": {},
   "source": [
    "## sum of the elements\n",
    "\n",
    "• np.sum()<br>\n",
    "• a.sum()"
   ]
  },
  {
   "cell_type": "code",
   "execution_count": null,
   "id": "f9e20c13",
   "metadata": {},
   "outputs": [],
   "source": [
    "import numpy as np\n",
    "help(np.sum)"
   ]
  },
  {
   "cell_type": "markdown",
   "id": "7bc4bd60",
   "metadata": {},
   "source": [
    "### 1-D array"
   ]
  },
  {
   "cell_type": "code",
   "execution_count": 19,
   "id": "6f90efb7",
   "metadata": {},
   "outputs": [
    {
     "name": "stdout",
     "output_type": "stream",
     "text": [
      "The array a : [0 1 2 3]\n",
      "sum of elements using np.sum(a) :: 6\n",
      "sum of elements using a.sum() :: 6\n"
     ]
    }
   ],
   "source": [
    "# sum of elements of 1-D array\n",
    "a = np.arange(4)\n",
    "print(f\"The array a : {a}\")\n",
    "print(f\"sum of elements using np.sum(a) :: {np.sum(a)}\")\n",
    "print(f\"sum of elements using a.sum() :: {a.sum()}\")"
   ]
  },
  {
   "cell_type": "markdown",
   "id": "0719c090",
   "metadata": {},
   "source": [
    "### 2-D array\n",
    "• axis=None(default) - The array is flattened to 1-D array and sum is calculated<br>\n",
    "• axis=0 - all rows and sum of each column<br>\n",
    "• axis=1 - all columns and sum of each row<br>\n",
    "\n",
    "<img src=\"images\\stats_3.JPG\" alt=\"insert2d\" width=\"600\" height=\"600\">"
   ]
  },
  {
   "cell_type": "code",
   "execution_count": 20,
   "id": "d89de507",
   "metadata": {},
   "outputs": [
    {
     "name": "stdout",
     "output_type": "stream",
     "text": [
      "array a : \n",
      " [[0 1 2]\n",
      " [3 4 5]\n",
      " [6 7 8]]\n",
      "Sum along axis=None : 36\n",
      "Sum along axis-0 : [ 9 12 15]\n",
      "Sum along axis-1 : [ 3 12 21]\n"
     ]
    }
   ],
   "source": [
    "a = np.arange(9).reshape(3,3)\n",
    "print(f\"array a : \\n {a}\")\n",
    "print(f\"Sum along axis=None : {np.sum(a)}\")\n",
    "print(f\"Sum along axis-0 : {np.sum(a,axis=0)}\")\n",
    "print(f\"Sum along axis-1 : {np.sum(a,axis=1)}\")"
   ]
  },
  {
   "cell_type": "markdown",
   "id": "c45a2a9c",
   "metadata": {},
   "source": [
    "## Mean value\n",
    "\n",
    "• np.mean(a)<br>\n",
    "• a.mean()<br>\n",
    "• Mean is the sum of elements along the specified axis divided by number of elements."
   ]
  },
  {
   "cell_type": "code",
   "execution_count": null,
   "id": "96dfe2cb",
   "metadata": {},
   "outputs": [],
   "source": [
    "import numpy as np\n",
    "help(np.mean)"
   ]
  },
  {
   "cell_type": "markdown",
   "id": "3481e48f",
   "metadata": {},
   "source": [
    "### 1-D array"
   ]
  },
  {
   "cell_type": "code",
   "execution_count": 21,
   "id": "29eadec3",
   "metadata": {},
   "outputs": [
    {
     "name": "stdout",
     "output_type": "stream",
     "text": [
      "1-D array : [0 1 2 3 4]\n",
      "np.mean(a) value : 2.0\n",
      "a.mean() value : 2.0\n"
     ]
    }
   ],
   "source": [
    "a = np.arange(5)\n",
    "print(f\"1-D array : {a}\")\n",
    "print(f\"np.mean(a) value : {np.mean(a)}\")\n",
    "print(f\"a.mean() value : {a.mean()}\")"
   ]
  },
  {
   "cell_type": "markdown",
   "id": "3d13c32d",
   "metadata": {},
   "source": [
    "### 2-D array\n",
    "\n",
    "• axis=None(default) - The array is flattened to 1-D array and find the mean(average) value<br>\n",
    "• axis=0 - rows. Consider columns with all rows and find the average<br>\n",
    "• axis=1 - columns. Consider rows with all columns and find the average<br>\n",
    "\n",
    "<img src=\"images\\stats_4.JPG\" alt=\"insert2d\" width=\"600\" height=\"600\">"
   ]
  },
  {
   "cell_type": "code",
   "execution_count": 22,
   "id": "c8473f25",
   "metadata": {},
   "outputs": [
    {
     "name": "stdout",
     "output_type": "stream",
     "text": [
      "The original 2-D array : \n",
      " [[0 1 2]\n",
      " [3 4 5]\n",
      " [6 7 8]]\n",
      "Mean of the 2-D array along axis=None : 4.0\n",
      "Mean of the 2-D array along axis=0 : [3. 4. 5.]\n",
      "Mean of the 2-D array along axis=1 : [1. 4. 7.]\n"
     ]
    }
   ],
   "source": [
    "# 2-D array mean\n",
    "a = np.arange(9).reshape(3,3)\n",
    "print(f\"The original 2-D array : \\n {a}\")\n",
    "print(f\"Mean of the 2-D array along axis=None : {np.mean(a)}\")\n",
    "print(f\"Mean of the 2-D array along axis=0 : {np.mean(a,axis=0)}\")\n",
    "print(f\"Mean of the 2-D array along axis=1 : {np.mean(a,axis=1)}\")"
   ]
  },
  {
   "cell_type": "markdown",
   "id": "c626e78b",
   "metadata": {},
   "source": [
    "## Median value\n",
    "\n",
    "**np.median(a)**<br>\n",
    "• Median means middle element of the array (sorted form)<br>\n",
    "• If the array contains even number of elements, then the median is the middle element value<br>\n",
    "• If the array contains odd number of elements, then the median is the average of 2 middle element values<br>"
   ]
  },
  {
   "cell_type": "code",
   "execution_count": null,
   "id": "d327896a",
   "metadata": {},
   "outputs": [],
   "source": [
    "import numpy as np\n",
    "help(np.median)"
   ]
  },
  {
   "cell_type": "markdown",
   "id": "6b49c950",
   "metadata": {},
   "source": [
    "### 1-D array"
   ]
  },
  {
   "cell_type": "code",
   "execution_count": 23,
   "id": "979f919d",
   "metadata": {},
   "outputs": [
    {
     "name": "stdout",
     "output_type": "stream",
     "text": [
      "The array with even number of elements : [10 20 30 40]\n",
      "Median of the array with even number of elements : 25.0\n",
      "\n",
      "The array with odd number of elements : [10 20 30 40 50]\n",
      "Median of the array with odd number of elements : 30.0\n"
     ]
    }
   ],
   "source": [
    "a = np.array([10,20,30,40])\n",
    "b = np.array([10,20,30,40,50])\n",
    "print(f\"The array with even number of elements : {a}\")\n",
    "print(f\"Median of the array with even number of elements : {np.median(a)}\")\n",
    "print()\n",
    "print(f\"The array with odd number of elements : {b}\")\n",
    "print(f\"Median of the array with odd number of elements : {np.median(b)}\")"
   ]
  },
  {
   "cell_type": "code",
   "execution_count": 24,
   "id": "2884592b",
   "metadata": {},
   "outputs": [
    {
     "name": "stdout",
     "output_type": "stream",
     "text": [
      "The array with even number of elements(unsorted) : [80 20 60 40]\n",
      "****************************************************************************************************\n",
      "This step is calculated internally \n",
      "sorted form of given array : [20 40 60 80]\n",
      "****************************************************************************************************\n",
      "Median of the array with even number of elements : 50.0\n"
     ]
    }
   ],
   "source": [
    "# unsorted array(even no of elements) will be converted to sorted array and then\n",
    "#median is calculated\n",
    "a = np.array([80,20,60,40])\n",
    "print(f\"The array with even number of elements(unsorted) : {a}\")\n",
    "print(\"*\"*100)\n",
    "print(\"This step is calculated internally \")\n",
    "print(f\"sorted form of given array : {np.sort(a)}\")\n",
    "print(\"*\"*100)\n",
    "print(f\"Median of the array with even number of elements : {np.median(a)}\")"
   ]
  },
  {
   "cell_type": "code",
   "execution_count": 25,
   "id": "e5dcdea0",
   "metadata": {},
   "outputs": [
    {
     "name": "stdout",
     "output_type": "stream",
     "text": [
      "The array with even number of elements(unsorted) : [ 80  20  60  40 100 140 120]\n",
      "****************************************************************************************************\n",
      "This step is calculated internally \n",
      "sorted form of given array : [ 20  40  60  80 100 120 140]\n",
      "****************************************************************************************************\n",
      "Median of the array with even number of elements : 80.0\n"
     ]
    }
   ],
   "source": [
    "# unsorted array(odd no of elements) will be converted to sorted array and then\n",
    "#median is calculated\n",
    "a = np.array([80,20,60,40,100,140,120])\n",
    "print(f\"The array with even number of elements(unsorted) : {a}\")\n",
    "print(\"*\"*100)\n",
    "print(\"This step is calculated internally \")\n",
    "print(f\"sorted form of given array : {np.sort(a)}\")\n",
    "print(\"*\"*100)\n",
    "print(f\"Median of the array with even number of elements : {np.median(a)}\")"
   ]
  },
  {
   "cell_type": "markdown",
   "id": "cdac2cae",
   "metadata": {},
   "source": [
    "### 2-D array\n",
    "• axis=None(default) - The array is flattened to 1-D array(sorted) and find the median value<br>\n",
    "• axis=0 - rows. Consider columns with all rows and find the median<br>\n",
    "• axis=1 - columns. Consider rows with all columns and find the median<br>\n",
    "\n",
    "<img src=\"images\\stats_5.JPG\" alt=\"insert2d\" width=\"600\" height=\"600\">"
   ]
  },
  {
   "cell_type": "code",
   "execution_count": 26,
   "id": "1b666a70",
   "metadata": {},
   "outputs": [
    {
     "name": "stdout",
     "output_type": "stream",
     "text": [
      "The original 2-D array(already sorted) : \n",
      " [[0 1 2]\n",
      " [3 4 5]\n",
      " [6 7 8]]\n",
      "Mean of the 2-D array along axis=None : 4.0\n",
      "Mean of the 2-D array along axis=0 : [3. 4. 5.]\n",
      "Mean of the 2-D array along axis=1 : [1. 4. 7.]\n"
     ]
    }
   ],
   "source": [
    "# 2-D array median\n",
    "a = np.arange(9).reshape(3,3)\n",
    "print(f\"The original 2-D array(already sorted) : \\n {a}\")\n",
    "print(f\"Mean of the 2-D array along axis=None : {np.median(a)}\")\n",
    "print(f\"Mean of the 2-D array along axis=0 : {np.median(a,axis=0)}\")\n",
    "print(f\"Mean of the 2-D array along axis=1 : {np.median(a,axis=1)}\")"
   ]
  },
  {
   "cell_type": "markdown",
   "id": "74d6c8e0",
   "metadata": {},
   "source": [
    "<img src=\"images\\stats_6.JPG\" alt=\"insert2d\" width=\"600\" height=\"600\">"
   ]
  },
  {
   "cell_type": "code",
   "execution_count": 27,
   "id": "ace17088",
   "metadata": {},
   "outputs": [
    {
     "name": "stdout",
     "output_type": "stream",
     "text": [
      "The original 2-D array(unsorted) : \n",
      " [[22 55 88]\n",
      " [11 44 55]\n",
      " [33 66 99]]\n",
      "Mean of the 2-D array along axis=None : 55.0\n",
      "Mean of the 2-D array along axis=0 : [22. 55. 88.]\n",
      "Mean of the 2-D array along axis=1 : [55. 44. 66.]\n"
     ]
    }
   ],
   "source": [
    "# 2-D array median ==> unsorted elements\n",
    "a = np.array([[22,55,88],[11,44,55],[33,66,99]])\n",
    "print(f\"The original 2-D array(unsorted) : \\n {a}\")\n",
    "print(f\"Mean of the 2-D array along axis=None : {np.median(a)}\")\n",
    "print(f\"Mean of the 2-D array along axis=0 : {np.median(a,axis=0)}\")\n",
    "print(f\"Mean of the 2-D array along axis=1 : {np.median(a,axis=1)}\")"
   ]
  },
  {
   "cell_type": "markdown",
   "id": "d5f14971",
   "metadata": {},
   "source": [
    "<img src=\"images\\stats_7.JPG\" alt=\"insert2d\" width=\"600\" height=\"600\">"
   ]
  },
  {
   "cell_type": "code",
   "execution_count": 28,
   "id": "6eb09354",
   "metadata": {},
   "outputs": [
    {
     "name": "stdout",
     "output_type": "stream",
     "text": [
      "The original 2-D array(unsorted) : \n",
      " [[8 1 4]\n",
      " [3 5 2]\n",
      " [0 7 6]]\n",
      "Mean of the 2-D array along axis=None : 4.0\n",
      "Mean of the 2-D array along axis=0 : [3. 5. 4.]\n",
      "Mean of the 2-D array along axis=1 : [4. 3. 6.]\n"
     ]
    }
   ],
   "source": [
    "# 2-D array median ==> unsorted elements using shuffle\n",
    "a = np.arange(9)\n",
    "np.random.shuffle(a)\n",
    "a = a.reshape(3,3)\n",
    "print(f\"The original 2-D array(unsorted) : \\n {a}\")\n",
    "print(f\"Mean of the 2-D array along axis=None : {np.median(a)}\")\n",
    "print(f\"Mean of the 2-D array along axis=0 : {np.median(a,axis=0)}\")\n",
    "print(f\"Mean of the 2-D array along axis=1 : {np.median(a,axis=1)}\")"
   ]
  },
  {
   "cell_type": "markdown",
   "id": "70b4841b",
   "metadata": {},
   "source": [
    "## Variance value\n",
    "\n",
    "**np.var(a)<br>\n",
    "a.var()**<br>\n",
    "\n",
    "The variance is a measure of variability. It is calculated by taking the average of squared deviations from the mean.<br>\n",
    "\n",
    "**• average of<br>\n",
    "• squared<br>\n",
    "• deviations from the mean.**<br>\n",
    "\n",
    "<img src=\"images\\stats_8.JPG\" alt=\"insert2d\" width=\"600\" height=\"600\">"
   ]
  },
  {
   "cell_type": "code",
   "execution_count": null,
   "id": "48cfaa10",
   "metadata": {},
   "outputs": [],
   "source": [
    "import numpy as np\n",
    "help(np.var)"
   ]
  },
  {
   "cell_type": "markdown",
   "id": "7e775858",
   "metadata": {},
   "source": [
    "### 1-D array"
   ]
  },
  {
   "cell_type": "code",
   "execution_count": 29,
   "id": "328eddf1",
   "metadata": {},
   "outputs": [
    {
     "name": "stdout",
     "output_type": "stream",
     "text": [
      "Original 1-D array : [1 2 3 4 5]\n",
      "Variance of 1-D array unsing np.var(a): 2.0\n",
      "Variance of 1-D array unsing a.var(): 2.0\n"
     ]
    }
   ],
   "source": [
    "a = np.array([1,2,3,4,5])\n",
    "print(f\"Original 1-D array : {a}\")\n",
    "print(f\"Variance of 1-D array unsing np.var(a): {np.var(a)}\")\n",
    "print(f\"Variance of 1-D array unsing a.var(): {a.var()}\")"
   ]
  },
  {
   "cell_type": "markdown",
   "id": "38c593e9",
   "metadata": {},
   "source": [
    "### 2-D array\n",
    "\n",
    "• axis=None(default) - The array is flattened to 1-D array(sorted) and find the variance value<br>\n",
    "• axis=0 - rows. Consider columns with all rows and find the variance<br>\n",
    "• axis=1 - columns. Consider rows with all columns and find the variance"
   ]
  },
  {
   "cell_type": "code",
   "execution_count": 30,
   "id": "65bad5f6",
   "metadata": {},
   "outputs": [
    {
     "name": "stdout",
     "output_type": "stream",
     "text": [
      "Original 2-D array :\n",
      " [[0 1 2]\n",
      " [3 4 5]]\n",
      "Variance of 2-D array using np.var(a) along axis=None: 2.9166666666666665\n",
      "Variance of 2-D array using np.var(a) along axis=0: [2.25 2.25 2.25]\n",
      "Variance of 2-D array using np.var(a) along axis=1: [0.66666667 0.66666667]\n"
     ]
    }
   ],
   "source": [
    "a = np.arange(6).reshape(2,3)\n",
    "print(f\"Original 2-D array :\\n {a}\")\n",
    "print(f\"Variance of 2-D array using np.var(a) along axis=None: {np.var(a)}\")\n",
    "print(f\"Variance of 2-D array using np.var(a) along axis=0: {np.var(a,axis=0)}\")\n",
    "print(f\"Variance of 2-D array using np.var(a) along axis=1: {np.var(a,axis=1)}\")"
   ]
  },
  {
   "cell_type": "markdown",
   "id": "0ec242d3",
   "metadata": {},
   "source": [
    "## Standard Deviation value\n",
    "\n",
    "• **np.std(a)<br>\n",
    "• a.std()**<br>\n",
    "• Variance means the average of squares of deviations from the mean.<br>\n",
    "• Standard deviation is the **square root of the variance**."
   ]
  },
  {
   "cell_type": "markdown",
   "id": "b1b14883",
   "metadata": {},
   "source": [
    "### 1-D array"
   ]
  },
  {
   "cell_type": "code",
   "execution_count": 31,
   "id": "35aba06f",
   "metadata": {},
   "outputs": [
    {
     "name": "stdout",
     "output_type": "stream",
     "text": [
      "Original 1-D array : [1 2 3 4 5]\n",
      "Variance of 1-D array unsing np.var(a): 2.0\n",
      "Standard Deviation of 1-D array unsing np.std(a): 1.4142135623730951\n",
      "Square root of Variannce : 1.4142135623730951\n"
     ]
    }
   ],
   "source": [
    "import math\n",
    "a = np.array([1,2,3,4,5])\n",
    "print(f\"Original 1-D array : {a}\")\n",
    "print(f\"Variance of 1-D array unsing np.var(a): {np.var(a)}\")\n",
    "print(f\"Standard Deviation of 1-D array unsing np.std(a): {np.std(a)}\")\n",
    "print(f\"Square root of Variannce : {math.sqrt(np.var(a))}\")"
   ]
  },
  {
   "cell_type": "markdown",
   "id": "893b04e6",
   "metadata": {},
   "source": [
    "### 2-D array"
   ]
  },
  {
   "cell_type": "code",
   "execution_count": 32,
   "id": "21ace0bb",
   "metadata": {},
   "outputs": [
    {
     "name": "stdout",
     "output_type": "stream",
     "text": [
      "Original 2-D array :\n",
      " [[0 1 2]\n",
      " [3 4 5]]\n",
      "****************************************************************************************************\n",
      "Variance of 2-D array using np.var(a) along axis=None: 2.9166666666666665\n",
      "Standard Deviation of 2-D array using np.std(a) along axis=None: 1.707825127659933\n",
      "Square root of Variannce : 1.707825127659933\n",
      "****************************************************************************************************\n",
      "Variance of 2-D array using np.var(a) along axis=0: [2.25 2.25 2.25]\n",
      "Standard Deviation of 2-D array using np.std(a) along axis=0:[1.5 1.5 1.5]\n",
      "****************************************************************************************************\n",
      "Variance of 2-D array using np.var(a) along axis=1: [0.66666667 0.66666667]\n",
      "Standard Deviation of 2-D array using np.std(a) along axis=1:[0.81649658 0.81649658]\n",
      "****************************************************************************************************\n"
     ]
    }
   ],
   "source": [
    "import math\n",
    "a = np.arange(6).reshape(2,3)\n",
    "print(f\"Original 2-D array :\\n {a}\")\n",
    "print(\"*\"*100)\n",
    "print(f\"Variance of 2-D array using np.var(a) along axis=None: {np.var(a)}\")\n",
    "print(f\"Standard Deviation of 2-D array using np.std(a) along axis=None: {np.std(a)}\")\n",
    "print(f\"Square root of Variannce : {math.sqrt(np.var(a))}\")\n",
    "print(\"*\"*100)\n",
    "print(f\"Variance of 2-D array using np.var(a) along axis=0: {np.var(a,axis=0)}\")\n",
    "print(f\"Standard Deviation of 2-D array using np.std(a) along axis=0:{np.std(a,axis=0)}\")\n",
    "print(\"*\"*100)\n",
    "print(f\"Variance of 2-D array using np.var(a) along axis=1: {np.var(a,axis=1)}\")\n",
    "print(f\"Standard Deviation of 2-D array using np.std(a) along axis=1:{np.std(a,axis=1)}\")\n",
    "print(\"*\"*100)"
   ]
  },
  {
   "cell_type": "markdown",
   "id": "06e15711",
   "metadata": {},
   "source": [
    "## Summary\n",
    "\n",
    "| Function                  | Description                                        |\n",
    "|---------------------------|----------------------------------------------------|\n",
    "| `np.min(a)/np.amin(a)/a.min()` | Returns the minimum value of the array           |\n",
    "| `np.max(a)/np.amax(a)/a.max()` | Returns the maximum value of the array           |\n",
    "| `np.sum(a)/a.sum()`           | Returns the Sum of values of the array            |\n",
    "| `np.mean(a)/a.mean()`         | Returns the arithmetic mean of the array          |\n",
    "| `np.median(a)`                | Returns median value of the array                 |\n",
    "| `np.var(a)/a.var()`           | Returns variance of the values in the array       |\n",
    "| `np.std(a)/a.std()`           | Returns Standard deviation of the values in the array |"
   ]
  },
  {
   "cell_type": "markdown",
   "id": "4a352425",
   "metadata": {},
   "source": [
    "# Chapter-21 - Numpy Mathematical Functions"
   ]
  },
  {
   "cell_type": "markdown",
   "id": "63f014c6",
   "metadata": {},
   "source": [
    "## Numpy Mathematical Functions\n",
    "\n",
    "• The functions which operates element by element on whole array, are called **universal functions**.<br>\n",
    "• To perform mathematical operations numpy library contains several universal functions (ufunc).<br>\n",
    "\n",
    "| Function      | Description                                   | Example Value              |\n",
    "|---------------|-----------------------------------------------|----------------------------|\n",
    "| `np.exp(a)`   | Takes e to the power of each value            | e value: 2.7182            |\n",
    "| `np.sqrt(a)`  | Returns square root of each value             |                            |\n",
    "| `np.log(a)`   | Returns logarithm of each value               |                            |\n",
    "| `np.sin(a)`   | Returns the sine of each value                |                            |\n",
    "| `np.cos(a)`   | Returns the co-sine of each value             |                            |\n",
    "| `np.tan(a)`   | Returns the tangent of each value             |                            |"
   ]
  },
  {
   "cell_type": "code",
   "execution_count": 33,
   "id": "896aafdf",
   "metadata": {},
   "outputs": [
    {
     "name": "stdout",
     "output_type": "stream",
     "text": [
      "np.exp(a) value :\n",
      " [[ 2.71828183  7.3890561 ]\n",
      " [20.08553692 54.59815003]]\n",
      "Value of e power 1 ==> 2.718281828459045 \n",
      "Value of e power 2 ==> 7.38905609893065 \n",
      "Value of e power 3 ==> 20.085536923187668 \n",
      "Value of e power 4 ==> 54.598150033144236 \n"
     ]
    }
   ],
   "source": [
    "import numpy as np\n",
    "import math\n",
    "a = np.array([[1,2],[3,4]])\n",
    "print(f\"np.exp(a) value :\\n {np.exp(a)}\")\n",
    "print(f\"Value of e power 1 ==> {math.exp(1)} \")\n",
    "print(f\"Value of e power 2 ==> {math.exp(2)} \")\n",
    "print(f\"Value of e power 3 ==> {math.exp(3)} \")\n",
    "print(f\"Value of e power 4 ==> {math.exp(4)} \")"
   ]
  },
  {
   "cell_type": "code",
   "execution_count": 34,
   "id": "902c3dcc",
   "metadata": {},
   "outputs": [
    {
     "name": "stdout",
     "output_type": "stream",
     "text": [
      "exp() on a ==> [ 1.          2.71828183  7.3890561  20.08553692 54.59815003]\n",
      "sqrt() on a ==> [0.         1.         1.41421356 1.73205081 2.        ]\n",
      "sin() on a ==> [ 0.          0.84147098  0.90929743  0.14112001 -0.7568025 ]\n",
      "cos() on a ==> [ 1.          0.54030231 -0.41614684 -0.9899925  -0.65364362]\n",
      "tan() on a ==> [ 0.          1.55740772 -2.18503986 -0.14254654  1.15782128]\n",
      "log() on a :[      -inf 0.         0.69314718 1.09861229 1.38629436]\n"
     ]
    },
    {
     "name": "stderr",
     "output_type": "stream",
     "text": [
      "C:\\Users\\saurabhkumar9\\AppData\\Local\\Temp\\ipykernel_1380\\1298094331.py:8: RuntimeWarning: divide by zero encountered in log\n",
      "  print(f\"log() on a :{np.log(a)}\")\n"
     ]
    }
   ],
   "source": [
    "# Mathematical functions\n",
    "a = np.arange(5)\n",
    "print(f\"exp() on a ==> {np.exp(a)}\")\n",
    "print(f\"sqrt() on a ==> {np.sqrt(a)}\")\n",
    "print(f\"sin() on a ==> { np.sin(a)}\")\n",
    "print(f\"cos() on a ==> {np.cos(a)}\")\n",
    "print(f\"tan() on a ==> {np.tan(a)}\")\n",
    "print(f\"log() on a :{np.log(a)}\")"
   ]
  },
  {
   "cell_type": "markdown",
   "id": "915db8b0",
   "metadata": {},
   "source": [
    "# Chapter-22 - How to find unique items and count"
   ]
  },
  {
   "cell_type": "markdown",
   "id": "29a5288d",
   "metadata": {},
   "source": [
    "**How to find unique items and count**<br>\n",
    "\n",
    "using unique() function we can find the unique items and their count in ndarray\n",
    "<br>\n",
    "**unique(ar, return_index=False, return_inverse=False, return_counts=False, axis=None) ==> Find the unique elements of an array.**<br>\n",
    "\n",
    "**Returns the sorted unique elements of an array.** <br>\n",
    "\n",
    "**There are three optional outputs in addition to the unique elements:**<br>\n",
    "• the indices of the input array that give the unique values ==> return_index<br>\n",
    "• the indices of the unique array that reconstruct the input array<br>\n",
    "• the number of times each unique value comes up in the input array ==>return_counts<br>"
   ]
  },
  {
   "cell_type": "code",
   "execution_count": null,
   "id": "862ea548",
   "metadata": {},
   "outputs": [],
   "source": [
    "import numpy as np\n",
    "help(np.unique)"
   ]
  },
  {
   "cell_type": "markdown",
   "id": "08932de2",
   "metadata": {},
   "source": [
    "## Get array with unique elements"
   ]
  },
  {
   "cell_type": "code",
   "execution_count": 35,
   "id": "a03d24c7",
   "metadata": {},
   "outputs": [
    {
     "name": "stdout",
     "output_type": "stream",
     "text": [
      "Original array : [1 1 2 3 4 2 3 4 4 1 2 3 4 5 5 6]\n",
      "Unique elements in the array using np.unique(a) : [1 2 3 4 5 6]\n"
     ]
    }
   ],
   "source": [
    "a = np.array([1,1,2,3,4,2,3,4,4,1,2,3,4,5,5,6])\n",
    "print(f\"Original array : {a}\")\n",
    "print(f\"Unique elements in the array using np.unique(a) : {np.unique(a)}\")"
   ]
  },
  {
   "cell_type": "markdown",
   "id": "a2a1f2fb",
   "metadata": {},
   "source": [
    "## Get indices also"
   ]
  },
  {
   "cell_type": "code",
   "execution_count": 36,
   "id": "795801e9",
   "metadata": {},
   "outputs": [
    {
     "name": "stdout",
     "output_type": "stream",
     "text": [
      "Original array : [1 1 2 3 4 2 3 4 4 1 2 3 4 5 5 6]\n",
      "Unique Elements :[1 2 3 4 5 6]\n",
      "indices of unique elements: [ 0  2  3  4 13 15]\n"
     ]
    }
   ],
   "source": [
    "a = np.array([1,1,2,3,4,2,3,4,4,1,2,3,4,5,5,6])\n",
    "items,indices = np.unique(a,return_index=True)\n",
    "print(f\"Original array : {a}\")\n",
    "print(f\"Unique Elements :{items}\")\n",
    "print(f\"indices of unique elements: {indices}\")"
   ]
  },
  {
   "cell_type": "markdown",
   "id": "23c611c1",
   "metadata": {},
   "source": [
    "## To get count also"
   ]
  },
  {
   "cell_type": "code",
   "execution_count": 37,
   "id": "9a8ba138",
   "metadata": {},
   "outputs": [
    {
     "name": "stdout",
     "output_type": "stream",
     "text": [
      "Original array : [1 1 2 3 4 2 3 4 4 1 2 3 4 5 5 6]\n",
      "Unique Elements :[1 2 3 4 5 6]\n",
      "count of unique elements: [3 3 3 4 2 1]\n"
     ]
    }
   ],
   "source": [
    "a = np.array([1,1,2,3,4,2,3,4,4,1,2,3,4,5,5,6])\n",
    "items,counts = np.unique(a,return_counts=True)\n",
    "print(f\"Original array : {a}\")\n",
    "print(f\"Unique Elements :{items}\")\n",
    "print(f\"count of unique elements: {counts}\")"
   ]
  },
  {
   "cell_type": "markdown",
   "id": "42d6eea7",
   "metadata": {},
   "source": [
    "## To get all"
   ]
  },
  {
   "cell_type": "code",
   "execution_count": 38,
   "id": "2e6eec55",
   "metadata": {},
   "outputs": [
    {
     "name": "stdout",
     "output_type": "stream",
     "text": [
      "Original array : [1 1 2 3 4 2 3 4 4 1 2 3 4 5 5 6]\n",
      "Unique Elements :[1 2 3 4 5 6]\n",
      "indices of unique elements: [ 0  2  3  4 13 15]\n",
      "count of unique elements: [3 3 3 4 2 1]\n"
     ]
    }
   ],
   "source": [
    "a = np.array([1,1,2,3,4,2,3,4,4,1,2,3,4,5,5,6])\n",
    "items,indices,counts = np.unique(a,return_index=True,return_counts=True)\n",
    "print(f\"Original array : {a}\")\n",
    "print(f\"Unique Elements :{items}\")\n",
    "print(f\"indices of unique elements: {indices}\")\n",
    "print(f\"count of unique elements: {counts}\")"
   ]
  },
  {
   "cell_type": "code",
   "execution_count": 39,
   "id": "be0e1a23",
   "metadata": {},
   "outputs": [
    {
     "name": "stdout",
     "output_type": "stream",
     "text": [
      "Element 'a' occurred 5 times and its first occurrence index:0\n",
      "Element 'b' occurred 3 times and its first occurrence index:2\n",
      "Element 'c' occurred 2 times and its first occurrence index:3\n",
      "Element 'd' occurred 1 times and its first occurrence index:10\n"
     ]
    }
   ],
   "source": [
    "# To get all in a program\n",
    "import numpy as np\n",
    "a = np.array(['a','a','b','c','a','a','b','c','a','b','d'])\n",
    "items,indices,counts = np.unique(a,return_index=True,return_counts=True)\n",
    "for item,index,count in zip(np.nditer(items),np.nditer(indices),np.nditer(counts)):\n",
    "    print(f\"Element '{item}' occurred {count} times and its first occurrence index:{index}\")"
   ]
  }
 ],
 "metadata": {
  "hide_input": false,
  "kernelspec": {
   "display_name": "Python 3 (ipykernel)",
   "language": "python",
   "name": "python3"
  },
  "language_info": {
   "codemirror_mode": {
    "name": "ipython",
    "version": 3
   },
   "file_extension": ".py",
   "mimetype": "text/x-python",
   "name": "python",
   "nbconvert_exporter": "python",
   "pygments_lexer": "ipython3",
   "version": "3.9.13"
  },
  "toc": {
   "base_numbering": 1,
   "nav_menu": {},
   "number_sections": true,
   "sideBar": true,
   "skip_h1_title": false,
   "title_cell": "Table of Contents",
   "title_sidebar": "Contents",
   "toc_cell": false,
   "toc_position": {},
   "toc_section_display": true,
   "toc_window_display": true
  }
 },
 "nbformat": 4,
 "nbformat_minor": 5
}
