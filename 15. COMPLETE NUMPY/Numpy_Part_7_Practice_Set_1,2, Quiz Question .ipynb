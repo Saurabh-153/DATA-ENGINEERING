{
 "cells": [
  {
   "cell_type": "markdown",
   "id": "66acc034",
   "metadata": {},
   "source": [
    "# Chapter-23 - Numpy Practice Quesions Set-1"
   ]
  },
  {
   "cell_type": "markdown",
   "id": "504bc89b",
   "metadata": {},
   "source": [
    "## Q1. Create an array of 7 zeros?"
   ]
  },
  {
   "cell_type": "code",
   "execution_count": 1,
   "id": "a4cde7a8",
   "metadata": {},
   "outputs": [
    {
     "name": "stdout",
     "output_type": "stream",
     "text": [
      "Array of 7 zeros using np.zeros(7) : [0. 0. 0. 0. 0. 0. 0.]\n",
      "Array of 7 zeros using np.zeros(7,dtype=int) : [0 0 0 0 0 0 0]\n",
      "Array of 7 zeros using np.full(7,0) : [0 0 0 0 0 0 0]\n"
     ]
    }
   ],
   "source": [
    "import numpy as np\n",
    "# np.zeros(7)\n",
    "# np.zeros(7,dtype=int)\n",
    "# np.full(7,0)\n",
    "print(f\"Array of 7 zeros using np.zeros(7) : {np.zeros(7)}\")\n",
    "print(f\"Array of 7 zeros using np.zeros(7,dtype=int) : {np.zeros(7,dtype=int)}\")\n",
    "print(f\"Array of 7 zeros using np.full(7,0) : {np.full(7,0)}\")"
   ]
  },
  {
   "cell_type": "markdown",
   "id": "46521067",
   "metadata": {},
   "source": [
    "## Create an array of 9 ones?"
   ]
  },
  {
   "cell_type": "code",
   "execution_count": 2,
   "id": "b2718cbd",
   "metadata": {},
   "outputs": [
    {
     "name": "stdout",
     "output_type": "stream",
     "text": [
      "Array of 9 ones using np.ones(9) : [1. 1. 1. 1. 1. 1. 1. 1. 1.]\n",
      "Array of 9 ones using np.ones(9,dtype=int) : [1 1 1 1 1 1 1 1 1]\n",
      "Array of 9 ones using np.full(9,1) : [1 1 1 1 1 1 1 1 1]\n"
     ]
    }
   ],
   "source": [
    "# np.ones(9)\n",
    "# np.ones(9,dtype=int)\n",
    "# np.full(9,1)\n",
    "print(f\"Array of 9 ones using np.ones(9) : {np.ones(9)}\")\n",
    "print(f\"Array of 9 ones using np.ones(9,dtype=int) : {np.ones(9,dtype=int)}\")\n",
    "print(f\"Array of 9 ones using np.full(9,1) : {np.full(9,1)}\")"
   ]
  },
  {
   "cell_type": "markdown",
   "id": "39aff29b",
   "metadata": {},
   "source": [
    "## Q3. Create an array of 10 fours?"
   ]
  },
  {
   "cell_type": "code",
   "execution_count": 3,
   "id": "497a62f4",
   "metadata": {},
   "outputs": [
    {
     "name": "stdout",
     "output_type": "stream",
     "text": [
      "[4 4 4 4 4 4 4 4 4 4]\n",
      "[4 4 4 4 4 4 4 4 4 4]\n",
      "[4 4 4 4 4 4 4 4 4 4]\n"
     ]
    }
   ],
   "source": [
    "# np.full(10,4)\n",
    "# np.zeros(10,dtype=int)+4\n",
    "# np.ones(10,dtype=int)+3\n",
    "print(np.full(10,4))\n",
    "print(np.zeros(10,dtype=int)+4)\n",
    "print(np.ones(10,dtype=int)+3)"
   ]
  },
  {
   "cell_type": "markdown",
   "id": "9c8120cd",
   "metadata": {},
   "source": [
    "## Q4. Create an array of integers from 10 to 40?"
   ]
  },
  {
   "cell_type": "code",
   "execution_count": 4,
   "id": "7aef337a",
   "metadata": {},
   "outputs": [
    {
     "name": "stdout",
     "output_type": "stream",
     "text": [
      "[10 11 12 13 14 15 16 17 18 19 20 21 22 23 24 25 26 27 28 29 30 31 32 33\n",
      " 34 35 36 37 38 39 40]\n"
     ]
    }
   ],
   "source": [
    "print(np.arange(10,41))"
   ]
  },
  {
   "cell_type": "markdown",
   "id": "6742b806",
   "metadata": {},
   "source": [
    "## Q5. Create an array of integers from 10 to 40 which are even?"
   ]
  },
  {
   "cell_type": "code",
   "execution_count": 6,
   "id": "110c0e7c",
   "metadata": {},
   "outputs": [
    {
     "data": {
      "text/plain": [
       "array([10, 12, 14, 16, 18, 20, 22, 24, 26, 28, 30, 32, 34, 36, 38, 40])"
      ]
     },
     "execution_count": 6,
     "metadata": {},
     "output_type": "execute_result"
    }
   ],
   "source": [
    "np.arange(10,41,2)"
   ]
  },
  {
   "cell_type": "markdown",
   "id": "f229ba9b",
   "metadata": {},
   "source": [
    "## Q6. Create an array of integers from 10 to 40 which are odd?"
   ]
  },
  {
   "cell_type": "code",
   "execution_count": 7,
   "id": "1c77d4c2",
   "metadata": {},
   "outputs": [
    {
     "data": {
      "text/plain": [
       "array([11, 13, 15, 17, 19, 21, 23, 25, 27, 29, 31, 33, 35, 37, 39])"
      ]
     },
     "execution_count": 7,
     "metadata": {},
     "output_type": "execute_result"
    }
   ],
   "source": [
    "np.arange(11,41,2)"
   ]
  },
  {
   "cell_type": "markdown",
   "id": "6052eb2a",
   "metadata": {},
   "source": [
    "## Q7. Create an array of integers from 10 to 40 which are divisible by 7?"
   ]
  },
  {
   "cell_type": "code",
   "execution_count": 12,
   "id": "84361038",
   "metadata": {},
   "outputs": [
    {
     "name": "stdout",
     "output_type": "stream",
     "text": [
      "[14 21 28 35]\n",
      "[10 11 12 13 14 15 16 17 18 19 20 21 22 23 24 25 26 27 28 29 30 31 32 33\n",
      " 34 35 36 37 38 39 40]\n",
      "[14 21 28 35]\n"
     ]
    }
   ],
   "source": [
    "# 1st way:\n",
    "print(np.arange(14,41,7))\n",
    "\n",
    "# 2nd way:\n",
    "a = np.arange(10,41)\n",
    "print(a)\n",
    "print(a[a%7==0])"
   ]
  },
  {
   "cell_type": "markdown",
   "id": "eda8dc0e",
   "metadata": {},
   "source": [
    "## Q8. Create a numpy array having 10 numbers starts from 24 but only even numbers?"
   ]
  },
  {
   "cell_type": "code",
   "execution_count": 11,
   "id": "bc97b039",
   "metadata": {},
   "outputs": [
    {
     "name": "stdout",
     "output_type": "stream",
     "text": [
      "using np.arange(24,43,2): [24 26 28 30 32 34 36 38 40 42]\n",
      "using np.resize(a,10) : [24 26 28 30 32 34 36 38 40 42]\n"
     ]
    }
   ],
   "source": [
    "# 1st way:\n",
    "print(f\"using np.arange(24,43,2): {np.arange(24,43,2)}\")\n",
    "\n",
    "# 2nd way:\n",
    "a = np.arange(24,50)\n",
    "a = a[a%2==0]\n",
    "print(f\"using np.resize(a,10) : {np.resize(a,10)}\")"
   ]
  },
  {
   "cell_type": "markdown",
   "id": "d375aa7f",
   "metadata": {},
   "source": [
    "## Q9. Create a 4X4 matrix with elements from 1 to 16?"
   ]
  },
  {
   "cell_type": "code",
   "execution_count": 15,
   "id": "4b29ac75",
   "metadata": {},
   "outputs": [
    {
     "data": {
      "text/plain": [
       "array([[ 1,  2,  3,  4],\n",
       "       [ 5,  6,  7,  8],\n",
       "       [ 9, 10, 11, 12],\n",
       "       [13, 14, 15, 16]])"
      ]
     },
     "execution_count": 15,
     "metadata": {},
     "output_type": "execute_result"
    }
   ],
   "source": [
    "np.arange(1,17).reshape(4,4)"
   ]
  },
  {
   "cell_type": "markdown",
   "id": "3096cf4a",
   "metadata": {},
   "source": [
    "## Q10. Create a 4X4 identity matrix?"
   ]
  },
  {
   "cell_type": "code",
   "execution_count": 16,
   "id": "34f5093b",
   "metadata": {},
   "outputs": [
    {
     "name": "stdout",
     "output_type": "stream",
     "text": [
      "using np.eye(4) : \n",
      " [[1. 0. 0. 0.]\n",
      " [0. 1. 0. 0.]\n",
      " [0. 0. 1. 0.]\n",
      " [0. 0. 0. 1.]]\n",
      "using np.identity(4) :\n",
      " [[1. 0. 0. 0.]\n",
      " [0. 1. 0. 0.]\n",
      " [0. 0. 1. 0.]\n",
      " [0. 0. 0. 1.]]\n"
     ]
    }
   ],
   "source": [
    "print(f\"using np.eye(4) : \\n {np.eye(4)}\")\n",
    "print(f\"using np.identity(4) :\\n {np.identity(4)}\")"
   ]
  },
  {
   "cell_type": "markdown",
   "id": "86d110fa",
   "metadata": {},
   "source": [
    "## Q11. By using numpy module, generate ndarray with random numbers from 1 to 100 with the shape:(2,3,4)?"
   ]
  },
  {
   "cell_type": "code",
   "execution_count": 17,
   "id": "64cd30a9",
   "metadata": {},
   "outputs": [
    {
     "data": {
      "text/plain": [
       "array([[[50, 54, 80, 25],\n",
       "        [76, 76, 10, 23],\n",
       "        [97, 28,  1, 33]],\n",
       "\n",
       "       [[43, 78, 44, 46],\n",
       "        [69, 12, 38, 70],\n",
       "        [25,  1, 82, 31]]])"
      ]
     },
     "execution_count": 17,
     "metadata": {},
     "output_type": "execute_result"
    }
   ],
   "source": [
    "np.random.randint(1,101,size=(2,3,4))"
   ]
  },
  {
   "cell_type": "markdown",
   "id": "dbe20c4c",
   "metadata": {},
   "source": [
    "## Q12. By using numpy module, generate a random number between 0 and 1?"
   ]
  },
  {
   "cell_type": "code",
   "execution_count": 18,
   "id": "5a1b12c0",
   "metadata": {},
   "outputs": [
    {
     "data": {
      "text/plain": [
       "0.14872545200345866"
      ]
     },
     "execution_count": 18,
     "metadata": {},
     "output_type": "execute_result"
    }
   ],
   "source": [
    "np.random.rand()"
   ]
  },
  {
   "cell_type": "markdown",
   "id": "2d7d823c",
   "metadata": {},
   "source": [
    "## Q13. By using numpy module, generate an array of 10 random samples from a uniform distribution over [0,1)?"
   ]
  },
  {
   "cell_type": "code",
   "execution_count": 19,
   "id": "0e0e6ff9",
   "metadata": {},
   "outputs": [
    {
     "data": {
      "text/plain": [
       "array([0.04410494, 0.99281805, 0.86596311, 0.63254419, 0.53836484,\n",
       "       0.62971424, 0.15492951, 0.80546328, 0.07944047, 0.67682372])"
      ]
     },
     "execution_count": 19,
     "metadata": {},
     "output_type": "execute_result"
    }
   ],
   "source": [
    "np.random.rand(10)"
   ]
  },
  {
   "cell_type": "markdown",
   "id": "cc2afc6d",
   "metadata": {},
   "source": [
    "## Q14. By using numpy module, generate an array of 10 random samples from a uniform distribution over [10,20)?"
   ]
  },
  {
   "cell_type": "code",
   "execution_count": 20,
   "id": "0de48e24",
   "metadata": {},
   "outputs": [
    {
     "data": {
      "text/plain": [
       "array([10.13827107, 13.62529954, 10.93040852, 16.64554335, 19.40447865,\n",
       "       13.83889201, 11.6213692 , 10.85964281, 11.84565738, 11.06253163])"
      ]
     },
     "execution_count": 20,
     "metadata": {},
     "output_type": "execute_result"
    }
   ],
   "source": [
    "# np.random.uniform(low=0.0,high=1.0,size=None)\n",
    "np.random.uniform(10,20,10)"
   ]
  },
  {
   "cell_type": "markdown",
   "id": "981b6845",
   "metadata": {},
   "source": [
    "## Q15. By using numpy module, generate an array of 10 random samples from a standard normal distribution of mean 0 and standard deviation 1?"
   ]
  },
  {
   "cell_type": "code",
   "execution_count": 21,
   "id": "4f760bb5",
   "metadata": {},
   "outputs": [
    {
     "data": {
      "text/plain": [
       "array([-0.18138902,  0.4065823 , -1.58697766,  0.58668406, -1.65045796,\n",
       "       -1.03464804, -0.81783782, -1.99665034,  0.27058323,  0.30286414])"
      ]
     },
     "execution_count": 21,
     "metadata": {},
     "output_type": "execute_result"
    }
   ],
   "source": [
    "np.random.randn(10)"
   ]
  },
  {
   "cell_type": "markdown",
   "id": "cc2ab6ee",
   "metadata": {},
   "source": [
    "## Q16. By using numpy module, generate an array of 10 random samples from a standard normal distribution of mean 15 and and stadard deviation 4?"
   ]
  },
  {
   "cell_type": "code",
   "execution_count": 22,
   "id": "08830abb",
   "metadata": {},
   "outputs": [
    {
     "data": {
      "text/plain": [
       "array([20.36439847, 22.02578084, 17.95415554, 12.19892251, 14.30547671,\n",
       "       16.85168322, 13.92844455, 12.10299385, 12.35731225, 11.66229273])"
      ]
     },
     "execution_count": 22,
     "metadata": {},
     "output_type": "execute_result"
    }
   ],
   "source": [
    "# normal(loc=0.0, scale=1.0, size=None)\n",
    "# loc--->mean\n",
    "# scale--->standard deviation\n",
    "a = np.random.normal(15,4,10)\n",
    "a"
   ]
  },
  {
   "cell_type": "markdown",
   "id": "a0c20057",
   "metadata": {},
   "source": [
    "## Q17. Create an array of 10 linearly spaced points between 1 and 100?"
   ]
  },
  {
   "cell_type": "code",
   "execution_count": 23,
   "id": "91a1e6d5",
   "metadata": {},
   "outputs": [
    {
     "data": {
      "text/plain": [
       "(array([  1.,  12.,  23.,  34.,  45.,  56.,  67.,  78.,  89., 100.]), 11.0)"
      ]
     },
     "execution_count": 23,
     "metadata": {},
     "output_type": "execute_result"
    }
   ],
   "source": [
    "np.linspace(1,100,10,retstep=True)"
   ]
  },
  {
   "cell_type": "markdown",
   "id": "9cfa791e",
   "metadata": {},
   "source": [
    "## Q18. Create an array of 15 linearly spaced points between 0 and 1?"
   ]
  },
  {
   "cell_type": "code",
   "execution_count": 24,
   "id": "3ce83b6e",
   "metadata": {},
   "outputs": [
    {
     "data": {
      "text/plain": [
       "(array([0.        , 0.07142857, 0.14285714, 0.21428571, 0.28571429,\n",
       "        0.35714286, 0.42857143, 0.5       , 0.57142857, 0.64285714,\n",
       "        0.71428571, 0.78571429, 0.85714286, 0.92857143, 1.        ]),\n",
       " 0.07142857142857142)"
      ]
     },
     "execution_count": 24,
     "metadata": {},
     "output_type": "execute_result"
    }
   ],
   "source": [
    "np.linspace(0,1,15,retstep=True)"
   ]
  },
  {
   "cell_type": "markdown",
   "id": "5ba07041",
   "metadata": {},
   "source": [
    "# Chapter-24 - Numpy Practice Quesions Set-2"
   ]
  },
  {
   "cell_type": "code",
   "execution_count": 25,
   "id": "e3353089",
   "metadata": {},
   "outputs": [
    {
     "data": {
      "text/plain": [
       "array([[ 1,  2,  3,  4,  5,  6],\n",
       "       [ 7,  8,  9, 10, 11, 12],\n",
       "       [13, 14, 15, 16, 17, 18],\n",
       "       [19, 20, 21, 22, 23, 24],\n",
       "       [25, 26, 27, 28, 29, 30],\n",
       "       [31, 32, 33, 34, 35, 36]])"
      ]
     },
     "execution_count": 25,
     "metadata": {},
     "output_type": "execute_result"
    }
   ],
   "source": [
    "import numpy as np\n",
    "a = np.arange(1,37).reshape(6,6)\n",
    "a"
   ]
  },
  {
   "cell_type": "markdown",
   "id": "d5301b79",
   "metadata": {},
   "source": [
    "## Q1. How to access element 16?"
   ]
  },
  {
   "cell_type": "code",
   "execution_count": 26,
   "id": "5990ef1b",
   "metadata": {},
   "outputs": [
    {
     "name": "stdout",
     "output_type": "stream",
     "text": [
      "a[2][3] ==> 16\n",
      "a[2,3] ==> 16\n"
     ]
    }
   ],
   "source": [
    "print(f\"a[2][3] ==> {a[2][3]}\")\n",
    "print(f\"a[2,3] ==> {a[2,3]}\")"
   ]
  },
  {
   "cell_type": "markdown",
   "id": "5e25a8c3",
   "metadata": {},
   "source": [
    "## Q2. To get the following array: array([[2, 3, 4, 5]])"
   ]
  },
  {
   "cell_type": "code",
   "execution_count": 27,
   "id": "d60b83dd",
   "metadata": {},
   "outputs": [
    {
     "name": "stdout",
     "output_type": "stream",
     "text": [
      "using with indexing : [2 3 4 5]\n",
      "using with slicing : [[2 3 4 5]]\n"
     ]
    }
   ],
   "source": [
    "oned_array = a[0,1:5]\n",
    "twod_array = a[0:1,1:5]\n",
    "print(f\"using with indexing : {oned_array}\")\n",
    "print(f\"using with slicing : {twod_array}\")"
   ]
  },
  {
   "cell_type": "markdown",
   "id": "b2cd7c88",
   "metadata": {},
   "source": [
    "## Q3. To get the following array: array([[2, 3, 4, 5]])"
   ]
  },
  {
   "cell_type": "code",
   "execution_count": 28,
   "id": "fded4c3e",
   "metadata": {},
   "outputs": [
    {
     "name": "stdout",
     "output_type": "stream",
     "text": [
      "using with indexing : [2 3 4 5]\n",
      "using with slicing : [[2 3 4 5]]\n"
     ]
    }
   ],
   "source": [
    "oned_array = a[0,1:5]\n",
    "twod_array = a[0:1,1:5]\n",
    "print(f\"using with indexing : {oned_array}\")\n",
    "print(f\"using with slicing : {twod_array}\")"
   ]
  },
  {
   "cell_type": "markdown",
   "id": "8241e981",
   "metadata": {},
   "source": [
    "## Q4. To get the following array\n",
    "\n",
    "array([[ 1, 2, 3, 4, 5, 6],<br>\n",
    "[31, 32, 33, 34, 35, 36]])"
   ]
  },
  {
   "cell_type": "code",
   "execution_count": 29,
   "id": "8546dd60",
   "metadata": {},
   "outputs": [
    {
     "data": {
      "text/plain": [
       "array([[ 1,  2,  3,  4,  5,  6],\n",
       "       [31, 32, 33, 34, 35, 36]])"
      ]
     },
     "execution_count": 29,
     "metadata": {},
     "output_type": "execute_result"
    }
   ],
   "source": [
    "a[::5,:]"
   ]
  },
  {
   "cell_type": "markdown",
   "id": "474dc673",
   "metadata": {},
   "source": [
    "## Q5. To get the following array\n",
    "array([[ 9, 10],<br>\n",
    "[15, 16],<br>\n",
    "[21, 22]])"
   ]
  },
  {
   "cell_type": "code",
   "execution_count": 30,
   "id": "3dfe353a",
   "metadata": {},
   "outputs": [
    {
     "data": {
      "text/plain": [
       "array([[ 9, 10],\n",
       "       [15, 16],\n",
       "       [21, 22]])"
      ]
     },
     "execution_count": 30,
     "metadata": {},
     "output_type": "execute_result"
    }
   ],
   "source": [
    "a[1:4,2:4]"
   ]
  },
  {
   "cell_type": "markdown",
   "id": "1d225f2b",
   "metadata": {},
   "source": [
    "## Q6. Create 1-D array with all even numbers of a?"
   ]
  },
  {
   "cell_type": "code",
   "execution_count": 31,
   "id": "b9c8585f",
   "metadata": {},
   "outputs": [
    {
     "data": {
      "text/plain": [
       "array([ 2,  4,  6,  8, 10, 12, 14, 16, 18, 20, 22, 24, 26, 28, 30, 32, 34,\n",
       "       36])"
      ]
     },
     "execution_count": 31,
     "metadata": {},
     "output_type": "execute_result"
    }
   ],
   "source": [
    "a[a%2==0]"
   ]
  },
  {
   "cell_type": "markdown",
   "id": "ae5cf5e2",
   "metadata": {},
   "source": [
    "## Q7. Create a 1-D array with elements of a which are divisible by 5?"
   ]
  },
  {
   "cell_type": "code",
   "execution_count": 32,
   "id": "20412b4c",
   "metadata": {},
   "outputs": [
    {
     "data": {
      "text/plain": [
       "array([ 5, 10, 15, 20, 25, 30, 35])"
      ]
     },
     "execution_count": 32,
     "metadata": {},
     "output_type": "execute_result"
    }
   ],
   "source": [
    "a[a%5==0]"
   ]
  },
  {
   "cell_type": "markdown",
   "id": "7f8146e4",
   "metadata": {},
   "source": [
    "## Q8. Create 1-D array with elements 8,17,26 and 35. We have to use elements of a?"
   ]
  },
  {
   "cell_type": "code",
   "execution_count": 33,
   "id": "c2fb498e",
   "metadata": {},
   "outputs": [
    {
     "data": {
      "text/plain": [
       "array([ 8, 17, 26, 35])"
      ]
     },
     "execution_count": 33,
     "metadata": {},
     "output_type": "execute_result"
    }
   ],
   "source": [
    "# a[[row_indices],[column_indices]]\n",
    "a[[1,2,4,5],[1,4,1,4]]"
   ]
  },
  {
   "cell_type": "markdown",
   "id": "936d8a43",
   "metadata": {},
   "source": [
    "## Q9. Select minimum element of this ndarray?"
   ]
  },
  {
   "cell_type": "code",
   "execution_count": 35,
   "id": "4ed81d18",
   "metadata": {},
   "outputs": [
    {
     "name": "stdout",
     "output_type": "stream",
     "text": [
      "np.amin(a) ==> 1\n",
      "np.min(a) ==> 1\n",
      "a.min() ==> 1\n"
     ]
    }
   ],
   "source": [
    "# np.amin(a)\n",
    "# np.min(a)\n",
    "# a.min()\n",
    "print(f\"np.amin(a) ==> {np.amin(a)}\")\n",
    "print(f\"np.min(a) ==> {np.min(a)}\")\n",
    "print(f\"a.min() ==> {a.min()}\")"
   ]
  },
  {
   "cell_type": "markdown",
   "id": "95d7d240",
   "metadata": {},
   "source": [
    "## Q10. Select maximum element of this ndarray?"
   ]
  },
  {
   "cell_type": "code",
   "execution_count": 34,
   "id": "24636e6a",
   "metadata": {},
   "outputs": [
    {
     "name": "stdout",
     "output_type": "stream",
     "text": [
      "np.amax(a) ==> 36\n",
      "np.max(a) ==> 36\n",
      "a.max() ==> 36\n"
     ]
    }
   ],
   "source": [
    "# np.amax(a)\n",
    "# np.max(a)\n",
    "# a.max()\n",
    "print(f\"np.amax(a) ==> {np.amax(a)}\")\n",
    "print(f\"np.max(a) ==> {np.max(a)}\")\n",
    "print(f\"a.max() ==> {a.max()}\")"
   ]
  },
  {
   "cell_type": "markdown",
   "id": "188f4372",
   "metadata": {},
   "source": [
    "## Q11. Find sum of elements present inside this array?"
   ]
  },
  {
   "cell_type": "code",
   "execution_count": 36,
   "id": "de0741b7",
   "metadata": {},
   "outputs": [
    {
     "name": "stdout",
     "output_type": "stream",
     "text": [
      "np.sum(a) ==> 666\n",
      "a.sum() ==> 666\n"
     ]
    }
   ],
   "source": [
    "print(f\"np.sum(a) ==> {np.sum(a)}\")\n",
    "print(f\"a.sum() ==> {a.sum()}\")"
   ]
  },
  {
   "cell_type": "markdown",
   "id": "8943e4ce",
   "metadata": {},
   "source": [
    "## Q12. Find sum of elements along axis-0?"
   ]
  },
  {
   "cell_type": "code",
   "execution_count": 37,
   "id": "e2553760",
   "metadata": {},
   "outputs": [
    {
     "name": "stdout",
     "output_type": "stream",
     "text": [
      "np.sum(a,axis=0) ==> [ 96 102 108 114 120 126]\n",
      "a.sum(axis=0) ==> [ 96 102 108 114 120 126]\n"
     ]
    }
   ],
   "source": [
    "print(f\"np.sum(a,axis=0) ==> {np.sum(a,axis=0)}\")\n",
    "print(f\"a.sum(axis=0) ==> {a.sum(axis=0)}\")"
   ]
  },
  {
   "cell_type": "markdown",
   "id": "037c7c26",
   "metadata": {},
   "source": [
    "## Q13. Find mean of this array?"
   ]
  },
  {
   "cell_type": "code",
   "execution_count": 38,
   "id": "db97d537",
   "metadata": {},
   "outputs": [
    {
     "name": "stdout",
     "output_type": "stream",
     "text": [
      "np.mean(a) ==> 18.5\n",
      "a.mean() ==> 18.5\n"
     ]
    }
   ],
   "source": [
    "print(f\"np.mean(a) ==> {np.mean(a)}\")\n",
    "print(f\"a.mean() ==> {a.mean()}\")"
   ]
  },
  {
   "cell_type": "markdown",
   "id": "aaede9a8",
   "metadata": {},
   "source": [
    "## Q14. Find median of this array?"
   ]
  },
  {
   "cell_type": "code",
   "execution_count": 39,
   "id": "6a2f9192",
   "metadata": {},
   "outputs": [
    {
     "name": "stdout",
     "output_type": "stream",
     "text": [
      "np.median(a) ==> 18.5\n"
     ]
    }
   ],
   "source": [
    "print(f\"np.median(a) ==> {np.median(a)}\")"
   ]
  },
  {
   "cell_type": "markdown",
   "id": "f8957448",
   "metadata": {},
   "source": [
    "## Q15. Find variance of this array?"
   ]
  },
  {
   "cell_type": "code",
   "execution_count": 40,
   "id": "7cb0be17",
   "metadata": {},
   "outputs": [
    {
     "name": "stdout",
     "output_type": "stream",
     "text": [
      "np.var(a) ==> 107.91666666666667\n",
      "a.var() ==> 107.91666666666667\n"
     ]
    }
   ],
   "source": [
    "print(f\"np.var(a) ==> {np.var(a)}\")\n",
    "print(f\"a.var() ==> {a.var()}\")"
   ]
  },
  {
   "cell_type": "markdown",
   "id": "38224fad",
   "metadata": {},
   "source": [
    "## Q16. Find standard deviation of this array?"
   ]
  },
  {
   "cell_type": "code",
   "execution_count": 41,
   "id": "55c5e7c8",
   "metadata": {},
   "outputs": [
    {
     "name": "stdout",
     "output_type": "stream",
     "text": [
      "np.std(a) ==> 10.388294694831615\n",
      "a.std() ==> 10.388294694831615\n"
     ]
    }
   ],
   "source": [
    "print(f\"np.std(a) ==> {np.std(a)}\")\n",
    "print(f\"a.std() ==> {a.std()}\")"
   ]
  },
  {
   "cell_type": "markdown",
   "id": "f8d01884",
   "metadata": {},
   "source": [
    "# Chapter-25 - Numpy Quiz Questions"
   ]
  },
  {
   "cell_type": "markdown",
   "id": "c9bd3fad",
   "metadata": {},
   "source": [
    "## Q1. Consider the following code: \n",
    "\n",
    "import numpy as np <br>\n",
    "a = np.array([])<br>\n",
    "print(a.shape)<br>\n",
    "\n",
    "What is the output ? </code><br>\n",
    "• A. (0,)<br>\n",
    "• B. (1,)<br>\n",
    "• C. (1,1)<br>\n",
    "• D. 0 <br>\n",
    "\n",
    "Ans - A"
   ]
  },
  {
   "cell_type": "code",
   "execution_count": 42,
   "id": "b3a65223",
   "metadata": {},
   "outputs": [
    {
     "name": "stdout",
     "output_type": "stream",
     "text": [
      "(0,)\n"
     ]
    }
   ],
   "source": [
    "import numpy as np\n",
    "a = np.array([])\n",
    "print(a.shape)"
   ]
  },
  {
   "cell_type": "markdown",
   "id": "c1d76ab5",
   "metadata": {},
   "source": [
    "## Q2. Consider the following code: \n",
    "\n",
    "import numpy as np <br>\n",
    "a = np.arange(10,20,-1) <br>\n",
    "b =a.reshape(5,2) <br>\n",
    "\n",
    "print(b.flatten())<br>\n",
    "• A. [10 11 12 13 14 15 16 17 18 19]<br>\n",
    "• B. [20 19 18 17 16 15 14 13 12 11]<br>\n",
    "• C. array([])<br>\n",
    "• D. ValueError<br><br>\n",
    "Ans: D"
   ]
  },
  {
   "cell_type": "code",
   "execution_count": 43,
   "id": "1004d6c6",
   "metadata": {},
   "outputs": [
    {
     "ename": "ValueError",
     "evalue": "cannot reshape array of size 0 into shape (5,2)",
     "output_type": "error",
     "traceback": [
      "\u001b[1;31m---------------------------------------------------------------------------\u001b[0m",
      "\u001b[1;31mValueError\u001b[0m                                Traceback (most recent call last)",
      "\u001b[1;32m~\\AppData\\Local\\Temp\\ipykernel_21232\\878815978.py\u001b[0m in \u001b[0;36m<module>\u001b[1;34m\u001b[0m\n\u001b[0;32m      1\u001b[0m \u001b[1;32mimport\u001b[0m \u001b[0mnumpy\u001b[0m \u001b[1;32mas\u001b[0m \u001b[0mnp\u001b[0m\u001b[1;33m\u001b[0m\u001b[1;33m\u001b[0m\u001b[0m\n\u001b[0;32m      2\u001b[0m \u001b[0ma\u001b[0m \u001b[1;33m=\u001b[0m \u001b[0mnp\u001b[0m\u001b[1;33m.\u001b[0m\u001b[0marange\u001b[0m\u001b[1;33m(\u001b[0m\u001b[1;36m10\u001b[0m\u001b[1;33m,\u001b[0m\u001b[1;36m20\u001b[0m\u001b[1;33m,\u001b[0m\u001b[1;33m-\u001b[0m\u001b[1;36m1\u001b[0m\u001b[1;33m)\u001b[0m\u001b[1;33m\u001b[0m\u001b[1;33m\u001b[0m\u001b[0m\n\u001b[1;32m----> 3\u001b[1;33m \u001b[0mb\u001b[0m \u001b[1;33m=\u001b[0m \u001b[0ma\u001b[0m\u001b[1;33m.\u001b[0m\u001b[0mreshape\u001b[0m\u001b[1;33m(\u001b[0m\u001b[1;36m5\u001b[0m\u001b[1;33m,\u001b[0m\u001b[1;36m2\u001b[0m\u001b[1;33m)\u001b[0m\u001b[1;33m\u001b[0m\u001b[1;33m\u001b[0m\u001b[0m\n\u001b[0m\u001b[0;32m      4\u001b[0m \u001b[0mprint\u001b[0m\u001b[1;33m(\u001b[0m\u001b[0mb\u001b[0m\u001b[1;33m.\u001b[0m\u001b[0mflatten\u001b[0m\u001b[1;33m(\u001b[0m\u001b[1;33m)\u001b[0m\u001b[1;33m)\u001b[0m\u001b[1;33m\u001b[0m\u001b[1;33m\u001b[0m\u001b[0m\n",
      "\u001b[1;31mValueError\u001b[0m: cannot reshape array of size 0 into shape (5,2)"
     ]
    }
   ],
   "source": [
    "import numpy as np\n",
    "a = np.arange(10,20,-1)\n",
    "b = a.reshape(5,2)\n",
    "print(b.flatten())"
   ]
  },
  {
   "cell_type": "markdown",
   "id": "f05e2fb2",
   "metadata": {},
   "source": [
    "##  Refer to the  pdf"
   ]
  }
 ],
 "metadata": {
  "hide_input": false,
  "kernelspec": {
   "display_name": "Python 3 (ipykernel)",
   "language": "python",
   "name": "python3"
  },
  "language_info": {
   "codemirror_mode": {
    "name": "ipython",
    "version": 3
   },
   "file_extension": ".py",
   "mimetype": "text/x-python",
   "name": "python",
   "nbconvert_exporter": "python",
   "pygments_lexer": "ipython3",
   "version": "3.9.13"
  },
  "toc": {
   "base_numbering": 1,
   "nav_menu": {},
   "number_sections": true,
   "sideBar": true,
   "skip_h1_title": false,
   "title_cell": "Table of Contents",
   "title_sidebar": "Contents",
   "toc_cell": false,
   "toc_position": {},
   "toc_section_display": true,
   "toc_window_display": true
  }
 },
 "nbformat": 4,
 "nbformat_minor": 5
}
