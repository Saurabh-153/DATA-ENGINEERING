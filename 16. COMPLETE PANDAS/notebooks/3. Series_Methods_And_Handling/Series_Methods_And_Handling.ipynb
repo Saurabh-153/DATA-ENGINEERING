{
 "cells": [
  {
   "cell_type": "code",
   "execution_count": 2,
   "metadata": {
    "colab": {},
    "colab_type": "code",
    "id": "tLCOp5qPdG6z"
   },
   "outputs": [
    {
     "name": "stderr",
     "output_type": "stream",
     "text": [
      "C:\\Users\\saura\\anaconda3\\Lib\\site-packages\\pandas\\core\\arrays\\masked.py:60: UserWarning: Pandas requires version '1.3.6' or newer of 'bottleneck' (version '1.3.5' currently installed).\n",
      "  from pandas.core import (\n"
     ]
    }
   ],
   "source": [
    "import pandas as pd\n",
    "import numpy as np"
   ]
  },
  {
   "cell_type": "code",
   "execution_count": 0,
   "metadata": {
    "colab": {},
    "colab_type": "code",
    "id": "wfs-RpJLlaUJ"
   },
   "outputs": [],
   "source": [
    "# pip install --upgrade pandas"
   ]
  },
  {
   "cell_type": "code",
   "execution_count": 3,
   "metadata": {
    "colab": {
     "base_uri": "https://localhost:8080/",
     "height": 34
    },
    "colab_type": "code",
    "id": "RNsgoivhLNYf",
    "outputId": "cdd3e74c-755f-4d62-d83e-1b09f1bd6dfc"
   },
   "outputs": [
    {
     "data": {
      "text/plain": [
       "'1.0.1'"
      ]
     },
     "execution_count": 3,
     "metadata": {
      "tags": []
     },
     "output_type": "execute_result"
    }
   ],
   "source": [
    "pd.__version__ "
   ]
  },
  {
   "cell_type": "markdown",
   "metadata": {
    "colab_type": "text",
    "id": "BDwRGAcHdMBy"
   },
   "source": [
    "# Reading In Data With read_csv()"
   ]
  },
  {
   "cell_type": "code",
   "execution_count": 0,
   "metadata": {
    "colab": {},
    "colab_type": "code",
    "id": "X25vWllX9FdI"
   },
   "outputs": [],
   "source": [
    "# https://andybek.com/pandas-drinks"
   ]
  },
  {
   "cell_type": "code",
   "execution_count": 3,
   "metadata": {
    "colab": {
     "base_uri": "https://localhost:8080/",
     "height": 0
    },
    "colab_type": "code",
    "id": "iae_wV-E9fI2",
    "outputId": "862db4ef-95ec-4bde-81e6-856541fbaa50"
   },
   "outputs": [
    {
     "data": {
      "text/html": [
       "<div>\n",
       "<style scoped>\n",
       "    .dataframe tbody tr th:only-of-type {\n",
       "        vertical-align: middle;\n",
       "    }\n",
       "\n",
       "    .dataframe tbody tr th {\n",
       "        vertical-align: top;\n",
       "    }\n",
       "\n",
       "    .dataframe thead th {\n",
       "        text-align: right;\n",
       "    }\n",
       "</style>\n",
       "<table border=\"1\" class=\"dataframe\">\n",
       "  <thead>\n",
       "    <tr style=\"text-align: right;\">\n",
       "      <th></th>\n",
       "      <th>country</th>\n",
       "      <th>beer_servings</th>\n",
       "      <th>spirit_servings</th>\n",
       "      <th>wine_servings</th>\n",
       "      <th>total_litres_of_pure_alcohol</th>\n",
       "    </tr>\n",
       "  </thead>\n",
       "  <tbody>\n",
       "    <tr>\n",
       "      <th>0</th>\n",
       "      <td>Afghanistan</td>\n",
       "      <td>NaN</td>\n",
       "      <td>NaN</td>\n",
       "      <td>NaN</td>\n",
       "      <td>NaN</td>\n",
       "    </tr>\n",
       "    <tr>\n",
       "      <th>1</th>\n",
       "      <td>Albania</td>\n",
       "      <td>89.0</td>\n",
       "      <td>132.0</td>\n",
       "      <td>54.0</td>\n",
       "      <td>4.9</td>\n",
       "    </tr>\n",
       "    <tr>\n",
       "      <th>2</th>\n",
       "      <td>Algeria</td>\n",
       "      <td>25.0</td>\n",
       "      <td>NaN</td>\n",
       "      <td>14.0</td>\n",
       "      <td>0.7</td>\n",
       "    </tr>\n",
       "    <tr>\n",
       "      <th>3</th>\n",
       "      <td>Andorra</td>\n",
       "      <td>245.0</td>\n",
       "      <td>138.0</td>\n",
       "      <td>312.0</td>\n",
       "      <td>12.4</td>\n",
       "    </tr>\n",
       "    <tr>\n",
       "      <th>4</th>\n",
       "      <td>Angola</td>\n",
       "      <td>217.0</td>\n",
       "      <td>57.0</td>\n",
       "      <td>45.0</td>\n",
       "      <td>5.9</td>\n",
       "    </tr>\n",
       "    <tr>\n",
       "      <th>...</th>\n",
       "      <td>...</td>\n",
       "      <td>...</td>\n",
       "      <td>...</td>\n",
       "      <td>...</td>\n",
       "      <td>...</td>\n",
       "    </tr>\n",
       "    <tr>\n",
       "      <th>188</th>\n",
       "      <td>Venezuela</td>\n",
       "      <td>333.0</td>\n",
       "      <td>1.0</td>\n",
       "      <td>3.0</td>\n",
       "      <td>7.7</td>\n",
       "    </tr>\n",
       "    <tr>\n",
       "      <th>189</th>\n",
       "      <td>Vietnam</td>\n",
       "      <td>111.0</td>\n",
       "      <td>2.0</td>\n",
       "      <td>1.0</td>\n",
       "      <td>2.0</td>\n",
       "    </tr>\n",
       "    <tr>\n",
       "      <th>190</th>\n",
       "      <td>Yemen</td>\n",
       "      <td>6.0</td>\n",
       "      <td>NaN</td>\n",
       "      <td>NaN</td>\n",
       "      <td>0.1</td>\n",
       "    </tr>\n",
       "    <tr>\n",
       "      <th>191</th>\n",
       "      <td>Zambia</td>\n",
       "      <td>32.0</td>\n",
       "      <td>19.0</td>\n",
       "      <td>4.0</td>\n",
       "      <td>2.5</td>\n",
       "    </tr>\n",
       "    <tr>\n",
       "      <th>192</th>\n",
       "      <td>Zimbabwe</td>\n",
       "      <td>64.0</td>\n",
       "      <td>18.0</td>\n",
       "      <td>4.0</td>\n",
       "      <td>4.7</td>\n",
       "    </tr>\n",
       "  </tbody>\n",
       "</table>\n",
       "<p>193 rows × 5 columns</p>\n",
       "</div>"
      ],
      "text/plain": [
       "         country  beer_servings  spirit_servings  wine_servings  \\\n",
       "0    Afghanistan            NaN              NaN            NaN   \n",
       "1        Albania           89.0            132.0           54.0   \n",
       "2        Algeria           25.0              NaN           14.0   \n",
       "3        Andorra          245.0            138.0          312.0   \n",
       "4         Angola          217.0             57.0           45.0   \n",
       "..           ...            ...              ...            ...   \n",
       "188    Venezuela          333.0              1.0            3.0   \n",
       "189      Vietnam          111.0              2.0            1.0   \n",
       "190        Yemen            6.0              NaN            NaN   \n",
       "191       Zambia           32.0             19.0            4.0   \n",
       "192     Zimbabwe           64.0             18.0            4.0   \n",
       "\n",
       "     total_litres_of_pure_alcohol  \n",
       "0                             NaN  \n",
       "1                             4.9  \n",
       "2                             0.7  \n",
       "3                            12.4  \n",
       "4                             5.9  \n",
       "..                            ...  \n",
       "188                           7.7  \n",
       "189                           2.0  \n",
       "190                           0.1  \n",
       "191                           2.5  \n",
       "192                           4.7  \n",
       "\n",
       "[193 rows x 5 columns]"
      ]
     },
     "execution_count": 3,
     "metadata": {},
     "output_type": "execute_result"
    }
   ],
   "source": [
    "pd.read_csv('https://andybek.com/pandas-drinks')"
   ]
  },
  {
   "cell_type": "code",
   "execution_count": 117,
   "metadata": {
    "colab": {
     "base_uri": "https://localhost:8080/",
     "height": 0
    },
    "colab_type": "code",
    "id": "ZF1yvwq59-TM",
    "outputId": "c208633e-7714-4aa0-f499-a35a818d5975"
   },
   "outputs": [
    {
     "data": {
      "text/html": [
       "<div>\n",
       "<style scoped>\n",
       "    .dataframe tbody tr th:only-of-type {\n",
       "        vertical-align: middle;\n",
       "    }\n",
       "\n",
       "    .dataframe tbody tr th {\n",
       "        vertical-align: top;\n",
       "    }\n",
       "\n",
       "    .dataframe thead th {\n",
       "        text-align: right;\n",
       "    }\n",
       "</style>\n",
       "<table border=\"1\" class=\"dataframe\">\n",
       "  <thead>\n",
       "    <tr style=\"text-align: right;\">\n",
       "      <th></th>\n",
       "      <th>country</th>\n",
       "      <th>wine_servings</th>\n",
       "    </tr>\n",
       "  </thead>\n",
       "  <tbody>\n",
       "    <tr>\n",
       "      <th>0</th>\n",
       "      <td>Afghanistan</td>\n",
       "      <td>NaN</td>\n",
       "    </tr>\n",
       "    <tr>\n",
       "      <th>1</th>\n",
       "      <td>Albania</td>\n",
       "      <td>54.0</td>\n",
       "    </tr>\n",
       "    <tr>\n",
       "      <th>2</th>\n",
       "      <td>Algeria</td>\n",
       "      <td>14.0</td>\n",
       "    </tr>\n",
       "    <tr>\n",
       "      <th>3</th>\n",
       "      <td>Andorra</td>\n",
       "      <td>312.0</td>\n",
       "    </tr>\n",
       "    <tr>\n",
       "      <th>4</th>\n",
       "      <td>Angola</td>\n",
       "      <td>45.0</td>\n",
       "    </tr>\n",
       "    <tr>\n",
       "      <th>...</th>\n",
       "      <td>...</td>\n",
       "      <td>...</td>\n",
       "    </tr>\n",
       "    <tr>\n",
       "      <th>188</th>\n",
       "      <td>Venezuela</td>\n",
       "      <td>3.0</td>\n",
       "    </tr>\n",
       "    <tr>\n",
       "      <th>189</th>\n",
       "      <td>Vietnam</td>\n",
       "      <td>1.0</td>\n",
       "    </tr>\n",
       "    <tr>\n",
       "      <th>190</th>\n",
       "      <td>Yemen</td>\n",
       "      <td>NaN</td>\n",
       "    </tr>\n",
       "    <tr>\n",
       "      <th>191</th>\n",
       "      <td>Zambia</td>\n",
       "      <td>4.0</td>\n",
       "    </tr>\n",
       "    <tr>\n",
       "      <th>192</th>\n",
       "      <td>Zimbabwe</td>\n",
       "      <td>4.0</td>\n",
       "    </tr>\n",
       "  </tbody>\n",
       "</table>\n",
       "<p>193 rows × 2 columns</p>\n",
       "</div>"
      ],
      "text/plain": [
       "         country  wine_servings\n",
       "0    Afghanistan            NaN\n",
       "1        Albania           54.0\n",
       "2        Algeria           14.0\n",
       "3        Andorra          312.0\n",
       "4         Angola           45.0\n",
       "..           ...            ...\n",
       "188    Venezuela            3.0\n",
       "189      Vietnam            1.0\n",
       "190        Yemen            NaN\n",
       "191       Zambia            4.0\n",
       "192     Zimbabwe            4.0\n",
       "\n",
       "[193 rows x 2 columns]"
      ]
     },
     "execution_count": 117,
     "metadata": {},
     "output_type": "execute_result"
    }
   ],
   "source": [
    "df = pd.read_csv('https://andybek.com/pandas-drinks', usecols=['country', 'wine_servings'])\n",
    "df"
   ]
  },
  {
   "cell_type": "code",
   "execution_count": 5,
   "metadata": {
    "colab": {},
    "colab_type": "code",
    "id": "w3-GAq3k-WRU"
   },
   "outputs": [],
   "source": [
    "alcohol1 = pd.read_csv('https://andybek.com/pandas-drinks', usecols=['country', 'wine_servings'], index_col='country')"
   ]
  },
  {
   "cell_type": "code",
   "execution_count": 6,
   "metadata": {
    "colab": {
     "base_uri": "https://localhost:8080/",
     "height": 0
    },
    "colab_type": "code",
    "id": "7oXPZ5xp-c5T",
    "outputId": "891c94f2-8cbe-491b-c647-c3e2ccf6b4fd"
   },
   "outputs": [
    {
     "data": {
      "text/html": [
       "<div>\n",
       "<style scoped>\n",
       "    .dataframe tbody tr th:only-of-type {\n",
       "        vertical-align: middle;\n",
       "    }\n",
       "\n",
       "    .dataframe tbody tr th {\n",
       "        vertical-align: top;\n",
       "    }\n",
       "\n",
       "    .dataframe thead th {\n",
       "        text-align: right;\n",
       "    }\n",
       "</style>\n",
       "<table border=\"1\" class=\"dataframe\">\n",
       "  <thead>\n",
       "    <tr style=\"text-align: right;\">\n",
       "      <th></th>\n",
       "      <th>wine_servings</th>\n",
       "    </tr>\n",
       "    <tr>\n",
       "      <th>country</th>\n",
       "      <th></th>\n",
       "    </tr>\n",
       "  </thead>\n",
       "  <tbody>\n",
       "    <tr>\n",
       "      <th>Afghanistan</th>\n",
       "      <td>NaN</td>\n",
       "    </tr>\n",
       "    <tr>\n",
       "      <th>Albania</th>\n",
       "      <td>54.0</td>\n",
       "    </tr>\n",
       "    <tr>\n",
       "      <th>Algeria</th>\n",
       "      <td>14.0</td>\n",
       "    </tr>\n",
       "    <tr>\n",
       "      <th>Andorra</th>\n",
       "      <td>312.0</td>\n",
       "    </tr>\n",
       "    <tr>\n",
       "      <th>Angola</th>\n",
       "      <td>45.0</td>\n",
       "    </tr>\n",
       "  </tbody>\n",
       "</table>\n",
       "</div>"
      ],
      "text/plain": [
       "             wine_servings\n",
       "country                   \n",
       "Afghanistan            NaN\n",
       "Albania               54.0\n",
       "Algeria               14.0\n",
       "Andorra              312.0\n",
       "Angola                45.0"
      ]
     },
     "execution_count": 6,
     "metadata": {},
     "output_type": "execute_result"
    }
   ],
   "source": [
    "alcohol1.head()"
   ]
  },
  {
   "cell_type": "code",
   "execution_count": 21,
   "metadata": {
    "colab": {
     "base_uri": "https://localhost:8080/",
     "height": 0
    },
    "colab_type": "code",
    "id": "j7Yk_CQy-k8r",
    "outputId": "ef18d330-bcb0-440b-d28b-7be3c8a14e87"
   },
   "outputs": [
    {
     "data": {
      "text/plain": [
       "pandas.core.frame.DataFrame"
      ]
     },
     "execution_count": 21,
     "metadata": {},
     "output_type": "execute_result"
    }
   ],
   "source": [
    "type(alcohol1)"
   ]
  },
  {
   "cell_type": "markdown",
   "metadata": {
    "colab_type": "text",
    "id": "roGT2PHA-vQ-"
   },
   "source": [
    "# Series Sizing With .size, .shape, And len()"
   ]
  },
  {
   "cell_type": "markdown",
   "metadata": {},
   "source": [
    "Not relevant as sqeeze is deprecated"
   ]
  },
  {
   "cell_type": "markdown",
   "metadata": {},
   "source": [
    "## Resetting Index by converting to series"
   ]
  },
  {
   "cell_type": "code",
   "execution_count": 118,
   "metadata": {},
   "outputs": [],
   "source": [
    "# squeeze has been deprecated\n",
    "alcohol = alcohol1.iloc[:,0]"
   ]
  },
  {
   "cell_type": "code",
   "execution_count": 9,
   "metadata": {},
   "outputs": [
    {
     "data": {
      "text/plain": [
       "pandas.core.series.Series"
      ]
     },
     "execution_count": 9,
     "metadata": {},
     "output_type": "execute_result"
    }
   ],
   "source": [
    "type(alcohol)"
   ]
  },
  {
   "cell_type": "code",
   "execution_count": 10,
   "metadata": {},
   "outputs": [
    {
     "data": {
      "text/plain": [
       "Index(['Afghanistan', 'Albania', 'Algeria', 'Andorra', 'Angola',\n",
       "       'Antigua & Barbuda', 'Argentina', 'Armenia', 'Australia', 'Austria',\n",
       "       ...\n",
       "       'Tanzania', 'USA', 'Uruguay', 'Uzbekistan', 'Vanuatu', 'Venezuela',\n",
       "       'Vietnam', 'Yemen', 'Zambia', 'Zimbabwe'],\n",
       "      dtype='object', name='country', length=193)"
      ]
     },
     "execution_count": 10,
     "metadata": {},
     "output_type": "execute_result"
    }
   ],
   "source": [
    "alcohol1.index"
   ]
  },
  {
   "cell_type": "code",
   "execution_count": 11,
   "metadata": {},
   "outputs": [
    {
     "data": {
      "text/plain": [
       "country\n",
       "Afghanistan      NaN\n",
       "Albania         54.0\n",
       "Algeria         14.0\n",
       "Andorra        312.0\n",
       "Angola          45.0\n",
       "               ...  \n",
       "Venezuela        3.0\n",
       "Vietnam          1.0\n",
       "Yemen            NaN\n",
       "Zambia           4.0\n",
       "Zimbabwe         4.0\n",
       "Name: wine_servings, Length: 193, dtype: float64"
      ]
     },
     "execution_count": 11,
     "metadata": {},
     "output_type": "execute_result"
    }
   ],
   "source": [
    "alcohol.set_axis(alcohol1.index)"
   ]
  },
  {
   "cell_type": "code",
   "execution_count": 12,
   "metadata": {},
   "outputs": [
    {
     "data": {
      "text/plain": [
       "pandas.core.series.Series"
      ]
     },
     "execution_count": 12,
     "metadata": {},
     "output_type": "execute_result"
    }
   ],
   "source": [
    "type(alcohol)"
   ]
  },
  {
   "cell_type": "code",
   "execution_count": 13,
   "metadata": {
    "colab": {
     "base_uri": "https://localhost:8080/",
     "height": 0
    },
    "colab_type": "code",
    "id": "flfJoYPBguXT",
    "outputId": "3a4a41e7-4f8e-45a2-cdda-97c41e191ae2"
   },
   "outputs": [
    {
     "data": {
      "text/plain": [
       "193"
      ]
     },
     "execution_count": 13,
     "metadata": {},
     "output_type": "execute_result"
    }
   ],
   "source": [
    "alcohol.size"
   ]
  },
  {
   "cell_type": "code",
   "execution_count": 14,
   "metadata": {
    "colab": {
     "base_uri": "https://localhost:8080/",
     "height": 0
    },
    "colab_type": "code",
    "id": "61ZcK0FKhLQj",
    "outputId": "f63d479c-2564-46d9-b96f-67b7c051389c"
   },
   "outputs": [
    {
     "data": {
      "text/plain": [
       "Index(['Afghanistan', 'Albania', 'Algeria', 'Andorra', 'Angola',\n",
       "       'Antigua & Barbuda', 'Argentina', 'Armenia', 'Australia', 'Austria',\n",
       "       ...\n",
       "       'Tanzania', 'USA', 'Uruguay', 'Uzbekistan', 'Vanuatu', 'Venezuela',\n",
       "       'Vietnam', 'Yemen', 'Zambia', 'Zimbabwe'],\n",
       "      dtype='object', name='country', length=193)"
      ]
     },
     "execution_count": 14,
     "metadata": {},
     "output_type": "execute_result"
    }
   ],
   "source": [
    "alcohol.index"
   ]
  },
  {
   "cell_type": "code",
   "execution_count": 15,
   "metadata": {
    "colab": {
     "base_uri": "https://localhost:8080/",
     "height": 0
    },
    "colab_type": "code",
    "id": "rjTgLQ_-hNme",
    "outputId": "310445bd-90f9-4611-b8b6-4851f867baad"
   },
   "outputs": [
    {
     "data": {
      "text/plain": [
       "True"
      ]
     },
     "execution_count": 15,
     "metadata": {},
     "output_type": "execute_result"
    }
   ],
   "source": [
    "alcohol.values.size == alcohol.index.size"
   ]
  },
  {
   "cell_type": "code",
   "execution_count": 16,
   "metadata": {
    "colab": {
     "base_uri": "https://localhost:8080/",
     "height": 0
    },
    "colab_type": "code",
    "id": "B4o803cBhSSw",
    "outputId": "1578ef3e-0c31-48ff-ec6c-0cf709b54be8"
   },
   "outputs": [
    {
     "data": {
      "text/plain": [
       "(193,)"
      ]
     },
     "execution_count": 16,
     "metadata": {},
     "output_type": "execute_result"
    }
   ],
   "source": [
    "alcohol.shape"
   ]
  },
  {
   "cell_type": "code",
   "execution_count": 72,
   "metadata": {
    "colab": {
     "base_uri": "https://localhost:8080/",
     "height": 0
    },
    "colab_type": "code",
    "id": "85EjNTKfhaib",
    "outputId": "bb1493ef-2146-4b23-a59e-acb456164974"
   },
   "outputs": [
    {
     "data": {
      "text/plain": [
       "True"
      ]
     },
     "execution_count": 72,
     "metadata": {},
     "output_type": "execute_result"
    }
   ],
   "source": [
    "alcohol.size == alcohol.shape[0]"
   ]
  },
  {
   "cell_type": "code",
   "execution_count": 73,
   "metadata": {
    "colab": {
     "base_uri": "https://localhost:8080/",
     "height": 0
    },
    "colab_type": "code",
    "id": "jWwUR08Cho2G",
    "outputId": "9377e782-f828-42a6-9ead-1fccd31350fe"
   },
   "outputs": [
    {
     "data": {
      "text/plain": [
       "193"
      ]
     },
     "execution_count": 73,
     "metadata": {},
     "output_type": "execute_result"
    }
   ],
   "source": [
    "len(alcohol)"
   ]
  },
  {
   "cell_type": "markdown",
   "metadata": {
    "colab_type": "text",
    "id": "CcJlcLKThuB1"
   },
   "source": [
    "# Unique Values And Series Monotonicity"
   ]
  },
  {
   "cell_type": "code",
   "execution_count": null,
   "metadata": {},
   "outputs": [],
   "source": [
    "# is_unique"
   ]
  },
  {
   "cell_type": "code",
   "execution_count": 17,
   "metadata": {
    "colab": {
     "base_uri": "https://localhost:8080/",
     "height": 0
    },
    "colab_type": "code",
    "id": "KlYzJJ78mf2s",
    "outputId": "309113d6-147f-4152-897c-98ad14ec97bb"
   },
   "outputs": [
    {
     "data": {
      "text/plain": [
       "False"
      ]
     },
     "execution_count": 17,
     "metadata": {},
     "output_type": "execute_result"
    }
   ],
   "source": [
    "alcohol.is_unique"
   ]
  },
  {
   "cell_type": "code",
   "execution_count": 18,
   "metadata": {
    "colab": {
     "base_uri": "https://localhost:8080/",
     "height": 0
    },
    "colab_type": "code",
    "id": "13R7WJFZmXxN",
    "outputId": "3774c7a5-7c1c-41c8-96d0-f0b3cf0ab39e"
   },
   "outputs": [
    {
     "data": {
      "text/plain": [
       "True"
      ]
     },
     "execution_count": 18,
     "metadata": {},
     "output_type": "execute_result"
    }
   ],
   "source": [
    "alcohol.head().is_unique"
   ]
  },
  {
   "cell_type": "code",
   "execution_count": null,
   "metadata": {},
   "outputs": [],
   "source": [
    "# nunique"
   ]
  },
  {
   "cell_type": "code",
   "execution_count": 19,
   "metadata": {},
   "outputs": [
    {
     "data": {
      "text/plain": [
       "71"
      ]
     },
     "execution_count": 19,
     "metadata": {},
     "output_type": "execute_result"
    }
   ],
   "source": [
    "alcohol.nunique() #Gives number of unique values"
   ]
  },
  {
   "cell_type": "code",
   "execution_count": 20,
   "metadata": {
    "colab": {
     "base_uri": "https://localhost:8080/",
     "height": 0
    },
    "colab_type": "code",
    "id": "A_VLPfH5nAc-",
    "outputId": "84f3d16c-85c3-4a5a-cc02-edf22e6a4e0e"
   },
   "outputs": [
    {
     "data": {
      "text/plain": [
       "72"
      ]
     },
     "execution_count": 20,
     "metadata": {},
     "output_type": "execute_result"
    }
   ],
   "source": [
    "alcohol.nunique(dropna=False) #drop na as unique"
   ]
  },
  {
   "cell_type": "code",
   "execution_count": 0,
   "metadata": {
    "colab": {},
    "colab_type": "code",
    "id": "qVB6dasmnLXh"
   },
   "outputs": [],
   "source": [
    "# monotonicity"
   ]
  },
  {
   "cell_type": "code",
   "execution_count": 21,
   "metadata": {
    "colab": {
     "base_uri": "https://localhost:8080/",
     "height": 0
    },
    "colab_type": "code",
    "id": "edfhcu-HnW0V",
    "outputId": "915c7418-ac50-4de5-c308-ba18c3195678"
   },
   "outputs": [
    {
     "ename": "AttributeError",
     "evalue": "'Series' object has no attribute 'is_monotonic'",
     "output_type": "error",
     "traceback": [
      "\u001b[1;31m---------------------------------------------------------------------------\u001b[0m",
      "\u001b[1;31mAttributeError\u001b[0m                            Traceback (most recent call last)",
      "\u001b[1;32m~\\AppData\\Local\\Temp\\ipykernel_11496\\1235152866.py\u001b[0m in \u001b[0;36m?\u001b[1;34m()\u001b[0m\n\u001b[1;32m----> 1\u001b[1;33m \u001b[0mpd\u001b[0m\u001b[1;33m.\u001b[0m\u001b[0mSeries\u001b[0m\u001b[1;33m(\u001b[0m\u001b[1;33m[\u001b[0m\u001b[1;36m1\u001b[0m\u001b[1;33m,\u001b[0m\u001b[1;36m2\u001b[0m\u001b[1;33m,\u001b[0m\u001b[1;36m3\u001b[0m\u001b[1;33m]\u001b[0m\u001b[1;33m)\u001b[0m\u001b[1;33m.\u001b[0m\u001b[0mis_monotonic\u001b[0m\u001b[1;33m\u001b[0m\u001b[1;33m\u001b[0m\u001b[0m\n\u001b[0m",
      "\u001b[1;32m~\\anaconda3\\Lib\\site-packages\\pandas\\core\\generic.py\u001b[0m in \u001b[0;36m?\u001b[1;34m(self, name)\u001b[0m\n\u001b[0;32m   6295\u001b[0m             \u001b[1;32mand\u001b[0m \u001b[0mname\u001b[0m \u001b[1;32mnot\u001b[0m \u001b[1;32min\u001b[0m \u001b[0mself\u001b[0m\u001b[1;33m.\u001b[0m\u001b[0m_accessors\u001b[0m\u001b[1;33m\u001b[0m\u001b[1;33m\u001b[0m\u001b[0m\n\u001b[0;32m   6296\u001b[0m             \u001b[1;32mand\u001b[0m \u001b[0mself\u001b[0m\u001b[1;33m.\u001b[0m\u001b[0m_info_axis\u001b[0m\u001b[1;33m.\u001b[0m\u001b[0m_can_hold_identifiers_and_holds_name\u001b[0m\u001b[1;33m(\u001b[0m\u001b[0mname\u001b[0m\u001b[1;33m)\u001b[0m\u001b[1;33m\u001b[0m\u001b[1;33m\u001b[0m\u001b[0m\n\u001b[0;32m   6297\u001b[0m         ):\n\u001b[0;32m   6298\u001b[0m             \u001b[1;32mreturn\u001b[0m \u001b[0mself\u001b[0m\u001b[1;33m[\u001b[0m\u001b[0mname\u001b[0m\u001b[1;33m]\u001b[0m\u001b[1;33m\u001b[0m\u001b[1;33m\u001b[0m\u001b[0m\n\u001b[1;32m-> 6299\u001b[1;33m         \u001b[1;32mreturn\u001b[0m \u001b[0mobject\u001b[0m\u001b[1;33m.\u001b[0m\u001b[0m__getattribute__\u001b[0m\u001b[1;33m(\u001b[0m\u001b[0mself\u001b[0m\u001b[1;33m,\u001b[0m \u001b[0mname\u001b[0m\u001b[1;33m)\u001b[0m\u001b[1;33m\u001b[0m\u001b[1;33m\u001b[0m\u001b[0m\n\u001b[0m",
      "\u001b[1;31mAttributeError\u001b[0m: 'Series' object has no attribute 'is_monotonic'"
     ]
    }
   ],
   "source": [
    "pd.Series([1,2,3]).is_monotonic"
   ]
  },
  {
   "cell_type": "code",
   "execution_count": 23,
   "metadata": {
    "colab": {
     "base_uri": "https://localhost:8080/",
     "height": 0
    },
    "colab_type": "code",
    "id": "UZHEBHuKnfWx",
    "outputId": "6fac5d68-9b6f-481b-ea12-9a06d3ce57d6"
   },
   "outputs": [
    {
     "data": {
      "text/plain": [
       "True"
      ]
     },
     "execution_count": 23,
     "metadata": {
      "tags": []
     },
     "output_type": "execute_result"
    }
   ],
   "source": [
    "pd.Series([1,2,3,3,3,3]).is_monotonic"
   ]
  },
  {
   "cell_type": "code",
   "execution_count": 24,
   "metadata": {
    "colab": {
     "base_uri": "https://localhost:8080/",
     "height": 0
    },
    "colab_type": "code",
    "id": "2_fsP-Ldnjlf",
    "outputId": "41dbbbc5-3832-4bd8-ba57-d7f9c7031a96"
   },
   "outputs": [
    {
     "data": {
      "text/plain": [
       "True"
      ]
     },
     "execution_count": 24,
     "metadata": {
      "tags": []
     },
     "output_type": "execute_result"
    }
   ],
   "source": [
    "pd.Series([1,2,3,3,3,3,4,10,79,100]).is_monotonic"
   ]
  },
  {
   "cell_type": "code",
   "execution_count": 25,
   "metadata": {
    "colab": {
     "base_uri": "https://localhost:8080/",
     "height": 0
    },
    "colab_type": "code",
    "id": "7JEXemhZnmzD",
    "outputId": "27f7facb-73b6-4c70-df33-b19d414a98fe"
   },
   "outputs": [
    {
     "data": {
      "text/plain": [
       "True"
      ]
     },
     "execution_count": 25,
     "metadata": {
      "tags": []
     },
     "output_type": "execute_result"
    }
   ],
   "source": [
    "pd.Series(reversed([1,2,3,3,3,3,4,10,79,100])).is_monotonic_decreasing"
   ]
  },
  {
   "cell_type": "markdown",
   "metadata": {
    "colab_type": "text",
    "id": "8ZPmSRd2npNL"
   },
   "source": [
    "# The count() Method"
   ]
  },
  {
   "cell_type": "code",
   "execution_count": 22,
   "metadata": {
    "colab": {
     "base_uri": "https://localhost:8080/",
     "height": 0
    },
    "colab_type": "code",
    "id": "HpIzp4kUrYag",
    "outputId": "8569312c-d028-4165-cf05-59490cc36d99"
   },
   "outputs": [
    {
     "data": {
      "text/plain": [
       "162"
      ]
     },
     "execution_count": 22,
     "metadata": {},
     "output_type": "execute_result"
    }
   ],
   "source": [
    "alcohol.count()"
   ]
  },
  {
   "cell_type": "code",
   "execution_count": 23,
   "metadata": {
    "colab": {
     "base_uri": "https://localhost:8080/",
     "height": 0
    },
    "colab_type": "code",
    "id": "SmcwPpO5rjxD",
    "outputId": "61f58759-c983-45eb-e845-0f94483efc77"
   },
   "outputs": [
    {
     "data": {
      "text/plain": [
       "193"
      ]
     },
     "execution_count": 23,
     "metadata": {},
     "output_type": "execute_result"
    }
   ],
   "source": [
    "alcohol.size"
   ]
  },
  {
   "cell_type": "code",
   "execution_count": 24,
   "metadata": {
    "colab": {
     "base_uri": "https://localhost:8080/",
     "height": 0
    },
    "colab_type": "code",
    "id": "0KjpmHC_rnH3",
    "outputId": "bde67152-d079-4461-a25d-27755a0faedd"
   },
   "outputs": [
    {
     "data": {
      "text/plain": [
       "True"
      ]
     },
     "execution_count": 24,
     "metadata": {},
     "output_type": "execute_result"
    }
   ],
   "source": [
    "alcohol.hasnans"
   ]
  },
  {
   "cell_type": "markdown",
   "metadata": {
    "colab_type": "text",
    "id": "2Uyb4BGewrd1"
   },
   "source": [
    "# Accessing And Counting NA's"
   ]
  },
  {
   "cell_type": "code",
   "execution_count": 29,
   "metadata": {
    "colab": {
     "base_uri": "https://localhost:8080/",
     "height": 0
    },
    "colab_type": "code",
    "id": "wrltTMnR3mRY",
    "outputId": "378e109f-8ad1-4d6c-da8a-13a37f306cde"
   },
   "outputs": [
    {
     "data": {
      "text/plain": [
       "193"
      ]
     },
     "execution_count": 29,
     "metadata": {
      "tags": []
     },
     "output_type": "execute_result"
    }
   ],
   "source": [
    "alcohol.size"
   ]
  },
  {
   "cell_type": "code",
   "execution_count": 30,
   "metadata": {
    "colab": {
     "base_uri": "https://localhost:8080/",
     "height": 0
    },
    "colab_type": "code",
    "id": "wKcFq9e8312e",
    "outputId": "48d791b7-1bbd-4875-eed8-cb0209892e21"
   },
   "outputs": [
    {
     "data": {
      "text/plain": [
       "162"
      ]
     },
     "execution_count": 30,
     "metadata": {
      "tags": []
     },
     "output_type": "execute_result"
    }
   ],
   "source": [
    "alcohol.count()"
   ]
  },
  {
   "cell_type": "code",
   "execution_count": 25,
   "metadata": {
    "colab": {
     "base_uri": "https://localhost:8080/",
     "height": 0
    },
    "colab_type": "code",
    "id": "1mnSiAcw33Ez",
    "outputId": "0aa04c87-5d6a-4e4c-d3a7-ccda0ea1af4c"
   },
   "outputs": [
    {
     "data": {
      "text/plain": [
       "country\n",
       "Afghanistan     True\n",
       "Albania        False\n",
       "Algeria        False\n",
       "Andorra        False\n",
       "Angola         False\n",
       "               ...  \n",
       "Venezuela      False\n",
       "Vietnam        False\n",
       "Yemen           True\n",
       "Zambia         False\n",
       "Zimbabwe       False\n",
       "Name: wine_servings, Length: 193, dtype: bool"
      ]
     },
     "execution_count": 25,
     "metadata": {},
     "output_type": "execute_result"
    }
   ],
   "source": [
    "alcohol.isnull()"
   ]
  },
  {
   "cell_type": "code",
   "execution_count": 26,
   "metadata": {
    "colab": {
     "base_uri": "https://localhost:8080/",
     "height": 0
    },
    "colab_type": "code",
    "id": "cXoe2rMo4Ak-",
    "outputId": "b51592ea-dd23-4f85-e7b4-3ac460ab3365"
   },
   "outputs": [
    {
     "data": {
      "text/plain": [
       "Index(['Afghanistan', 'Bangladesh', 'Bhutan', 'Burundi', 'North Korea',\n",
       "       'Eritrea', 'Ethiopia', 'India', 'Indonesia', 'Iran', 'Iraq', 'Kuwait',\n",
       "       'Lesotho', 'Libya', 'Malaysia', 'Maldives', 'Marshall Islands',\n",
       "       'Mauritania', 'Monaco', 'Myanmar', 'Nepal', 'Pakistan', 'Rwanda',\n",
       "       'San Marino', 'Saudi Arabia', 'Somalia', 'Sri Lanka', 'Sudan',\n",
       "       'Tajikistan', 'Uganda', 'Yemen'],\n",
       "      dtype='object', name='country')"
      ]
     },
     "execution_count": 26,
     "metadata": {},
     "output_type": "execute_result"
    }
   ],
   "source": [
    "alcohol[alcohol.isnull()].index #non-null index are returned here"
   ]
  },
  {
   "cell_type": "code",
   "execution_count": 33,
   "metadata": {
    "colab": {
     "base_uri": "https://localhost:8080/",
     "height": 0
    },
    "colab_type": "code",
    "id": "8tN90S2e4RN9",
    "outputId": "4e198861-11bc-4c3b-e7c0-bff47bec13bd"
   },
   "outputs": [
    {
     "data": {
      "text/plain": [
       "pandas.core.indexes.base.Index"
      ]
     },
     "execution_count": 33,
     "metadata": {
      "tags": []
     },
     "output_type": "execute_result"
    }
   ],
   "source": [
    "type(alcohol[alcohol.isnull()].index)"
   ]
  },
  {
   "cell_type": "code",
   "execution_count": 27,
   "metadata": {
    "colab": {
     "base_uri": "https://localhost:8080/",
     "height": 0
    },
    "colab_type": "code",
    "id": "5bfVh2Yo4czZ",
    "outputId": "26ea1e59-7cf3-467b-a522-48746b898340"
   },
   "outputs": [
    {
     "data": {
      "text/plain": [
       "['Afghanistan',\n",
       " 'Bangladesh',\n",
       " 'Bhutan',\n",
       " 'Burundi',\n",
       " 'North Korea',\n",
       " 'Eritrea',\n",
       " 'Ethiopia',\n",
       " 'India',\n",
       " 'Indonesia',\n",
       " 'Iran',\n",
       " 'Iraq',\n",
       " 'Kuwait',\n",
       " 'Lesotho',\n",
       " 'Libya',\n",
       " 'Malaysia',\n",
       " 'Maldives',\n",
       " 'Marshall Islands',\n",
       " 'Mauritania',\n",
       " 'Monaco',\n",
       " 'Myanmar',\n",
       " 'Nepal',\n",
       " 'Pakistan',\n",
       " 'Rwanda',\n",
       " 'San Marino',\n",
       " 'Saudi Arabia',\n",
       " 'Somalia',\n",
       " 'Sri Lanka',\n",
       " 'Sudan',\n",
       " 'Tajikistan',\n",
       " 'Uganda',\n",
       " 'Yemen']"
      ]
     },
     "execution_count": 27,
     "metadata": {},
     "output_type": "execute_result"
    }
   ],
   "source": [
    "list(alcohol[alcohol.isnull()].index)"
   ]
  },
  {
   "cell_type": "code",
   "execution_count": 35,
   "metadata": {
    "colab": {
     "base_uri": "https://localhost:8080/",
     "height": 0
    },
    "colab_type": "code",
    "id": "6xlN1kLm4gFL",
    "outputId": "1d9ae0ac-21c3-45a1-bb94-216c11acd709"
   },
   "outputs": [
    {
     "data": {
      "text/plain": [
       "31"
      ]
     },
     "execution_count": 35,
     "metadata": {
      "tags": []
     },
     "output_type": "execute_result"
    }
   ],
   "source": [
    "len(list(alcohol[alcohol.isnull()].index))"
   ]
  },
  {
   "cell_type": "code",
   "execution_count": 0,
   "metadata": {
    "colab": {},
    "colab_type": "code",
    "id": "L8_WVNBD4sD6"
   },
   "outputs": [],
   "source": [
    "# cumbersome: very difficult to work with"
   ]
  },
  {
   "cell_type": "code",
   "execution_count": 0,
   "metadata": {
    "colab": {},
    "colab_type": "code",
    "id": "DX98Imtv43N6"
   },
   "outputs": [],
   "source": [
    "# antonym: pandorable -> adorable and involving pandas"
   ]
  },
  {
   "cell_type": "code",
   "execution_count": 28,
   "metadata": {
    "colab": {
     "base_uri": "https://localhost:8080/",
     "height": 0
    },
    "colab_type": "code",
    "id": "GPjvoQQx48BY",
    "outputId": "6b652a1a-cbc5-429d-cbf2-dc01edfe90fd"
   },
   "outputs": [
    {
     "data": {
      "text/plain": [
       "31"
      ]
     },
     "execution_count": 28,
     "metadata": {},
     "output_type": "execute_result"
    }
   ],
   "source": [
    "alcohol.isnull().sum()"
   ]
  },
  {
   "cell_type": "code",
   "execution_count": 0,
   "metadata": {
    "colab": {},
    "colab_type": "code",
    "id": "rMiQq6QJ5Ah2"
   },
   "outputs": [],
   "source": [
    "# booleans are integers in python"
   ]
  },
  {
   "cell_type": "code",
   "execution_count": 40,
   "metadata": {
    "colab": {
     "base_uri": "https://localhost:8080/",
     "height": 0
    },
    "colab_type": "code",
    "id": "cOfP156_5Pyh",
    "outputId": "2fc620d0-43f6-4367-d903-8bf8d3bbec7f"
   },
   "outputs": [
    {
     "data": {
      "text/plain": [
       "2"
      ]
     },
     "execution_count": 40,
     "metadata": {
      "tags": []
     },
     "output_type": "execute_result"
    }
   ],
   "source": [
    "sum([True, False, True])"
   ]
  },
  {
   "cell_type": "code",
   "execution_count": 0,
   "metadata": {
    "colab": {},
    "colab_type": "code",
    "id": "JALwr3eY5Ryy"
   },
   "outputs": [],
   "source": [
    "all = alcohol.size"
   ]
  },
  {
   "cell_type": "code",
   "execution_count": 0,
   "metadata": {
    "colab": {},
    "colab_type": "code",
    "id": "8PrDaULY5h1G"
   },
   "outputs": [],
   "source": [
    "nonnulls = alcohol.count()"
   ]
  },
  {
   "cell_type": "code",
   "execution_count": 0,
   "metadata": {
    "colab": {},
    "colab_type": "code",
    "id": "c6OkKOQ65j3U"
   },
   "outputs": [],
   "source": [
    "nulls = alcohol.isna().sum()"
   ]
  },
  {
   "cell_type": "code",
   "execution_count": 44,
   "metadata": {
    "colab": {
     "base_uri": "https://localhost:8080/",
     "height": 0
    },
    "colab_type": "code",
    "id": "7dfAEkwN5psH",
    "outputId": "76749643-02b5-465b-b855-bfda945ea5e7"
   },
   "outputs": [
    {
     "data": {
      "text/plain": [
       "True"
      ]
     },
     "execution_count": 44,
     "metadata": {
      "tags": []
     },
     "output_type": "execute_result"
    }
   ],
   "source": [
    "all == nonnulls + nulls"
   ]
  },
  {
   "cell_type": "markdown",
   "metadata": {
    "colab_type": "text",
    "id": "0cQFTQaf5sdp"
   },
   "source": [
    "# BONUS: Another Approach"
   ]
  },
  {
   "cell_type": "code",
   "execution_count": 0,
   "metadata": {
    "colab": {},
    "colab_type": "code",
    "id": "BwJQxxmOEzrv"
   },
   "outputs": [],
   "source": [
    "# ufunc -> universal function"
   ]
  },
  {
   "cell_type": "code",
   "execution_count": 46,
   "metadata": {
    "colab": {
     "base_uri": "https://localhost:8080/",
     "height": 0
    },
    "colab_type": "code",
    "id": "NAxUwv4bHqAE",
    "outputId": "8b2a40fc-32a0-48be-c052-b5054cd8866f"
   },
   "outputs": [
    {
     "data": {
      "text/plain": [
       "<ufunc 'isnan'>"
      ]
     },
     "execution_count": 46,
     "metadata": {
      "tags": []
     },
     "output_type": "execute_result"
    }
   ],
   "source": [
    "np.isnan"
   ]
  },
  {
   "cell_type": "code",
   "execution_count": 0,
   "metadata": {
    "colab": {},
    "colab_type": "code",
    "id": "Ds6uEqwiHsnR"
   },
   "outputs": [],
   "source": [
    "ser = pd.Series(data=[True, False, None, 2], dtype=float)"
   ]
  },
  {
   "cell_type": "code",
   "execution_count": 48,
   "metadata": {
    "colab": {
     "base_uri": "https://localhost:8080/",
     "height": 0
    },
    "colab_type": "code",
    "id": "ga4-GwZ8Hru3",
    "outputId": "e1c1fb65-318f-4b64-bd44-95d94f16719e"
   },
   "outputs": [
    {
     "data": {
      "text/plain": [
       "0    False\n",
       "1    False\n",
       "2     True\n",
       "3    False\n",
       "dtype: bool"
      ]
     },
     "execution_count": 48,
     "metadata": {
      "tags": []
     },
     "output_type": "execute_result"
    }
   ],
   "source": [
    "np.isnan(ser)"
   ]
  },
  {
   "cell_type": "code",
   "execution_count": 49,
   "metadata": {
    "colab": {
     "base_uri": "https://localhost:8080/",
     "height": 0
    },
    "colab_type": "code",
    "id": "JkQ5C6t1Hrrj",
    "outputId": "fb295812-08ed-49b7-aa89-9b07468ea94c"
   },
   "outputs": [
    {
     "data": {
      "text/plain": [
       "0    1.0\n",
       "1    0.0\n",
       "2    NaN\n",
       "3    2.0\n",
       "dtype: float64"
      ]
     },
     "execution_count": 49,
     "metadata": {
      "tags": []
     },
     "output_type": "execute_result"
    }
   ],
   "source": [
    "ser"
   ]
  },
  {
   "cell_type": "code",
   "execution_count": 50,
   "metadata": {
    "colab": {
     "base_uri": "https://localhost:8080/",
     "height": 0
    },
    "colab_type": "code",
    "id": "6wduynawHrGp",
    "outputId": "08df61f3-2ecc-4e68-eaa7-2500429ba24e"
   },
   "outputs": [
    {
     "data": {
      "text/plain": [
       "31"
      ]
     },
     "execution_count": 50,
     "metadata": {
      "tags": []
     },
     "output_type": "execute_result"
    }
   ],
   "source": [
    "alcohol[np.isnan].size"
   ]
  },
  {
   "cell_type": "code",
   "execution_count": 0,
   "metadata": {
    "colab": {},
    "colab_type": "code",
    "id": "qv0ESse1Id3c"
   },
   "outputs": [],
   "source": [
    "# alcohol[alcohol.isna()]"
   ]
  },
  {
   "cell_type": "markdown",
   "metadata": {
    "colab_type": "text",
    "id": "avNo9M4XIscn"
   },
   "source": [
    "## The Other Side: notnull() And notna()"
   ]
  },
  {
   "cell_type": "code",
   "execution_count": 0,
   "metadata": {
    "colab": {},
    "colab_type": "code",
    "id": "lLEHEcbKyAUF"
   },
   "outputs": [],
   "source": [
    "# notnull()"
   ]
  },
  {
   "cell_type": "code",
   "execution_count": 86,
   "metadata": {
    "colab": {
     "base_uri": "https://localhost:8080/",
     "height": 0
    },
    "colab_type": "code",
    "id": "olmwJ_VwyAJn",
    "outputId": "d473cccf-d1db-4dc3-bcd3-305b0174a4f1"
   },
   "outputs": [
    {
     "data": {
      "text/plain": [
       "country\n",
       "Afghanistan    False\n",
       "Albania         True\n",
       "Algeria         True\n",
       "Andorra         True\n",
       "Angola          True\n",
       "               ...  \n",
       "Venezuela       True\n",
       "Vietnam         True\n",
       "Yemen          False\n",
       "Zambia          True\n",
       "Zimbabwe        True\n",
       "Name: wine_servings, Length: 193, dtype: bool"
      ]
     },
     "execution_count": 86,
     "metadata": {},
     "output_type": "execute_result"
    }
   ],
   "source": [
    "alcohol.notnull()"
   ]
  },
  {
   "cell_type": "code",
   "execution_count": 29,
   "metadata": {},
   "outputs": [
    {
     "data": {
      "text/plain": [
       "country\n",
       "Afghanistan    False\n",
       "Albania         True\n",
       "Algeria         True\n",
       "Andorra         True\n",
       "Angola          True\n",
       "               ...  \n",
       "Venezuela       True\n",
       "Vietnam         True\n",
       "Yemen          False\n",
       "Zambia          True\n",
       "Zimbabwe        True\n",
       "Name: wine_servings, Length: 193, dtype: bool"
      ]
     },
     "execution_count": 29,
     "metadata": {},
     "output_type": "execute_result"
    }
   ],
   "source": [
    "alcohol.notna()"
   ]
  },
  {
   "cell_type": "code",
   "execution_count": 30,
   "metadata": {},
   "outputs": [
    {
     "data": {
      "text/plain": [
       "pandas.core.series.Series"
      ]
     },
     "execution_count": 30,
     "metadata": {},
     "output_type": "execute_result"
    }
   ],
   "source": [
    "type(alcohol.notna()) #passing boolen to series with loc return true value"
   ]
  },
  {
   "cell_type": "code",
   "execution_count": 87,
   "metadata": {
    "colab": {
     "base_uri": "https://localhost:8080/",
     "height": 0
    },
    "colab_type": "code",
    "id": "wlHqiCsDxn4P",
    "outputId": "35f918f7-3b04-4138-d16b-238437edd653"
   },
   "outputs": [
    {
     "data": {
      "text/plain": [
       "country\n",
       "Albania               54.0\n",
       "Algeria               14.0\n",
       "Andorra              312.0\n",
       "Angola                45.0\n",
       "Antigua & Barbuda     45.0\n",
       "                     ...  \n",
       "Vanuatu               11.0\n",
       "Venezuela              3.0\n",
       "Vietnam                1.0\n",
       "Zambia                 4.0\n",
       "Zimbabwe               4.0\n",
       "Name: wine_servings, Length: 162, dtype: float64"
      ]
     },
     "execution_count": 87,
     "metadata": {},
     "output_type": "execute_result"
    }
   ],
   "source": [
    "alcohol.loc[alcohol.notna()]"
   ]
  },
  {
   "cell_type": "code",
   "execution_count": 31,
   "metadata": {
    "colab": {
     "base_uri": "https://localhost:8080/",
     "height": 0
    },
    "colab_type": "code",
    "id": "gvoTVEHyxn00",
    "outputId": "444569c5-f477-402f-8459-fbe290888742"
   },
   "outputs": [
    {
     "data": {
      "text/plain": [
       "162"
      ]
     },
     "execution_count": 31,
     "metadata": {},
     "output_type": "execute_result"
    }
   ],
   "source": [
    "alcohol.notna().sum()"
   ]
  },
  {
   "cell_type": "code",
   "execution_count": 32,
   "metadata": {
    "colab": {
     "base_uri": "https://localhost:8080/",
     "height": 0
    },
    "colab_type": "code",
    "id": "_-bDETUrxmNY",
    "outputId": "4434a6cd-b256-410b-f5f4-c1eada0d4066"
   },
   "outputs": [
    {
     "data": {
      "text/plain": [
       "162"
      ]
     },
     "execution_count": 32,
     "metadata": {},
     "output_type": "execute_result"
    }
   ],
   "source": [
    "alcohol.count()"
   ]
  },
  {
   "cell_type": "code",
   "execution_count": 33,
   "metadata": {},
   "outputs": [
    {
     "data": {
      "text/plain": [
       "193"
      ]
     },
     "execution_count": 33,
     "metadata": {},
     "output_type": "execute_result"
    }
   ],
   "source": [
    "alcohol.size"
   ]
  },
  {
   "cell_type": "code",
   "execution_count": 90,
   "metadata": {
    "colab": {
     "base_uri": "https://localhost:8080/",
     "height": 0
    },
    "colab_type": "code",
    "id": "4m-sZQkexmRo",
    "outputId": "1d9b5930-2cd0-4831-d443-6819a37005ca"
   },
   "outputs": [
    {
     "data": {
      "text/plain": [
       "True"
      ]
     },
     "execution_count": 90,
     "metadata": {},
     "output_type": "execute_result"
    }
   ],
   "source": [
    "alcohol.notnull().sum() + alcohol.isnull().sum() == alcohol.size"
   ]
  },
  {
   "cell_type": "code",
   "execution_count": 91,
   "metadata": {
    "colab": {
     "base_uri": "https://localhost:8080/",
     "height": 0
    },
    "colab_type": "code",
    "id": "Laoiyhqpyf4D",
    "outputId": "0c34e2e7-2ba5-4f4b-d1a9-a5729b3b0951"
   },
   "outputs": [
    {
     "data": {
      "text/plain": [
       "bool"
      ]
     },
     "execution_count": 91,
     "metadata": {},
     "output_type": "execute_result"
    }
   ],
   "source": [
    "type(True)"
   ]
  },
  {
   "cell_type": "markdown",
   "metadata": {
    "colab_type": "text",
    "id": "ZvebaX6H22G9"
   },
   "source": [
    "## BONUS: Booleans Are Literally Numbers In Python"
   ]
  },
  {
   "cell_type": "code",
   "execution_count": 59,
   "metadata": {
    "colab": {
     "base_uri": "https://localhost:8080/",
     "height": 0
    },
    "colab_type": "code",
    "id": "nSuFI9pH69E3",
    "outputId": "ab1a1b16-241c-4996-99ad-51c3f8fec784"
   },
   "outputs": [
    {
     "data": {
      "text/plain": [
       "20"
      ]
     },
     "execution_count": 59,
     "metadata": {
      "tags": []
     },
     "output_type": "execute_result"
    }
   ],
   "source": [
    "True + 19"
   ]
  },
  {
   "cell_type": "code",
   "execution_count": 60,
   "metadata": {
    "colab": {
     "base_uri": "https://localhost:8080/",
     "height": 0
    },
    "colab_type": "code",
    "id": "hpJb2pRi68nH",
    "outputId": "c83a600b-7e32-4a98-8b1e-2a203a3be58e"
   },
   "outputs": [
    {
     "data": {
      "text/plain": [
       "5"
      ]
     },
     "execution_count": 60,
     "metadata": {
      "tags": []
     },
     "output_type": "execute_result"
    }
   ],
   "source": [
    "True + True - False + True * 3"
   ]
  },
  {
   "cell_type": "code",
   "execution_count": 0,
   "metadata": {
    "colab": {},
    "colab_type": "code",
    "id": "BOgom4_z68hV"
   },
   "outputs": [],
   "source": [
    "# 5 / False"
   ]
  },
  {
   "cell_type": "code",
   "execution_count": 62,
   "metadata": {
    "colab": {
     "base_uri": "https://localhost:8080/",
     "height": 0
    },
    "colab_type": "code",
    "id": "hLo-mpdm68dS",
    "outputId": "f5dfdc1b-9053-4dbb-8f78-bf4bc6773e53"
   },
   "outputs": [
    {
     "data": {
      "text/plain": [
       "bool"
      ]
     },
     "execution_count": 62,
     "metadata": {
      "tags": []
     },
     "output_type": "execute_result"
    }
   ],
   "source": [
    "type(True)"
   ]
  },
  {
   "cell_type": "code",
   "execution_count": 63,
   "metadata": {
    "colab": {
     "base_uri": "https://localhost:8080/",
     "height": 0
    },
    "colab_type": "code",
    "id": "MczRmG6g4f6c",
    "outputId": "ce7454d7-ad65-49b6-ad2a-4548f32c2079"
   },
   "outputs": [
    {
     "data": {
      "text/plain": [
       "bool"
      ]
     },
     "execution_count": 63,
     "metadata": {
      "tags": []
     },
     "output_type": "execute_result"
    }
   ],
   "source": [
    "type(False)"
   ]
  },
  {
   "cell_type": "code",
   "execution_count": 64,
   "metadata": {
    "colab": {
     "base_uri": "https://localhost:8080/",
     "height": 0
    },
    "colab_type": "code",
    "id": "tD2pTO6y7biP",
    "outputId": "c11965d9-ab29-4b76-a406-42793d81ac2c"
   },
   "outputs": [
    {
     "data": {
      "text/plain": [
       "(bool, int, object)"
      ]
     },
     "execution_count": 64,
     "metadata": {
      "tags": []
     },
     "output_type": "execute_result"
    }
   ],
   "source": [
    "bool.__mro__"
   ]
  },
  {
   "cell_type": "code",
   "execution_count": 92,
   "metadata": {
    "colab": {
     "base_uri": "https://localhost:8080/",
     "height": 0
    },
    "colab_type": "code",
    "id": "a4fuYdeW7ewF",
    "outputId": "1489edfb-a6be-4d7a-a6cc-85c66fc680bd"
   },
   "outputs": [
    {
     "data": {
      "text/plain": [
       "31"
      ]
     },
     "execution_count": 92,
     "metadata": {},
     "output_type": "execute_result"
    }
   ],
   "source": [
    "alcohol.isnull().sum()"
   ]
  },
  {
   "cell_type": "markdown",
   "metadata": {
    "colab_type": "text",
    "id": "WXhFbvHH7pNc"
   },
   "source": [
    "# Skill Challenge"
   ]
  },
  {
   "cell_type": "markdown",
   "metadata": {
    "colab_type": "text",
    "id": "YHKgbkR68zod"
   },
   "source": [
    "###### **1**."
   ]
  },
  {
   "cell_type": "markdown",
   "metadata": {
    "colab_type": "text",
    "id": "5hFp3aOc8_6P"
   },
   "source": [
    "Isolate the non-nulls in the *alcohol* series and assign them to the variable *wine_servings*."
   ]
  },
  {
   "cell_type": "markdown",
   "metadata": {
    "colab_type": "text",
    "id": "qZK-PRez8ysX"
   },
   "source": [
    "###### **2**."
   ]
  },
  {
   "cell_type": "markdown",
   "metadata": {
    "colab_type": "text",
    "id": "OBAYPavc8yKl"
   },
   "source": [
    "What is the total wine consumed by countries in *wine_servings*?"
   ]
  },
  {
   "cell_type": "markdown",
   "metadata": {
    "colab_type": "text",
    "id": "FoywZIaI8tXr"
   },
   "source": [
    "###### **BONUS 3**."
   ]
  },
  {
   "cell_type": "markdown",
   "metadata": {
    "colab_type": "text",
    "id": "QfkvdBzG8tai"
   },
   "source": [
    "In the *wine_servings* dataset, what was the total wine consumed by countries that consumed less than 100 servings?\n",
    "\n",
    "*Hint*: apply a boolean mask to identify such countries, then sum()."
   ]
  },
  {
   "cell_type": "markdown",
   "metadata": {
    "colab_type": "text",
    "id": "-6H40AKm_86N"
   },
   "source": [
    "## Solution"
   ]
  },
  {
   "cell_type": "code",
   "execution_count": 0,
   "metadata": {
    "colab": {},
    "colab_type": "code",
    "id": "ZtBYQaFxB0Gx"
   },
   "outputs": [],
   "source": [
    "# 1"
   ]
  },
  {
   "cell_type": "code",
   "execution_count": 0,
   "metadata": {
    "colab": {},
    "colab_type": "code",
    "id": "UEFFGFqdB32W"
   },
   "outputs": [],
   "source": [
    "wine_servings = alcohol[alcohol.notnull()]"
   ]
  },
  {
   "cell_type": "code",
   "execution_count": 68,
   "metadata": {
    "colab": {
     "base_uri": "https://localhost:8080/",
     "height": 0
    },
    "colab_type": "code",
    "id": "ttYQgQYTB8Ht",
    "outputId": "80243b23-fe4c-4f75-8e17-717e88717429"
   },
   "outputs": [
    {
     "data": {
      "text/plain": [
       "country\n",
       "Albania               54.0\n",
       "Algeria               14.0\n",
       "Andorra              312.0\n",
       "Angola                45.0\n",
       "Antigua & Barbuda     45.0\n",
       "Name: wine_servings, dtype: float64"
      ]
     },
     "execution_count": 68,
     "metadata": {
      "tags": []
     },
     "output_type": "execute_result"
    }
   ],
   "source": [
    "wine_servings.head()"
   ]
  },
  {
   "cell_type": "code",
   "execution_count": 0,
   "metadata": {
    "colab": {},
    "colab_type": "code",
    "id": "zpzPqvdtB9GW"
   },
   "outputs": [],
   "source": [
    "# 2"
   ]
  },
  {
   "cell_type": "code",
   "execution_count": 70,
   "metadata": {
    "colab": {
     "base_uri": "https://localhost:8080/",
     "height": 0
    },
    "colab_type": "code",
    "id": "GG2-xYeFCEI8",
    "outputId": "fc2fab5c-e49e-4fa4-e3cc-15722993c3a1"
   },
   "outputs": [
    {
     "data": {
      "text/plain": [
       "8221.0"
      ]
     },
     "execution_count": 70,
     "metadata": {
      "tags": []
     },
     "output_type": "execute_result"
    }
   ],
   "source": [
    "wine_servings.sum()"
   ]
  },
  {
   "cell_type": "code",
   "execution_count": 0,
   "metadata": {
    "colab": {},
    "colab_type": "code",
    "id": "Ke2FKX5SCHX3"
   },
   "outputs": [],
   "source": [
    "# 3"
   ]
  },
  {
   "cell_type": "code",
   "execution_count": 72,
   "metadata": {
    "colab": {
     "base_uri": "https://localhost:8080/",
     "height": 0
    },
    "colab_type": "code",
    "id": "wdpl3sp3CPn_",
    "outputId": "3980c92d-31f3-4675-8b0f-1cee4e54986d"
   },
   "outputs": [
    {
     "data": {
      "text/plain": [
       "country\n",
       "Albania               True\n",
       "Algeria               True\n",
       "Andorra              False\n",
       "Angola                True\n",
       "Antigua & Barbuda     True\n",
       "                     ...  \n",
       "Vanuatu               True\n",
       "Venezuela             True\n",
       "Vietnam               True\n",
       "Zambia                True\n",
       "Zimbabwe              True\n",
       "Name: wine_servings, Length: 162, dtype: bool"
      ]
     },
     "execution_count": 72,
     "metadata": {
      "tags": []
     },
     "output_type": "execute_result"
    }
   ],
   "source": [
    "wine_servings < 100"
   ]
  },
  {
   "cell_type": "code",
   "execution_count": 73,
   "metadata": {
    "colab": {
     "base_uri": "https://localhost:8080/",
     "height": 0
    },
    "colab_type": "code",
    "id": "EUj44jbhCUTn",
    "outputId": "332f638b-231c-4636-ad2d-9e54209be1cf"
   },
   "outputs": [
    {
     "data": {
      "text/plain": [
       "country\n",
       "Afghanistan    False\n",
       "Albania         True\n",
       "Algeria         True\n",
       "Andorra         True\n",
       "Angola          True\n",
       "               ...  \n",
       "Venezuela       True\n",
       "Vietnam         True\n",
       "Yemen          False\n",
       "Zambia          True\n",
       "Zimbabwe        True\n",
       "Name: wine_servings, Length: 193, dtype: bool"
      ]
     },
     "execution_count": 73,
     "metadata": {
      "tags": []
     },
     "output_type": "execute_result"
    }
   ],
   "source": [
    "alcohol.notnull()"
   ]
  },
  {
   "cell_type": "code",
   "execution_count": 74,
   "metadata": {
    "colab": {
     "base_uri": "https://localhost:8080/",
     "height": 0
    },
    "colab_type": "code",
    "id": "Hden9KfnCKYC",
    "outputId": "bbf70ddd-3e0a-43f3-c91a-5f777d8a98b8"
   },
   "outputs": [
    {
     "data": {
      "text/plain": [
       "2416.0"
      ]
     },
     "execution_count": 74,
     "metadata": {
      "tags": []
     },
     "output_type": "execute_result"
    }
   ],
   "source": [
    "wine_servings[wine_servings < 100].sum()"
   ]
  },
  {
   "cell_type": "markdown",
   "metadata": {
    "colab_type": "text",
    "id": "xrjB9p_LCcBM"
   },
   "source": [
    "# Dropping And Filling NAs"
   ]
  },
  {
   "cell_type": "code",
   "execution_count": 93,
   "metadata": {
    "colab": {
     "base_uri": "https://localhost:8080/",
     "height": 0
    },
    "colab_type": "code",
    "id": "-Tw5g0rSOCFI",
    "outputId": "f3c09cb4-e019-42ba-9afa-d621d069b3de"
   },
   "outputs": [
    {
     "data": {
      "text/plain": [
       "country\n",
       "Albania               54.0\n",
       "Algeria               14.0\n",
       "Andorra              312.0\n",
       "Angola                45.0\n",
       "Antigua & Barbuda     45.0\n",
       "                     ...  \n",
       "Vanuatu               11.0\n",
       "Venezuela              3.0\n",
       "Vietnam                1.0\n",
       "Zambia                 4.0\n",
       "Zimbabwe               4.0\n",
       "Name: wine_servings, Length: 162, dtype: float64"
      ]
     },
     "execution_count": 93,
     "metadata": {},
     "output_type": "execute_result"
    }
   ],
   "source": [
    "alcohol.dropna()"
   ]
  },
  {
   "cell_type": "code",
   "execution_count": 94,
   "metadata": {
    "colab": {
     "base_uri": "https://localhost:8080/",
     "height": 0
    },
    "colab_type": "code",
    "id": "g1mBJPHTOB2B",
    "outputId": "33069dc4-3cce-4c5d-892c-b144b80e42f6"
   },
   "outputs": [
    {
     "data": {
      "text/plain": [
       "country\n",
       "Afghanistan      NaN\n",
       "Albania         54.0\n",
       "Algeria         14.0\n",
       "Andorra        312.0\n",
       "Angola          45.0\n",
       "               ...  \n",
       "Venezuela        3.0\n",
       "Vietnam          1.0\n",
       "Yemen            NaN\n",
       "Zambia           4.0\n",
       "Zimbabwe         4.0\n",
       "Name: wine_servings, Length: 193, dtype: float64"
      ]
     },
     "execution_count": 94,
     "metadata": {},
     "output_type": "execute_result"
    }
   ],
   "source": [
    "alcohol"
   ]
  },
  {
   "cell_type": "code",
   "execution_count": 0,
   "metadata": {
    "colab": {},
    "colab_type": "code",
    "id": "V-EWM7vUOUEL"
   },
   "outputs": [],
   "source": [
    "# one way: reassignment"
   ]
  },
  {
   "cell_type": "code",
   "execution_count": 0,
   "metadata": {
    "colab": {},
    "colab_type": "code",
    "id": "PYirECSLN7c8"
   },
   "outputs": [],
   "source": [
    "# alcohol = alcohol.dropna()"
   ]
  },
  {
   "cell_type": "code",
   "execution_count": 0,
   "metadata": {
    "colab": {},
    "colab_type": "code",
    "id": "0k624mWwN8Cm"
   },
   "outputs": [],
   "source": [
    "# another way: inplace param"
   ]
  },
  {
   "cell_type": "code",
   "execution_count": 0,
   "metadata": {
    "colab": {},
    "colab_type": "code",
    "id": "OoK5EfayN78m"
   },
   "outputs": [],
   "source": [
    "# alcohol.dropna(inplace=True)"
   ]
  },
  {
   "cell_type": "code",
   "execution_count": 95,
   "metadata": {
    "colab": {
     "base_uri": "https://localhost:8080/",
     "height": 0
    },
    "colab_type": "code",
    "id": "yoogFfkSN7ik",
    "outputId": "c688b199-f2ee-459d-f138-a2416bc56831"
   },
   "outputs": [
    {
     "data": {
      "text/plain": [
       "country\n",
       "Albania               54.0\n",
       "Algeria               14.0\n",
       "Andorra              312.0\n",
       "Angola                45.0\n",
       "Antigua & Barbuda     45.0\n",
       "                     ...  \n",
       "Vanuatu               11.0\n",
       "Venezuela              3.0\n",
       "Vietnam                1.0\n",
       "Zambia                 4.0\n",
       "Zimbabwe               4.0\n",
       "Name: wine_servings, Length: 162, dtype: float64"
      ]
     },
     "execution_count": 95,
     "metadata": {},
     "output_type": "execute_result"
    }
   ],
   "source": [
    "alcohol.dropna(inplace=False)"
   ]
  },
  {
   "cell_type": "markdown",
   "metadata": {},
   "source": [
    "Use of inplace = false?\n",
    "- This will not modify original alcohol series but return a new series. If marked as true it will modify the original series"
   ]
  },
  {
   "cell_type": "code",
   "execution_count": 34,
   "metadata": {
    "colab": {
     "base_uri": "https://localhost:8080/",
     "height": 0
    },
    "colab_type": "code",
    "id": "84G7FNkuOi69",
    "outputId": "6e1b8b06-6e46-468d-d815-817c1948cdaf"
   },
   "outputs": [
    {
     "data": {
      "text/plain": [
       "country\n",
       "Afghanistan    100.0\n",
       "Albania         54.0\n",
       "Algeria         14.0\n",
       "Andorra        312.0\n",
       "Angola          45.0\n",
       "               ...  \n",
       "Venezuela        3.0\n",
       "Vietnam          1.0\n",
       "Yemen          100.0\n",
       "Zambia           4.0\n",
       "Zimbabwe         4.0\n",
       "Name: wine_servings, Length: 193, dtype: float64"
      ]
     },
     "execution_count": 34,
     "metadata": {},
     "output_type": "execute_result"
    }
   ],
   "source": [
    "alcohol.fillna(100, inplace=False)"
   ]
  },
  {
   "cell_type": "markdown",
   "metadata": {
    "colab_type": "text",
    "id": "wqgJ5eHjO0W8"
   },
   "source": [
    "# Descriptive Statistics"
   ]
  },
  {
   "cell_type": "code",
   "execution_count": 35,
   "metadata": {
    "colab": {
     "base_uri": "https://localhost:8080/",
     "height": 0
    },
    "colab_type": "code",
    "id": "AszQdqyNeUXG",
    "outputId": "cb093d9c-9bff-4b79-a119-61db7bdf60fc"
   },
   "outputs": [
    {
     "data": {
      "text/plain": [
       "8221.0"
      ]
     },
     "execution_count": 35,
     "metadata": {},
     "output_type": "execute_result"
    }
   ],
   "source": [
    "alcohol.sum()"
   ]
  },
  {
   "cell_type": "code",
   "execution_count": 0,
   "metadata": {
    "colab": {},
    "colab_type": "code",
    "id": "1GHW3ZTeeUNi"
   },
   "outputs": [],
   "source": [
    "# average"
   ]
  },
  {
   "cell_type": "code",
   "execution_count": 85,
   "metadata": {
    "colab": {
     "base_uri": "https://localhost:8080/",
     "height": 0
    },
    "colab_type": "code",
    "id": "3k03Et_weTQn",
    "outputId": "02b6b296-fb86-4479-dd8b-7937ba56df31"
   },
   "outputs": [
    {
     "data": {
      "text/plain": [
       "162"
      ]
     },
     "execution_count": 85,
     "metadata": {
      "tags": []
     },
     "output_type": "execute_result"
    }
   ],
   "source": [
    "alcohol.count()"
   ]
  },
  {
   "cell_type": "code",
   "execution_count": 86,
   "metadata": {
    "colab": {
     "base_uri": "https://localhost:8080/",
     "height": 0
    },
    "colab_type": "code",
    "id": "9pfmLY5UeTKf",
    "outputId": "ecb2a931-be62-4e6d-fecf-09673f0bb4ad"
   },
   "outputs": [
    {
     "data": {
      "text/plain": [
       "50.74691358024691"
      ]
     },
     "execution_count": 86,
     "metadata": {
      "tags": []
     },
     "output_type": "execute_result"
    }
   ],
   "source": [
    "alcohol.sum() / alcohol.count()"
   ]
  },
  {
   "cell_type": "code",
   "execution_count": 87,
   "metadata": {
    "colab": {
     "base_uri": "https://localhost:8080/",
     "height": 0
    },
    "colab_type": "code",
    "id": "XfnfoY9reS4s",
    "outputId": "c9b4b251-90bc-4e25-b747-83aadd1762fe"
   },
   "outputs": [
    {
     "data": {
      "text/plain": [
       "50.74691358024691"
      ]
     },
     "execution_count": 87,
     "metadata": {
      "tags": []
     },
     "output_type": "execute_result"
    }
   ],
   "source": [
    "alcohol.mean()"
   ]
  },
  {
   "cell_type": "code",
   "execution_count": 0,
   "metadata": {
    "colab": {},
    "colab_type": "code",
    "id": "EjrKMXDOeOYu"
   },
   "outputs": [],
   "source": [
    "# median"
   ]
  },
  {
   "cell_type": "code",
   "execution_count": 89,
   "metadata": {
    "colab": {
     "base_uri": "https://localhost:8080/",
     "height": 0
    },
    "colab_type": "code",
    "id": "ITjSlF2vPhhh",
    "outputId": "0543e78a-c719-42c1-8309-0d2676a3ec22"
   },
   "outputs": [
    {
     "data": {
      "text/plain": [
       "11.5"
      ]
     },
     "execution_count": 89,
     "metadata": {
      "tags": []
     },
     "output_type": "execute_result"
    }
   ],
   "source": [
    "alcohol.median()"
   ]
  },
  {
   "cell_type": "code",
   "execution_count": 98,
   "metadata": {
    "colab": {
     "base_uri": "https://localhost:8080/",
     "height": 0
    },
    "colab_type": "code",
    "id": "AWpNYagle-le",
    "outputId": "51ec311a-e1ad-4915-dd94-07ec7ee8cbc6"
   },
   "outputs": [
    {
     "data": {
      "text/plain": [
       "11.5"
      ]
     },
     "execution_count": 98,
     "metadata": {},
     "output_type": "execute_result"
    }
   ],
   "source": [
    "alcohol.quantile(.5)"
   ]
  },
  {
   "cell_type": "code",
   "execution_count": 39,
   "metadata": {
    "colab": {
     "base_uri": "https://localhost:8080/",
     "height": 0
    },
    "colab_type": "code",
    "id": "FePcumbTfDXj",
    "outputId": "094c7de9-68e5-4764-9a84-38c9972a00f8"
   },
   "outputs": [
    {
     "data": {
      "image/png": "[encoded data removed]",
      "text/plain": [
       "<Figure size 640x480 with 1 Axes>"
      ]
     },
     "metadata": {},
     "output_type": "display_data"
    }
   ],
   "source": [
    "alcohol.hist(bins=10);"
   ]
  },
  {
   "cell_type": "code",
   "execution_count": 0,
   "metadata": {
    "colab": {},
    "colab_type": "code",
    "id": "7oBYGr5EfhyJ"
   },
   "outputs": [],
   "source": [
    "# IQR"
   ]
  },
  {
   "cell_type": "code",
   "execution_count": 100,
   "metadata": {
    "colab": {},
    "colab_type": "code",
    "id": "OU9zbEjWfuYY"
   },
   "outputs": [],
   "source": [
    "iqr = alcohol.quantile(.75) - alcohol.quantile(.25)"
   ]
  },
  {
   "cell_type": "code",
   "execution_count": 101,
   "metadata": {
    "colab": {
     "base_uri": "https://localhost:8080/",
     "height": 0
    },
    "colab_type": "code",
    "id": "-2yJB8X4fz42",
    "outputId": "678279f8-db0a-4f08-8111-70eef480da79"
   },
   "outputs": [
    {
     "data": {
      "text/plain": [
       "58.25"
      ]
     },
     "execution_count": 101,
     "metadata": {},
     "output_type": "execute_result"
    }
   ],
   "source": [
    "iqr"
   ]
  },
  {
   "cell_type": "code",
   "execution_count": 0,
   "metadata": {
    "colab": {},
    "colab_type": "code",
    "id": "fzAF-x7Wf0Ts"
   },
   "outputs": [],
   "source": [
    "# min and max"
   ]
  },
  {
   "cell_type": "code",
   "execution_count": 96,
   "metadata": {
    "colab": {
     "base_uri": "https://localhost:8080/",
     "height": 0
    },
    "colab_type": "code",
    "id": "CP3ULNFLf7ON",
    "outputId": "25820665-eb67-490e-95c0-026d416e399d"
   },
   "outputs": [
    {
     "data": {
      "text/plain": [
       "1.0"
      ]
     },
     "execution_count": 96,
     "metadata": {
      "tags": []
     },
     "output_type": "execute_result"
    }
   ],
   "source": [
    "alcohol.min()"
   ]
  },
  {
   "cell_type": "code",
   "execution_count": 97,
   "metadata": {
    "colab": {
     "base_uri": "https://localhost:8080/",
     "height": 0
    },
    "colab_type": "code",
    "id": "uo_u8XJif8oL",
    "outputId": "d3f3c614-dcdd-471f-d661-a64877d0de3b"
   },
   "outputs": [
    {
     "data": {
      "text/plain": [
       "339.0"
      ]
     },
     "execution_count": 97,
     "metadata": {
      "tags": []
     },
     "output_type": "execute_result"
    }
   ],
   "source": [
    "alcohol.max()"
   ]
  },
  {
   "cell_type": "code",
   "execution_count": 0,
   "metadata": {
    "colab": {},
    "colab_type": "code",
    "id": "7JXY4-0Pf-t2"
   },
   "outputs": [],
   "source": [
    "# standard deviation"
   ]
  },
  {
   "cell_type": "code",
   "execution_count": 102,
   "metadata": {
    "colab": {
     "base_uri": "https://localhost:8080/",
     "height": 0
    },
    "colab_type": "code",
    "id": "qCi-A-FEgBQK",
    "outputId": "f5cc9426-89ca-4206-cc43-20a5583eebd8"
   },
   "outputs": [
    {
     "data": {
      "text/plain": [
       "76.13491716376171"
      ]
     },
     "execution_count": 102,
     "metadata": {},
     "output_type": "execute_result"
    }
   ],
   "source": [
    "alcohol.std()"
   ]
  },
  {
   "cell_type": "code",
   "execution_count": 0,
   "metadata": {
    "colab": {},
    "colab_type": "code",
    "id": "66GDeRuJgCyM"
   },
   "outputs": [],
   "source": [
    "# variance"
   ]
  },
  {
   "cell_type": "code",
   "execution_count": 103,
   "metadata": {
    "colab": {
     "base_uri": "https://localhost:8080/",
     "height": 0
    },
    "colab_type": "code",
    "id": "lvtzNmKagFHz",
    "outputId": "f71cc4a1-2ef8-4958-e5c7-989ba0067e5c"
   },
   "outputs": [
    {
     "data": {
      "text/plain": [
       "5796.5256115328575"
      ]
     },
     "execution_count": 103,
     "metadata": {},
     "output_type": "execute_result"
    }
   ],
   "source": [
    "alcohol.var()"
   ]
  },
  {
   "cell_type": "code",
   "execution_count": 104,
   "metadata": {
    "colab": {
     "base_uri": "https://localhost:8080/",
     "height": 0
    },
    "colab_type": "code",
    "id": "T1am8gNZgGLF",
    "outputId": "3f9e6469-5cd6-4966-b3b9-57b5cca34da4"
   },
   "outputs": [
    {
     "data": {
      "text/plain": [
       "True"
      ]
     },
     "execution_count": 104,
     "metadata": {},
     "output_type": "execute_result"
    }
   ],
   "source": [
    "alcohol.std()**2 == alcohol.var()"
   ]
  },
  {
   "cell_type": "markdown",
   "metadata": {
    "colab_type": "text",
    "id": "fWHpVbsggJTo"
   },
   "source": [
    "# The describe() Method"
   ]
  },
  {
   "cell_type": "code",
   "execution_count": 40,
   "metadata": {
    "colab": {
     "base_uri": "https://localhost:8080/",
     "height": 0
    },
    "colab_type": "code",
    "id": "NqkEAdZzi9fJ",
    "outputId": "2d05dc97-3b63-4769-fe2f-af345d037f27"
   },
   "outputs": [
    {
     "data": {
      "text/plain": [
       "count    162.000000\n",
       "mean      50.746914\n",
       "std       76.134917\n",
       "min        1.000000\n",
       "25%        3.000000\n",
       "50%       11.500000\n",
       "75%       61.250000\n",
       "max      339.000000\n",
       "Name: wine_servings, dtype: float64"
      ]
     },
     "execution_count": 40,
     "metadata": {},
     "output_type": "execute_result"
    }
   ],
   "source": [
    "alcohol.describe()"
   ]
  },
  {
   "cell_type": "code",
   "execution_count": 41,
   "metadata": {
    "colab": {
     "base_uri": "https://localhost:8080/",
     "height": 0
    },
    "colab_type": "code",
    "id": "HI_AK_2ui9Zs",
    "outputId": "b3736b51-2860-474a-d658-bcb804fcef76"
   },
   "outputs": [
    {
     "data": {
      "text/plain": [
       "count    162.000000\n",
       "mean      50.746914\n",
       "std       76.134917\n",
       "min        1.000000\n",
       "19%        2.000000\n",
       "50%       11.500000\n",
       "79%       81.570000\n",
       "max      339.000000\n",
       "Name: wine_servings, dtype: float64"
      ]
     },
     "execution_count": 41,
     "metadata": {},
     "output_type": "execute_result"
    }
   ],
   "source": [
    "alcohol.describe(percentiles=[.79, .19])"
   ]
  },
  {
   "cell_type": "code",
   "execution_count": 42,
   "metadata": {
    "colab": {
     "base_uri": "https://localhost:8080/",
     "height": 0
    },
    "colab_type": "code",
    "id": "R2SSZbfTg4_4",
    "outputId": "62587f38-555b-49e2-ff8a-6fed17b936d4"
   },
   "outputs": [
    {
     "data": {
      "text/plain": [
       "count    162.000000\n",
       "mean      50.746914\n",
       "std       76.134917\n",
       "min        1.000000\n",
       "19%        2.000000\n",
       "50%       11.500000\n",
       "79%       81.570000\n",
       "max      339.000000\n",
       "Name: wine_servings, dtype: float64"
      ]
     },
     "execution_count": 42,
     "metadata": {},
     "output_type": "execute_result"
    }
   ],
   "source": [
    "alcohol.describe(percentiles=[.79, .19], include=float, exclude=object) #exclude data type"
   ]
  },
  {
   "cell_type": "code",
   "execution_count": 106,
   "metadata": {
    "colab": {
     "base_uri": "https://localhost:8080/",
     "height": 0
    },
    "colab_type": "code",
    "id": "PZRR2CkEg3Iw",
    "outputId": "e856aaf5-30eb-4e88-a819-19879ebc9626"
   },
   "outputs": [
    {
     "data": {
      "text/plain": [
       "dtype('float64')"
      ]
     },
     "execution_count": 106,
     "metadata": {
      "tags": []
     },
     "output_type": "execute_result"
    }
   ],
   "source": [
    "alcohol.dtype"
   ]
  },
  {
   "cell_type": "markdown",
   "metadata": {
    "colab_type": "text",
    "id": "RhOY4LXjg3R6"
   },
   "source": [
    "# mode() And value_counts() "
   ]
  },
  {
   "cell_type": "code",
   "execution_count": 0,
   "metadata": {
    "colab": {},
    "colab_type": "code",
    "id": "YQ7lALmujpRl"
   },
   "outputs": [],
   "source": [
    "# mode"
   ]
  },
  {
   "cell_type": "code",
   "execution_count": 43,
   "metadata": {
    "colab": {
     "base_uri": "https://localhost:8080/",
     "height": 0
    },
    "colab_type": "code",
    "id": "Ef6_30RfjpIB",
    "outputId": "423f3479-0983-4815-a1bb-44784b246436"
   },
   "outputs": [
    {
     "data": {
      "text/plain": [
       "0    1.0\n",
       "Name: wine_servings, dtype: float64"
      ]
     },
     "execution_count": 43,
     "metadata": {},
     "output_type": "execute_result"
    }
   ],
   "source": [
    "alcohol.mode()"
   ]
  },
  {
   "cell_type": "code",
   "execution_count": 44,
   "metadata": {
    "colab": {
     "base_uri": "https://localhost:8080/",
     "height": 0
    },
    "colab_type": "code",
    "id": "MJi4SbYSjo94",
    "outputId": "4dc6e737-5169-4f99-b0e1-a2f9d36cc30c"
   },
   "outputs": [
    {
     "data": {
      "text/plain": [
       "country\n",
       "Afghanistan    False\n",
       "Albania        False\n",
       "Algeria        False\n",
       "Andorra        False\n",
       "Angola         False\n",
       "               ...  \n",
       "Venezuela      False\n",
       "Vietnam         True\n",
       "Yemen          False\n",
       "Zambia         False\n",
       "Zimbabwe       False\n",
       "Name: wine_servings, Length: 193, dtype: bool"
      ]
     },
     "execution_count": 44,
     "metadata": {},
     "output_type": "execute_result"
    }
   ],
   "source": [
    "alcohol == 1"
   ]
  },
  {
   "cell_type": "code",
   "execution_count": 110,
   "metadata": {
    "colab": {
     "base_uri": "https://localhost:8080/",
     "height": 0
    },
    "colab_type": "code",
    "id": "PIDK9zJ9jjYL",
    "outputId": "69429ff4-268b-444c-860b-0f9b07208e1a"
   },
   "outputs": [
    {
     "data": {
      "text/plain": [
       "28"
      ]
     },
     "execution_count": 110,
     "metadata": {
      "tags": []
     },
     "output_type": "execute_result"
    }
   ],
   "source": [
    "alcohol[alcohol==1].size"
   ]
  },
  {
   "cell_type": "code",
   "execution_count": 0,
   "metadata": {
    "colab": {},
    "colab_type": "code",
    "id": "IidoEMJzjjP4"
   },
   "outputs": [],
   "source": [
    "# value counts"
   ]
  },
  {
   "cell_type": "code",
   "execution_count": 112,
   "metadata": {
    "colab": {
     "base_uri": "https://localhost:8080/",
     "height": 0
    },
    "colab_type": "code",
    "id": "ff9c-p4Ljben",
    "outputId": "b9fb50b2-9771-4dfa-cc17-b1ecd8c83a41"
   },
   "outputs": [
    {
     "data": {
      "text/plain": [
       "1.0      28\n",
       "2.0      10\n",
       "7.0       9\n",
       "8.0       7\n",
       "5.0       6\n",
       "         ..\n",
       "185.0     1\n",
       "218.0     1\n",
       "84.0      1\n",
       "149.0     1\n",
       "54.0      1\n",
       "Name: wine_servings, Length: 71, dtype: int64"
      ]
     },
     "execution_count": 112,
     "metadata": {
      "tags": []
     },
     "output_type": "execute_result"
    }
   ],
   "source": [
    "alcohol.value_counts()"
   ]
  },
  {
   "cell_type": "code",
   "execution_count": 46,
   "metadata": {
    "colab": {
     "base_uri": "https://localhost:8080/",
     "height": 0
    },
    "colab_type": "code",
    "id": "yQ8l6AmPkZtO",
    "outputId": "182b013f-06f8-49b9-c1d9-ddf78803e54e"
   },
   "outputs": [
    {
     "data": {
      "text/plain": [
       "28"
      ]
     },
     "execution_count": 46,
     "metadata": {},
     "output_type": "execute_result"
    }
   ],
   "source": [
    "alcohol.value_counts().iloc[0]"
   ]
  },
  {
   "cell_type": "code",
   "execution_count": 114,
   "metadata": {
    "colab": {
     "base_uri": "https://localhost:8080/",
     "height": 0
    },
    "colab_type": "code",
    "id": "oIoZFyLbklH5",
    "outputId": "3a6eb0bc-02aa-4776-ed2c-a5782ff42f99"
   },
   "outputs": [
    {
     "data": {
      "text/plain": [
       "1.0      0.172840\n",
       "2.0      0.061728\n",
       "7.0      0.055556\n",
       "8.0      0.043210\n",
       "5.0      0.037037\n",
       "           ...   \n",
       "185.0    0.006173\n",
       "218.0    0.006173\n",
       "84.0     0.006173\n",
       "149.0    0.006173\n",
       "54.0     0.006173\n",
       "Name: wine_servings, Length: 71, dtype: float64"
      ]
     },
     "execution_count": 114,
     "metadata": {
      "tags": []
     },
     "output_type": "execute_result"
    }
   ],
   "source": [
    "alcohol.value_counts(normalize=True)"
   ]
  },
  {
   "cell_type": "code",
   "execution_count": 115,
   "metadata": {
    "colab": {
     "base_uri": "https://localhost:8080/",
     "height": 0
    },
    "colab_type": "code",
    "id": "ibg8grZzlCaN",
    "outputId": "e12596fe-9e59-4ff5-bfb4-600ac1d13b25"
   },
   "outputs": [
    {
     "data": {
      "text/plain": [
       "0.1728395061728395"
      ]
     },
     "execution_count": 115,
     "metadata": {
      "tags": []
     },
     "output_type": "execute_result"
    }
   ],
   "source": [
    "28/alcohol.count()"
   ]
  },
  {
   "cell_type": "markdown",
   "metadata": {
    "colab_type": "text",
    "id": "60HSRX7klLjS"
   },
   "source": [
    "# idxmax() And idxmin()"
   ]
  },
  {
   "cell_type": "code",
   "execution_count": 48,
   "metadata": {
    "colab": {
     "base_uri": "https://localhost:8080/",
     "height": 0
    },
    "colab_type": "code",
    "id": "_lE-1EoKIqkO",
    "outputId": "d6f5a8d6-d599-4806-c392-0737dc738f31"
   },
   "outputs": [
    {
     "data": {
      "text/plain": [
       "339.0"
      ]
     },
     "execution_count": 48,
     "metadata": {},
     "output_type": "execute_result"
    }
   ],
   "source": [
    "alcohol.max()"
   ]
  },
  {
   "cell_type": "code",
   "execution_count": 47,
   "metadata": {
    "colab": {
     "base_uri": "https://localhost:8080/",
     "height": 0
    },
    "colab_type": "code",
    "id": "jG5xo0imIpwA",
    "outputId": "20beb07d-1e2a-401b-acfc-1983efd2ce8f"
   },
   "outputs": [
    {
     "data": {
      "text/plain": [
       "country\n",
       "Portugal    339.0\n",
       "Name: wine_servings, dtype: float64"
      ]
     },
     "execution_count": 47,
     "metadata": {},
     "output_type": "execute_result"
    }
   ],
   "source": [
    "alcohol[alcohol == alcohol.max()]"
   ]
  },
  {
   "cell_type": "code",
   "execution_count": 49,
   "metadata": {
    "colab": {
     "base_uri": "https://localhost:8080/",
     "height": 0
    },
    "colab_type": "code",
    "id": "lhxMm2zIIpst",
    "outputId": "9ff97b95-6459-4189-892c-070420973ad7"
   },
   "outputs": [
    {
     "data": {
      "text/plain": [
       "Index(['Portugal'], dtype='object', name='country')"
      ]
     },
     "execution_count": 49,
     "metadata": {},
     "output_type": "execute_result"
    }
   ],
   "source": [
    "alcohol[alcohol == alcohol.max()].index"
   ]
  },
  {
   "cell_type": "code",
   "execution_count": 119,
   "metadata": {
    "colab": {
     "base_uri": "https://localhost:8080/",
     "height": 0
    },
    "colab_type": "code",
    "id": "JLJIHLNYIpoM",
    "outputId": "74f0577e-f07d-4875-9808-8bdfde824ffe"
   },
   "outputs": [
    {
     "data": {
      "text/plain": [
       "pandas.core.indexes.base.Index"
      ]
     },
     "execution_count": 119,
     "metadata": {
      "tags": []
     },
     "output_type": "execute_result"
    }
   ],
   "source": [
    "type(alcohol[alcohol == alcohol.max()].index)"
   ]
  },
  {
   "cell_type": "code",
   "execution_count": 120,
   "metadata": {
    "colab": {
     "base_uri": "https://localhost:8080/",
     "height": 0
    },
    "colab_type": "code",
    "id": "oq4ayPW8Ihtc",
    "outputId": "5cf8367d-5b88-4460-9b89-27e4b1ac6b55"
   },
   "outputs": [
    {
     "data": {
      "text/plain": [
       "'Portugal'"
      ]
     },
     "execution_count": 120,
     "metadata": {
      "tags": []
     },
     "output_type": "execute_result"
    }
   ],
   "source": [
    "alcohol[alcohol == alcohol.max()].index[0]"
   ]
  },
  {
   "cell_type": "code",
   "execution_count": 50,
   "metadata": {
    "colab": {
     "base_uri": "https://localhost:8080/",
     "height": 0
    },
    "colab_type": "code",
    "id": "oP6nS7p6Iafc",
    "outputId": "201e8d44-b9e1-4a26-8584-4ae3066291cc"
   },
   "outputs": [
    {
     "data": {
      "text/plain": [
       "'Portugal'"
      ]
     },
     "execution_count": 50,
     "metadata": {},
     "output_type": "execute_result"
    }
   ],
   "source": [
    "alcohol.idxmax()"
   ]
  },
  {
   "cell_type": "code",
   "execution_count": 122,
   "metadata": {
    "colab": {
     "base_uri": "https://localhost:8080/",
     "height": 0
    },
    "colab_type": "code",
    "id": "r2pxbBiXJImt",
    "outputId": "8f39ac2c-ed29-49ed-9312-6abec0233706"
   },
   "outputs": [
    {
     "data": {
      "text/plain": [
       "'Brunei'"
      ]
     },
     "execution_count": 122,
     "metadata": {
      "tags": []
     },
     "output_type": "execute_result"
    }
   ],
   "source": [
    "alcohol.idxmin()"
   ]
  },
  {
   "cell_type": "code",
   "execution_count": 123,
   "metadata": {
    "colab": {
     "base_uri": "https://localhost:8080/",
     "height": 0
    },
    "colab_type": "code",
    "id": "ujw91oUDJNVE",
    "outputId": "ce31bdf4-6b9d-47ec-bf85-8c7a6eacfcc4"
   },
   "outputs": [
    {
     "data": {
      "text/plain": [
       "1.0"
      ]
     },
     "execution_count": 123,
     "metadata": {
      "tags": []
     },
     "output_type": "execute_result"
    }
   ],
   "source": [
    "alcohol.min()"
   ]
  },
  {
   "cell_type": "code",
   "execution_count": 124,
   "metadata": {
    "colab": {
     "base_uri": "https://localhost:8080/",
     "height": 0
    },
    "colab_type": "code",
    "id": "QhRVOMLMJUNC",
    "outputId": "9769ba90-aa3c-43a1-b6d7-bb2f06349bf1"
   },
   "outputs": [
    {
     "data": {
      "text/plain": [
       "1.0    28\n",
       "Name: wine_servings, dtype: int64"
      ]
     },
     "execution_count": 124,
     "metadata": {
      "tags": []
     },
     "output_type": "execute_result"
    }
   ],
   "source": [
    "alcohol.value_counts().head(1)"
   ]
  },
  {
   "cell_type": "code",
   "execution_count": 125,
   "metadata": {
    "colab": {
     "base_uri": "https://localhost:8080/",
     "height": 0
    },
    "colab_type": "code",
    "id": "-olo3d7lJZL_",
    "outputId": "55dd41bd-5989-47f9-e02c-d822cada6f18"
   },
   "outputs": [
    {
     "data": {
      "text/plain": [
       "country\n",
       "Brunei                      1.0\n",
       "Cambodia                    1.0\n",
       "Canada                      1.0\n",
       "Central African Republic    1.0\n",
       "Chad                        1.0\n",
       "Comoros                     1.0\n",
       "DR Congo                    1.0\n",
       "Egypt                       1.0\n",
       "Fiji                        1.0\n",
       "Gambia                      1.0\n",
       "Ghana                       1.0\n",
       "Guyana                      1.0\n",
       "Haiti                       1.0\n",
       "Jordan                      1.0\n",
       "Kiribati                    1.0\n",
       "Malawi                      1.0\n",
       "Mali                        1.0\n",
       "Morocco                     1.0\n",
       "Namibia                     1.0\n",
       "Nicaragua                   1.0\n",
       "Niger                       1.0\n",
       "Oman                        1.0\n",
       "Papua New Guinea            1.0\n",
       "Philippines                 1.0\n",
       "Solomon Islands             1.0\n",
       "Thailand                    1.0\n",
       "Tanzania                    1.0\n",
       "Vietnam                     1.0\n",
       "Name: wine_servings, dtype: float64"
      ]
     },
     "execution_count": 125,
     "metadata": {
      "tags": []
     },
     "output_type": "execute_result"
    }
   ],
   "source": [
    "alcohol[alcohol == alcohol.min()]"
   ]
  },
  {
   "cell_type": "code",
   "execution_count": 126,
   "metadata": {
    "colab": {
     "base_uri": "https://localhost:8080/",
     "height": 0
    },
    "colab_type": "code",
    "id": "RnqFfWlzJhLA",
    "outputId": "aef20cb3-589e-4f2e-f704-c860c91c73e3"
   },
   "outputs": [
    {
     "data": {
      "text/plain": [
       "country\n",
       "Portugal    339.0\n",
       "Name: wine_servings, dtype: float64"
      ]
     },
     "execution_count": 126,
     "metadata": {
      "tags": []
     },
     "output_type": "execute_result"
    }
   ],
   "source": [
    "alcohol[alcohol == alcohol.max()]"
   ]
  },
  {
   "cell_type": "code",
   "execution_count": 127,
   "metadata": {
    "colab": {
     "base_uri": "https://localhost:8080/",
     "height": 0
    },
    "colab_type": "code",
    "id": "3rQaUBsiJpJI",
    "outputId": "e009949d-8eb5-4797-d140-89a502861ad9"
   },
   "outputs": [
    {
     "data": {
      "text/plain": [
       "339.0"
      ]
     },
     "execution_count": 127,
     "metadata": {
      "tags": []
     },
     "output_type": "execute_result"
    }
   ],
   "source": [
    "alcohol[alcohol.idxmax()]"
   ]
  },
  {
   "cell_type": "code",
   "execution_count": 128,
   "metadata": {
    "colab": {
     "base_uri": "https://localhost:8080/",
     "height": 0
    },
    "colab_type": "code",
    "id": "mYSGi3zyJ0rK",
    "outputId": "ca26f0fa-6dbc-4b78-b990-070a8eaaf998"
   },
   "outputs": [
    {
     "data": {
      "text/plain": [
       "339.0"
      ]
     },
     "execution_count": 128,
     "metadata": {
      "tags": []
     },
     "output_type": "execute_result"
    }
   ],
   "source": [
    "alcohol.max()"
   ]
  },
  {
   "cell_type": "markdown",
   "metadata": {
    "colab_type": "text",
    "id": "YVbTQqytJ11B"
   },
   "source": [
    "# Sorting With sort_values()"
   ]
  },
  {
   "cell_type": "code",
   "execution_count": 52,
   "metadata": {
    "colab": {
     "base_uri": "https://localhost:8080/",
     "height": 0
    },
    "colab_type": "code",
    "id": "f2n6LDHSV-kp",
    "outputId": "c52ac0e5-7fbb-49c8-afd8-8d80986214de"
   },
   "outputs": [
    {
     "data": {
      "text/plain": [
       "country\n",
       "Thailand           1.0\n",
       "Solomon Islands    1.0\n",
       "Brunei             1.0\n",
       "Haiti              1.0\n",
       "Cambodia           1.0\n",
       "                  ... \n",
       "Sri Lanka          NaN\n",
       "Sudan              NaN\n",
       "Tajikistan         NaN\n",
       "Uganda             NaN\n",
       "Yemen              NaN\n",
       "Name: wine_servings, Length: 193, dtype: float64"
      ]
     },
     "execution_count": 52,
     "metadata": {},
     "output_type": "execute_result"
    }
   ],
   "source": [
    "alcohol.sort_values()"
   ]
  },
  {
   "cell_type": "code",
   "execution_count": 55,
   "metadata": {
    "colab": {},
    "colab_type": "code",
    "id": "zDtjtvmUV9_p"
   },
   "outputs": [],
   "source": [
    "alco2 = alcohol.sort_values(ascending=False, na_position='last', kind='quicksort', inplace=False) # mergesort, heapsort"
   ]
  },
  {
   "cell_type": "code",
   "execution_count": 58,
   "metadata": {
    "colab": {
     "base_uri": "https://localhost:8080/",
     "height": 0
    },
    "colab_type": "code",
    "id": "6QD7gregV952",
    "outputId": "d97ccbd9-677e-4fc7-d1c8-b00977ccc5b1"
   },
   "outputs": [
    {
     "data": {
      "text/plain": [
       "country\n",
       "Portugal      339.0\n",
       "Andorra       312.0\n",
       "Denmark       278.0\n",
       "Slovenia      276.0\n",
       "Luxembourg    271.0\n",
       "Name: wine_servings, dtype: float64"
      ]
     },
     "execution_count": 58,
     "metadata": {},
     "output_type": "execute_result"
    }
   ],
   "source": [
    "alco2.head()"
   ]
  },
  {
   "cell_type": "code",
   "execution_count": 0,
   "metadata": {
    "colab": {},
    "colab_type": "code",
    "id": "YalMkKGoV9xC"
   },
   "outputs": [],
   "source": [
    "# 1: reassignment"
   ]
  },
  {
   "cell_type": "code",
   "execution_count": 0,
   "metadata": {
    "colab": {},
    "colab_type": "code",
    "id": "0R-yipp7PLPL"
   },
   "outputs": [],
   "source": [
    "# 2: inplace param - modifying the original series"
   ]
  },
  {
   "cell_type": "markdown",
   "metadata": {
    "colab_type": "text",
    "id": "OHTGffrUW46p"
   },
   "source": [
    "# nlargest() And nsmallest()"
   ]
  },
  {
   "cell_type": "code",
   "execution_count": 134,
   "metadata": {
    "colab": {
     "base_uri": "https://localhost:8080/",
     "height": 0
    },
    "colab_type": "code",
    "id": "t-TYR-_tbKZO",
    "outputId": "b4de9561-04b8-486d-d49b-f7b83c6468a1"
   },
   "outputs": [
    {
     "data": {
      "text/plain": [
       "1.0"
      ]
     },
     "execution_count": 134,
     "metadata": {
      "tags": []
     },
     "output_type": "execute_result"
    }
   ],
   "source": [
    "alcohol.min()"
   ]
  },
  {
   "cell_type": "code",
   "execution_count": 135,
   "metadata": {
    "colab": {
     "base_uri": "https://localhost:8080/",
     "height": 0
    },
    "colab_type": "code",
    "id": "xCn8ivLBbKU-",
    "outputId": "d422dc50-d869-4a44-c56f-36e76577e194"
   },
   "outputs": [
    {
     "data": {
      "text/plain": [
       "339.0"
      ]
     },
     "execution_count": 135,
     "metadata": {
      "tags": []
     },
     "output_type": "execute_result"
    }
   ],
   "source": [
    "alcohol.max()"
   ]
  },
  {
   "cell_type": "code",
   "execution_count": 136,
   "metadata": {
    "colab": {
     "base_uri": "https://localhost:8080/",
     "height": 0
    },
    "colab_type": "code",
    "id": "EMRZJmAIbE7k",
    "outputId": "7730fa54-1d89-48a7-c4a9-badf97e6c633"
   },
   "outputs": [
    {
     "data": {
      "text/plain": [
       "country\n",
       "Portugal             339.0\n",
       "Andorra              312.0\n",
       "Denmark              278.0\n",
       "Slovenia             276.0\n",
       "Luxembourg           271.0\n",
       "Croatia              254.0\n",
       "Italy                237.0\n",
       "Equatorial Guinea    233.0\n",
       "Argentina            221.0\n",
       "Greece               218.0\n",
       "Name: wine_servings, dtype: float64"
      ]
     },
     "execution_count": 136,
     "metadata": {
      "tags": []
     },
     "output_type": "execute_result"
    }
   ],
   "source": [
    "alcohol.sort_values(ascending=False)[:10]"
   ]
  },
  {
   "cell_type": "code",
   "execution_count": 137,
   "metadata": {
    "colab": {
     "base_uri": "https://localhost:8080/",
     "height": 0
    },
    "colab_type": "code",
    "id": "X6S969FhbFAK",
    "outputId": "0f2c9517-5f78-44ef-826f-11107b3c354f"
   },
   "outputs": [
    {
     "data": {
      "text/plain": [
       "country\n",
       "Portugal             339.0\n",
       "Andorra              312.0\n",
       "Denmark              278.0\n",
       "Slovenia             276.0\n",
       "Luxembourg           271.0\n",
       "Croatia              254.0\n",
       "Italy                237.0\n",
       "Equatorial Guinea    233.0\n",
       "Argentina            221.0\n",
       "Greece               218.0\n",
       "Name: wine_servings, dtype: float64"
      ]
     },
     "execution_count": 137,
     "metadata": {
      "tags": []
     },
     "output_type": "execute_result"
    }
   ],
   "source": [
    "alcohol.nlargest(n=10)"
   ]
  },
  {
   "cell_type": "code",
   "execution_count": 138,
   "metadata": {
    "colab": {
     "base_uri": "https://localhost:8080/",
     "height": 0
    },
    "colab_type": "code",
    "id": "lSeVN4BpbioR",
    "outputId": "7b4bbbf0-3961-4e98-9032-e2b466109129"
   },
   "outputs": [
    {
     "data": {
      "text/plain": [
       "country\n",
       "Niger                       1.0\n",
       "Nicaragua                   1.0\n",
       "Namibia                     1.0\n",
       "Morocco                     1.0\n",
       "Mali                        1.0\n",
       "Malawi                      1.0\n",
       "Oman                        1.0\n",
       "Papua New Guinea            1.0\n",
       "Vietnam                     1.0\n",
       "Philippines                 1.0\n",
       "Tanzania                    1.0\n",
       "Kiribati                    1.0\n",
       "Chad                        1.0\n",
       "DR Congo                    1.0\n",
       "Egypt                       1.0\n",
       "Fiji                        1.0\n",
       "Gambia                      1.0\n",
       "Ghana                       1.0\n",
       "Comoros                     1.0\n",
       "Central African Republic    1.0\n",
       "Jordan                      1.0\n",
       "Canada                      1.0\n",
       "Guyana                      1.0\n",
       "Cambodia                    1.0\n",
       "Haiti                       1.0\n",
       "Brunei                      1.0\n",
       "Solomon Islands             1.0\n",
       "Thailand                    1.0\n",
       "Sierra Leone                2.0\n",
       "Name: wine_servings, dtype: float64"
      ]
     },
     "execution_count": 138,
     "metadata": {
      "tags": []
     },
     "output_type": "execute_result"
    }
   ],
   "source": [
    "alcohol.nsmallest(29)"
   ]
  },
  {
   "cell_type": "markdown",
   "metadata": {
    "colab_type": "text",
    "id": "vWG2hiOGbnSF"
   },
   "source": [
    "# Sorting With sort_index()"
   ]
  },
  {
   "cell_type": "code",
   "execution_count": 59,
   "metadata": {
    "colab": {
     "base_uri": "https://localhost:8080/",
     "height": 0
    },
    "colab_type": "code",
    "id": "aFZrPLYtghNS",
    "outputId": "4e47cfa8-4ceb-4392-db9f-71a2bd13b141"
   },
   "outputs": [
    {
     "data": {
      "text/plain": [
       "country\n",
       "Afghanistan      NaN\n",
       "Albania         54.0\n",
       "Algeria         14.0\n",
       "Andorra        312.0\n",
       "Angola          45.0\n",
       "Name: wine_servings, dtype: float64"
      ]
     },
     "execution_count": 59,
     "metadata": {},
     "output_type": "execute_result"
    }
   ],
   "source": [
    "alcohol.head()"
   ]
  },
  {
   "cell_type": "code",
   "execution_count": 60,
   "metadata": {
    "colab": {},
    "colab_type": "code",
    "id": "N-j-teAygfpF"
   },
   "outputs": [],
   "source": [
    "alcohol.sort_index(ascending=False, na_position='first', inplace=True)"
   ]
  },
  {
   "cell_type": "code",
   "execution_count": 61,
   "metadata": {
    "colab": {
     "base_uri": "https://localhost:8080/",
     "height": 0
    },
    "colab_type": "code",
    "id": "iknz7pPPgfer",
    "outputId": "c590fd3a-713e-4c91-8ef5-315f0240b82a"
   },
   "outputs": [
    {
     "data": {
      "text/plain": [
       "0"
      ]
     },
     "execution_count": 61,
     "metadata": {},
     "output_type": "execute_result"
    }
   ],
   "source": [
    "alcohol.index.isnull().sum()"
   ]
  },
  {
   "cell_type": "code",
   "execution_count": 62,
   "metadata": {
    "colab": {
     "base_uri": "https://localhost:8080/",
     "height": 0
    },
    "colab_type": "code",
    "id": "pO_4XDnXflDa",
    "outputId": "3766c228-7f9a-438d-c441-a37aafe8881d"
   },
   "outputs": [
    {
     "data": {
      "text/plain": [
       "country\n",
       "Zimbabwe     4.0\n",
       "Zambia       4.0\n",
       "Yemen        NaN\n",
       "Vietnam      1.0\n",
       "Venezuela    3.0\n",
       "Name: wine_servings, dtype: float64"
      ]
     },
     "execution_count": 62,
     "metadata": {},
     "output_type": "execute_result"
    }
   ],
   "source": [
    "alcohol.head()"
   ]
  },
  {
   "cell_type": "markdown",
   "metadata": {
    "colab_type": "text",
    "id": "p8IwOTQkfjUi"
   },
   "source": [
    "# Skill Challenge"
   ]
  },
  {
   "cell_type": "markdown",
   "metadata": {
    "colab_type": "text",
    "id": "PuhVDmvxW1xD"
   },
   "source": [
    "###### **1**."
   ]
  },
  {
   "cell_type": "markdown",
   "metadata": {
    "colab_type": "text",
    "id": "hYW8wAr_W58w"
   },
   "source": [
    "Select all the countries from *alcohol* that have more than 50 wine servings, and save them (and the corresponding values) in a variable *fifty_plus*."
   ]
  },
  {
   "cell_type": "markdown",
   "metadata": {
    "colab_type": "text",
    "id": "IeCg097Ih73U"
   },
   "source": [
    "###### **2**."
   ]
  },
  {
   "cell_type": "markdown",
   "metadata": {
    "colab_type": "text",
    "id": "FtQ9QGYWXSCa"
   },
   "source": [
    "From *fifty_plus*, choose the countries with the smallest 20 wine servings values. "
   ]
  },
  {
   "cell_type": "markdown",
   "metadata": {
    "colab_type": "text",
    "id": "FPMcpZPXXbxv"
   },
   "source": [
    "###### **3**."
   ]
  },
  {
   "cell_type": "markdown",
   "metadata": {
    "colab_type": "text",
    "id": "H0euPe6Jfjb6"
   },
   "source": [
    "What is the mean, median and standard deviation for the sample from Step 2?"
   ]
  },
  {
   "cell_type": "markdown",
   "metadata": {
    "colab_type": "text",
    "id": "Y_or5MWWitpf"
   },
   "source": [
    "#### Solution"
   ]
  },
  {
   "cell_type": "code",
   "execution_count": 0,
   "metadata": {
    "colab": {},
    "colab_type": "code",
    "id": "4csqxlMHaA6t"
   },
   "outputs": [],
   "source": [
    "# 1"
   ]
  },
  {
   "cell_type": "code",
   "execution_count": 0,
   "metadata": {
    "colab": {},
    "colab_type": "code",
    "id": "G7YrmpjBaMOB"
   },
   "outputs": [],
   "source": [
    "fifty_plus = alcohol[alcohol > 50]"
   ]
  },
  {
   "cell_type": "code",
   "execution_count": 145,
   "metadata": {
    "colab": {
     "base_uri": "https://localhost:8080/",
     "height": 0
    },
    "colab_type": "code",
    "id": "WBlvPdE2aPgp",
    "outputId": "37701048-8649-4e94-b207-c2c267eaba05"
   },
   "outputs": [
    {
     "data": {
      "text/plain": [
       "country\n",
       "United Kingdom    195.0\n",
       "USA                84.0\n",
       "Sweden            186.0\n",
       "St. Lucia          71.0\n",
       "Spain             112.0\n",
       "Name: wine_servings, dtype: float64"
      ]
     },
     "execution_count": 145,
     "metadata": {
      "tags": []
     },
     "output_type": "execute_result"
    }
   ],
   "source": [
    "fifty_plus.head()"
   ]
  },
  {
   "cell_type": "code",
   "execution_count": 146,
   "metadata": {
    "colab": {
     "base_uri": "https://localhost:8080/",
     "height": 0
    },
    "colab_type": "code",
    "id": "2A4oQx7XaRJ6",
    "outputId": "7cbb6109-88e6-40a9-91c2-8201a3929969"
   },
   "outputs": [
    {
     "data": {
      "text/plain": [
       "48"
      ]
     },
     "execution_count": 146,
     "metadata": {
      "tags": []
     },
     "output_type": "execute_result"
    }
   ],
   "source": [
    "fifty_plus.count()"
   ]
  },
  {
   "cell_type": "code",
   "execution_count": 0,
   "metadata": {
    "colab": {},
    "colab_type": "code",
    "id": "NQ3K1gxhaSZ-"
   },
   "outputs": [],
   "source": [
    "# 2"
   ]
  },
  {
   "cell_type": "code",
   "execution_count": 148,
   "metadata": {
    "colab": {
     "base_uri": "https://localhost:8080/",
     "height": 0
    },
    "colab_type": "code",
    "id": "Z9tZSNGbadIw",
    "outputId": "75a18ca9-e5d7-4e7a-e219-88d92336f82f"
   },
   "outputs": [
    {
     "data": {
      "text/plain": [
       "country\n",
       "Seychelles             51.0\n",
       "Bahamas                51.0\n",
       "Albania                54.0\n",
       "Poland                 56.0\n",
       "Lithuania              56.0\n",
       "Gabon                  59.0\n",
       "Estonia                59.0\n",
       "Latvia                 62.0\n",
       "St. Lucia              71.0\n",
       "Russian Federation     73.0\n",
       "Paraguay               74.0\n",
       "Cook Islands           74.0\n",
       "Iceland                78.0\n",
       "South Africa           81.0\n",
       "USA                    84.0\n",
       "Macedonia              86.0\n",
       "Bulgaria               94.0\n",
       "Finland                97.0\n",
       "Spain                 112.0\n",
       "Cyprus                113.0\n",
       "Name: wine_servings, dtype: float64"
      ]
     },
     "execution_count": 148,
     "metadata": {
      "tags": []
     },
     "output_type": "execute_result"
    }
   ],
   "source": [
    "fifty_plus.nsmallest(n=20)"
   ]
  },
  {
   "cell_type": "code",
   "execution_count": 0,
   "metadata": {
    "colab": {},
    "colab_type": "code",
    "id": "9ZpYa4WRagKL"
   },
   "outputs": [],
   "source": [
    "# 3"
   ]
  },
  {
   "cell_type": "code",
   "execution_count": 150,
   "metadata": {
    "colab": {
     "base_uri": "https://localhost:8080/",
     "height": 0
    },
    "colab_type": "code",
    "id": "4XcNMQSFakUO",
    "outputId": "2aab2a48-53dd-444a-efe4-8bf62998bd12"
   },
   "outputs": [
    {
     "data": {
      "text/plain": [
       "count     20.000000\n",
       "mean      74.250000\n",
       "std       19.072921\n",
       "min       51.000000\n",
       "25%       58.250000\n",
       "50%       73.500000\n",
       "75%       84.500000\n",
       "max      113.000000\n",
       "Name: wine_servings, dtype: float64"
      ]
     },
     "execution_count": 150,
     "metadata": {
      "tags": []
     },
     "output_type": "execute_result"
    }
   ],
   "source": [
    "fifty_plus.nsmallest(n=20).describe()"
   ]
  },
  {
   "cell_type": "code",
   "execution_count": 151,
   "metadata": {
    "colab": {
     "base_uri": "https://localhost:8080/",
     "height": 0
    },
    "colab_type": "code",
    "id": "55LQusSnalRj",
    "outputId": "2414f8eb-18ee-4fbf-a1a6-c5721984d49e"
   },
   "outputs": [
    {
     "data": {
      "text/plain": [
       "73.5"
      ]
     },
     "execution_count": 151,
     "metadata": {
      "tags": []
     },
     "output_type": "execute_result"
    }
   ],
   "source": [
    "fifty_plus.nsmallest(n=20).median()"
   ]
  },
  {
   "cell_type": "code",
   "execution_count": 152,
   "metadata": {
    "colab": {
     "base_uri": "https://localhost:8080/",
     "height": 0
    },
    "colab_type": "code",
    "id": "vtb771LQam0N",
    "outputId": "ba62bc23-95cb-4e33-ee7a-9f7abc3f0e34"
   },
   "outputs": [
    {
     "data": {
      "text/plain": [
       "74.25"
      ]
     },
     "execution_count": 152,
     "metadata": {
      "tags": []
     },
     "output_type": "execute_result"
    }
   ],
   "source": [
    "fifty_plus.nsmallest(n=20).mean()"
   ]
  },
  {
   "cell_type": "code",
   "execution_count": 153,
   "metadata": {
    "colab": {
     "base_uri": "https://localhost:8080/",
     "height": 0
    },
    "colab_type": "code",
    "id": "JJOPmtL4aoDD",
    "outputId": "ca725b52-99f4-4896-b5c7-964888f1982a"
   },
   "outputs": [
    {
     "data": {
      "text/plain": [
       "19.07292100831631"
      ]
     },
     "execution_count": 153,
     "metadata": {
      "tags": []
     },
     "output_type": "execute_result"
    }
   ],
   "source": [
    "fifty_plus.nsmallest(n=20).std()"
   ]
  },
  {
   "cell_type": "markdown",
   "metadata": {
    "colab_type": "text",
    "id": "tQAqvfn0aotu"
   },
   "source": [
    "# Series Arithmetics And fill_value()"
   ]
  },
  {
   "cell_type": "code",
   "execution_count": 154,
   "metadata": {
    "colab": {
     "base_uri": "https://localhost:8080/",
     "height": 0
    },
    "colab_type": "code",
    "id": "fO5Vtbr4kfFC",
    "outputId": "613444c6-df79-4f5b-c3df-2c141e4fee98"
   },
   "outputs": [
    {
     "data": {
      "text/plain": [
       "country\n",
       "Zimbabwe         6.0\n",
       "Zambia           6.0\n",
       "Yemen            NaN\n",
       "Vietnam          3.0\n",
       "Venezuela        5.0\n",
       "               ...  \n",
       "Angola          47.0\n",
       "Andorra        314.0\n",
       "Algeria         16.0\n",
       "Albania         56.0\n",
       "Afghanistan      NaN\n",
       "Name: wine_servings, Length: 193, dtype: float64"
      ]
     },
     "execution_count": 154,
     "metadata": {
      "tags": []
     },
     "output_type": "execute_result"
    }
   ],
   "source": [
    "alcohol + 2"
   ]
  },
  {
   "cell_type": "code",
   "execution_count": 155,
   "metadata": {
    "colab": {
     "base_uri": "https://localhost:8080/",
     "height": 0
    },
    "colab_type": "code",
    "id": "OP2Mqotmke5V",
    "outputId": "0dcfa158-7391-44cd-abc8-462f7685773d"
   },
   "outputs": [
    {
     "data": {
      "text/plain": [
       "country\n",
       "Zimbabwe       -12.0\n",
       "Zambia         -12.0\n",
       "Yemen            NaN\n",
       "Vietnam        -18.0\n",
       "Venezuela      -14.0\n",
       "               ...  \n",
       "Angola          70.0\n",
       "Andorra        604.0\n",
       "Algeria          8.0\n",
       "Albania         88.0\n",
       "Afghanistan      NaN\n",
       "Name: wine_servings, Length: 193, dtype: float64"
      ]
     },
     "execution_count": 155,
     "metadata": {
      "tags": []
     },
     "output_type": "execute_result"
    }
   ],
   "source": [
    "(alcohol -10) * 2"
   ]
  },
  {
   "cell_type": "code",
   "execution_count": 156,
   "metadata": {
    "colab": {
     "base_uri": "https://localhost:8080/",
     "height": 0
    },
    "colab_type": "code",
    "id": "lJ4W_bDskeQx",
    "outputId": "82f65e47-0a89-48e2-8f26-5f7249539d46"
   },
   "outputs": [
    {
     "data": {
      "text/plain": [
       "country\n",
       "Zimbabwe     4.0\n",
       "Zambia       4.0\n",
       "Yemen        NaN\n",
       "Vietnam      1.0\n",
       "Venezuela    3.0\n",
       "Name: wine_servings, dtype: float64"
      ]
     },
     "execution_count": 156,
     "metadata": {
      "tags": []
     },
     "output_type": "execute_result"
    }
   ],
   "source": [
    "alcohol.head()"
   ]
  },
  {
   "cell_type": "code",
   "execution_count": 0,
   "metadata": {
    "colab": {},
    "colab_type": "code",
    "id": "bL6uCwAJkeLo"
   },
   "outputs": [],
   "source": [
    "alcohol.sort_index(inplace=True)"
   ]
  },
  {
   "cell_type": "code",
   "execution_count": 158,
   "metadata": {
    "colab": {
     "base_uri": "https://localhost:8080/",
     "height": 0
    },
    "colab_type": "code",
    "id": "C5s2yMkmkZg2",
    "outputId": "6f25ccae-475f-4912-fa19-eeee34e86c33"
   },
   "outputs": [
    {
     "data": {
      "text/plain": [
       "country\n",
       "Afghanistan      NaN\n",
       "Albania         54.0\n",
       "Algeria         14.0\n",
       "Andorra        312.0\n",
       "Angola          45.0\n",
       "Name: wine_servings, dtype: float64"
      ]
     },
     "execution_count": 158,
     "metadata": {
      "tags": []
     },
     "output_type": "execute_result"
    }
   ],
   "source": [
    "alcohol.head()"
   ]
  },
  {
   "cell_type": "code",
   "execution_count": 63,
   "metadata": {
    "colab": {},
    "colab_type": "code",
    "id": "n5hxP7EneC2-"
   },
   "outputs": [],
   "source": [
    "more_drinks = pd.Series({'Albania': 6, 'Alberia': 19, 'Algeria': 10, 'Afghanistan': 100, 'Yemen': 101})"
   ]
  },
  {
   "cell_type": "code",
   "execution_count": 64,
   "metadata": {},
   "outputs": [
    {
     "data": {
      "text/plain": [
       "Albania          6\n",
       "Alberia         19\n",
       "Algeria         10\n",
       "Afghanistan    100\n",
       "Yemen          101\n",
       "dtype: int64"
      ]
     },
     "execution_count": 64,
     "metadata": {},
     "output_type": "execute_result"
    }
   ],
   "source": [
    "more_drinks"
   ]
  },
  {
   "cell_type": "code",
   "execution_count": 66,
   "metadata": {},
   "outputs": [
    {
     "data": {
      "text/plain": [
       "country\n",
       "Zimbabwe         4.0\n",
       "Zambia           4.0\n",
       "Yemen            NaN\n",
       "Vietnam          1.0\n",
       "Venezuela        3.0\n",
       "               ...  \n",
       "Angola          45.0\n",
       "Andorra        312.0\n",
       "Algeria         14.0\n",
       "Albania         54.0\n",
       "Afghanistan      NaN\n",
       "Name: wine_servings, Length: 193, dtype: float64"
      ]
     },
     "execution_count": 66,
     "metadata": {},
     "output_type": "execute_result"
    }
   ],
   "source": [
    "alcohol"
   ]
  },
  {
   "cell_type": "code",
   "execution_count": 67,
   "metadata": {
    "colab": {
     "base_uri": "https://localhost:8080/",
     "height": 0
    },
    "colab_type": "code",
    "id": "KtoZdUT8kzDw",
    "outputId": "21619749-9420-4f0e-e6dd-a975d754839d"
   },
   "outputs": [
    {
     "data": {
      "text/plain": [
       "Afghanistan     NaN\n",
       "Albania        60.0\n",
       "Alberia         NaN\n",
       "Algeria        24.0\n",
       "Andorra         NaN\n",
       "               ... \n",
       "Venezuela       NaN\n",
       "Vietnam         NaN\n",
       "Yemen           NaN\n",
       "Zambia          NaN\n",
       "Zimbabwe        NaN\n",
       "Length: 194, dtype: float64"
      ]
     },
     "execution_count": 67,
     "metadata": {},
     "output_type": "execute_result"
    }
   ],
   "source": [
    "alcohol + more_drinks"
   ]
  },
  {
   "cell_type": "code",
   "execution_count": 71,
   "metadata": {},
   "outputs": [
    {
     "data": {
      "text/plain": [
       "Afghanistan    110.0\n",
       "Albania         60.0\n",
       "Alberia          NaN\n",
       "Algeria         24.0\n",
       "Andorra          NaN\n",
       "               ...  \n",
       "Venezuela        NaN\n",
       "Vietnam          NaN\n",
       "Yemen          111.0\n",
       "Zambia           NaN\n",
       "Zimbabwe         NaN\n",
       "Length: 194, dtype: float64"
      ]
     },
     "execution_count": 71,
     "metadata": {},
     "output_type": "execute_result"
    }
   ],
   "source": [
    "alcohol.fillna(10,inplace = False) + more_drinks #check afghanistan is also filled but only first value is filled"
   ]
  },
  {
   "cell_type": "code",
   "execution_count": null,
   "metadata": {},
   "outputs": [],
   "source": [
    "# similar to above operation usind add"
   ]
  },
  {
   "cell_type": "code",
   "execution_count": 161,
   "metadata": {
    "colab": {
     "base_uri": "https://localhost:8080/",
     "height": 0
    },
    "colab_type": "code",
    "id": "ktc6ffMlk4lZ",
    "outputId": "4ac833c5-7f67-436e-bbae-674270839cca"
   },
   "outputs": [
    {
     "data": {
      "text/plain": [
       "Afghanistan    100.0\n",
       "Albania         60.0\n",
       "Alberia         19.0\n",
       "Algeria         24.0\n",
       "Andorra        312.0\n",
       "               ...  \n",
       "Venezuela        3.0\n",
       "Vietnam          1.0\n",
       "Yemen          101.0\n",
       "Zambia           4.0\n",
       "Zimbabwe         4.0\n",
       "Length: 194, dtype: float64"
      ]
     },
     "execution_count": 161,
     "metadata": {
      "tags": []
     },
     "output_type": "execute_result"
    }
   ],
   "source": [
    "alcohol.add(more_drinks, fill_value=0)"
   ]
  },
  {
   "cell_type": "code",
   "execution_count": 162,
   "metadata": {
    "colab": {
     "base_uri": "https://localhost:8080/",
     "height": 0
    },
    "colab_type": "code",
    "id": "3npi1EQOlPvw",
    "outputId": "fb35528b-2016-4913-e4b5-bbf852a2e7fe"
   },
   "outputs": [
    {
     "data": {
      "text/plain": [
       "Afghanistan     NaN\n",
       "Albania        48.0\n",
       "Alberia         NaN\n",
       "Algeria         4.0\n",
       "Andorra         NaN\n",
       "               ... \n",
       "Venezuela       NaN\n",
       "Vietnam         NaN\n",
       "Yemen           NaN\n",
       "Zambia          NaN\n",
       "Zimbabwe        NaN\n",
       "Length: 194, dtype: float64"
      ]
     },
     "execution_count": 162,
     "metadata": {
      "tags": []
     },
     "output_type": "execute_result"
    }
   ],
   "source": [
    "alcohol - more_drinks"
   ]
  },
  {
   "cell_type": "code",
   "execution_count": 163,
   "metadata": {
    "colab": {
     "base_uri": "https://localhost:8080/",
     "height": 0
    },
    "colab_type": "code",
    "id": "j21Yo2Mcl4CH",
    "outputId": "d01f17d9-bd68-4a1f-f786-d1fd624ab999"
   },
   "outputs": [
    {
     "data": {
      "text/plain": [
       "Afghanistan   -100.0\n",
       "Albania         48.0\n",
       "Alberia        -19.0\n",
       "Algeria          4.0\n",
       "Andorra        312.0\n",
       "               ...  \n",
       "Venezuela        3.0\n",
       "Vietnam          1.0\n",
       "Yemen         -101.0\n",
       "Zambia           4.0\n",
       "Zimbabwe         4.0\n",
       "Length: 194, dtype: float64"
      ]
     },
     "execution_count": 163,
     "metadata": {
      "tags": []
     },
     "output_type": "execute_result"
    }
   ],
   "source": [
    "alcohol.subtract(more_drinks, fill_value=0)"
   ]
  },
  {
   "cell_type": "code",
   "execution_count": 164,
   "metadata": {
    "colab": {
     "base_uri": "https://localhost:8080/",
     "height": 0
    },
    "colab_type": "code",
    "id": "EhXFXTT7l7Nj",
    "outputId": "58f3dc4c-e727-4abf-af33-1989e6382d21"
   },
   "outputs": [
    {
     "data": {
      "text/plain": [
       "Afghanistan      0.010000\n",
       "Albania          9.000000\n",
       "Alberia          0.052632\n",
       "Algeria          1.400000\n",
       "Andorra        312.000000\n",
       "                  ...    \n",
       "Venezuela        3.000000\n",
       "Vietnam          1.000000\n",
       "Yemen            0.009901\n",
       "Zambia           4.000000\n",
       "Zimbabwe         4.000000\n",
       "Length: 194, dtype: float64"
      ]
     },
     "execution_count": 164,
     "metadata": {
      "tags": []
     },
     "output_type": "execute_result"
    }
   ],
   "source": [
    "alcohol.divide(more_drinks, fill_value=1)"
   ]
  },
  {
   "cell_type": "code",
   "execution_count": 165,
   "metadata": {
    "colab": {
     "base_uri": "https://localhost:8080/",
     "height": 0
    },
    "colab_type": "code",
    "id": "Qn-mHXvQmBg5",
    "outputId": "c231eba6-b66a-4fd1-dc3a-cb5e8fc8e227"
   },
   "outputs": [
    {
     "data": {
      "text/plain": [
       "Afghanistan    100.0\n",
       "Albania        324.0\n",
       "Alberia         19.0\n",
       "Algeria        140.0\n",
       "Andorra        312.0\n",
       "               ...  \n",
       "Venezuela        3.0\n",
       "Vietnam          1.0\n",
       "Yemen          101.0\n",
       "Zambia           4.0\n",
       "Zimbabwe         4.0\n",
       "Length: 194, dtype: float64"
      ]
     },
     "execution_count": 165,
     "metadata": {
      "tags": []
     },
     "output_type": "execute_result"
    }
   ],
   "source": [
    "alcohol.multiply(more_drinks, fill_value=1)"
   ]
  },
  {
   "cell_type": "code",
   "execution_count": 166,
   "metadata": {
    "colab": {
     "base_uri": "https://localhost:8080/",
     "height": 0
    },
    "colab_type": "code",
    "id": "8AR-cOdFmE2p",
    "outputId": "df6f8af2-d791-47e1-9791-aa1ba2a14bb8"
   },
   "outputs": [
    {
     "data": {
      "text/plain": [
       "country\n",
       "Afghanistan      NaN\n",
       "Albania         54.0\n",
       "Algeria         14.0\n",
       "Andorra        312.0\n",
       "Angola          45.0\n",
       "Name: wine_servings, dtype: float64"
      ]
     },
     "execution_count": 166,
     "metadata": {
      "tags": []
     },
     "output_type": "execute_result"
    }
   ],
   "source": [
    "alcohol.head()"
   ]
  },
  {
   "cell_type": "code",
   "execution_count": 167,
   "metadata": {
    "colab": {
     "base_uri": "https://localhost:8080/",
     "height": 0
    },
    "colab_type": "code",
    "id": "R75TBo2TmLB7",
    "outputId": "0e46ab33-94b2-4a7f-effb-70f7d168407f"
   },
   "outputs": [
    {
     "data": {
      "text/plain": [
       "Albania          6\n",
       "Alberia         19\n",
       "Algeria         10\n",
       "Afghanistan    100\n",
       "Yemen          101\n",
       "dtype: int64"
      ]
     },
     "execution_count": 167,
     "metadata": {
      "tags": []
     },
     "output_type": "execute_result"
    }
   ],
   "source": [
    "more_drinks.head()"
   ]
  },
  {
   "cell_type": "markdown",
   "metadata": {
    "colab_type": "text",
    "id": "mx0xcv3QmL8B"
   },
   "source": [
    "# BONUS: Calculating Variance And Standard Deviation"
   ]
  },
  {
   "cell_type": "code",
   "execution_count": 168,
   "metadata": {
    "colab": {
     "base_uri": "https://localhost:8080/",
     "height": 0
    },
    "colab_type": "code",
    "id": "IqUbdJcItXRy",
    "outputId": "ae35c687-0cf2-473e-f223-abedc168a019"
   },
   "outputs": [
    {
     "data": {
      "text/plain": [
       "5796.52561153286"
      ]
     },
     "execution_count": 168,
     "metadata": {
      "tags": []
     },
     "output_type": "execute_result"
    }
   ],
   "source": [
    "alcohol.var()"
   ]
  },
  {
   "cell_type": "code",
   "execution_count": 169,
   "metadata": {
    "colab": {
     "base_uri": "https://localhost:8080/",
     "height": 0
    },
    "colab_type": "code",
    "id": "ecxbkDELtXNh",
    "outputId": "dcf2a5d6-8aa0-4b5e-f793-5b278f3ef2a2"
   },
   "outputs": [
    {
     "data": {
      "text/plain": [
       "5796.5256115328575"
      ]
     },
     "execution_count": 169,
     "metadata": {
      "tags": []
     },
     "output_type": "execute_result"
    }
   ],
   "source": [
    "(alcohol.subtract(alcohol.mean())**2).sum()/(alcohol.count()-1)"
   ]
  },
  {
   "cell_type": "code",
   "execution_count": 170,
   "metadata": {
    "colab": {
     "base_uri": "https://localhost:8080/",
     "height": 0
    },
    "colab_type": "code",
    "id": "-nnUw5ANtQaW",
    "outputId": "7680ea66-5b4b-4f41-815a-a2e7493f76d2"
   },
   "outputs": [
    {
     "data": {
      "text/plain": [
       "76.13491716376173"
      ]
     },
     "execution_count": 170,
     "metadata": {
      "tags": []
     },
     "output_type": "execute_result"
    }
   ],
   "source": [
    "alcohol.std()"
   ]
  },
  {
   "cell_type": "code",
   "execution_count": 171,
   "metadata": {
    "colab": {
     "base_uri": "https://localhost:8080/",
     "height": 0
    },
    "colab_type": "code",
    "id": "fejSp9yjsYal",
    "outputId": "6e02df89-9c3e-4400-efc0-288b34ebd7ac"
   },
   "outputs": [
    {
     "data": {
      "text/plain": [
       "76.13491716376171"
      ]
     },
     "execution_count": 171,
     "metadata": {
      "tags": []
     },
     "output_type": "execute_result"
    }
   ],
   "source": [
    "((alcohol.subtract(alcohol.mean())**2).sum()/(alcohol.count()-1))**(1/2)"
   ]
  },
  {
   "cell_type": "markdown",
   "metadata": {
    "colab_type": "text",
    "id": "1rRqOdj3qfxq"
   },
   "source": [
    "# Cumulative Operations"
   ]
  },
  {
   "cell_type": "code",
   "execution_count": 0,
   "metadata": {
    "colab": {},
    "colab_type": "code",
    "id": "NZ4FlGEys8sc"
   },
   "outputs": [],
   "source": [
    "# sum"
   ]
  },
  {
   "cell_type": "code",
   "execution_count": 72,
   "metadata": {
    "colab": {
     "base_uri": "https://localhost:8080/",
     "height": 0
    },
    "colab_type": "code",
    "id": "ZMxgf8UMs8pO",
    "outputId": "2f821a78-ee26-404e-9096-ca1bf95ddeed"
   },
   "outputs": [
    {
     "data": {
      "text/plain": [
       "8221.0"
      ]
     },
     "execution_count": 72,
     "metadata": {},
     "output_type": "execute_result"
    }
   ],
   "source": [
    "alcohol.sum()"
   ]
  },
  {
   "cell_type": "code",
   "execution_count": 73,
   "metadata": {
    "colab": {
     "base_uri": "https://localhost:8080/",
     "height": 0
    },
    "colab_type": "code",
    "id": "9hH0ixq4s0cq",
    "outputId": "11aa1cd8-9548-46df-f950-e876e4f7ceaf"
   },
   "outputs": [
    {
     "data": {
      "text/plain": [
       "country\n",
       "Zimbabwe          4.0\n",
       "Zambia            8.0\n",
       "Yemen             NaN\n",
       "Vietnam           9.0\n",
       "Venezuela        12.0\n",
       "                ...  \n",
       "Angola         7841.0\n",
       "Andorra        8153.0\n",
       "Algeria        8167.0\n",
       "Albania        8221.0\n",
       "Afghanistan       NaN\n",
       "Name: wine_servings, Length: 193, dtype: float64"
      ]
     },
     "execution_count": 73,
     "metadata": {},
     "output_type": "execute_result"
    }
   ],
   "source": [
    "alcohol.cumsum()"
   ]
  },
  {
   "cell_type": "code",
   "execution_count": null,
   "metadata": {},
   "outputs": [],
   "source": [
    "# operation on NAN will result in NAN"
   ]
  },
  {
   "cell_type": "code",
   "execution_count": 175,
   "metadata": {
    "colab": {
     "base_uri": "https://localhost:8080/",
     "height": 0
    },
    "colab_type": "code",
    "id": "eYoFC0_0s0Wb",
    "outputId": "9cc753c9-a268-48d4-d8a3-88f299b3ed71"
   },
   "outputs": [
    {
     "data": {
      "text/plain": [
       "nan"
      ]
     },
     "execution_count": 175,
     "metadata": {
      "tags": []
     },
     "output_type": "execute_result"
    }
   ],
   "source": [
    "np.NaN + 123192380912"
   ]
  },
  {
   "cell_type": "code",
   "execution_count": 176,
   "metadata": {
    "colab": {
     "base_uri": "https://localhost:8080/",
     "height": 0
    },
    "colab_type": "code",
    "id": "ftp4Kcb9sqTS",
    "outputId": "557a0cef-248e-4dd9-9c00-f971607ccaca"
   },
   "outputs": [
    {
     "data": {
      "text/plain": [
       "<NA>"
      ]
     },
     "execution_count": 176,
     "metadata": {
      "tags": []
     },
     "output_type": "execute_result"
    }
   ],
   "source": [
    "pd.NA + 12312"
   ]
  },
  {
   "cell_type": "code",
   "execution_count": 177,
   "metadata": {
    "colab": {
     "base_uri": "https://localhost:8080/",
     "height": 0
    },
    "colab_type": "code",
    "id": "qVpF1Cw9tpUy",
    "outputId": "13cffb56-c2bc-4be5-9022-7cb9333d52bf"
   },
   "outputs": [
    {
     "data": {
      "text/plain": [
       "3.4276115052182805e+183"
      ]
     },
     "execution_count": 177,
     "metadata": {
      "tags": []
     },
     "output_type": "execute_result"
    }
   ],
   "source": [
    "alcohol.prod()"
   ]
  },
  {
   "cell_type": "code",
   "execution_count": 178,
   "metadata": {
    "colab": {
     "base_uri": "https://localhost:8080/",
     "height": 0
    },
    "colab_type": "code",
    "id": "48WkGRD2txX6",
    "outputId": "0440d1b7-c018-46fa-fac5-3fab81765675"
   },
   "outputs": [
    {
     "data": {
      "text/plain": [
       "country\n",
       "Afghanistan              NaN\n",
       "Albania         5.400000e+01\n",
       "Algeria         7.560000e+02\n",
       "Andorra         2.358720e+05\n",
       "Angola          1.061424e+07\n",
       "                   ...      \n",
       "Venezuela      2.142257e+182\n",
       "Vietnam        2.142257e+182\n",
       "Yemen                    NaN\n",
       "Zambia         8.569029e+182\n",
       "Zimbabwe       3.427612e+183\n",
       "Name: wine_servings, Length: 193, dtype: float64"
      ]
     },
     "execution_count": 178,
     "metadata": {
      "tags": []
     },
     "output_type": "execute_result"
    }
   ],
   "source": [
    "alcohol.cumprod()"
   ]
  },
  {
   "cell_type": "code",
   "execution_count": 179,
   "metadata": {
    "colab": {
     "base_uri": "https://localhost:8080/",
     "height": 0
    },
    "colab_type": "code",
    "id": "r9VDMPd5tzzn",
    "outputId": "e30bbe1c-23ca-4402-8d6c-0008be330e39"
   },
   "outputs": [
    {
     "data": {
      "text/plain": [
       "True"
      ]
     },
     "execution_count": 179,
     "metadata": {
      "tags": []
     },
     "output_type": "execute_result"
    }
   ],
   "source": [
    "alcohol.cumprod()[-1] == alcohol.prod()"
   ]
  },
  {
   "cell_type": "code",
   "execution_count": 0,
   "metadata": {
    "colab": {},
    "colab_type": "code",
    "id": "pRhbBlVTt60K"
   },
   "outputs": [],
   "source": [
    "# cummin cummax"
   ]
  },
  {
   "cell_type": "code",
   "execution_count": 181,
   "metadata": {
    "colab": {
     "base_uri": "https://localhost:8080/",
     "height": 0
    },
    "colab_type": "code",
    "id": "b6KC6paDt83O",
    "outputId": "93a18ec4-e033-4617-d83c-e94550a334b3"
   },
   "outputs": [
    {
     "data": {
      "text/plain": [
       "1.0"
      ]
     },
     "execution_count": 181,
     "metadata": {
      "tags": []
     },
     "output_type": "execute_result"
    }
   ],
   "source": [
    "alcohol.min()"
   ]
  },
  {
   "cell_type": "code",
   "execution_count": 74,
   "metadata": {
    "colab": {
     "base_uri": "https://localhost:8080/",
     "height": 0
    },
    "colab_type": "code",
    "id": "9h6Ij21ouAwK",
    "outputId": "66b123df-fba4-4574-9815-3ea478eb0960"
   },
   "outputs": [
    {
     "data": {
      "text/plain": [
       "country\n",
       "Zimbabwe       4.0\n",
       "Zambia         4.0\n",
       "Yemen          NaN\n",
       "Vietnam        1.0\n",
       "Venezuela      1.0\n",
       "              ... \n",
       "Angola         1.0\n",
       "Andorra        1.0\n",
       "Algeria        1.0\n",
       "Albania        1.0\n",
       "Afghanistan    NaN\n",
       "Name: wine_servings, Length: 193, dtype: float64"
      ]
     },
     "execution_count": 74,
     "metadata": {},
     "output_type": "execute_result"
    }
   ],
   "source": [
    "alcohol.cummin()"
   ]
  },
  {
   "cell_type": "code",
   "execution_count": 75,
   "metadata": {
    "colab": {
     "base_uri": "https://localhost:8080/",
     "height": 0
    },
    "colab_type": "code",
    "id": "O24xhbyBuCF1",
    "outputId": "6f30ed0c-c601-4f68-a520-7884b6668a9d"
   },
   "outputs": [
    {
     "data": {
      "text/plain": [
       "339.0"
      ]
     },
     "execution_count": 75,
     "metadata": {},
     "output_type": "execute_result"
    }
   ],
   "source": [
    "alcohol.max()"
   ]
  },
  {
   "cell_type": "code",
   "execution_count": 76,
   "metadata": {
    "colab": {
     "base_uri": "https://localhost:8080/",
     "height": 0
    },
    "colab_type": "code",
    "id": "TZYVJ89HuGRN",
    "outputId": "0fbe1460-ccf5-4b02-a4ec-b4061f872ccd"
   },
   "outputs": [
    {
     "data": {
      "text/plain": [
       "country\n",
       "Zimbabwe         4.0\n",
       "Zambia           4.0\n",
       "Yemen            NaN\n",
       "Vietnam          4.0\n",
       "Venezuela        4.0\n",
       "               ...  \n",
       "Angola         339.0\n",
       "Andorra        339.0\n",
       "Algeria        339.0\n",
       "Albania        339.0\n",
       "Afghanistan      NaN\n",
       "Name: wine_servings, Length: 193, dtype: float64"
      ]
     },
     "execution_count": 76,
     "metadata": {},
     "output_type": "execute_result"
    }
   ],
   "source": [
    "alcohol.cummax()"
   ]
  },
  {
   "cell_type": "code",
   "execution_count": 185,
   "metadata": {
    "colab": {
     "base_uri": "https://localhost:8080/",
     "height": 0
    },
    "colab_type": "code",
    "id": "c3_43eXxuHwq",
    "outputId": "68fca4d8-df9d-4bcf-865b-6437ec01052d"
   },
   "outputs": [
    {
     "data": {
      "text/plain": [
       "country\n",
       "Afghanistan      NaN\n",
       "Albania         54.0\n",
       "Algeria         14.0\n",
       "Andorra        312.0\n",
       "Angola          45.0\n",
       "Name: wine_servings, dtype: float64"
      ]
     },
     "execution_count": 185,
     "metadata": {
      "tags": []
     },
     "output_type": "execute_result"
    }
   ],
   "source": [
    "alcohol.head()"
   ]
  },
  {
   "cell_type": "code",
   "execution_count": 186,
   "metadata": {
    "colab": {
     "base_uri": "https://localhost:8080/",
     "height": 0
    },
    "colab_type": "code",
    "id": "QOgEyZtKuLJV",
    "outputId": "363c7b3a-0d0c-40df-cc82-f78b27d87a24"
   },
   "outputs": [
    {
     "data": {
      "text/plain": [
       "a    v1\n",
       "b    v2\n",
       "c    v3\n",
       "dtype: object"
      ]
     },
     "execution_count": 186,
     "metadata": {
      "tags": []
     },
     "output_type": "execute_result"
    }
   ],
   "source": [
    "pd.Series({'a':'v1', 'b':'v2', 'c':'v3'})"
   ]
  },
  {
   "cell_type": "markdown",
   "metadata": {
    "colab_type": "text",
    "id": "6LCCQdWByeG1"
   },
   "source": [
    "# Pairwise Differences With diff()"
   ]
  },
  {
   "cell_type": "code",
   "execution_count": 187,
   "metadata": {
    "colab": {
     "base_uri": "https://localhost:8080/",
     "height": 0
    },
    "colab_type": "code",
    "id": "SjrzIctI28vu",
    "outputId": "728e2a56-e3f2-47eb-d400-0b609cb256e6"
   },
   "outputs": [
    {
     "data": {
      "text/plain": [
       "country\n",
       "Afghanistan      NaN\n",
       "Albania         54.0\n",
       "Algeria         14.0\n",
       "Andorra        312.0\n",
       "Angola          45.0\n",
       "Name: wine_servings, dtype: float64"
      ]
     },
     "execution_count": 187,
     "metadata": {
      "tags": []
     },
     "output_type": "execute_result"
    }
   ],
   "source": [
    "alcohol.head()"
   ]
  },
  {
   "cell_type": "code",
   "execution_count": 77,
   "metadata": {
    "colab": {
     "base_uri": "https://localhost:8080/",
     "height": 0
    },
    "colab_type": "code",
    "id": "P9TGFBsA28nw",
    "outputId": "c1e0d22a-3453-4eff-834d-9ffdc7e15874"
   },
   "outputs": [
    {
     "data": {
      "text/plain": [
       "country\n",
       "Zimbabwe     NaN\n",
       "Zambia       0.0\n",
       "Yemen        NaN\n",
       "Vietnam      NaN\n",
       "Venezuela    2.0\n",
       "Name: wine_servings, dtype: float64"
      ]
     },
     "execution_count": 77,
     "metadata": {},
     "output_type": "execute_result"
    }
   ],
   "source": [
    "alcohol.diff().head()"
   ]
  },
  {
   "cell_type": "code",
   "execution_count": 78,
   "metadata": {
    "colab": {
     "base_uri": "https://localhost:8080/",
     "height": 0
    },
    "colab_type": "code",
    "id": "cdlMoaUR28LS",
    "outputId": "de5bae57-a1e7-428f-8902-e73c1263bdc8"
   },
   "outputs": [
    {
     "data": {
      "text/plain": [
       "country\n",
       "Zimbabwe     NaN\n",
       "Zambia       NaN\n",
       "Yemen        NaN\n",
       "Vietnam     -3.0\n",
       "Venezuela    NaN\n",
       "Name: wine_servings, dtype: float64"
      ]
     },
     "execution_count": 78,
     "metadata": {},
     "output_type": "execute_result"
    }
   ],
   "source": [
    "alcohol.diff(periods=2).head()"
   ]
  },
  {
   "cell_type": "markdown",
   "metadata": {
    "colab_type": "text",
    "id": "S5iR8C9e28Hq"
   },
   "source": [
    "# Series Iteration"
   ]
  },
  {
   "cell_type": "code",
   "execution_count": 80,
   "metadata": {
    "colab": {},
    "colab_type": "code",
    "id": "AnHL0_iM9NS9"
   },
   "outputs": [],
   "source": [
    "mini_alc = alcohol[:10]"
   ]
  },
  {
   "cell_type": "code",
   "execution_count": 81,
   "metadata": {
    "colab": {
     "base_uri": "https://localhost:8080/",
     "height": 0
    },
    "colab_type": "code",
    "id": "ERnpDSRi9MTM",
    "outputId": "27613d8b-d990-4f51-9159-8bb8acc69bbc"
   },
   "outputs": [
    {
     "data": {
      "text/plain": [
       "country\n",
       "Zimbabwe                  4.0\n",
       "Zambia                    4.0\n",
       "Yemen                     NaN\n",
       "Vietnam                   1.0\n",
       "Venezuela                 3.0\n",
       "Vanuatu                  11.0\n",
       "Uzbekistan                8.0\n",
       "Uruguay                  22.0\n",
       "United Kingdom          195.0\n",
       "United Arab Emirates      5.0\n",
       "Name: wine_servings, dtype: float64"
      ]
     },
     "execution_count": 81,
     "metadata": {},
     "output_type": "execute_result"
    }
   ],
   "source": [
    "mini_alc"
   ]
  },
  {
   "cell_type": "code",
   "execution_count": 82,
   "metadata": {
    "colab": {
     "base_uri": "https://localhost:8080/",
     "height": 0
    },
    "colab_type": "code",
    "id": "Wp25r4a49MPR",
    "outputId": "7f0ab499-6225-4335-bff3-01b149d41ffd"
   },
   "outputs": [
    {
     "name": "stdout",
     "output_type": "stream",
     "text": [
      "4.0\n",
      "4.0\n",
      "nan\n",
      "1.0\n",
      "3.0\n",
      "11.0\n",
      "8.0\n",
      "22.0\n",
      "195.0\n",
      "5.0\n"
     ]
    }
   ],
   "source": [
    "for i in mini_alc:\n",
    "  print(i)"
   ]
  },
  {
   "cell_type": "code",
   "execution_count": 83,
   "metadata": {
    "colab": {
     "base_uri": "https://localhost:8080/",
     "height": 0
    },
    "colab_type": "code",
    "id": "wbIIYDm_9MLk",
    "outputId": "1ae3f94a-ef0a-4c4f-fbc0-de252642eef9"
   },
   "outputs": [
    {
     "name": "stdout",
     "output_type": "stream",
     "text": [
      "Zimbabwe\n",
      "Zambia\n",
      "Yemen\n",
      "Vietnam\n",
      "Venezuela\n",
      "Vanuatu\n",
      "Uzbekistan\n",
      "Uruguay\n",
      "United Kingdom\n",
      "United Arab Emirates\n"
     ]
    }
   ],
   "source": [
    "for i in mini_alc.index:\n",
    "  print(i)"
   ]
  },
  {
   "cell_type": "code",
   "execution_count": 84,
   "metadata": {
    "colab": {
     "base_uri": "https://localhost:8080/",
     "height": 0
    },
    "colab_type": "code",
    "id": "iaqTjMNZ9MHm",
    "outputId": "ab68c991-47f4-4ea4-b916-2da74eda7f01"
   },
   "outputs": [
    {
     "name": "stdout",
     "output_type": "stream",
     "text": [
      "Zimbabwe 4.0\n",
      "Zambia 4.0\n",
      "Yemen nan\n",
      "Vietnam 1.0\n",
      "Venezuela 3.0\n",
      "Vanuatu 11.0\n",
      "Uzbekistan 8.0\n",
      "Uruguay 22.0\n",
      "United Kingdom 195.0\n",
      "United Arab Emirates 5.0\n"
     ]
    }
   ],
   "source": [
    "for i in mini_alc.index:\n",
    "  print(i, mini_alc[i])"
   ]
  },
  {
   "cell_type": "markdown",
   "metadata": {
    "colab_type": "text",
    "id": "hAvtoOHlk-5P"
   },
   "source": [
    "# Filtering: filter(), where(), And mask()"
   ]
  },
  {
   "cell_type": "code",
   "execution_count": 86,
   "metadata": {
    "colab": {
     "base_uri": "https://localhost:8080/",
     "height": 0
    },
    "colab_type": "code",
    "id": "9Uv5g4u4uskm",
    "outputId": "074bf899-dd4f-461f-ce90-98e4263874b6"
   },
   "outputs": [
    {
     "data": {
      "text/plain": [
       "country\n",
       "Vietnam       1.0\n",
       "Venezuela     3.0\n",
       "Vanuatu      11.0\n",
       "Name: wine_servings, dtype: float64"
      ]
     },
     "execution_count": 86,
     "metadata": {},
     "output_type": "execute_result"
    }
   ],
   "source": [
    "alcohol.filter(regex='^V')"
   ]
  },
  {
   "cell_type": "code",
   "execution_count": 87,
   "metadata": {
    "colab": {
     "base_uri": "https://localhost:8080/",
     "height": 0
    },
    "colab_type": "code",
    "id": "Cg8pnbQRusew",
    "outputId": "8cc43288-e92d-489a-965b-d70468a1516e"
   },
   "outputs": [
    {
     "data": {
      "text/plain": [
       "country\n",
       "Uzbekistan       8.0\n",
       "Turkmenistan    32.0\n",
       "Tajikistan       NaN\n",
       "Pakistan         NaN\n",
       "Kyrgyzstan       6.0\n",
       "Kazakhstan      12.0\n",
       "Afghanistan      NaN\n",
       "Name: wine_servings, dtype: float64"
      ]
     },
     "execution_count": 87,
     "metadata": {},
     "output_type": "execute_result"
    }
   ],
   "source": [
    "alcohol.filter(like='stan')"
   ]
  },
  {
   "cell_type": "code",
   "execution_count": 88,
   "metadata": {
    "colab": {
     "base_uri": "https://localhost:8080/",
     "height": 0
    },
    "colab_type": "code",
    "id": "RbG8OVAvurzD",
    "outputId": "65be555f-7726-4234-a0a5-c228ca573965"
   },
   "outputs": [
    {
     "data": {
      "text/plain": [
       "country\n",
       "Slovenia             276.0\n",
       "Portugal             339.0\n",
       "Luxembourg           271.0\n",
       "Italy                237.0\n",
       "Greece               218.0\n",
       "Equatorial Guinea    233.0\n",
       "Denmark              278.0\n",
       "Croatia              254.0\n",
       "Belgium              212.0\n",
       "Australia            212.0\n",
       "Argentina            221.0\n",
       "Andorra              312.0\n",
       "Name: wine_servings, dtype: float64"
      ]
     },
     "execution_count": 88,
     "metadata": {},
     "output_type": "execute_result"
    }
   ],
   "source": [
    "alcohol[alcohol > 200]"
   ]
  },
  {
   "cell_type": "code",
   "execution_count": 89,
   "metadata": {
    "colab": {
     "base_uri": "https://localhost:8080/",
     "height": 0
    },
    "colab_type": "code",
    "id": "hqzoRxUJurvj",
    "outputId": "73d671e8-7238-4198-96e7-52c8ae61e6c4"
   },
   "outputs": [
    {
     "data": {
      "text/plain": [
       "country\n",
       "Slovenia             276.0\n",
       "Portugal             339.0\n",
       "Luxembourg           271.0\n",
       "Italy                237.0\n",
       "Greece               218.0\n",
       "Equatorial Guinea    233.0\n",
       "Denmark              278.0\n",
       "Croatia              254.0\n",
       "Belgium              212.0\n",
       "Australia            212.0\n",
       "Argentina            221.0\n",
       "Andorra              312.0\n",
       "Name: wine_servings, dtype: float64"
      ]
     },
     "execution_count": 89,
     "metadata": {},
     "output_type": "execute_result"
    }
   ],
   "source": [
    "alcohol.loc[alcohol > 200]"
   ]
  },
  {
   "cell_type": "code",
   "execution_count": 90,
   "metadata": {
    "colab": {},
    "colab_type": "code",
    "id": "GXnWbZElurro"
   },
   "outputs": [],
   "source": [
    "def gt200(x):\n",
    "  return x > 200"
   ]
  },
  {
   "cell_type": "code",
   "execution_count": 91,
   "metadata": {
    "colab": {
     "base_uri": "https://localhost:8080/",
     "height": 0
    },
    "colab_type": "code",
    "id": "nTTpIDqvui3m",
    "outputId": "3e5ec177-53db-4c0a-f1c9-8307286e71eb"
   },
   "outputs": [
    {
     "data": {
      "text/plain": [
       "country\n",
       "Slovenia             276.0\n",
       "Portugal             339.0\n",
       "Luxembourg           271.0\n",
       "Italy                237.0\n",
       "Greece               218.0\n",
       "Equatorial Guinea    233.0\n",
       "Denmark              278.0\n",
       "Croatia              254.0\n",
       "Belgium              212.0\n",
       "Australia            212.0\n",
       "Argentina            221.0\n",
       "Andorra              312.0\n",
       "Name: wine_servings, dtype: float64"
      ]
     },
     "execution_count": 91,
     "metadata": {},
     "output_type": "execute_result"
    }
   ],
   "source": [
    "alcohol[gt200]"
   ]
  },
  {
   "cell_type": "code",
   "execution_count": 0,
   "metadata": {
    "colab": {},
    "colab_type": "code",
    "id": "MeKI22w8ukVo"
   },
   "outputs": [],
   "source": [
    "# the where() method\n",
    "# The where method is used to replace values where a condition is False. It keeps the values where the condition is True and replaces the values where the condition is False."
   ]
  },
  {
   "cell_type": "code",
   "execution_count": 97,
   "metadata": {},
   "outputs": [
    {
     "data": {
      "text/html": [
       "<div>\n",
       "<style scoped>\n",
       "    .dataframe tbody tr th:only-of-type {\n",
       "        vertical-align: middle;\n",
       "    }\n",
       "\n",
       "    .dataframe tbody tr th {\n",
       "        vertical-align: top;\n",
       "    }\n",
       "\n",
       "    .dataframe thead th {\n",
       "        text-align: right;\n",
       "    }\n",
       "</style>\n",
       "<table border=\"1\" class=\"dataframe\">\n",
       "  <thead>\n",
       "    <tr style=\"text-align: right;\">\n",
       "      <th></th>\n",
       "      <th>A</th>\n",
       "      <th>B</th>\n",
       "    </tr>\n",
       "  </thead>\n",
       "  <tbody>\n",
       "    <tr>\n",
       "      <th>0</th>\n",
       "      <td>NaN</td>\n",
       "      <td>10</td>\n",
       "    </tr>\n",
       "    <tr>\n",
       "      <th>1</th>\n",
       "      <td>NaN</td>\n",
       "      <td>20</td>\n",
       "    </tr>\n",
       "    <tr>\n",
       "      <th>2</th>\n",
       "      <td>3.0</td>\n",
       "      <td>30</td>\n",
       "    </tr>\n",
       "    <tr>\n",
       "      <th>3</th>\n",
       "      <td>4.0</td>\n",
       "      <td>40</td>\n",
       "    </tr>\n",
       "  </tbody>\n",
       "</table>\n",
       "</div>"
      ],
      "text/plain": [
       "     A   B\n",
       "0  NaN  10\n",
       "1  NaN  20\n",
       "2  3.0  30\n",
       "3  4.0  40"
      ]
     },
     "execution_count": 97,
     "metadata": {},
     "output_type": "execute_result"
    }
   ],
   "source": [
    "import pandas as pd\n",
    "\n",
    "df = pd.DataFrame({'A': [1, 2, 3, 4], 'B': [10, 20, 30, 40]})\n",
    "where_df = df.where(df > 2)\n",
    "where_df"
   ]
  },
  {
   "cell_type": "code",
   "execution_count": 92,
   "metadata": {
    "colab": {
     "base_uri": "https://localhost:8080/",
     "height": 0
    },
    "colab_type": "code",
    "id": "3cbPzxXiv4P9",
    "outputId": "1f54809d-7d1c-4e1d-f4e2-79cfafbe0381"
   },
   "outputs": [
    {
     "data": {
      "text/plain": [
       "country\n",
       "Slovenia             276.0\n",
       "Portugal             339.0\n",
       "Luxembourg           271.0\n",
       "Italy                237.0\n",
       "Greece               218.0\n",
       "Equatorial Guinea    233.0\n",
       "Denmark              278.0\n",
       "Croatia              254.0\n",
       "Belgium              212.0\n",
       "Australia            212.0\n",
       "Argentina            221.0\n",
       "Andorra              312.0\n",
       "Name: wine_servings, dtype: float64"
      ]
     },
     "execution_count": 92,
     "metadata": {},
     "output_type": "execute_result"
    }
   ],
   "source": [
    "alcohol.where(lambda x: x>200).dropna()"
   ]
  },
  {
   "cell_type": "code",
   "execution_count": 93,
   "metadata": {
    "colab": {
     "base_uri": "https://localhost:8080/",
     "height": 0
    },
    "colab_type": "code",
    "id": "z_5VKOw7wGvA",
    "outputId": "7a6e9ec1-9fb3-43a7-cd9a-ac18a1bd880e"
   },
   "outputs": [
    {
     "data": {
      "text/plain": [
       "country\n",
       "Zimbabwe              4.0\n",
       "Zambia                4.0\n",
       "Vietnam               1.0\n",
       "Venezuela             3.0\n",
       "Vanuatu              11.0\n",
       "                     ... \n",
       "Armenia              11.0\n",
       "Antigua & Barbuda    45.0\n",
       "Angola               45.0\n",
       "Algeria              14.0\n",
       "Albania              54.0\n",
       "Name: wine_servings, Length: 150, dtype: float64"
      ]
     },
     "execution_count": 93,
     "metadata": {},
     "output_type": "execute_result"
    }
   ],
   "source": [
    "alcohol.where(lambda x: x<=200).dropna()"
   ]
  },
  {
   "cell_type": "code",
   "execution_count": 0,
   "metadata": {
    "colab": {},
    "colab_type": "code",
    "id": "4rzotAFUwqjU"
   },
   "outputs": [],
   "source": [
    "# the mask() method\n",
    "# The mask method is used to replace values where a condition is True. Essentially, it inverts the condition provided to it."
   ]
  },
  {
   "cell_type": "code",
   "execution_count": 95,
   "metadata": {},
   "outputs": [
    {
     "data": {
      "text/html": [
       "<div>\n",
       "<style scoped>\n",
       "    .dataframe tbody tr th:only-of-type {\n",
       "        vertical-align: middle;\n",
       "    }\n",
       "\n",
       "    .dataframe tbody tr th {\n",
       "        vertical-align: top;\n",
       "    }\n",
       "\n",
       "    .dataframe thead th {\n",
       "        text-align: right;\n",
       "    }\n",
       "</style>\n",
       "<table border=\"1\" class=\"dataframe\">\n",
       "  <thead>\n",
       "    <tr style=\"text-align: right;\">\n",
       "      <th></th>\n",
       "      <th>A</th>\n",
       "      <th>B</th>\n",
       "    </tr>\n",
       "  </thead>\n",
       "  <tbody>\n",
       "    <tr>\n",
       "      <th>0</th>\n",
       "      <td>1.0</td>\n",
       "      <td>NaN</td>\n",
       "    </tr>\n",
       "    <tr>\n",
       "      <th>1</th>\n",
       "      <td>2.0</td>\n",
       "      <td>NaN</td>\n",
       "    </tr>\n",
       "    <tr>\n",
       "      <th>2</th>\n",
       "      <td>NaN</td>\n",
       "      <td>NaN</td>\n",
       "    </tr>\n",
       "    <tr>\n",
       "      <th>3</th>\n",
       "      <td>NaN</td>\n",
       "      <td>NaN</td>\n",
       "    </tr>\n",
       "  </tbody>\n",
       "</table>\n",
       "</div>"
      ],
      "text/plain": [
       "     A   B\n",
       "0  1.0 NaN\n",
       "1  2.0 NaN\n",
       "2  NaN NaN\n",
       "3  NaN NaN"
      ]
     },
     "execution_count": 95,
     "metadata": {},
     "output_type": "execute_result"
    }
   ],
   "source": [
    "import pandas as pd\n",
    "\n",
    "df = pd.DataFrame({'A': [1, 2, 3, 4], 'B': [10, 20, 30, 40]})\n",
    "masked_df = df.mask(df > 2)\n",
    "masked_df"
   ]
  },
  {
   "cell_type": "code",
   "execution_count": 206,
   "metadata": {
    "colab": {
     "base_uri": "https://localhost:8080/",
     "height": 0
    },
    "colab_type": "code",
    "id": "QYB_kAPCw2GW",
    "outputId": "c01992c8-c919-44c9-e681-ca9976298da9"
   },
   "outputs": [
    {
     "data": {
      "text/plain": [
       "country\n",
       "Albania              54.0\n",
       "Algeria              14.0\n",
       "Angola               45.0\n",
       "Antigua & Barbuda    45.0\n",
       "Armenia              11.0\n",
       "                     ... \n",
       "Vanuatu              11.0\n",
       "Venezuela             3.0\n",
       "Vietnam               1.0\n",
       "Zambia                4.0\n",
       "Zimbabwe              4.0\n",
       "Name: wine_servings, Length: 150, dtype: float64"
      ]
     },
     "execution_count": 206,
     "metadata": {
      "tags": []
     },
     "output_type": "execute_result"
    }
   ],
   "source": [
    "alcohol.mask(lambda x: x>200).dropna() # will remove all where greater than 200"
   ]
  },
  {
   "cell_type": "markdown",
   "metadata": {
    "colab_type": "text",
    "id": "HTRDqLIkw--y"
   },
   "source": [
    "# Transforming With update(), apply() And map()"
   ]
  },
  {
   "cell_type": "code",
   "execution_count": 98,
   "metadata": {
    "colab": {
     "base_uri": "https://localhost:8080/",
     "height": 0
    },
    "colab_type": "code",
    "id": "ED5wGJEcPR6r",
    "outputId": "34a602e7-94b7-4f5e-afac-179ed0167505"
   },
   "outputs": [
    {
     "data": {
      "text/plain": [
       "country\n",
       "Zimbabwe                  4.0\n",
       "Zambia                    4.0\n",
       "Yemen                     NaN\n",
       "Vietnam                   1.0\n",
       "Venezuela                 3.0\n",
       "Vanuatu                  11.0\n",
       "Uzbekistan                8.0\n",
       "Uruguay                  22.0\n",
       "United Kingdom          195.0\n",
       "United Arab Emirates      5.0\n",
       "Name: wine_servings, dtype: float64"
      ]
     },
     "execution_count": 98,
     "metadata": {},
     "output_type": "execute_result"
    }
   ],
   "source": [
    "alcohol.head(10)"
   ]
  },
  {
   "cell_type": "code",
   "execution_count": 0,
   "metadata": {
    "colab": {},
    "colab_type": "code",
    "id": "LcIoLSePPgl_"
   },
   "outputs": [],
   "source": [
    "# spot v global transforms"
   ]
  },
  {
   "cell_type": "code",
   "execution_count": 99,
   "metadata": {
    "colab": {},
    "colab_type": "code",
    "id": "xKrzYiB8P38N"
   },
   "outputs": [],
   "source": [
    "alcohol.loc['Algeria'] = 19"
   ]
  },
  {
   "cell_type": "code",
   "execution_count": 101,
   "metadata": {
    "colab": {
     "base_uri": "https://localhost:8080/",
     "height": 0
    },
    "colab_type": "code",
    "id": "LdRpcSL6P_S4",
    "outputId": "df33f91f-b77d-4a88-f938-9561627913fa"
   },
   "outputs": [
    {
     "data": {
      "text/plain": [
       "country\n",
       "Austria              191.0\n",
       "Australia            212.0\n",
       "Armenia               11.0\n",
       "Argentina            221.0\n",
       "Antigua & Barbuda     45.0\n",
       "Angola                45.0\n",
       "Andorra              312.0\n",
       "Algeria               19.0\n",
       "Albania               54.0\n",
       "Afghanistan            NaN\n",
       "Name: wine_servings, dtype: float64"
      ]
     },
     "execution_count": 101,
     "metadata": {},
     "output_type": "execute_result"
    }
   ],
   "source": [
    "alcohol.tail(10)"
   ]
  },
  {
   "cell_type": "code",
   "execution_count": 103,
   "metadata": {
    "colab": {},
    "colab_type": "code",
    "id": "QKGgI6u8QB9x"
   },
   "outputs": [],
   "source": [
    "alcohol.loc['Albania'] = 190\n",
    "alcohol.loc['Afghanistan'] = 20\n",
    "alcohol.loc['Andorra'] = 29"
   ]
  },
  {
   "cell_type": "code",
   "execution_count": 104,
   "metadata": {
    "colab": {
     "base_uri": "https://localhost:8080/",
     "height": 0
    },
    "colab_type": "code",
    "id": "2KClonmQQJXB",
    "outputId": "ed7b909e-9340-4510-d908-d4714e0a1187"
   },
   "outputs": [
    {
     "data": {
      "text/plain": [
       "country\n",
       "Austria              191.0\n",
       "Australia            212.0\n",
       "Armenia               11.0\n",
       "Argentina            221.0\n",
       "Antigua & Barbuda     45.0\n",
       "Angola                45.0\n",
       "Andorra               29.0\n",
       "Algeria               19.0\n",
       "Albania              190.0\n",
       "Afghanistan           20.0\n",
       "Name: wine_servings, dtype: float64"
      ]
     },
     "execution_count": 104,
     "metadata": {},
     "output_type": "execute_result"
    }
   ],
   "source": [
    "alcohol.tail(10)"
   ]
  },
  {
   "cell_type": "code",
   "execution_count": 0,
   "metadata": {
    "colab": {},
    "colab_type": "code",
    "id": "tg-AEPjZQKxy"
   },
   "outputs": [],
   "source": [
    "# the update() method"
   ]
  },
  {
   "cell_type": "code",
   "execution_count": 105,
   "metadata": {
    "colab": {},
    "colab_type": "code",
    "id": "VNJbW8L7QSr-"
   },
   "outputs": [],
   "source": [
    "alcohol.update(pd.Series(data=[200, 20], index=['Albania', 'Algeria']))"
   ]
  },
  {
   "cell_type": "code",
   "execution_count": 107,
   "metadata": {
    "colab": {
     "base_uri": "https://localhost:8080/",
     "height": 0
    },
    "colab_type": "code",
    "id": "U-yxSGWmQab8",
    "outputId": "f77cb420-34bd-4de2-c9a4-aec455440fe3"
   },
   "outputs": [
    {
     "data": {
      "text/plain": [
       "country\n",
       "Austria              191.0\n",
       "Australia            212.0\n",
       "Armenia               11.0\n",
       "Argentina            221.0\n",
       "Antigua & Barbuda     45.0\n",
       "Angola                45.0\n",
       "Andorra               29.0\n",
       "Algeria               20.0\n",
       "Albania              200.0\n",
       "Afghanistan           20.0\n",
       "Name: wine_servings, dtype: float64"
      ]
     },
     "execution_count": 107,
     "metadata": {},
     "output_type": "execute_result"
    }
   ],
   "source": [
    "alcohol.tail(10)"
   ]
  },
  {
   "cell_type": "code",
   "execution_count": 0,
   "metadata": {
    "colab": {},
    "colab_type": "code",
    "id": "xNX9aNkuQgjS"
   },
   "outputs": [],
   "source": [
    "# the apply() method"
   ]
  },
  {
   "cell_type": "code",
   "execution_count": 217,
   "metadata": {
    "colab": {
     "base_uri": "https://localhost:8080/",
     "height": 0
    },
    "colab_type": "code",
    "id": "Fnf3ZzpMQuGq",
    "outputId": "ae315ac9-8f89-4dce-ce5d-4b513788b70e"
   },
   "outputs": [
    {
     "data": {
      "text/plain": [
       "country\n",
       "Afghanistan      400.0\n",
       "Albania        40000.0\n",
       "Algeria          400.0\n",
       "Andorra          841.0\n",
       "Angola          2025.0\n",
       "                ...   \n",
       "Venezuela          9.0\n",
       "Vietnam            1.0\n",
       "Yemen              NaN\n",
       "Zambia            16.0\n",
       "Zimbabwe          16.0\n",
       "Name: wine_servings, Length: 193, dtype: float64"
      ]
     },
     "execution_count": 217,
     "metadata": {
      "tags": []
     },
     "output_type": "execute_result"
    }
   ],
   "source": [
    "alcohol.map(lambda x: x**2)"
   ]
  },
  {
   "cell_type": "code",
   "execution_count": 218,
   "metadata": {
    "colab": {
     "base_uri": "https://localhost:8080/",
     "height": 0
    },
    "colab_type": "code",
    "id": "e2nIiyjaQ2Q2",
    "outputId": "0fb39792-ee67-44a6-c61f-1002c19fac37"
   },
   "outputs": [
    {
     "data": {
      "text/plain": [
       "country\n",
       "Afghanistan      400.0\n",
       "Albania        40000.0\n",
       "Algeria          400.0\n",
       "Andorra          841.0\n",
       "Angola          2025.0\n",
       "                ...   \n",
       "Venezuela          9.0\n",
       "Vietnam            1.0\n",
       "Yemen              NaN\n",
       "Zambia            16.0\n",
       "Zimbabwe          16.0\n",
       "Name: wine_servings, Length: 193, dtype: float64"
      ]
     },
     "execution_count": 218,
     "metadata": {
      "tags": []
     },
     "output_type": "execute_result"
    }
   ],
   "source": [
    "alcohol.map(np.square)"
   ]
  },
  {
   "cell_type": "code",
   "execution_count": 109,
   "metadata": {},
   "outputs": [],
   "source": [
    "# apply()\n",
    "# The apply method in pandas is a powerful tool used to apply a function along an axis of the DataFrame or Series. It can be used to perform complex operations and transformations on data. "
   ]
  },
  {
   "cell_type": "code",
   "execution_count": 108,
   "metadata": {
    "colab": {},
    "colab_type": "code",
    "id": "e3ti6w11Q8za"
   },
   "outputs": [],
   "source": [
    "def multiply_by_self(x):\n",
    "  return x*x"
   ]
  },
  {
   "cell_type": "code",
   "execution_count": 110,
   "metadata": {
    "colab": {
     "base_uri": "https://localhost:8080/",
     "height": 0
    },
    "colab_type": "code",
    "id": "2IBih2DgRERY",
    "outputId": "f40be713-e4c0-4cfb-b9ee-38e40f791637"
   },
   "outputs": [
    {
     "data": {
      "text/plain": [
       "country\n",
       "Zimbabwe          16.0\n",
       "Zambia            16.0\n",
       "Yemen              NaN\n",
       "Vietnam            1.0\n",
       "Venezuela          9.0\n",
       "                ...   \n",
       "Angola          2025.0\n",
       "Andorra          841.0\n",
       "Algeria          400.0\n",
       "Albania        40000.0\n",
       "Afghanistan      400.0\n",
       "Name: wine_servings, Length: 193, dtype: float64"
      ]
     },
     "execution_count": 110,
     "metadata": {},
     "output_type": "execute_result"
    }
   ],
   "source": [
    "alcohol.apply(multiply_by_self)"
   ]
  },
  {
   "cell_type": "code",
   "execution_count": 124,
   "metadata": {},
   "outputs": [
    {
     "data": {
      "text/plain": [
       "country\n",
       "Venezuela     45.0\n",
       "Vietnam       29.0\n",
       "Yemen         20.0\n",
       "Zambia       200.0\n",
       "Zimbabwe      20.0\n",
       "Name: wine_servings, dtype: float64"
      ]
     },
     "execution_count": 124,
     "metadata": {},
     "output_type": "execute_result"
    }
   ],
   "source": [
    "alcohol.tail()"
   ]
  },
  {
   "cell_type": "code",
   "execution_count": 111,
   "metadata": {
    "colab": {},
    "colab_type": "code",
    "id": "q29zJqCFRHUp"
   },
   "outputs": [],
   "source": [
    "def multiply_by_self_with_min(x, min_servings):\n",
    "  if x < min_servings:\n",
    "    return x**2\n",
    "  \n",
    "  return x"
   ]
  },
  {
   "cell_type": "code",
   "execution_count": 119,
   "metadata": {
    "colab": {},
    "colab_type": "code",
    "id": "MS6znEVjRZPC"
   },
   "outputs": [
    {
     "data": {
      "text/plain": [
       "country\n",
       "Afghanistan      16.0\n",
       "Albania          16.0\n",
       "Algeria           NaN\n",
       "Andorra           1.0\n",
       "Angola            9.0\n",
       "                ...  \n",
       "Venezuela      2025.0\n",
       "Vietnam         841.0\n",
       "Yemen           400.0\n",
       "Zambia          200.0\n",
       "Zimbabwe        400.0\n",
       "Name: wine_servings, Length: 193, dtype: float64"
      ]
     },
     "execution_count": 119,
     "metadata": {},
     "output_type": "execute_result"
    }
   ],
   "source": [
    "alcohol.apply(lambda x: multiply_by_self_with_min(x, 200))"
   ]
  },
  {
   "cell_type": "code",
   "execution_count": 120,
   "metadata": {
    "colab": {
     "base_uri": "https://localhost:8080/",
     "height": 0
    },
    "colab_type": "code",
    "id": "z3Z2mNUPRntf",
    "outputId": "c0b4c573-b3a2-48e5-ecc7-00d71c5d1c9e"
   },
   "outputs": [
    {
     "data": {
      "text/plain": [
       "country\n",
       "Afghanistan    4.0\n",
       "Albania        4.0\n",
       "Algeria        NaN\n",
       "Andorra        1.0\n",
       "Angola         3.0\n",
       "Name: wine_servings, dtype: float64"
      ]
     },
     "execution_count": 120,
     "metadata": {},
     "output_type": "execute_result"
    }
   ],
   "source": [
    "alcohol.head()"
   ]
  },
  {
   "cell_type": "code",
   "execution_count": 121,
   "metadata": {
    "colab": {
     "base_uri": "https://localhost:8080/",
     "height": 0
    },
    "colab_type": "code",
    "id": "RE1deuX0RwkA",
    "outputId": "a9e53096-a3d5-4ca4-bd94-d07da92b67a5"
   },
   "outputs": [
    {
     "data": {
      "text/plain": [
       "country\n",
       "Afghanistan      16.0\n",
       "Albania          16.0\n",
       "Algeria           NaN\n",
       "Andorra           1.0\n",
       "Angola            9.0\n",
       "                ...  \n",
       "Venezuela      2025.0\n",
       "Vietnam         841.0\n",
       "Yemen           400.0\n",
       "Zambia          200.0\n",
       "Zimbabwe        400.0\n",
       "Name: wine_servings, Length: 193, dtype: float64"
      ]
     },
     "execution_count": 121,
     "metadata": {},
     "output_type": "execute_result"
    }
   ],
   "source": [
    "alcohol.apply(multiply_by_self_with_min, min_servings=200) #same as above lambda function"
   ]
  },
  {
   "cell_type": "code",
   "execution_count": 0,
   "metadata": {
    "colab": {},
    "colab_type": "code",
    "id": "X3asqE1MR7Bg"
   },
   "outputs": [],
   "source": [
    "# the map() method"
   ]
  },
  {
   "cell_type": "markdown",
   "metadata": {
    "colab_type": "text",
    "id": "oaF6Po0BSFZC"
   },
   "source": [
    "#### Skill Challenge"
   ]
  },
  {
   "cell_type": "markdown",
   "metadata": {
    "colab_type": "text",
    "id": "refA1MvUTwe7"
   },
   "source": [
    "###### **1**."
   ]
  },
  {
   "cell_type": "markdown",
   "metadata": {
    "colab_type": "text",
    "id": "EpHodqlbUHY7"
   },
   "source": [
    "Read the drinks.csv dataset again, this time bringing in the beer_servings sequence into a new <ins>series</ins> with country again acting as the index. Assign this series to the variable *beers*.\n",
    "\n",
    "Link to data: https://andybek.com/pandas-drinks"
   ]
  },
  {
   "cell_type": "markdown",
   "metadata": {
    "colab_type": "text",
    "id": "qbmXh2s6UXIN"
   },
   "source": [
    "###### **2**."
   ]
  },
  {
   "cell_type": "markdown",
   "metadata": {
    "colab_type": "text",
    "id": "zmjUXaWUUYK5"
   },
   "source": [
    "Calculate the mean, median, and standard deviation of beer servings in *beers*. Is the distribution right or left skewed?"
   ]
  },
  {
   "cell_type": "markdown",
   "metadata": {
    "colab_type": "text",
    "id": "TZvXofChUfx2"
   },
   "source": [
    "###### **3**."
   ]
  },
  {
   "cell_type": "markdown",
   "metadata": {
    "colab_type": "text",
    "id": "f59VEKXEUkvB"
   },
   "source": [
    "Slice the first 10 countriees from *beers*. Are these relatively large or small relative to the rest of the sample?\n",
    "\n",
    "**BONUS**: To answer that, we could compare each value to the mean or median. An even\n",
    "better approach would be to calculate standard scores, or z-scores as they \n",
    "are known."
   ]
  },
  {
   "cell_type": "markdown",
   "metadata": {
    "colab_type": "text",
    "id": "4iU0I60bU801"
   },
   "source": [
    "###### **BONUS 4**."
   ]
  },
  {
   "cell_type": "markdown",
   "metadata": {
    "colab_type": "text",
    "id": "w6v8f2pAU9sf"
   },
   "source": [
    "Create a new series that uses series arithmetics to calculate the z-score \n",
    "for each serving by subtracting from each the mean and dividing the difference\n",
    "by the standard deviation. Point the variable *z_scores* to this series.\n",
    "\n",
    "Which country has the largest absolute z-score? Is this a positive or negative deviation? "
   ]
  },
  {
   "cell_type": "markdown",
   "metadata": {
    "colab_type": "text",
    "id": "gGsrVgjsY0Eu"
   },
   "source": [
    "# Solution I - Reading Data"
   ]
  },
  {
   "cell_type": "code",
   "execution_count": 125,
   "metadata": {
    "colab": {},
    "colab_type": "code",
    "id": "stXDNvDRZKZP"
   },
   "outputs": [],
   "source": [
    "data_url = 'https://andybek.com/pandas-drinks'"
   ]
  },
  {
   "cell_type": "code",
   "execution_count": 127,
   "metadata": {
    "colab": {},
    "colab_type": "code",
    "id": "2p-Uqq-OZSTs"
   },
   "outputs": [],
   "source": [
    "beers = pd.read_csv(data_url, usecols=['country', 'beer_servings'], index_col='country')"
   ]
  },
  {
   "cell_type": "code",
   "execution_count": 128,
   "metadata": {
    "colab": {
     "base_uri": "https://localhost:8080/",
     "height": 0
    },
    "colab_type": "code",
    "id": "AioCI9FwZXP3",
    "outputId": "75eb2477-d5fb-4879-d402-9fbb98ad69cb"
   },
   "outputs": [
    {
     "data": {
      "text/html": [
       "<div>\n",
       "<style scoped>\n",
       "    .dataframe tbody tr th:only-of-type {\n",
       "        vertical-align: middle;\n",
       "    }\n",
       "\n",
       "    .dataframe tbody tr th {\n",
       "        vertical-align: top;\n",
       "    }\n",
       "\n",
       "    .dataframe thead th {\n",
       "        text-align: right;\n",
       "    }\n",
       "</style>\n",
       "<table border=\"1\" class=\"dataframe\">\n",
       "  <thead>\n",
       "    <tr style=\"text-align: right;\">\n",
       "      <th></th>\n",
       "      <th>beer_servings</th>\n",
       "    </tr>\n",
       "    <tr>\n",
       "      <th>country</th>\n",
       "      <th></th>\n",
       "    </tr>\n",
       "  </thead>\n",
       "  <tbody>\n",
       "    <tr>\n",
       "      <th>Afghanistan</th>\n",
       "      <td>NaN</td>\n",
       "    </tr>\n",
       "    <tr>\n",
       "      <th>Albania</th>\n",
       "      <td>89.0</td>\n",
       "    </tr>\n",
       "    <tr>\n",
       "      <th>Algeria</th>\n",
       "      <td>25.0</td>\n",
       "    </tr>\n",
       "    <tr>\n",
       "      <th>Andorra</th>\n",
       "      <td>245.0</td>\n",
       "    </tr>\n",
       "    <tr>\n",
       "      <th>Angola</th>\n",
       "      <td>217.0</td>\n",
       "    </tr>\n",
       "  </tbody>\n",
       "</table>\n",
       "</div>"
      ],
      "text/plain": [
       "             beer_servings\n",
       "country                   \n",
       "Afghanistan            NaN\n",
       "Albania               89.0\n",
       "Algeria               25.0\n",
       "Andorra              245.0\n",
       "Angola               217.0"
      ]
     },
     "execution_count": 128,
     "metadata": {},
     "output_type": "execute_result"
    }
   ],
   "source": [
    "beers.head()"
   ]
  },
  {
   "cell_type": "code",
   "execution_count": 229,
   "metadata": {
    "colab": {
     "base_uri": "https://localhost:8080/",
     "height": 0
    },
    "colab_type": "code",
    "id": "k1FIBEm7ZYD4",
    "outputId": "6a79820a-adde-46b7-de4a-61df0b71e0e2"
   },
   "outputs": [
    {
     "data": {
      "text/plain": [
       "pandas.core.series.Series"
      ]
     },
     "execution_count": 229,
     "metadata": {
      "tags": []
     },
     "output_type": "execute_result"
    }
   ],
   "source": [
    "type(beers)"
   ]
  },
  {
   "cell_type": "markdown",
   "metadata": {
    "colab_type": "text",
    "id": "5D0_SV7fZjOh"
   },
   "source": [
    "#### Solution II - Mean, Median, And Standard Deviation"
   ]
  },
  {
   "cell_type": "code",
   "execution_count": 230,
   "metadata": {
    "colab": {
     "base_uri": "https://localhost:8080/",
     "height": 0
    },
    "colab_type": "code",
    "id": "9w8HnMCUGr1o",
    "outputId": "9391138b-fb29-4d86-d448-91f5e3aa9981"
   },
   "outputs": [
    {
     "data": {
      "text/plain": [
       "102.87078651685393"
      ]
     },
     "execution_count": 230,
     "metadata": {
      "tags": []
     },
     "output_type": "execute_result"
    }
   ],
   "source": [
    "beers.mean()"
   ]
  },
  {
   "cell_type": "code",
   "execution_count": 231,
   "metadata": {
    "colab": {
     "base_uri": "https://localhost:8080/",
     "height": 0
    },
    "colab_type": "code",
    "id": "0rl2D3rFG8DA",
    "outputId": "0a165790-3c2f-4400-ef02-b10382a561d6"
   },
   "outputs": [
    {
     "data": {
      "text/plain": [
       "60.0"
      ]
     },
     "execution_count": 231,
     "metadata": {
      "tags": []
     },
     "output_type": "execute_result"
    }
   ],
   "source": [
    "beers.median()"
   ]
  },
  {
   "cell_type": "code",
   "execution_count": 232,
   "metadata": {
    "colab": {
     "base_uri": "https://localhost:8080/",
     "height": 0
    },
    "colab_type": "code",
    "id": "4i-rAEgwG-79",
    "outputId": "aa6d54b6-f3c1-4e90-f4b8-b6d95b3b1bc8"
   },
   "outputs": [
    {
     "data": {
      "text/plain": [
       "60.0"
      ]
     },
     "execution_count": 232,
     "metadata": {
      "tags": []
     },
     "output_type": "execute_result"
    }
   ],
   "source": [
    "beers.quantile(.5)"
   ]
  },
  {
   "cell_type": "code",
   "execution_count": 233,
   "metadata": {
    "colab": {
     "base_uri": "https://localhost:8080/",
     "height": 0
    },
    "colab_type": "code",
    "id": "ep3Qkfd_HByJ",
    "outputId": "20eacd50-7581-48d4-e02b-b233b83985ac"
   },
   "outputs": [
    {
     "data": {
      "text/plain": [
       "100.64571267934778"
      ]
     },
     "execution_count": 233,
     "metadata": {
      "tags": []
     },
     "output_type": "execute_result"
    }
   ],
   "source": [
    "beers.std()"
   ]
  },
  {
   "cell_type": "code",
   "execution_count": 234,
   "metadata": {
    "colab": {
     "base_uri": "https://localhost:8080/",
     "height": 0
    },
    "colab_type": "code",
    "id": "gaA8GhnMHFFX",
    "outputId": "9c4bf92a-453d-4065-a1e5-4f26612fd5b4"
   },
   "outputs": [
    {
     "data": {
      "text/plain": [
       "100.64571267934778"
      ]
     },
     "execution_count": 234,
     "metadata": {
      "tags": []
     },
     "output_type": "execute_result"
    }
   ],
   "source": [
    "beers.var()**(1/2)"
   ]
  },
  {
   "cell_type": "code",
   "execution_count": 235,
   "metadata": {
    "colab": {
     "base_uri": "https://localhost:8080/",
     "height": 0
    },
    "colab_type": "code",
    "id": "Wj41-8ixHIko",
    "outputId": "76577c8a-e2f9-482f-deff-a84b927e2e33"
   },
   "outputs": [
    {
     "data": {
      "text/plain": [
       "100.64571267934778"
      ]
     },
     "execution_count": 235,
     "metadata": {
      "tags": []
     },
     "output_type": "execute_result"
    }
   ],
   "source": [
    "np.sqrt(beers.var())"
   ]
  },
  {
   "cell_type": "code",
   "execution_count": 236,
   "metadata": {
    "colab": {
     "base_uri": "https://localhost:8080/",
     "height": 0
    },
    "colab_type": "code",
    "id": "DhMgDQnEHKbu",
    "outputId": "39aff3c2-f1fb-4073-cc73-e1f5b7dccaae"
   },
   "outputs": [
    {
     "data": {
      "image/png": "[encoded data removed]",
      "text/plain": [
       "<Figure size 432x288 with 1 Axes>"
      ]
     },
     "metadata": {
      "tags": []
     },
     "output_type": "display_data"
    }
   ],
   "source": [
    "beers.hist();"
   ]
  },
  {
   "cell_type": "code",
   "execution_count": 237,
   "metadata": {
    "colab": {
     "base_uri": "https://localhost:8080/",
     "height": 0
    },
    "colab_type": "code",
    "id": "-bRk_YrVHek_",
    "outputId": "951e4293-61f9-4a9a-aaba-de3bc0a2dd00"
   },
   "outputs": [
    {
     "data": {
      "text/plain": [
       "count    178.000000\n",
       "mean     102.870787\n",
       "std      100.645713\n",
       "min        1.000000\n",
       "25%       21.000000\n",
       "50%       60.000000\n",
       "75%      172.500000\n",
       "max      376.000000\n",
       "Name: beer_servings, dtype: float64"
      ]
     },
     "execution_count": 237,
     "metadata": {
      "tags": []
     },
     "output_type": "execute_result"
    }
   ],
   "source": [
    "beers.describe()"
   ]
  },
  {
   "cell_type": "markdown",
   "metadata": {
    "colab_type": "text",
    "id": "lxbhzx5vHmQH"
   },
   "source": [
    "#### Solution III - Z-scores"
   ]
  },
  {
   "cell_type": "code",
   "execution_count": 238,
   "metadata": {
    "colab": {
     "base_uri": "https://localhost:8080/",
     "height": 225
    },
    "colab_type": "code",
    "id": "RgMwbC4lTwEh",
    "outputId": "30b94d64-35ee-4215-bf10-43a939357a1a"
   },
   "outputs": [
    {
     "data": {
      "text/plain": [
       "country\n",
       "Afghanistan            NaN\n",
       "Albania               89.0\n",
       "Algeria               25.0\n",
       "Andorra              245.0\n",
       "Angola               217.0\n",
       "Antigua & Barbuda     12.0\n",
       "Argentina            193.0\n",
       "Armenia               21.0\n",
       "Australia            261.0\n",
       "Austria              279.0\n",
       "Name: beer_servings, dtype: float64"
      ]
     },
     "execution_count": 238,
     "metadata": {
      "tags": []
     },
     "output_type": "execute_result"
    }
   ],
   "source": [
    "beers[:10]"
   ]
  },
  {
   "cell_type": "code",
   "execution_count": 0,
   "metadata": {
    "colab": {},
    "colab_type": "code",
    "id": "0d5pGKrFT_no"
   },
   "outputs": [],
   "source": [
    "# beers.head(10)"
   ]
  },
  {
   "cell_type": "code",
   "execution_count": 240,
   "metadata": {
    "colab": {
     "base_uri": "https://localhost:8080/",
     "height": 34
    },
    "colab_type": "code",
    "id": "zkBULHXCUBL3",
    "outputId": "c1d99e74-0068-48ad-b3ec-f33684afc545"
   },
   "outputs": [
    {
     "data": {
      "text/plain": [
       "102.87078651685393"
      ]
     },
     "execution_count": 240,
     "metadata": {
      "tags": []
     },
     "output_type": "execute_result"
    }
   ],
   "source": [
    "beers.mean()"
   ]
  },
  {
   "cell_type": "code",
   "execution_count": 241,
   "metadata": {
    "colab": {
     "base_uri": "https://localhost:8080/",
     "height": 225
    },
    "colab_type": "code",
    "id": "RcY-l0-YUGWv",
    "outputId": "fae9d8e4-52bc-4848-8b83-82b1746bb7bb"
   },
   "outputs": [
    {
     "data": {
      "text/plain": [
       "country\n",
       "Afghanistan                 NaN\n",
       "Albania              -13.870787\n",
       "Algeria              -77.870787\n",
       "Andorra              142.129213\n",
       "Angola               114.129213\n",
       "Antigua & Barbuda    -90.870787\n",
       "Argentina             90.129213\n",
       "Armenia              -81.870787\n",
       "Australia            158.129213\n",
       "Austria              176.129213\n",
       "Name: beer_servings, dtype: float64"
      ]
     },
     "execution_count": 241,
     "metadata": {
      "tags": []
     },
     "output_type": "execute_result"
    }
   ],
   "source": [
    "beers[:10] - beers.mean()"
   ]
  },
  {
   "cell_type": "code",
   "execution_count": 242,
   "metadata": {
    "colab": {
     "base_uri": "https://localhost:8080/",
     "height": 225
    },
    "colab_type": "code",
    "id": "32wLmea9UQnE",
    "outputId": "9ba35b87-d6f7-4445-a9f6-77a6e734f8b1"
   },
   "outputs": [
    {
     "data": {
      "text/plain": [
       "country\n",
       "Afghanistan          high\n",
       "Albania               low\n",
       "Algeria               low\n",
       "Andorra              high\n",
       "Angola               high\n",
       "Antigua & Barbuda     low\n",
       "Argentina            high\n",
       "Armenia               low\n",
       "Australia            high\n",
       "Austria              high\n",
       "Name: beer_servings, dtype: object"
      ]
     },
     "execution_count": 242,
     "metadata": {
      "tags": []
     },
     "output_type": "execute_result"
    }
   ],
   "source": [
    "(beers[:10] - beers.mean()).apply(lambda x: 'low' if x<0 else 'high')"
   ]
  },
  {
   "cell_type": "code",
   "execution_count": 243,
   "metadata": {
    "colab": {
     "base_uri": "https://localhost:8080/",
     "height": 69
    },
    "colab_type": "code",
    "id": "GpgzSr25UacH",
    "outputId": "22df4c45-aacf-40f5-a57b-0233e4e75adf"
   },
   "outputs": [
    {
     "data": {
      "text/plain": [
       "low     112\n",
       "high     81\n",
       "Name: beer_servings, dtype: int64"
      ]
     },
     "execution_count": 243,
     "metadata": {
      "tags": []
     },
     "output_type": "execute_result"
    }
   ],
   "source": [
    "(beers - beers.mean()).apply(lambda x: 'low' if x<0 else 'high').value_counts()"
   ]
  },
  {
   "cell_type": "code",
   "execution_count": 0,
   "metadata": {
    "colab": {},
    "colab_type": "code",
    "id": "xmQTJ2lqUd-4"
   },
   "outputs": [],
   "source": [
    "z_scores = (beers - beers.mean())/beers.std()"
   ]
  },
  {
   "cell_type": "code",
   "execution_count": 245,
   "metadata": {
    "colab": {
     "base_uri": "https://localhost:8080/",
     "height": 225
    },
    "colab_type": "code",
    "id": "b8qWxr9vVCRB",
    "outputId": "b9f9169c-dbd1-4230-9682-d1968613fea3"
   },
   "outputs": [
    {
     "data": {
      "text/plain": [
       "country\n",
       "Afghanistan               NaN\n",
       "Albania             -0.137818\n",
       "Algeria             -0.773712\n",
       "Andorra              1.412174\n",
       "Angola               1.133970\n",
       "Antigua & Barbuda   -0.902878\n",
       "Argentina            0.895510\n",
       "Armenia             -0.813455\n",
       "Australia            1.571147\n",
       "Austria              1.749992\n",
       "Name: beer_servings, dtype: float64"
      ]
     },
     "execution_count": 245,
     "metadata": {
      "tags": []
     },
     "output_type": "execute_result"
    }
   ],
   "source": [
    "z_scores.head(10)"
   ]
  },
  {
   "cell_type": "code",
   "execution_count": 246,
   "metadata": {
    "colab": {
     "base_uri": "https://localhost:8080/",
     "height": 34
    },
    "colab_type": "code",
    "id": "8yc0wD6KVDLK",
    "outputId": "36225bb2-85c2-401f-8893-148b37073ab1"
   },
   "outputs": [
    {
     "data": {
      "text/plain": [
       "-1.012172141315241"
      ]
     },
     "execution_count": 246,
     "metadata": {
      "tags": []
     },
     "output_type": "execute_result"
    }
   ],
   "source": [
    "z_scores.min()"
   ]
  },
  {
   "cell_type": "code",
   "execution_count": 247,
   "metadata": {
    "colab": {
     "base_uri": "https://localhost:8080/",
     "height": 34
    },
    "colab_type": "code",
    "id": "5jSwr6UzVODP",
    "outputId": "d04bf19f-ed16-4d54-9a31-7245b8f09df8"
   },
   "outputs": [
    {
     "data": {
      "text/plain": [
       "2.7137689844109123"
      ]
     },
     "execution_count": 247,
     "metadata": {
      "tags": []
     },
     "output_type": "execute_result"
    }
   ],
   "source": [
    "z_scores.max()"
   ]
  },
  {
   "cell_type": "code",
   "execution_count": 248,
   "metadata": {
    "colab": {
     "base_uri": "https://localhost:8080/",
     "height": 34
    },
    "colab_type": "code",
    "id": "56x7QxK3VPFC",
    "outputId": "b861c27e-afb7-431d-d330-2e243f1dcfc7"
   },
   "outputs": [
    {
     "data": {
      "text/plain": [
       "2.7137689844109123"
      ]
     },
     "execution_count": 248,
     "metadata": {
      "tags": []
     },
     "output_type": "execute_result"
    }
   ],
   "source": [
    "z_scores.abs().max()"
   ]
  },
  {
   "cell_type": "code",
   "execution_count": 249,
   "metadata": {
    "colab": {
     "base_uri": "https://localhost:8080/",
     "height": 34
    },
    "colab_type": "code",
    "id": "7mAnyOVPVT5P",
    "outputId": "9692e5ad-6a9d-42c7-9913-68b231855216"
   },
   "outputs": [
    {
     "data": {
      "text/plain": [
       "'Namibia'"
      ]
     },
     "execution_count": 249,
     "metadata": {
      "tags": []
     },
     "output_type": "execute_result"
    }
   ],
   "source": [
    "beers.idxmax()"
   ]
  },
  {
   "cell_type": "code",
   "execution_count": 250,
   "metadata": {
    "colab": {
     "base_uri": "https://localhost:8080/",
     "height": 34
    },
    "colab_type": "code",
    "id": "pSrx04M9VZzo",
    "outputId": "02399c6a-1473-4743-887e-0a06c5fc5992"
   },
   "outputs": [
    {
     "data": {
      "text/plain": [
       "376.0"
      ]
     },
     "execution_count": 250,
     "metadata": {
      "tags": []
     },
     "output_type": "execute_result"
    }
   ],
   "source": [
    "beers['Namibia']"
   ]
  },
  {
   "cell_type": "code",
   "execution_count": 251,
   "metadata": {
    "colab": {
     "base_uri": "https://localhost:8080/",
     "height": 34
    },
    "colab_type": "code",
    "id": "JziYD8QMVcUo",
    "outputId": "54797d2e-8a0e-40f3-b23b-a1b781465ae2"
   },
   "outputs": [
    {
     "data": {
      "text/plain": [
       "376.0"
      ]
     },
     "execution_count": 251,
     "metadata": {
      "tags": []
     },
     "output_type": "execute_result"
    }
   ],
   "source": [
    "beers[beers.idxmax()]"
   ]
  },
  {
   "cell_type": "code",
   "execution_count": 252,
   "metadata": {
    "colab": {
     "base_uri": "https://localhost:8080/",
     "height": 34
    },
    "colab_type": "code",
    "id": "CfRX8QbTVdmD",
    "outputId": "254c9120-3d93-4638-d565-81a0c992b3b3"
   },
   "outputs": [
    {
     "data": {
      "text/plain": [
       "376.0"
      ]
     },
     "execution_count": 252,
     "metadata": {
      "tags": []
     },
     "output_type": "execute_result"
    }
   ],
   "source": [
    "z_scores.abs().max() * beers.std() + beers.mean()"
   ]
  },
  {
   "cell_type": "code",
   "execution_count": 0,
   "metadata": {
    "colab": {},
    "colab_type": "code",
    "id": "nQwWK_oVVsw-"
   },
   "outputs": [],
   "source": []
  }
 ],
 "metadata": {
  "colab": {
   "collapsed_sections": [
    "BDwRGAcHdMBy",
    "roGT2PHA-vQ-",
    "CcJlcLKThuB1",
    "8ZPmSRd2npNL",
    "2Uyb4BGewrd1",
    "0cQFTQaf5sdp",
    "avNo9M4XIscn",
    "ZvebaX6H22G9",
    "WXhFbvHH7pNc",
    "-6H40AKm_86N",
    "xrjB9p_LCcBM",
    "wqgJ5eHjO0W8",
    "fWHpVbsggJTo",
    "RhOY4LXjg3R6",
    "60HSRX7klLjS",
    "YVbTQqytJ11B",
    "OHTGffrUW46p",
    "vWG2hiOGbnSF",
    "p8IwOTQkfjUi",
    "Y_or5MWWitpf",
    "tQAqvfn0aotu",
    "mx0xcv3QmL8B",
    "1rRqOdj3qfxq",
    "6LCCQdWByeG1",
    "S5iR8C9e28Hq",
    "hAvtoOHlk-5P",
    "HTRDqLIkw--y",
    "qbmXh2s6UXIN",
    "TZvXofChUfx2",
    "4iU0I60bU801",
    "w6v8f2pAU9sf"
   ],
   "name": "Series Methods And Handling",
   "provenance": []
  },
  "kernelspec": {
   "display_name": "Python 3 (ipykernel)",
   "language": "python",
   "name": "python3"
  },
  "language_info": {
   "codemirror_mode": {
    "name": "ipython",
    "version": 3
   },
   "file_extension": ".py",
   "mimetype": "text/x-python",
   "name": "python",
   "nbconvert_exporter": "python",
   "pygments_lexer": "ipython3",
   "version": "3.11.5"
  },
  "toc": {
   "base_numbering": 1,
   "nav_menu": {},
   "number_sections": true,
   "sideBar": true,
   "skip_h1_title": false,
   "title_cell": "Table of Contents",
   "title_sidebar": "Contents",
   "toc_cell": false,
   "toc_position": {},
   "toc_section_display": true,
   "toc_window_display": true
  }
 },
 "nbformat": 4,
 "nbformat_minor": 1
}
